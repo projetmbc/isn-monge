{
 "cells": [
  {
   "cell_type": "markdown",
   "metadata": {},
   "source": [
    "Python\n",
    "====\n",
    "\n",
    "Un langage de programmation, quésaco ?\n",
    "------------------------------------\n",
    "\n",
    "Un langage de programmation se définit comme suit *(une notion équivalente pour une langue humaine telle que le français est donnée lorsque cela a un sens)*.\n",
    "\n",
    "1. Il faut un lexique, c'est à dire un ensemble de mots connus. En français, ces mots se trouvent dans un dictionnaire qui évoluent en fonction des propositions de l'Académie Française.\n",
    "\n",
    "1. Des symboles particuliers sont proposés. En français, nous avons les symboles de ponctuation, les guillemets, ... etc. \n",
    "\n",
    "1. On doit avoir des régles de syntaxe à suivre. En français, je peux écrire *\"Tu dois maîtriser la force.\"* mais pas *\"Maîtriser **;** la **.** force **-** tu dois.\"*.\n",
    "\n",
    "1. Un langage de programmation doit aussi pouvoir manipuler des données et effectuer des calculs."
   ]
  },
  {
   "cell_type": "markdown",
   "metadata": {},
   "source": [
    "Python, un vrai langage\n",
    "----------------------\n",
    "\n",
    "[Python](https://www.python.org) est un langage de programmation qui a été inventé par Guido van Rossum en 1980. Ce langage a largement évolué et s'est étoffé d'un grand nombre de bibliothèques permettant de faire beaucoup de choses. Voici quelques exemples.\n",
    "\n",
    "1. [Kivy](http://kivy.org/#home) permet la fabrication d'interface graphique à la fois pour les ordinateurs personnels et les smartphones.\n",
    "1. [Flask](http://flask.pocoo.org) est destiné à la conception d'applications web.\n",
    "1. [SciPy](http://www.scipy.org) s'adresse aux scientifiques.\n",
    "1. ... etc.\n",
    "\n",
    "\n",
    "Python permet la fabrication de vraies applications : voici [une page Wikipédia listant des projets utilisant Python](https://en.wikipedia.org/wiki/List_of_Python_software#Applications).\n",
    "\n",
    "\n",
    "**ATTENTION !** Nous utiliserons exclusivement **la version 3 de Python**."
   ]
  },
  {
   "cell_type": "markdown",
   "metadata": {},
   "source": [
    "Une petite démonstration\n",
    "-----------------------\n",
    "\n",
    "Juste après se trouve un exemple de ce que l'on peut faire avec Python au sein de Jupyter *(en supprimant la ligne `%matplotlib inline`, on obtient [un fichier Python](mandelbrot.py) utilisable \"directement\" via Python)*.\n",
    "\n",
    "\n",
    "**Remarque :** vous pourrez comprendre sans problème le code ci-dessous à la fin de l'année scolaire."
   ]
  },
  {
   "cell_type": "code",
   "execution_count": 1,
   "metadata": {},
   "outputs": [
    {
     "name": "stdout",
     "output_type": "stream",
     "text": [
      "Représentation de la fractal de Mandelbrot faite en 5.527747 s envrion.\n"
     ]
    },
    {
     "data": {
      "image/png": "[encoded data removed]",
      "text/plain": [
       "<matplotlib.figure.Figure at 0x113e04f98>"
      ]
     },
     "metadata": {},
     "output_type": "display_data"
    }
   ],
   "source": [
    "%matplotlib inline\n",
    "\n",
    "import numpy as np\n",
    "from pylab import imshow, show\n",
    "\n",
    "from timeit import default_timer as timer\n",
    "\n",
    "def mandel(x, y, max_iters):\n",
    "    c = complex(x, y)\n",
    "    z = 0.0j\n",
    "    \n",
    "    for i in range(max_iters):\n",
    "        z = z*z + c\n",
    "        if (z.real*z.real + z.imag*z.imag) >= 5:\n",
    "            return i\n",
    "\n",
    "    return max_iters\n",
    "\n",
    "def create_fractal(min_x, max_x, min_y, max_y, image, iters):\n",
    "    height = image.shape[0]\n",
    "    width = image.shape[1]\n",
    "\n",
    "    pixel_size_x = (max_x - min_x) / width\n",
    "    pixel_size_y = (max_y - min_y) / height\n",
    "    \n",
    "    for x in range(width):\n",
    "        real = min_x + x * pixel_size_x\n",
    "        for y in range(height):\n",
    "            imag = min_y + y * pixel_size_y\n",
    "            color = mandel(real, imag, iters)\n",
    "            image[y, x] = color\n",
    "\n",
    "image = np.zeros((1024, 1536), dtype = np.uint8)\n",
    "start = timer()\n",
    "create_fractal(-2.0, 1.0, -1.0, 1.0, image, 15) \n",
    "dt = timer() - start\n",
    "\n",
    "print(\"Représentation de la fractal de Mandelbrot faite en %f s envrion.\" % dt)\n",
    "imshow(image)\n",
    "show()"
   ]
  }
 ],
 "metadata": {
  "kernelspec": {
   "display_name": "Python 3",
   "language": "python",
   "name": "python3"
  },
  "language_info": {
   "codemirror_mode": {
    "name": "ipython",
    "version": 3
   },
   "file_extension": ".py",
   "mimetype": "text/x-python",
   "name": "python",
   "nbconvert_exporter": "python",
   "pygments_lexer": "ipython3",
   "version": "3.6.6"
  },
  "name": "python.ipynb"
 },
 "nbformat": 4,
 "nbformat_minor": 1
}
