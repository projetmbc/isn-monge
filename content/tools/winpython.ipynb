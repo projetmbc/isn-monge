{
 "cells": [
  {
   "cell_type": "markdown",
   "metadata": {},
   "source": [
    "WinPython\n",
    "=====\n",
    "\n",
    "Exécuter un code Python sur son ordinateur sous Windows\n",
    "---------------------------------------------------\n",
    "\n",
    "Python est un langage de programmation mais sans compilation ou environnement d'exécution, un langage de programmation n'est rien. Les codes écrits en C sont compilés, c'est à dire traduit dans un langage compris par un ordinateur. Les codes Python sont majoritairement exécutés via un environnement spécial, on parle de langage interprété.\n",
    "\n",
    "Concrètement, il faudra donc installer un tel environnement d'exécution. Au lycée, nous utiliserons [WinPython](http://winpython.github.io) car il est simple d'installation et propose en plus un outil pédagogiquement très intéressant qui se nomme Jupyter."
   ]
  },
  {
   "cell_type": "markdown",
   "metadata": {
    "collapsed": true
   },
   "source": [
    "Je n'ai pas Windows à la maison, quelle chance...\n",
    "-----------------------------\n",
    "\n",
    "Dans ce cas, utiliser [Anaconda](https://www.anaconda.com/download/)."
   ]
  }
 ],
 "metadata": {
  "kernelspec": {
   "display_name": "Python 3",
   "language": "python",
   "name": "python3"
  },
  "language_info": {
   "codemirror_mode": {
    "name": "ipython",
    "version": 3
   },
   "file_extension": ".py",
   "mimetype": "text/x-python",
   "name": "python",
   "nbconvert_exporter": "python",
   "pygments_lexer": "ipython3",
   "version": "3.6.6"
  },
  "name": "pyzo.ipynb"
 },
 "nbformat": 4,
 "nbformat_minor": 1
}
