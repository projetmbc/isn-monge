{
 "cells": [
  {
   "cell_type": "markdown",
   "metadata": {},
   "source": [
    "HTML et CSS\n",
    "======\n",
    "\n",
    "Sous Windows\n",
    "-----------\n",
    "\n",
    "Au lycée, nous utiliserons [Notepad++](https://notepad-plus-plus.org/fr/) qui est un éditeur de programmes multi-langages qui supporte le HTML et le CSS."
   ]
  },
  {
   "cell_type": "markdown",
   "metadata": {},
   "source": [
    "Sous Mac OS\n",
    "-----------\n",
    "\n",
    "[Atom](https://atom.io) est un très bel éditeur de programmes lui aussi multi-langages qui supporte le HTML et le CSS."
   ]
  },
  {
   "cell_type": "markdown",
   "metadata": {},
   "source": [
    "Sous Linux\n",
    "---------\n",
    "\n",
    "Comme les deux logiciels précédents, [Geany](http://www.geany.org) est un bon éditeur de programmes multi-langages qui supporte le HTML et le CSS."
   ]
  }
 ],
 "metadata": {
  "kernelspec": {
   "display_name": "Python [conda root]",
   "language": "python",
   "name": "conda-root-py"
  },
  "language_info": {
   "codemirror_mode": {
    "name": "ipython",
    "version": 3
   },
   "file_extension": ".py",
   "mimetype": "text/x-python",
   "name": "python",
   "nbconvert_exporter": "python",
   "pygments_lexer": "ipython3",
   "version": "3.5.3"
  },
  "name": "html_css.ipynb"
 },
 "nbformat": 4,
 "nbformat_minor": 1
}
