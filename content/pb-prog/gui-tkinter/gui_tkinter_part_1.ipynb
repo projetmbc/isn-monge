{
 "cells": [
  {
   "cell_type": "markdown",
   "metadata": {},
   "source": [
    "Problématique 9 : Interfaces graphiques avec Tkinter (Partie 1)\n",
    "------------------------------------------\n",
    "\n",
    "### Une interface graphique, c'est quoi exactement\n",
    "\n",
    "Lorsque l'on fait un programme il est destiné à l'un des deux publics suivants.\n",
    "\n",
    "\n",
    "**Un être humain.** Voici quelques exemples.\n",
    "\n",
    "1. La page que vous lisez est mise en forme pas un navigateur web qui à partir des codes HTML, et d'autres, envoyés par le serveur de Jupyter produit une page mise en forme.\n",
    "\n",
    "1. Un lecteur multimédia tel que [VLC](http://www.videolan.org/vlc/) pour écouter de la musique ou voir un film.\n",
    "\n",
    "1. Les applications tactiles sur les smartphones et les tablettes.\n",
    "\n",
    "1. ... etc.\n",
    "\n",
    "\n",
    "**Un autre programme.** Voici quelques exemples.\n",
    "\n",
    "1. Pour arriver jusque à votre ordinateur les codes renvoyés par Jupyter sont produits localement sur un serveur par un programme qui les envoie sur le réseau, ce réseau utilisant des programmes de transfert des données.\n",
    "\n",
    "1. Pour émettre des sons, [VLC](http://www.videolan.org/vlc/) s'appuie en coulisse sur des programmes qui communiquent directement avec le matériel de l'ordinateur. \n",
    "\n",
    "1. Les logiciels [Inkscape](https://inkscape.org/fr/), [GIMP](https://www.gimp.org) et [Blender](https://www.blender.org) permettent d'écrire des scripts pour implémenter de nouvells fonctionnalités. De tels scripts *\"s'adressent\"* au logiciel hôte et non directement à l'utilisateur. \n",
    "\n",
    "1. ... etc.\n",
    "\n",
    "\n",
    "**Interfaces graphiques ou autres :** dès qu'un programme *\"communique\"* directement avec un humain via le son, l'image ou d'autres sens, on parle d'Interface Homme Machine que l'on abrège en IHM *(en anglais, on utilise UI pout \"User Interface\")*. Lorsque l'IHM est visuelle on parle d'IHM graphique que l'on pourrait abréger en IHMG *(en anglais, on utilise GUI pout \"Graphical User Interface\")*."
   ]
  },
  {
   "cell_type": "markdown",
   "metadata": {},
   "source": [
    "### Tkinter, c'est quoi !\n",
    "\n",
    "Tkinter est une bibliothèque disponible par défaut avec Python. Elle permet de coder des IHM graphiques. L'intérêt de Tkinter est qu'elle peut être utilisée sans faire de Programmation Orienté Objet, une technique non présentée en ISN, par manque de temps, malgré sa grande utilité. Par contre, Tkinter n'est pas la plus jolie, ni la plus fournie des bibliothèques mais ceci n'est pas gênant pour le BAC car les projets sont basés bien plus sur le fond que sur la forme. De plus l'apparence suivant le système d'exploitation utilisée peut changer : <span style=\"color: darkred;\">**ne soyez pas surpris si sous Windows ou Linux vous n'obtenez pas la même chose que les exemples ci-dessous faits sous Mac OS**</span>.\n",
    "\n",
    "\n",
    "Voici d'autres bibliothèques existantes.\n",
    "\n",
    "1. [wxWidgets](https://www.wxwidgets.org) semble être à la fois complète et relativement facile à prendre en main. Le mot anglais \"widget\" est la contraction de \"window\" et \"gadget\" qui se traduit par \"fenêtre gadget\" que l'on pourrait réduire en \"fédgette\" *(Copyright M. Bal)*.\n",
    "\n",
    "1. [Kivy](https://kivy.org/#home) est intéressante car elle permet de faire des IHM graphiques à destination des écrans tactiles. Par contre ceci necessite d'apprendre un nouveau langage de mise en forme et de gestion des actions propres à [Kivy](https://kivy.org/#home).\n",
    "\n",
    "1. [PyQT](https://riverbankcomputing.com/software/pyqt/intro) est très complète et on peut s'y perdre au début mais le rendu est juste très bon. De plus, cette bibliothèque propose des \"widgets\" très intéressants : prise en compte possible des gestes pour les écrans tactiles *(\"gesture\" en anglais)*, utilisation de codes HTML pour la mise en forme, possibilité de faire des graphiques 2D ou 3D rapidement via [OpenGL](https://www.opengl.org),... etc.\n",
    "\n",
    "\n",
    "**Avertissement !** À notre connaissance, il n'est pas facile de trouver de la documentation simple en ligne sur Tkinter. Voici deux liens en anglais et un autre en français. Pensez à utiliser les forums tels que celui de [Developpez.com](http://www.developpez.net/forums/f96/autres-langages/python-zope/) pour trouver de l'aide.\n",
    "\n",
    "1. http://tkinter.fdex.eu/doc/intro.html\n",
    "1. http://effbot.org/tkinterbook/\n",
    "1. http://tkinter.fdex.eu"
   ]
  },
  {
   "cell_type": "markdown",
   "metadata": {},
   "source": [
    "### Remarques techniques\n",
    "\n",
    "#### Travailler localement\n",
    "\n",
    "Tkinter et Jupyter ne font pas bon ménage *(techniquement, ils utilisent chacun ce que l'on appelle un processus sans établir de communication)*. **Il va donc falloir faire tous les exercices localement !**"
   ]
  },
  {
   "cell_type": "markdown",
   "metadata": {},
   "source": [
    "#### Remarques essentielles quant aux fonctions Python\n",
    "\n",
    "Lire la section [Pièges à éviter avec les fonctions Python](../2018-09-19-memo-python-function-traps.ipynb)"
   ]
  },
  {
   "cell_type": "markdown",
   "metadata": {},
   "source": [
    "#### Copies d'écran\n",
    "\n",
    "Toutes les copies d'écran ont été faites sur Mac OS."
   ]
  },
  {
   "cell_type": "markdown",
   "metadata": {},
   "source": [
    "### But à atteindre dans ce T.D.\n",
    "\n",
    "Le \"brouillon\" suivant a été produit grâce au logiciel [Pencil](http://pencil.evolus.vn) *(pour vos projets vous pourrez utiliser la bonne vieille application Crayon-Papier)*. \n",
    "\n",
    "![Logo Python](images/converter_empty.png)"
   ]
  },
  {
   "cell_type": "markdown",
   "metadata": {},
   "source": [
    "Voici comment nous souhaitons que notre application se comporte.\n",
    "\n",
    "1. L'utilisateur doit pouvoir taper un nombre décimale ce qu'il veut dans la zone blanche, dite zone de saisie. **Nous ne gérerons pas les erreurs de saisie !** Le corrigé montrera comment faire ceci via `try:... except as e: ...` mais pas ce T.D.\n",
    "\n",
    "1. L'utilisateur doit pouvoir aussi utiliser les boutons via la souris pour indiquer son nombre décimal. Ce choix a été très sérieusement fait pour des raisons d'accessibilité aux personnes handicapées.\n",
    "\n",
    "1. Les deux modes de saisie peuvent être utilisés de façon alternatives.\n",
    "\n",
    "1. L'appui sur le bouton `=` fait afficher les valeurs hexadécimales et binaires du nombre décimale entré. **Rappelons que nous ne gérerons pas les erreurs de saisie !** En coulisse, nous utiliserons les fonctions Python de conversion `bin` et `hex`."
   ]
  },
  {
   "cell_type": "markdown",
   "metadata": {},
   "source": [
    "Le défi est technique et non cosmétique. Par exemple, la copie d'écran d'un projet Python-Tkinter donnée ci-après est juste côté forme et aussi côté fond.\n",
    "\n",
    "<img src=\"images/tkinter_converter_used.png\" height=\"41%\" width=\"41%\" style=\"border: 2px solid;\">\n",
    "\n",
    "\n",
    "C'est ce que nous allons tenter de faire dans ce T.D. mais avant nous devons faire connaissance en douceur avec Tkinter."
   ]
  },
  {
   "cell_type": "markdown",
   "metadata": {},
   "source": [
    "#### Une fenêtre vide\n",
    "\n",
    "Nous allons voir comment obtenir la magnifique fenêtre suivante digne des oeuvres de Whiteman.\n",
    "\n",
    "<img src=\"images/fenetre_vide.png\" height=\"22%\" width=\"22%\" style=\"border: 2px solid;\">\n",
    "\n",
    "\n",
    "Voici le code qui a été utilisé."
   ]
  },
  {
   "cell_type": "code",
   "execution_count": null,
   "metadata": {
    "collapsed": true
   },
   "outputs": [],
   "source": [
    "# IMPOSSIBLE À EXÉCUTER PROPREMENT VIA JUPYTER !\n",
    "\n",
    "# ------------------ #\n",
    "# -- IMPORTATIONS -- #\n",
    "# ------------------ #\n",
    "\n",
    "import tkinter\n",
    "\n",
    "\n",
    "# --------------------------- #\n",
    "# -- L'INTERFACE GRAPHIQUE -- #\n",
    "# --------------------------- #\n",
    "\n",
    "# Construction de la fenêtre principale\n",
    "racine = tkinter.Tk()\n",
    "\n",
    "# Ajout d'un titre à la fenêtre.\n",
    "racine.title('Premier mini pas')\n",
    "\n",
    "\n",
    "# -------------------------------- #\n",
    "# -- LANCEMENT DE L'APPLICATION -- #\n",
    "# -------------------------------- #\n",
    "\n",
    "racine.mainloop()"
   ]
  },
  {
   "cell_type": "markdown",
   "metadata": {},
   "source": [
    "Expliquons le code pas à pas.\n",
    "\n",
    "1. `import tkinter` demande d'importer la bibliothèque `tkinter`.\n",
    "\n",
    "1. `tkinter.Tk()` est une classe qui représente votre IHM graphique. \n",
    "\n",
    "1. `racine.title('Premier mini pas')` permet d'ajouter un titre à l'IHM graphique.\n",
    "\n",
    "1. Enfin, `racine.mainloop()` lance l'IHM graphique dans une boucle *\"infinie\"*. Seul un clic sur le disque jour arrêtera l'application graphique. "
   ]
  },
  {
   "cell_type": "markdown",
   "metadata": {},
   "source": [
    "#### Taille de la fenêtre et fermeture via du code Python  \n",
    "\n",
    "Nous allons faire deux choses ici.\n",
    "\n",
    "1. Voir comment changer les dimensions de la fenêtre.\n",
    "\n",
    "1. Voir comment fermer la fenêtre via du code Python.\n",
    "\n",
    "\n",
    "Voici notre code exemple. "
   ]
  },
  {
   "cell_type": "code",
   "execution_count": null,
   "metadata": {
    "collapsed": true
   },
   "outputs": [],
   "source": [
    "# IMPOSSIBLE À EXÉCUTER PROPREMENT VIA JUPYTER !\n",
    "\n",
    "# IMPOSSIBLE À EXÉCUTER PROPREMENT VIA JUPYTER !\n",
    "\n",
    "# ------------------ #\n",
    "# -- IMPORTATIONS -- #\n",
    "# ------------------ #\n",
    "\n",
    "import tkinter\n",
    "\n",
    "\n",
    "# ---------------------------------------------- #\n",
    "# -- ACTIONS FAITES PAR L'INTERFACE GRAPHIQUE -- #\n",
    "# ---------------------------------------------- #\n",
    "\n",
    "def agir_avant_quitter():\n",
    "    global racine\n",
    "\n",
    "    print(\"Bouton X cliqué.\")\n",
    "\n",
    "# Commenter la ligne suivante et vous verrez qu'il devient impossible\n",
    "# de fermer l'application via le bouton X.\n",
    "    racine.destroy()\n",
    "\n",
    "\n",
    "# --------------------------- #\n",
    "# -- L'INTERFACE GRAPHIQUE -- #\n",
    "# --------------------------- #\n",
    "\n",
    "# Construction de la fenêtre principale\n",
    "racine = tkinter.Tk()\n",
    "racine.title('Savoir agir avant de quitter la fenêtre')\n",
    "\n",
    "# Choissisons au passage la taille de la fenêtre car notre titre est trop long.\n",
    "larg_fen = 350\n",
    "haut_fen = 150\n",
    "\n",
    "xpos_fen = ypos_fen = 300\n",
    "\n",
    "racine.geometry(\n",
    "    \"{0}x{1}+{2}+{3}\".format(\n",
    "        larg_fen, haut_fen,\n",
    "        xpos_fen, ypos_fen\n",
    "    )\n",
    ")\n",
    "\n",
    "# Capter l'évènement \"Quitter l'application\".\n",
    "racine.protocol('WM_DELETE_WINDOW', agir_avant_quitter)\n",
    "\n",
    "\n",
    "# -------------------------------- #\n",
    "# -- LANCEMENT DE L'APPLICATION -- #\n",
    "# -------------------------------- #\n",
    "\n",
    "racine.mainloop()"
   ]
  },
  {
   "cell_type": "markdown",
   "metadata": {},
   "source": [
    "Nous n'allons nous intéresser qu'aux choses nouvelles ici. Commençons par **le changement des dimensions de la fenêtre**.\n",
    "\n",
    "1. Nous utilisons la méthode `geometry` via `racine.geometry(...)` où les trois de suspension sont une chaîne de caractères présentée juste après.\n",
    "\n",
    "1. Nous avons appliqué la méthode `format` sur la chaîne `\"{0}x{1}+{2}+{3}\"` pour donner les valeurs souhaitées des divers remplacements à faire.\n",
    "\n",
    "  1. Le 1er argument est la largeur en pixel de la fenêtre.\n",
    "\n",
    "  1. Le 2ème argument est la hauteur en pixel de la fenêtre.\n",
    "\n",
    "  1. Les 3ème et 4ème arguments sont l'abscisse et l'ordonnée du coin supérieur gauche de la fenêtre *(les coordonnées sont bien entendu relatives au repère graphique de l'écran de l'ordinateur)*."
   ]
  },
  {
   "cell_type": "markdown",
   "metadata": {},
   "source": [
    "Passons maintenant à **la fermeture de l'appplication via du code Python**.\n",
    "\n",
    "1. `racine.protocol('WM_DELETE_WINDOW', agir_avant_quitter)` est assez naturel lorsque l'on sait que *\"delete window\"* se traduit par *\"détruire fenêtre\"*. Nous indiquons donc que lorsque l'IHM graphique repère le protocole de destruction de la fenêtre, elle va devoir appeler la fonction, sans argument, `agir_avant_quitter`. \n",
    "\n",
    "1. La fonction `agir_avant_quitter` fait appel à `racine.destroy()` pour finalement détruire la fenêtre *(sans cette instruction la fenêtre ne se fermera pas)*. "
   ]
  },
  {
   "cell_type": "markdown",
   "metadata": {},
   "source": [
    "**Remarque :** sans utiliser la méthode `geometry` on obtient la fenêtre suivante où le titre est tronqué.\n",
    "\n",
    "<img src=\"images/fenetre_agir_avant_quitter_sans_geo.png\" height=\"22%\" width=\"22%\" style=\"border: 2px solid;\">"
   ]
  },
  {
   "cell_type": "markdown",
   "metadata": {},
   "source": [
    "#### Ajout d'un bouton \"poussoir\"\n",
    "\n",
    "Une coquille vide est jolie sur la plage mais peu utile en informatique. Il est temps de voir comment interagir avec l'utilisateur. Soyons fou en apprenant à obtenir le résultat minimaliste suivant.\n",
    "\n",
    "<img src=\"images/bouton_simple.png\" height=\"7.5%\" width=\"7.5%\" style=\"border: 2px solid;\">\n",
    "\n",
    "\n",
    "Lorsque l'utilisateur appuiera sur le bouton, le texte `Bouton cliqué.` sera affiché dans la console Python ou de IEP. Voici comment obtenir ceci. Notez l'usage de `global` dans la fonction `bouton_clique` *(ceci est une bonne pratique)*."
   ]
  },
  {
   "cell_type": "code",
   "execution_count": null,
   "metadata": {
    "collapsed": true
   },
   "outputs": [],
   "source": [
    "# IMPOSSIBLE À EXÉCUTER PROPREMENT VIA JUPYTER !\n",
    "\n",
    "# ------------------ #\n",
    "# -- IMPORTATIONS -- #\n",
    "# ------------------ #\n",
    "\n",
    "import tkinter\n",
    "\n",
    "\n",
    "# ---------------------------------------------- #\n",
    "# -- ACTIONS FAITES PAR L'INTERFACE GRAPHIQUE -- #\n",
    "# ---------------------------------------------- #\n",
    "\n",
    "def bouton_clique():\n",
    "    print(\"Bouton cliqué.\")\n",
    "\n",
    "\n",
    "# --------------------------- #\n",
    "# -- L'INTERFACE GRAPHIQUE -- #\n",
    "# --------------------------- #\n",
    "\n",
    "# Construction de la fenêtre principale\n",
    "racine = tkinter.Tk()\n",
    "\n",
    "# Ajout d'un \"cadre caché\" contenant tous nos éléments graphiques.\n",
    "cadre = tkinter.Frame(master = racine)\n",
    "\n",
    "cadre.grid(row = 0, column = 0)\n",
    "\n",
    "# Ajout d'un bouton basique.\n",
    "bouton = tkinter.Button(\n",
    "    master  = cadre,\n",
    "    text    = \"Cliquer ici\",\n",
    "    command = bouton_clique\n",
    ")\n",
    "\n",
    "bouton.grid(row = 0, column = 0)\n",
    "\n",
    "\n",
    "# -------------------------------- #\n",
    "# -- LANCEMENT DE L'APPLICATION -- #\n",
    "# -------------------------------- #\n",
    "\n",
    "racine.mainloop()"
   ]
  },
  {
   "cell_type": "markdown",
   "metadata": {},
   "source": [
    "Plusieurs choses sont à noter dans ce code. Tout d'abord, nous définissons **un cadre caché** qui va contenir notre bouton. Voici comment et pourquoi.\n",
    "\n",
    "1. Dans `tkinter.Frame(master = racine)`, nous utilisons la classe `Frame` de Tkinter en l'attachant à notre IHM `racine` *(ceci va se clarifier juste après lorsque sera expliqué l'ajout du bouton)*.\n",
    "\n",
    "1. Nous devons aussi placer notre cadre sur l'IHM. Pour cela nous utilisons la méthode `grid` à laquelle nous fournissons un numéro de ligne via `row`, et un numéro de colonne via `column`. Tkinter va travailler avec un quadrillage relativement à `racine` car `cadre` est attaché à `racine`. Tkinter est assez malin pour ajouter de lui même des cases vides si besoin : on aurait pu utiliser `cadre.grid(row = 4, column = 10)` sans souci *(on obtient le même rendu car aucune autre case du quadrillage virtuel n'a été définie)*.\n",
    "\n",
    "1. L'ajout d'un cadre n'est pas une obligation ici mais pouvoir grouper des \"fédgettes\" dans un cadre facilite grandement la conception d'IHM. Ce choix est plus qu'une bonne pratique !"
   ]
  },
  {
   "cell_type": "markdown",
   "metadata": {},
   "source": [
    "Intéressons-nous maintenant **au bouton**. Rien de bien dur à comprendre maintenant.\n",
    "\n",
    "1. Un bouton se définit via la classe `Button` de `tkinter` qui doit oblogatoirement prendre en argument une \"fédgette\" auquel est attaché le dit bouton. `tkinter.Button(master = cadre)` attache donc le bouton au cadre. Nous avons aussi utilisé deux arguments supplémentaires via `text = \"Cliquer ici\"` et `command = bouton_clique`.\n",
    "\n",
    "  1. `text = \"Cliquer ici\"` définit tout simplement le texte affiché sur le bouton.\n",
    "\n",
    "  1. `command = bouton_clique` permet de lancer la fonction sans argument `bouton_clique` à chaque fois que l'on clique sur le bouton.\n",
    "\n",
    "1. `bouton.grid(row = 0, column = 0)` place le bouton dans un quadrillage relatif au cadre `cadre` et non à la fenêtre principale `racine`. Ceci vient de ce que `bouton` est attaché à `cadre`."
   ]
  },
  {
   "cell_type": "markdown",
   "metadata": {},
   "source": [
    "#### Une même action pour différents bouttons \"poussoir\" \n",
    "\n",
    "Nous allons commencer les choses un peu plus sérieuses. Considérons la capture d'écran ci-desssous.\n",
    "\n",
    "<img src=\"images/bouton_simple_dix_similaires.png\" height=\"70%\" width=\"70%\" style=\"border: 2px solid;\">\n",
    "\n",
    "\n",
    "Nous voulons faire en sorte que lorsque l'utilisateur clique sur un bouton on affiche dans la console Python ou de IEP le numéro du bouton appuyé. Nous allons utiliser une méthode astucieuse qu'il est bon de connaître. Voici le code utilisé qui est expliqué juste après."
   ]
  },
  {
   "cell_type": "code",
   "execution_count": null,
   "metadata": {
    "collapsed": true
   },
   "outputs": [],
   "source": [
    "# IMPOSSIBLE À EXÉCUTER PROPREMENT VIA JUPYTER !\n",
    "\n",
    "# ------------------ #\n",
    "# -- Importations -- #\n",
    "# ------------------ #\n",
    "\n",
    "import tkinter\n",
    "\n",
    "\n",
    "# ---------------------------------------------- #\n",
    "# -- ACTIONS FAITES PAR L'INTERFACE GRAPHIQUE -- #\n",
    "# ---------------------------------------------- #\n",
    "\n",
    "def bouton_clique(no):\n",
    "    print(\"Bouton {0} cliqué.\".format(no))\n",
    "\n",
    "\n",
    "# --------------------------- #\n",
    "# -- L'INTERFACE GRAPHIQUE -- #\n",
    "# --------------------------- #\n",
    "\n",
    "# Construction de la fenêtre principale\n",
    "racine = tkinter.Tk()\n",
    "racine.title('Quel bouton ?')\n",
    "\n",
    "# Le cadre.\n",
    "cadre = tkinter.Frame(master = racine)\n",
    "cadre.grid(row = 0, column = 0)\n",
    "\n",
    "# Remplissage du cadre avec les boutons.\n",
    "for i  in range(10):\n",
    "    bouton = tkinter.Button(\n",
    "        master  = cadre,\n",
    "        text    = \"Bouton {0}\".format(i + 1),\n",
    "        command = lambda x = i + 1: bouton_clique(x)\n",
    "    )\n",
    "\n",
    "    bouton.grid(row = i, column = i)\n",
    "\n",
    "\n",
    "# -------------------------------- #\n",
    "# -- LANCEMENT DE L'APPLICATION -- #\n",
    "# -------------------------------- #\n",
    "\n",
    "racine.mainloop()"
   ]
  },
  {
   "cell_type": "markdown",
   "metadata": {},
   "source": [
    "Notez que l'on peut utiliser une boucle `for` pour définir des boutons. Simple et intuitif !\n",
    "\n",
    "\n",
    "Ensuite, les boutons ont été mis en diagonale juste pour montrer que Tkinter est assez malin pour déterminer le quadrillage optimal pour placer les boutons, ici c'est un quadrillage de 10 sur 10.\n",
    "\n",
    "\n",
    "Finissons avec le point délicat mais très utile à savoir l'utilisation de `lambda x = i+1: touche_activee(x)`. Quézako ? *\"Moi pas comprendre...\"* Commençons par voir à quoi sert le mot clé `lambda`. Considérons pour cela le code suivant. "
   ]
  },
  {
   "cell_type": "code",
   "execution_count": 1,
   "metadata": {},
   "outputs": [
    {
     "name": "stdout",
     "output_type": "stream",
     "text": [
      "15 = 15\n"
     ]
    }
   ],
   "source": [
    "def f(x):\n",
    "    return x + 5\n",
    "\n",
    "g = lambda x: x + 5\n",
    "\n",
    "print(f(10), \"=\", g(10))"
   ]
  },
  {
   "cell_type": "markdown",
   "metadata": {},
   "source": [
    "`lambda` permet de définir des fonctions \"simples\" via une syntaxe du type `lambda nom_arg: instructions`. Pour `g`, nous avons utilisé `x` comme nom d'argument, et `x + 5` comme suite d'instructions.  Voici un exemple un peu plus évolué en lien avec notre IHM."
   ]
  },
  {
   "cell_type": "code",
   "execution_count": 2,
   "metadata": {},
   "outputs": [
    {
     "name": "stdout",
     "output_type": "stream",
     "text": [
      "carre(2) = 4\n",
      "cube(10) = 1000\n"
     ]
    }
   ],
   "source": [
    "def puiss_n(x, n):\n",
    "    return x**n\n",
    "\n",
    "carre = lambda x, n = 2: puiss_n(x, n)\n",
    "cube  = lambda x, n = 3: puiss_n(x, n)\n",
    "\n",
    "print(\"carre(2) =\", carre(2))\n",
    "print(\"cube(10) =\", cube(10))"
   ]
  },
  {
   "cell_type": "markdown",
   "metadata": {},
   "source": [
    "On constate que l'on peut utiliser plusieurs arguments et même indiquer les valeurs de certains arguments lorsque l'on utilise `lambda`. \n",
    "\n",
    "\n",
    "Nous voilà armés pour comprendre `command = lambda x = i + 1: bouton_clique(x)`. La valeur de `command` est la fonction qui à `x` associe `bouton_clique(i + 1)`. Le mystère est levé !"
   ]
  },
  {
   "cell_type": "markdown",
   "metadata": {},
   "source": [
    "**Exercice :** fabriquer une IHM contenant 100 boutons organisés de telle façon que le dix premiers sont sur une première ligne, les dix suivants sur une deuxième, ... etc. Lorsque l'utilisateur clique sur l'un des boutons, le programme affichera dans la console Python ou de IEP le numéro du bouton appuyé."
   ]
  },
  {
   "cell_type": "markdown",
   "metadata": {},
   "source": [
    "#### Afficher er récupérer du texte - Version 1 - Une coquille vide\n",
    "\n",
    "Nous avons donné ci-après le code permettant d'obtenir l'IHM suivante qui n'intéragit aucunement avec l'utilisateur, excepté la fermeture classique de la fenêtre, et la possibilité pour l'utilisateur de taper ce qu'il veut dans la \"zone blanche\", mais tout ceci est implémenté par défaut par Tkinter. \n",
    "\n",
    "<img src=\"images/texte_ecrit_tape.png\" height=\"32%\" width=\"32%\" style=\"border: 2px solid;\">"
   ]
  },
  {
   "cell_type": "code",
   "execution_count": null,
   "metadata": {
    "collapsed": true
   },
   "outputs": [],
   "source": [
    "# IMPOSSIBLE À EXÉCUTER PROPREMENT VIA JUPYTER !\n",
    "\n",
    "# ------------------ #\n",
    "# -- IMPORTATIONS -- #\n",
    "# ------------------ #\n",
    "\n",
    "import tkinter\n",
    "\n",
    "\n",
    "# --------------------------- #\n",
    "# -- L'INTERFACE GRAPHIQUE -- #\n",
    "# --------------------------- #\n",
    "\n",
    "# Construction de la fenêtre principale\n",
    "racine = tkinter.Tk()\n",
    "racine.title('Récupérer et afficher du texte')\n",
    "\n",
    "# Ajout d'un \"cadre\" contenant tous nos éléments graphiques.\n",
    "cadre = tkinter.Frame(master = racine)\n",
    "\n",
    "cadre.grid(row = 0, column = 0)\n",
    "\n",
    "# Ajout de de texte non modifiable par l'utilisateur.\n",
    "etiquette = tkinter.Label(master = cadre, text = \"Zone de saisie :\")\n",
    "etiquette.grid(row = 0, column = 0)\n",
    "\n",
    "# Ajout de de texte modifiable par l'utilisateur.\n",
    "ligne_saisie = tkinter.Entry(master = cadre)\n",
    "ligne_saisie.grid(row = 0, column = 1)\n",
    "\n",
    "ligne_saisie.focus_set()\n",
    "\n",
    "\n",
    "# -------------------------------- #\n",
    "# -- LANCEMENT DE L'APPLICATION -- #\n",
    "# -------------------------------- #\n",
    "\n",
    "racine.mainloop()"
   ]
  },
  {
   "cell_type": "markdown",
   "metadata": {},
   "source": [
    "Il faut retenir trois choses.\n",
    "\n",
    "1. `tkinter.Label` serte à définir des zone de **texte non modifiable par l'utilisateur**.\n",
    "\n",
    "1. `tkinter.Entry` serte à définir des zone de **texte modifiable simplement par l'utilisateur**.\n",
    "\n",
    "1. `ligne_saisie.focus_set()` permet de placer le curseur directement dans la zone de saisie lors du lancement de l'IHM."
   ]
  },
  {
   "cell_type": "markdown",
   "metadata": {},
   "source": [
    "#### Afficher et récupérer du texte - Version 2 - Récupérer le texte tapé en direct\n",
    "\n",
    "Le code suivant complète la coquille vide précédente car il ajoute au programme la capavité de récupérer le texte de la zone de saisie à chaque nouveau changement en direct."
   ]
  },
  {
   "cell_type": "code",
   "execution_count": null,
   "metadata": {
    "collapsed": true
   },
   "outputs": [],
   "source": [
    "# IMPOSSIBLE À EXÉCUTER PROPREMENT VIA JUPYTER !\n",
    "\n",
    "# ------------------ #\n",
    "# -- IMPORTATIONS -- #\n",
    "# ------------------ #\n",
    "\n",
    "import tkinter\n",
    "\n",
    "\n",
    "# ------------------------------------------------ #\n",
    "# -- ACTIONS FAITES PAR L'APPLICATION GRAPHIQUE -- #\n",
    "# ------------------------------------------------ #\n",
    "\n",
    "def nelle_saisie(valeur_texte):\n",
    "    print(valeur_texte.get())\n",
    "\n",
    "\n",
    "# --------------------------- #\n",
    "# -- L'INTERFACE GRAPHIQUE -- #\n",
    "# --------------------------- #\n",
    "\n",
    "racine = tkinter.Tk()\n",
    "\n",
    "# Construction de la fenêtre principale\n",
    "racine.title('Récupérer et afficher du texte')\n",
    "\n",
    "# Ajout d'un \"cadre\" contenant tous nos éléments graphiques.\n",
    "cadre = tkinter.Frame(master = racine)\n",
    "\n",
    "cadre.grid(row = 0, column = 0)\n",
    "\n",
    "# Ajout de de texte non modifiable par l'utilisateur.\n",
    "etiquette = tkinter.Label(\n",
    "    master = cadre,\n",
    "    text   = \"Zone de saisie :\"\n",
    ")\n",
    "etiquette.grid(row = 0, column = 0)\n",
    "\n",
    "# Ajout de de texte modifiable par l'utilisateur.\n",
    "valeur_saisie = tkinter.StringVar()\n",
    "\n",
    "# Source : http://stackoverflow.com/a/6549535\n",
    "valeur_saisie.trace(\n",
    "    mode     = \"w\",\n",
    "    callback = lambda name, index, mode, val = valeur_saisie: nelle_saisie(val)\n",
    ")\n",
    "\n",
    "ligne_saisie = tkinter.Entry(\n",
    "    master       = cadre, \n",
    "    textvariable = valeur_saisie\n",
    ")\n",
    "ligne_saisie.grid(row = 0, column = 1)\n",
    "\n",
    "ligne_saisie.focus_set()\n",
    "\n",
    "\n",
    "# -------------------------------- #\n",
    "# -- LANCEMENT DE L'APPLICATION -- #\n",
    "# -------------------------------- #\n",
    "\n",
    "racine.mainloop()"
   ]
  },
  {
   "cell_type": "markdown",
   "metadata": {},
   "source": [
    "Ce code s'appuie sur les instructions importantes suivantes.\n",
    "\n",
    "1. Nous utilisons `tkinter.StringVar()` pour définir une `valeur_saisie`. Ceci permet de définir une chaîne de caractères au sens de `Tkinter`, et non au sens de Python.\n",
    "\n",
    "1. Le type `tkinter.StringVar()` possède la méthode `trace` qui permet de scruter l'évolution de son contenu. Nous définissons deux arguments.\n",
    "\n",
    "  1. `mode = \"w\"` indique de traquer tous les changements en écriture de la variable.\n",
    "  \n",
    "  1. `callback = lambda name, index, mode, val = valeur_saisie: nelle_saisie(val)` fait à priori mal à la tête. J'ai gardé cette écriture car il montre que l'on peut en fait récupérer d'autres infoirmations que la valeur traquée. Étant donné ce qui a été dit avant `lambda`, nous voyons ici que la fonction de rappel, c'est ce que signifie `callback`, appelera en fait la fonction `nelle_saisie` avec la valeur `valeur_saisie`.\n",
    "  \n",
    "  **Note:** étant donné que l'on n'utilise pas les premières variables, et comme de plus `_` est un nom légal de variable Python, on peut utiliser `callback = lambda _, _, _, val = valeur_saisie: nelle_saisie(val)`.\n",
    "\n",
    "1. Pour finir, la fonction `nelle_saisie` utilise `valeur_texte.get()` pour récupérer le contenu de la zone de saisie où \"get\" signifie \"obtenir\" en anglais. Dans e code précédent, lors de l'exécution du code, `valeur_texte` sera toujours égale à `valeur_saisie`."
   ]
  },
  {
   "cell_type": "markdown",
   "metadata": {},
   "source": [
    "## Afficher er récupérer du texte - Version 3 - En mode furtif\n",
    "\n",
    "Le code précédent nous permer d'obtenir un effet utile : cacher les caractères tapés par l'utilisateur *(penser aux zone de saisie d'un mote de passe)*. Voici le code qui perrmet cela. À vous de voir comment la fonction `nelle_saisie` permet d'obtenir cet effet."
   ]
  },
  {
   "cell_type": "code",
   "execution_count": 3,
   "metadata": {
    "collapsed": true
   },
   "outputs": [],
   "source": [
    "# IMPOSSIBLE À EXÉCUTER PROPREMENT VIA JUPYTER !\n",
    "\n",
    "# ------------------ #\n",
    "# -- IMPORTATIONS -- #\n",
    "# ------------------ #\n",
    "\n",
    "import tkinter\n",
    "\n",
    "\n",
    "# ---------------------------------------------- #\n",
    "# -- ACTIONS FAITES PAR L'INTERFACE GRAPHIQUE -- #\n",
    "# ---------------------------------------------- #\n",
    "\n",
    "def nelle_saisie(valeur_texte):\n",
    "    global ligne_saisie\n",
    "\n",
    "    texte = valeur_texte.get()\n",
    "    print(texte)\n",
    "\n",
    "    ligne_saisie.delete(0, tkinter.END)\n",
    "    ligne_saisie.insert(0, \"*\"*len(texte))\n",
    "\n",
    "\n",
    "# --------------------------- #\n",
    "# -- L'INTERFACE GRAPHIQUE -- #\n",
    "# --------------------------- #\n",
    "\n",
    "# Construction de la fenêtre principale\n",
    "racine = tkinter.Tk()\n",
    "racine.title('Récupérer et afficher du texte')\n",
    "\n",
    "# Ajout d'un \"cadre\" contenant tous nos éléments graphiques.\n",
    "cadre = tkinter.Frame(master = racine)\n",
    "\n",
    "cadre.grid(row = 0, column = 0)\n",
    "\n",
    "# Ajout de de texte non modifiable par l'utilisateur.\n",
    "etiquette = tkinter.Label(\n",
    "    master = cadre,\n",
    "    text   = \"Zone de saisie :\"\n",
    ")\n",
    "etiquette.grid(row = 0, column = 0)\n",
    "\n",
    "# Ajout de de texte modifiable par l'utilisateur.\n",
    "valeur_saisie = tkinter.StringVar()\n",
    "\n",
    "# Source : http://stackoverflow.com/a/6549535\n",
    "valeur_saisie.trace(\n",
    "    mode     = \"w\",\n",
    "    callback = lambda name, index, mode, val = valeur_saisie: nelle_saisie(val)\n",
    ")\n",
    "\n",
    "ligne_saisie = tkinter.Entry(\n",
    "    master       = cadre,\n",
    "    textvariable = valeur_saisie\n",
    ")\n",
    "ligne_saisie.grid(row = 0, column = 1)\n",
    "\n",
    "ligne_saisie.focus_set()\n",
    "\n",
    "\n",
    "# -------------------------------- #\n",
    "# -- LANCEMENT DE L'APPLICATION -- #\n",
    "# -------------------------------- #\n",
    "\n",
    "racine.mainloop()"
   ]
  },
  {
   "cell_type": "markdown",
   "metadata": {},
   "source": [
    "### Un chronomètre où l'art d'agir à intervalles de temps régulier\n",
    "\n",
    "Le code suivant permet d'avoir une IHM de type chronomètre conçue comme suit.\n",
    "\n",
    "1. La fenêtre contient un bouton poussoir d'étiquette *\"Début\"*, et un autre poussoir d'étiquette *\"Fin\"*, ainsi qu'une zone de texte non modifiable par l'utilisateur.\n",
    "\n",
    "1. Lorsque l'utilisateur clique sur *\"Début\"*, toutes les secondes la valeur affichée augmente d'une unité. Tout s'arrête et se fige dès que l'utilisateur clique sur *\"Fin\"*."
   ]
  },
  {
   "cell_type": "code",
   "execution_count": null,
   "metadata": {
    "collapsed": true
   },
   "outputs": [],
   "source": [
    "# IMPOSSIBLE À EXÉCUTER PROPREMENT VIA JUPYTER !\n",
    "\n",
    "# ------------------ #\n",
    "# -- Importations -- #\n",
    "# ------------------ #\n",
    "\n",
    "import tkinter\n",
    "\n",
    "\n",
    "# ---------------------------------------------- #\n",
    "# -- ACTIONS FAITES PAR L'INTERFACE GRAPHIQUE -- #\n",
    "# ---------------------------------------------- #\n",
    "\n",
    "CHRONO_LANCE  = False\n",
    "CHRONO_VALEUR = -1\n",
    "\n",
    "def chrono_debut():\n",
    "    global CHRONO_LANCE, CHRONO_VALEUR\n",
    "\n",
    "    CHRONO_LANCE  = True\n",
    "    CHRONO_VALEUR = -1\n",
    "\n",
    "# Lancement du chronomètre.\n",
    "    maj_etiquette()\n",
    "\n",
    "def chrono_fin():\n",
    "    global CHRONO_LANCE, CHRONO_VALEUR\n",
    "\n",
    "    CHRONO_LANCE  = False\n",
    "    CHRONO_VALEUR = -1\n",
    "\n",
    "def maj_etiquette():\n",
    "    global etiquette, CHRONO_LANCE, CHRONO_VALEUR\n",
    "\n",
    "    if CHRONO_LANCE:\n",
    "        CHRONO_VALEUR += 1\n",
    "        etiquette.config(text = CHRONO_VALEUR)\n",
    "\n",
    "# Relance du chronomètre dans une seconde.\n",
    "        racine.after(\n",
    "            ms   = 1000,\n",
    "            func = maj_etiquette\n",
    "        )\n",
    "\n",
    "\n",
    "# --------------------------- #\n",
    "# -- L'interface graphique -- #\n",
    "# --------------------------- #\n",
    "\n",
    "# Construction de la fenêtre principale\n",
    "racine = tkinter.Tk()\n",
    "racine.title(\"Chronomètre\")\n",
    "racine.geometry(\"250x80\")\n",
    "\n",
    "# Ajout d'un \"cadre\" contenant tous nos éléments graphiques.\n",
    "cadre = tkinter.Frame(master = racine)\n",
    "cadre.grid(row = 0, column = 0)\n",
    "\n",
    "# Ajout d'un label.\n",
    "etiquette = tkinter.Label(\n",
    "    master = cadre,\n",
    "    text   = 0\n",
    ")\n",
    "etiquette.grid(row = 0, column = 0)\n",
    "\n",
    "# Ajout des boutons.\n",
    "bouton_debut = tkinter.Button(\n",
    "    master  = cadre,\n",
    "    text    = \"Début\",\n",
    "    command = chrono_debut\n",
    ")\n",
    "bouton_debut.grid(row = 1, column = 0)\n",
    "\n",
    "bouton_fin = tkinter.Button(\n",
    "    master  = cadre,\n",
    "    text    = \"Fin\",\n",
    "    command = chrono_fin\n",
    ")\n",
    "bouton_fin.grid(row = 1, column = 1)\n",
    "\n",
    "\n",
    "# -------------------------------- #\n",
    "# -- LANCEMENT DE L'APPLICATION -- #\n",
    "# -------------------------------- #\n",
    "\n",
    "racine.mainloop()"
   ]
  },
  {
   "cell_type": "markdown",
   "metadata": {},
   "source": [
    "Voici ce que nous avons dû utiliser de nouveau dans ce code.\n",
    "\n",
    "1. `etiquette.config(text = CHRONO_VALEUR)` permet de modifier le texte du label. La méthode `config` n'est propre aux labels, on peut l'utiliser avec d'autres \"fédgettes\".\n",
    "\n",
    "1. L'instruction `racine.after(ms = 1000, func = maj_etiquette)` dit à la fenêtre principale d'appeler dans une seconde la fonction `maj_etiquette`. En utilisant ceci au sein de la fonction `maj_etiquette` on crée des appels en boucle de celle-ci tant que la variable globale `CHRONO_LANCE` vaut `True`."
   ]
  },
  {
   "cell_type": "markdown",
   "metadata": {},
   "source": [
    "### A vous de jouer\n",
    "\n",
    "**Exercice 1 : ** faire un programme qui produise l'IHM vérifiant les contraintes suivantes.\n",
    "\n",
    "1. Le titre de la fenêtre principale est *\"Au hasard...\"*.\n",
    "\n",
    "1. La fenêtre principale admet pour largeur 350 pixels, et pour hauteur 150 pixels.\n",
    "\n",
    "1. La fenêtre contient juste un bouton poussoir d'étiquette *\"Cliquer ici\"*.\n",
    "\n",
    "1. À chaque clic sur le bouton, la fenêtre se déplace de façon aléatoire, ses coordonnées graphiques, relativement à l'écran, restant comprises entre 100 et 400 pour l'abscisse et l'ordonnée *(voir à ce propos le code juste après)*."
   ]
  },
  {
   "cell_type": "code",
   "execution_count": 9,
   "metadata": {},
   "outputs": [
    {
     "name": "stdout",
     "output_type": "stream",
     "text": [
      "14\n"
     ]
    }
   ],
   "source": [
    "import random\n",
    "\n",
    "# Affichage d'un nombre tiré au pseudo-hasard entre 10 et 40 compris.\n",
    "print(random.randint(10, 40))"
   ]
  },
  {
   "cell_type": "markdown",
   "metadata": {},
   "source": [
    "**Exercice 2 : ** faire un programme donnant l'IHM qui a été proposée comme but à atteindre au début de ce T.D.\n",
    "\n",
    "<img src=\"images/tkinter_converter_used.png\" height=\"41%\" width=\"41%\" style=\"border: 2px solid;\">"
   ]
  },
  {
   "cell_type": "markdown",
   "metadata": {},
   "source": [
    "### Pour les plus rapides - Exercices\n",
    "\n",
    "**Exercice 3 (suite de l'exercice 2) : ** reprendre l'exercice 2 de telle façon que l'utilisateur puisse au choix taper une valeur décimale, hexadécimale ou binaire, et ceci à tout moment *(à vous de choisir comment puis d'implémenter votre choix technique)*."
   ]
  },
  {
   "cell_type": "markdown",
   "metadata": {},
   "source": [
    "**Exercice 4 (suite de l'exercice 3) : ** reprendre l'exercice 3 de telle façon que l'utilisateur n'ait plus besoin d'appuyer sur le bouton `=`, autrement dit faire en sorte que tout changement de l'une quelconque des valeurs se répercute automatiquement sur toutes les autres."
   ]
  },
  {
   "cell_type": "markdown",
   "metadata": {},
   "source": [
    "### Pour les plus rapides - Compléments\n",
    "\n",
    "#### Boutons \"radio\" où comment faire un seul choix parmi plusieurs proposés\n",
    "\n",
    "Considérons la capture d'écran ci-desssous obtenu avec le code donné juste après.\n",
    "\n",
    "<img src=\"images/boutons_radio.png\" height=\"35%\" width=\"35%\" style=\"border: 2px solid;\">"
   ]
  },
  {
   "cell_type": "code",
   "execution_count": null,
   "metadata": {
    "collapsed": true
   },
   "outputs": [],
   "source": [
    "# IMPOSSIBLE À EXÉCUTER PROPREMENT VIA JUPYTER !\n",
    "\n",
    "# ------------------ #\n",
    "# -- IMPORTATIONS -- #\n",
    "# ------------------ #\n",
    "\n",
    "import tkinter\n",
    "\n",
    "\n",
    "# ---------------------------------------------- #\n",
    "# -- ACTIONS FAITES PAR L'INTERFACE GRAPHIQUE -- #\n",
    "# ---------------------------------------------- #\n",
    "\n",
    "def boutons_radio_modifies():\n",
    "    global valeur_bouton\n",
    "\n",
    "    print(\"Dernier choix : {0}.\".format(valeur_bouton.get()))\n",
    "\n",
    "\n",
    "# --------------------------- #\n",
    "# -- L'INTERFACE GRAPHIQUE -- #\n",
    "# --------------------------- #\n",
    "\n",
    "# Construction de la fenêtre principale\n",
    "racine = tkinter.Tk()\n",
    "racine.title('Un seul choix possible')\n",
    "\n",
    "# Ajout d'un \"cadre\" contenant tous nos éléments graphiques.\n",
    "cadre = tkinter.Frame(master = racine)\n",
    "\n",
    "cadre.grid(row = 0, column = 0)\n",
    "\n",
    "# Ajout de boutons \"radio\" : un seul choix possible parmis ceux proposés.\n",
    "\n",
    "valeurs    = [\"Chaud\"     , \"Froid\"     , \"Normal\"]\n",
    "etiquettes = ['Trop chaud', 'Trop froid', 'On fait avec...']\n",
    "\n",
    "valeur_bouton = tkinter.StringVar()\n",
    "valeur_bouton.set(valeurs[1])\n",
    "\n",
    "for i in range(3):\n",
    "    b = tkinter.Radiobutton(\n",
    "        master   = cadre,\n",
    "        variable = valeur_bouton,\n",
    "        text     = etiquettes[i],\n",
    "        value    = valeurs[i],\n",
    "        command  = boutons_radio_modifies\n",
    "    )\n",
    "\n",
    "    b.grid(row = 0, column = i)\n",
    "\n",
    "\n",
    "# -------------------------------- #\n",
    "# -- LANCEMENT DE L'APPLICATION -- #\n",
    "# -------------------------------- #\n",
    "\n",
    "racine.mainloop()"
   ]
  },
  {
   "cell_type": "markdown",
   "metadata": {},
   "source": [
    "Étant donné tout ce que nous avons vu jusqu'à présent, la seule difficulté dans le code précédent se cache dans l'utilisation de `valeur_bouton`. Voici ce qui a été utilisé.\n",
    "\n",
    "1. Rappelons que `tkinter.StringVar()` permet de définir une chaîne de caractères au sens de `Tkinter`, et non au sens de Python. Nous utilisons ici en plus `valeur_bouton.set(x)` qui affecte la valeur `x`, une chaîne de carcatères Python, à la chaîne de caractères `valeur_bouton` au sens de `Tkinter`.\n",
    "\n",
    "1. Rappelons que pour récupérer la valeur de `valeur_bouton` dans la fonction `boutons_radio_modifies`, ceci se fait via `valeur_bouton.get()` où \"get\" signifie \"obtenir\" en anglais.\n",
    "\n",
    "\n",
    "**Remarque :** Tkinter dispose aussi d'un type particulier pour les entiers. Ceci se fait via `tkinter.IntVar()` comme nous allons le voir juste après."
   ]
  },
  {
   "cell_type": "markdown",
   "metadata": {},
   "source": [
    "#### Cases à cocher où comment faire de multiples choix parmi plusieurs proposés\n",
    "\n",
    "Pour en finir avec les fonctionnalités de type choix, voyons comment obtenir ce qui suit où l'utilisateur a choisi plusieurs options.\n",
    "\n",
    "<img src=\"images/cases_cochees.png\" height=\"40%\" width=\"40%\" style=\"border: 2px solid;\">\n",
    "\n",
    "\n",
    "Le code utilisé est le suivant."
   ]
  },
  {
   "cell_type": "code",
   "execution_count": null,
   "metadata": {
    "collapsed": true
   },
   "outputs": [],
   "source": [
    "# IMPOSSIBLE À EXÉCUTER PROPREMENT VIA JUPYTER !\n",
    "\n",
    "# ------------------ #\n",
    "# -- IMPORTATIONS -- #\n",
    "# ------------------ #\n",
    "\n",
    "import tkinter\n",
    "\n",
    "\n",
    "# ------------------------------------------------ #\n",
    "# -- ACTIONS FAITES PAR L'APPLICATION GRAPHIQUE -- #\n",
    "# ------------------------------------------------ #\n",
    "\n",
    "def cases_cochees_modifiees():\n",
    "    global valeurs_cases\n",
    "\n",
    "    print(\"Derniers choix :\")\n",
    "\n",
    "    print(\"    + Mur Nord ?  {0}\".format(valeurs_cases[0].get()))\n",
    "    print(\"    + Mur Sud  ?  {0}\".format(valeurs_cases[2].get()))\n",
    "    print(\"    + Mur Est ?   {0}\".format(valeurs_cases[1].get()))\n",
    "    print(\"    + Mur Ouest ? {0}\".format(valeurs_cases[3].get()))\n",
    "\n",
    "\n",
    "# --------------------------- #\n",
    "# -- L'INTERFACE GRAPHIQUE -- #\n",
    "# --------------------------- #\n",
    "\n",
    "# Construction de la fenêtre principale\n",
    "racine = tkinter.Tk()\n",
    "racine.title('Plusieurs choix possibles')\n",
    "\n",
    "# Ajout d'un \"cadre\" contenant tous nos éléments graphiques.\n",
    "cadre = tkinter.Frame(master = racine)\n",
    "\n",
    "cadre.grid(row = 0, column = 0)\n",
    "\n",
    "# Ajout de boutons \"radio\" : un seul choix possible parmis ceux proposés.\n",
    "etiquettes = ['Mur Nord', 'Mur Sud', 'Mur Est', 'Mur Ouest']\n",
    "\n",
    "valeurs_cases = []\n",
    "\n",
    "for i in range(4):\n",
    "    val_case = tkinter.IntVar()\n",
    "    val_case.set(0)\n",
    "    valeurs_cases.append(val_case)\n",
    "\n",
    "    c = tkinter.Checkbutton(\n",
    "        master   = cadre,\n",
    "        variable = val_case,\n",
    "        text     = etiquettes[i],\n",
    "        command  = cases_cochees_modifiees\n",
    "    )\n",
    "\n",
    "    c.grid(row = 0, column = i)\n",
    "\n",
    "\n",
    "# -------------------------------- #\n",
    "# -- LANCEMENT DE L'APPLICATION -- #\n",
    "# -------------------------------- #\n",
    "\n",
    "racine.mainloop()"
   ]
  },
  {
   "cell_type": "markdown",
   "metadata": {},
   "source": [
    "Comme ici, plusieurs choix sont possibles, nous devons définir une valeur diffrérente pour chaque utilisation de `variable` dans `variable = val_case`, mais comme vous avez pu le constater nous utilisons aussi une liste où nous stockons chaque valeur de type `tkinter.IntVar()`. Aussi étonnant que cela puisse paraître, la liste est mise à jour à chaque case cochée. Comme le montre le code suivant, ce comportement est en fait propre à Python qui met à jour un élement d'une liste, et par ricochet la liste elle-même, dès lors que cet élément est de type liste, dictionnaire, ensemble, et plus généralement est définie via une classe comme l'est ci-dessus `val_case` à chaque boucle."
   ]
  },
  {
   "cell_type": "code",
   "execution_count": 2,
   "metadata": {},
   "outputs": [
    {
     "name": "stdout",
     "output_type": "stream",
     "text": [
      "[[1, 2, 3], 'a', 'b']\n",
      "[[1, 2, 3, 4], 'a', 'b']\n"
     ]
    }
   ],
   "source": [
    "liste_fille = [1, 2, 3]\n",
    "liste_parent = [liste_fille, \"a\", \"b\"]\n",
    "\n",
    "print(liste_parent)\n",
    "\n",
    "liste_fille.append(4)\n",
    "\n",
    "print(liste_parent)"
   ]
  }
 ],
 "metadata": {
  "kernelspec": {
   "display_name": "Python 3",
   "language": "python",
   "name": "python3"
  },
  "language_info": {
   "codemirror_mode": {
    "name": "ipython",
    "version": 3
   },
   "file_extension": ".py",
   "mimetype": "text/x-python",
   "name": "python",
   "nbconvert_exporter": "python",
   "pygments_lexer": "ipython3",
   "version": "3.7.5"
  },
  "name": "gui_tkinter_part_1.ipynb"
 },
 "nbformat": 4,
 "nbformat_minor": 1
}
