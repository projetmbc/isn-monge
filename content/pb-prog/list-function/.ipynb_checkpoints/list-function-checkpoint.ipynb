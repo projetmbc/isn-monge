{
 "cells": [
  {
   "cell_type": "markdown",
   "metadata": {},
   "source": [
    "Problématique 6 : Programmation - Listes et fonctions\n",
    "===================\n",
    "\n",
    "Le système Bibi \n",
    "---------------\n",
    "\n",
    "Le chanteur français Boby Lapointe (1922-1972) a inventé le système Bibi-binaire, dit en abrégé \"système Bibi\" qui est présenté de façon détaillée dans [cette page Wikipédia](https://fr.wikipedia.org/wiki/Système_Bibi-binaire). Nous allons travailler un peu sur ce système.\n",
    "\n",
    "\n",
    "Nous savons que les nombres que nous côtoyons tous les jours sont écrits en base décimale, c'est à dire à l'aide de puissances de dix.\n",
    "Par exemple, $12\\,345 = 1 \\times 10^4 + 2 \\times 10^3 + 3 \\times 10^2 + 4 \\times 10^1 + 5 \\times 10^0$.\n",
    "Nous pouvons être amené à utiliser d'autre puissance suivant le contexte. Par exemple, le nombre $12\\,345\\,678$ se lit *\"douze millions trois cent quarente-cinq mille six cents soixante-dix-huit\"*, c'est à dire de façon semi-abrégée *\"12 millions 345 mille 678\"*.\n",
    "Pour nommer un naturel, nous utilisons donc les puissances du type $10^{3k} = {\\left( 10^3 \\right)}^k$ avec $k \\in \\mathbb{N}$, c'est à dire un système basé sur les puissances de mille.\n",
    "\n",
    "\n",
    "En informatique, on utilise les puissances binaires, c'est à dire les puissances de deux, mais aussi pour des raisons pratiques les puissances héxadécimales, c'est à dire les puissances de $16$.\n",
    "Or c'est justement ces puissances de $16$ qu'a utilisées Boby Lapointe. Le néologisme \"bibi-binaire\" vient de \"2 puissance 2 puissance 2\" qui correspond à $16 = {\\left( 2^2 \\right)}^2$."
   ]
  },
  {
   "cell_type": "markdown",
   "metadata": {
    "collapsed": true
   },
   "source": [
    "Rappels Python : 1<sup>ère</sup> série\n",
    "------------------------------------\n",
    "\n",
    "Dans le document \"Boîte à outils - Premiers pas avec Python 3\" disponibles dans le dossier `is(c)n/TermS-ISN/content/memo/python/toolbox_beginner`, on trouve les informations suivantes qui vous seront utiles dans la suite.\n",
    "    \n",
    "1. `123/7` est le résultat d'une division \"décimale\" approchée.\n",
    "    \n",
    "1. `123//7` et `123%7` sont respectivement le quotient et le reste obtenus lorsque l'on fait une division euclidienne de $123$ par $7$. Comme $123 = 17 \\times 7 + 4$, nous avons donc `123//7 = 17` et `123%7 = 4`.\n",
    "    \n",
    "Les lignes de code suivantes permettent de vérifier ce qui vient d'être rappelé."
   ]
  },
  {
   "cell_type": "code",
   "execution_count": 28,
   "metadata": {},
   "outputs": [
    {
     "name": "stdout",
     "output_type": "stream",
     "text": [
      "123/7  = 17.571428571428573\n",
      "123//7 = 17\n",
      "123%7  = 4\n"
     ]
    }
   ],
   "source": [
    "print(\"123/7  =\", 123/7)\n",
    "print(\"123//7 =\", 123//7)\n",
    "print(\"123%7  =\", 123%7)"
   ]
  },
  {
   "cell_type": "markdown",
   "metadata": {},
   "source": [
    "Écrire un naturel à l'aide de puissance de $16$\n",
    "--------------------------------------------\n",
    "\n",
    "Sur une feuille papier, compléter pour obtenir des égalités\n",
    "*(vous pouvez utiliser la cellule Python ci-dessous pour faire des calculs)*.\n",
    "\n",
    "* $19 = \\dotso \\times 16 + \\dotso$\n",
    "* $49 = \\dotso \\times 16^2 + \\dotso \\times 16 + \\dotso$"
   ]
  },
  {
   "cell_type": "code",
   "execution_count": null,
   "metadata": {
    "collapsed": true
   },
   "outputs": [],
   "source": [
    "# Calculs possibles ici."
   ]
  },
  {
   "cell_type": "markdown",
   "metadata": {},
   "source": [
    "Nous avons obtenu ci-dessus deux écritures à l'aide de puissances de $16$.\n",
    "Déterminer des écritures semblables pour les naturels $126$ et $4\\,233$\n",
    "*(vous pouvez utiliser la cellule Python ci-dessous pour faire des calculs)*."
   ]
  },
  {
   "cell_type": "code",
   "execution_count": 21,
   "metadata": {
    "collapsed": true
   },
   "outputs": [],
   "source": [
    "# Calculs possibles ici."
   ]
  },
  {
   "cell_type": "markdown",
   "metadata": {},
   "source": [
    "Le système Bibi pour écrire les nombres en base $16$\n",
    "-------------------------------------------------\n",
    "\n",
    "L'idée de Boby Lapointe a été de proposer un système d'écriture des nombres en base $16$. Si nous reprenons l'écriture décimale, elle utilise les chiffres de $0$ à $9$ et un sytème d'écriture liée à la position des chiffres.\n",
    "Clarifions ceci. Dans $10\\,234$,\n",
    "le chiffre $4$ est celui des unités qui correspond à $10^0$,\n",
    "$3$ celui des dizaines associé à $10^1$,\n",
    "$2$ celui des centaines associé à $10^2$,\n",
    "$0$ celui des milliers associé à $10^3$ et enfin\n",
    "$1$ celui des dic-milliers associé à $10^4$.\n",
    "\n",
    "On peut opter pour un système analogue avec les puissnaces de $16$ mais ici nous avons besoin de seize symboles donc les chiffres de $0$ à $9$ ne suffisent plus. Voici la proposition de Boby Lapointe.\n",
    "\n",
    "<table>\n",
    "    <tr>\n",
    "<td>0</td> <td>1</td> <td>2</td> <td>3</td> <td>4</td> <td>5</td> <td>6</td> <td>7</td> <td>8</td> <td>9</td> <td>10</td> <td>11</td> <td>12</td> <td>13</td> <td>14</td> <td>15</td>\n",
    "    </tr>\n",
    "    <tr>\n",
    "\n",
    "<td>HO</td> <td>HA</td> <td>HE</td> <td>HI</td> <td>BO</td> <td>BA</td> <td>BE</td> <td>BI</td> <td>KO</td> <td>KA</td> <td>KE</td> <td>KI</td> <td>DO</td> <td>DA</td> <td>DE</td> <td>DI</td> \n",
    "    </tr>\n",
    "</table>"
   ]
  },
  {
   "cell_type": "markdown",
   "metadata": {},
   "source": [
    "Avce ce système, `KADO`, soit `KA DO`, correspond à\n",
    "$9 \\times 16^1 + 12 \\times 16^0 = 9 \\times 16 + 12 = 144 + 12 = 156$.\n",
    "Sur votre feuille, donnez la valeur naturelle associée aux *\"bibi-noms\"* suivants\n",
    "*(vous pouvez utiliser la cellule Python ci-dessous pour faire des calculs)*.\n",
    "\n",
    "* `BOKE`\n",
    "* `KAKAHO`\n",
    "* `KAKEBABA`\n",
    "* `BABAKAKE`"
   ]
  },
  {
   "cell_type": "code",
   "execution_count": 22,
   "metadata": {
    "collapsed": true
   },
   "outputs": [],
   "source": [
    "# Calculs possibles ici."
   ]
  },
  {
   "cell_type": "markdown",
   "metadata": {},
   "source": [
    "Déterminez les *\"bibi-écritures\"* des naturels $19$, $49$, $126$ et $4\\,233$\n",
    "rencontrés précédemment\n",
    "*(vous pouvez utiliser la cellule Python ci-dessous pour faire des calculs)*."
   ]
  },
  {
   "cell_type": "code",
   "execution_count": 23,
   "metadata": {
    "collapsed": true
   },
   "outputs": [],
   "source": [
    "# Calculs possibles ici."
   ]
  },
  {
   "cell_type": "markdown",
   "metadata": {
    "collapsed": true
   },
   "source": [
    "Rappels Python : 2<sup>nde</sup> série\n",
    "------------------------------------\n",
    "\n",
    "Dans le document \"Boîte à outils - Premiers pas avec Python 3\", on trouve les informations suivantes concernant les listes. Ceci vous sera utile dans la suite.\n",
    "    \n",
    "1. Une liste sert à stocker des éléments, pas forcément du même type, de façon ordonnée avec possibilité de répétition.\n",
    "    \n",
    "1. `[]` est une liste vide, tandis que `[\"un\", 2, 3]`définit une liste de 1<sup>er</sup> élément `\"un\"`, de 2<sup>ème</sup> élément `2`, et de 3<sup>ème</sup> élément `3`.\n",
    "    \n",
    "1. Pour ajouter un élément à une liste, on peut utiliser la méthode `append`.\n",
    "    \n",
    "1. Pour accoler une liste après une autre, on peut les \"additionner\".\n",
    "\n",
    "1. La parcours d'une liste est similaire à celui d'une chaîne de caractères via une syntaxe du type `for un_elt in ma_liste` où `ma_liste` est la liste à parcourir, et `un_elt` une variable que l'on peut nommer autrement. \n",
    "    \n",
    "\n",
    "Les lignes de code suivantes donnent des exemples concrets de ce qui vient d'être rappelé."
   ]
  },
  {
   "cell_type": "code",
   "execution_count": 33,
   "metadata": {},
   "outputs": [
    {
     "name": "stdout",
     "output_type": "stream",
     "text": [
      "Liste vide                              : []\n",
      "Version 2 de la liste                   : [1, 2]\n",
      "Version 3 de la liste                   : [1, 2, 3, 4, 5]\n",
      "Le 5ème élément de la liste             : 5\n",
      "Liste après modification du 1er élément : ['un', 'un', 3, 4, 5]\n",
      "Parcours de la liste.\n",
      "Un élément : un\n",
      "Un élément : un\n",
      "Un élément : 3\n",
      "Un élément : 4\n",
      "Un élément : 5\n"
     ]
    }
   ],
   "source": [
    "ma_liste = []\n",
    "\n",
    "print(\"Liste vide                              :\", ma_liste)\n",
    "\n",
    "\n",
    "# Ajout de deux élements via la méthode `append`.\n",
    "ma_liste.append(1)\n",
    "ma_liste.append(2)\n",
    "\n",
    "print(\"Version 2 de la liste                   :\", ma_liste)\n",
    "\n",
    "\n",
    "# \"Addition\" de deux suites pour les accoler l'une après l'autre.\n",
    "ma_liste = ma_liste + [3, 4, 5]\n",
    "\n",
    "print(\"Version 3 de la liste                   :\", ma_liste)\n",
    "\n",
    "\n",
    "# Accéder à un élement. Le 1er élément est numéroté 0 et non 1 !\n",
    "print(\"Le 5ème élément de la liste             :\", ma_liste[4])\n",
    "\n",
    "\n",
    "# Modifier des deux premiers élements.\n",
    "\n",
    "ma_liste[0] = \"un\"\n",
    "ma_liste[1] = \"un\"\n",
    "\n",
    "print(\"Liste après modification du 1er élément :\", ma_liste)\n",
    "\n",
    "\n",
    "# Parcourir la liste élement par élement.\n",
    "\n",
    "print(\"Parcours de la liste.\")\n",
    "\n",
    "for un_elt in ma_liste:\n",
    "    print(\"Un élément :\", un_elt)"
   ]
  },
  {
   "cell_type": "markdown",
   "metadata": {},
   "source": [
    "De l'écriture décimale à la *\"bibi-écriture\"*\n",
    "------------------------------------------\n",
    "\n",
    "Nous allons programmer une fonction `decimal_vers_bibi` qui renverra le *\"bibi-nom\"* d'un naturel. Cette fonction va suivre quelques contraintes pédagogiques *(autrement dit, la méthode que nous allons employer n'est bien entendu pas la seule possible)*. Pour arriver au but fixé, nous allons avancer par petits pas.\n",
    "\n",
    "\n",
    "\n",
    "### Écriture à l'aide de puissances de $16$\n",
    "\n",
    "Compléter le programme dans la deuxième cellule ci-dessous pour qu'il fasse apparaître la liste `bibi_chiffres` des nombres obtenus dans l'écriture à l'aide de puissances de $16$ d'un naturel `n`.\n",
    "La liste ira des plus grandes puisances aux plus petites.\n",
    "Par exemple, si `n = 801 = 3*16**2 + 2*16 + 1`, on doit fabriquer `bibi_chiffres = [3, 2, 1]`.\n",
    "Chaque élément de la liste doit être de type `int`. Commencer par proposer ci-dessous un algorithme en langage courant avant d'en faire une traduction Python. Pensez aux exemples faits \"à la main\" !"
   ]
  },
  {
   "cell_type": "raw",
   "metadata": {},
   "source": [
    "# ALGORITHME RETENU\n",
    "\n",
    "..."
   ]
  },
  {
   "cell_type": "code",
   "execution_count": null,
   "metadata": {
    "collapsed": true
   },
   "outputs": [],
   "source": [
    "# TRADUCTION PYTHON DE L'ALGORITHME RETENU\n",
    "\n",
    "# Valeur à changer directement dans le code (une fois certain de\n",
    "# notre méthode, on utilisera `n = int(input(\"Valeur de n ? \")`\n",
    "# pour plus d'intercativité.\n",
    "\n",
    "n = 801\n",
    "\n",
    "..."
   ]
  },
  {
   "cell_type": "markdown",
   "metadata": {},
   "source": [
    "### De l'écriture à l'aide de puissances de $16$ à la *\"bibi-écriture\"*\n",
    "\n",
    "Nous devons maintenant passer de la liste `bibi_chiffres` à la *\"bibi-écriture\"*. Par exemple, nous savons que `bibi_chiffres = [3, 2, 1]` correspond à `3*16**2 + 2*16 + 1` qui se *\"bibi-écrit\"* `HIHEHA`.\n",
    "\n",
    "Pour arriver à nos fins, nous allons utiliser la liste `bibi_notations` donnée ci-dessous. Compléter le code suivant pour qu'il affiche le *\"bibi-nom\"* associé à la liste `bibi_chiffres`. Nous avons mis comme valeur test `bibi_chiffres = [1, 2, 3]` utilisée comme exemple juste avant mais il est plus sûr de faire d'autres tests."
   ]
  },
  {
   "cell_type": "code",
   "execution_count": 25,
   "metadata": {
    "collapsed": true
   },
   "outputs": [],
   "source": [
    "bibi_chiffres = [3, 2, 1]\n",
    "\n",
    "# Python interprète les retours à la ligne entre\n",
    "# des crochets comme étant de simples espaces. \n",
    "# Ceci nous permet d'écrire la liste suivante sur\n",
    "# plusieurs lignes au lieu d'une seule.\n",
    "\n",
    "bibi_notations = [\n",
    "    \"HO\", \"HA\", \"HE\", \"HI\",\n",
    "    \"BO\", \"BA\", \"BE\", \"BI\",\n",
    "    \"KO\", \"KA\", \"KE\", \"KI\",\n",
    "    \"DO\", \"DA\", \"DE\", \"DI\"\n",
    "]"
   ]
  },
  {
   "cell_type": "markdown",
   "metadata": {},
   "source": [
    "Nous avons maintenant tous les ingrédients nécessaires pour fabriquer une fonction qui recevant un naturel `n` renverra sa *\"bibi-écriture\"*. Complétez les points de suspension dans le code suivant afin d'atteindre le but fixé."
   ]
  },
  {
   "cell_type": "code",
   "execution_count": null,
   "metadata": {
    "collapsed": true
   },
   "outputs": [],
   "source": [
    "# ------------------------------- #\n",
    "# -- DEFINITION DE LA FONCTION -- #\n",
    "# ------------------------------- #\n",
    "\n",
    "def decimal_vers_bibi(n):\n",
    "# Vous devez construire une variable `bibi_ecriture` de type `str`\n",
    "# étant égale à la bibi-écriture du naturel `n` donné en argument\n",
    "# de la fonction.\n",
    "    \n",
    "    ...\n",
    "    \n",
    "# Une fois la variable `bibi_ecriture` construite, il suffit de \n",
    "# la renvoyer. \n",
    "\n",
    "    return bibi_ecriture\n",
    "\n",
    "\n",
    "# -------------------------------- #\n",
    "# -- UTILISATION DE LA FONCTION -- #\n",
    "# -------------------------------- #\n",
    "\n",
    "# Valeur à changer directement dans le code (une fois certain de\n",
    "# notre méthode, on utilisera `n = int(input(\"Valeur de n ? \")`\n",
    "# pour plus d'intercativité.\n",
    "\n",
    "n = 801\n",
    "\n",
    "bibi_nom = decimal_vers_bibi(n)\n",
    "\n",
    "print(n, 'se \"bibi-écrit\"', bibi_nom)"
   ]
  },
  {
   "cell_type": "markdown",
   "metadata": {},
   "source": [
    "Pour les plus rapides : de la *\"bibi-écriture\"* à l'écriture décimale\n",
    "-----------------------------------------------------------------\n",
    "\n",
    "Faire une fonction qui recevant une *\"bibi-écriture\"* renverra sa valeur naturelle. Complétez les points de suspension dans le code suivant afin d'atteindre le but fixé."
   ]
  },
  {
   "cell_type": "code",
   "execution_count": null,
   "metadata": {
    "collapsed": true
   },
   "outputs": [],
   "source": [
    "# ------------------------------- #\n",
    "# -- DEFINITION DE LA FONCTION -- #\n",
    "# ------------------------------- #\n",
    "\n",
    "def bibi_vers_decimal(bibi_ecriture):\n",
    "# Vous devez calculer le naturel `n_calcule` correspodant à `bibi_ecriture`.\n",
    "\n",
    "    ...\n",
    "    \n",
    "# Une fois la valuer `n_calcule` calculée, il suffit de la renvoyer. \n",
    "\n",
    "    return n_calcule\n",
    "    \n",
    "\n",
    "# -------------------------------- #\n",
    "# -- UTILISATION DE LA FONCTION -- #\n",
    "# -------------------------------- #\n",
    "\n",
    "# Comme Jupyter garde en mémoire toutes les lignes de code précédemment\n",
    "# exécutées, nous pouvons réutiliser la fonction `decimal_vers_bibi` \n",
    "# implémentée précédemment. Ceci nous permet de facilment tester ce que\n",
    "# nous avons fait.\n",
    "\n",
    "n = 801\n",
    "\n",
    "bibi_nom = decimal_vers_bibi(n)\n",
    "n_trouve = bibi_vers_decimal(bibi_nom)\n",
    "\n",
    "print(n, 'se \"bibi-écrit\"', bibi_nom)\n",
    "print(bibi_nom, 'correspond à', n_trouve)"
   ]
  }
 ],
 "metadata": {
  "kernelspec": {
   "display_name": "Python 3",
   "language": "python",
   "name": "python3"
  },
  "language_info": {
   "codemirror_mode": {
    "name": "ipython",
    "version": 3
   },
   "file_extension": ".py",
   "mimetype": "text/x-python",
   "name": "python",
   "nbconvert_exporter": "python",
   "pygments_lexer": "ipython3",
   "version": "3.6.6"
  },
  "name": "list-function.ipynb"
 },
 "nbformat": 4,
 "nbformat_minor": 1
}
