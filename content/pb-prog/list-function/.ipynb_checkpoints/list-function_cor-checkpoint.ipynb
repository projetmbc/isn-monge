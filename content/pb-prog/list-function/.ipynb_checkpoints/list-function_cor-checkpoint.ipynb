{
 "cells": [
  {
   "cell_type": "markdown",
   "metadata": {},
   "source": [
    "Problématique 6 : Programmation - Listes et fonctions - Des solutions possibles\n",
    "=========================\n",
    "\n",
    "Écrire un naturel à l'aide de puissance de $16$\n",
    "--------------------------------------------\n",
    "\n",
    "Nous avons :\n",
    "\n",
    "* $19 = 1 \\times 16 + 3$\n",
    "* $49 = 0 \\times 16^2 + 3 \\times 16 + 1$\n",
    "\n",
    "La cellule Python nous a aidé dans le cas du naturel $49$. "
   ]
  },
  {
   "cell_type": "code",
   "execution_count": 1,
   "metadata": {},
   "outputs": [
    {
     "name": "stdout",
     "output_type": "stream",
     "text": [
      "Quotient de 49 divisé par 16 : 3\n",
      "Reste de 49 divisé par 16    : 1\n"
     ]
    }
   ],
   "source": [
    "# Calculs possibles ici.\n",
    "\n",
    "print(\"Quotient de 49 divisé par 16 :\", 49//16)\n",
    "print(\"Reste de 49 divisé par 16    :\", 49%16)"
   ]
  },
  {
   "cell_type": "markdown",
   "metadata": {},
   "source": [
    "$126 = 7 \\times 16 + 14$\n",
    "\n",
    "$\\begin{align}\n",
    "4233 &= 264 \\times 16 + 9 &\\\\\n",
    "     &= (16 \\times 16 + 8) \\times 16 + 9 &\\\\\n",
    "     &= 16^3 + 8 \\times 16 + 9 &\n",
    "\\end{align}$\n",
    "\n",
    "La cellule Python nous a aidé à obtenir directement les quotients et les restes. "
   ]
  },
  {
   "cell_type": "code",
   "execution_count": 40,
   "metadata": {},
   "outputs": [
    {
     "name": "stdout",
     "output_type": "stream",
     "text": [
      "Quotient de 126 divisé par 16 : 7\n",
      "Reste de 126 divisé par 16    : 14\n",
      "---\n",
      "Quotient de 4233 divisé par 16 : 264\n",
      "Reste de 4233 divisé par 16    : 9\n",
      "---\n",
      "Quotient de 264 divisé par 16 : 16\n",
      "Reste de 264 divisé par 16    : 8\n",
      "---\n"
     ]
    }
   ],
   "source": [
    "for n in [126, 4233, 264]: # 264 ajouté à cause de 4233\n",
    "    print(\"Quotient de\", n, \"divisé par 16 :\", n//16)\n",
    "    print(\"Reste de\", n, \"divisé par 16    :\", n%16)\n",
    "    print('---')"
   ]
  },
  {
   "cell_type": "markdown",
   "metadata": {},
   "source": [
    "Le système Bibi pour écrire les nombres en base $16$\n",
    "-------------------------------------------------\n",
    "\n",
    "Rappelons la proposition de Boby Lapointe.\n",
    "\n",
    "<table>\n",
    "    <tr>\n",
    "<td>0</td> <td>1</td> <td>2</td> <td>3</td> <td>4</td> <td>5</td> <td>6</td> <td>7</td> <td>8</td> <td>9</td> <td>10</td> <td>11</td> <td>12</td> <td>13</td> <td>14</td> <td>15</td>\n",
    "    </tr>\n",
    "    <tr>\n",
    "\n",
    "<td>HO</td> <td>HA</td> <td>HE</td> <td>HI</td> <td>BO</td> <td>BA</td> <td>BE</td> <td>BI</td> <td>KO</td> <td>KA</td> <td>KE</td> <td>KI</td> <td>DO</td> <td>DA</td> <td>DE</td> <td>DI</td> \n",
    "    </tr>\n",
    "</table>\n",
    "\n",
    "\n",
    "Avec ce système, nous avons :"
   ]
  },
  {
   "cell_type": "code",
   "execution_count": 41,
   "metadata": {},
   "outputs": [
    {
     "name": "stdout",
     "output_type": "stream",
     "text": [
      "BOKE     = 74\n",
      "BOKE     = 2448\n",
      "KAKEBABA = 39509\n",
      "BABAKAKE = 21914\n"
     ]
    }
   ],
   "source": [
    "print(\"BOKE     =\", 10 + 4*16)\n",
    "print(\"BOKE     =\", 0 + 9*16 + 9*16**2)\n",
    "print(\"KAKEBABA =\", 5 + 5*16 + 10*16**2 + 9*16**3)\n",
    "print(\"BABAKAKE =\", 10 + 9*16 + 5*16**2 + 5*16**3)"
   ]
  },
  {
   "cell_type": "markdown",
   "metadata": {
    "collapsed": true
   },
   "source": [
    "Les résultats établis dans la première section à propos de $19$, $49$, $126$ et $4\\,233$ nous donnent :\n",
    "\n",
    "* $19 = 16 + 3$ s'écrit `HAHI`.\n",
    "\n",
    "* $49 = 3 \\times 16 + 1$ s'écrit `HIHA`.\n",
    "\n",
    "* $126 = 7 \\times 16 + 14$ s'écrit `BIDE`.\n",
    "\n",
    "* $4233 = 16^3 + 8 \\times 16 + 9$ s'écrit `HAHOKOKA`."
   ]
  },
  {
   "cell_type": "markdown",
   "metadata": {},
   "source": [
    "De l'écriture décimale à la *\"bibi-écriture\"*\n",
    "------------------------------------------\n",
    "\n",
    "### Écriture à l'aide de puissances de $16$\n",
    "\n",
    "Pour tester rapidement, nous utilisons le fait que $801 = 3 \\times 16^2 + 2 \\times 16 + 1$."
   ]
  },
  {
   "cell_type": "raw",
   "metadata": {},
   "source": [
    "# ALGORITHME 1\n",
    "\n",
    "N le nombre à convertir.\n",
    "\n",
    "BIBI_CHIFFRES = Liste vide\n",
    "\n",
    "# F le nombre de chiffre dans l'écriture en base 16.\n",
    "F = 1\n",
    "\n",
    "Tant que 16**F <= N:\n",
    "    F = F+1\n",
    "   \n",
    "F = F - 1\n",
    "\n",
    "N_BIS = N\n",
    "\n",
    "Pour PUISSANCE de F à 0:\n",
    "    N_BIS = q*16**PUISSANCE + r (division euclidienne)\n",
    "    Ajouter q à droite BIBI_CHIFFRES\n",
    "    N_BIS = r"
   ]
  },
  {
   "cell_type": "code",
   "execution_count": 42,
   "metadata": {},
   "outputs": [
    {
     "name": "stdout",
     "output_type": "stream",
     "text": [
      "801 ---> [3, 2, 1]\n"
     ]
    }
   ],
   "source": [
    "# TRADUCTION PYTHON DE L'ALGORITHME 1\n",
    "\n",
    "# Valeur à changer directement dans le code (une fois certain de\n",
    "# notre méthode, on utilisera `n = int(input(\"Valeur de n ? \")`\n",
    "# pour plus d'intercativité.\n",
    "\n",
    "N = 801\n",
    "\n",
    "BIBI_CHIFFRES = []\n",
    "\n",
    "# F le nombre de chiffre dans l'écriture en base 16.\n",
    "F = 1\n",
    "\n",
    "while 16**F <= N:\n",
    "    F = F+1\n",
    "    \n",
    "F = F - 1\n",
    "\n",
    "N_BIS = N\n",
    "\n",
    "# On utilise `range(début, presque-fin, pas)`\n",
    "for PUISSANCE in range(F, -1, -1):\n",
    "    q = N_BIS // 16**PUISSANCE\n",
    "    r = N_BIS % 16**PUISSANCE\n",
    "    \n",
    "    BIBI_CHIFFRES.append(q)\n",
    "    N_BIS = r\n",
    "\n",
    "print(N, \"--->\", BIBI_CHIFFRES)"
   ]
  },
  {
   "cell_type": "raw",
   "metadata": {},
   "source": [
    "# ALGORITHME 2\n",
    "\n",
    "N le nombre à convertir.\n",
    "\n",
    "BIBI_CHIFFRES = Liste vide\n",
    "\n",
    "N_BIS = N\n",
    "\n",
    "Tant que N_BIS <> -1:\n",
    "    N_BIS = q*16 + r (division euclidienne)\n",
    "    Ajouter r à gauche BIBI_CHIFFRES\n",
    "    \n",
    "    Si q <16:\n",
    "        Ajouter q à gauche BIBI_CHIFFRES\n",
    "        N_BIS = -1\n",
    "\n",
    "    Sinon:\n",
    "        N_BIS = q"
   ]
  },
  {
   "cell_type": "code",
   "execution_count": 43,
   "metadata": {},
   "outputs": [
    {
     "name": "stdout",
     "output_type": "stream",
     "text": [
      "801 ---> [3, 2, 1]\n"
     ]
    }
   ],
   "source": [
    "# TRADUCTION PYTHON DE L'ALGORITHME 2\n",
    "\n",
    "# Valeur à changer directement dans le code (une fois certain de\n",
    "# notre méthode, on utilisera `n = int(input(\"Valeur de n ? \")`\n",
    "# pour plus d'intercativité.\n",
    "\n",
    "N = 801\n",
    "\n",
    "BIBI_CHIFFRES = []\n",
    "\n",
    "N_BIS = N\n",
    "\n",
    "while N_BIS != -1:\n",
    "    q = N_BIS // 16\n",
    "    r = N_BIS % 16\n",
    "    \n",
    "    BIBI_CHIFFRES = [r] + BIBI_CHIFFRES\n",
    "    \n",
    "    if q < 16:\n",
    "        BIBI_CHIFFRES = [q] + BIBI_CHIFFRES\n",
    "        N_BIS = -1\n",
    "        \n",
    "    else:\n",
    "        N_BIS = q\n",
    "\n",
    "print(N, \"--->\", BIBI_CHIFFRES)"
   ]
  },
  {
   "cell_type": "markdown",
   "metadata": {},
   "source": [
    "### De l'écriture à l'aide de puissances de $16$ à la *\"bibi-écriture\"*\n",
    "\n",
    "Voici comment passer de l'écriture en base $16$ à la notation de Boby Lapointe."
   ]
  },
  {
   "cell_type": "code",
   "execution_count": 44,
   "metadata": {},
   "outputs": [
    {
     "name": "stdout",
     "output_type": "stream",
     "text": [
      "HIHEHADIHO\n"
     ]
    }
   ],
   "source": [
    "bibi_chiffres = [3, 2, 1, 15, 0]\n",
    "\n",
    "# Python interprète les retours à la ligne entre\n",
    "# des crochets comme étant de simples espaces. \n",
    "# Ceci nous permet d'écrire la liste suivante sur\n",
    "# plusieurs lignes au lieu d'une seule.\n",
    "\n",
    "bibi_notations = [\n",
    "    \"HO\", \"HA\", \"HE\", \"HI\",\n",
    "    \"BO\", \"BA\", \"BE\", \"BI\",\n",
    "    \"KO\", \"KA\", \"KE\", \"KI\",\n",
    "    \"DO\", \"DA\", \"DE\", \"DI\"\n",
    "]\n",
    "\n",
    "bibi_ecriture = \"\"\n",
    "\n",
    "for i in bibi_chiffres:\n",
    "    # bibi_ecriture += bibi_notations[i]\n",
    "    bibi_ecriture= bibi_ecriture + bibi_notations[i]\n",
    "    \n",
    "print(bibi_ecriture)"
   ]
  },
  {
   "cell_type": "markdown",
   "metadata": {},
   "source": [
    "Il devient aisé de faire une fonction. Nous en profitons ici pour présenter une fonction Python intéressante : \n",
    "\n",
    "> `divmod(a, b)` renvoie le couple `(q, r)` formé du quotient `q` puis du reste `r` de la division euclidienne de `a` par `b`. Ceci simplifie un peu les choses en évitant d'avoir à taper `q = a // b` et `r = a % r`."
   ]
  },
  {
   "cell_type": "code",
   "execution_count": 1,
   "metadata": {},
   "outputs": [
    {
     "name": "stdout",
     "output_type": "stream",
     "text": [
      "819 se \"bibi-écrit\" HIHIHI\n"
     ]
    }
   ],
   "source": [
    "# ------------------------------- #\n",
    "# -- DEFINITION DE LA FONCTION -- #\n",
    "# ------------------------------- #\n",
    "\n",
    "def decimal_vers_bibi(n):\n",
    "# Vous devez construire une variable `bibi_ecriture` de type `str`\n",
    "# étant égale à la bibi-écriture du naturel `N` donné en argument\n",
    "# de la fonction.\n",
    "    bibi_chiffres = []\n",
    "    n_bis = n\n",
    "\n",
    "    while n_bis != -1:\n",
    "        # Utilisons un raccourci pour obtenir ce qui suit.\n",
    "        #     q = n_bis // 16\n",
    "        #     r = n_bis % 16\n",
    "        q, r = divmod(n_bis, 16)\n",
    "\n",
    "        bibi_chiffres = [r] + bibi_chiffres\n",
    "\n",
    "        if q < 16:\n",
    "            bibi_chiffres = [q] + bibi_chiffres\n",
    "            n_bis = -1\n",
    "\n",
    "        else:\n",
    "            n_bis = q\n",
    "\n",
    "    \n",
    "    bibi_notations = [\n",
    "        \"HO\", \"HA\", \"HE\", \"HI\",\n",
    "        \"BO\", \"BA\", \"BE\", \"BI\",\n",
    "        \"KO\", \"KA\", \"KE\", \"KI\",\n",
    "        \"DO\", \"DA\", \"DE\", \"DI\"\n",
    "    ]\n",
    "\n",
    "    bibi_ecriture = \"\"\n",
    "\n",
    "    for i in bibi_chiffres:\n",
    "        bibi_ecriture += bibi_notations[i]\n",
    "        \n",
    "# Une fois la variable `bibi_ecriture` construite, il suffit de \n",
    "# la renvoyer. \n",
    "\n",
    "    return bibi_ecriture\n",
    "\n",
    "\n",
    "# -------------------------------- #\n",
    "# -- UTILISATION DE LA FONCTION -- #\n",
    "# -------------------------------- #\n",
    "\n",
    "# Valeur à changer directement dans le code (une fois certain de\n",
    "# notre méthode, on utilisera `n = int(input(\"Valeur de n ? \")`\n",
    "# pour plus d'intercativité.\n",
    "\n",
    "n = 3 + 3*16 + 3*16**2\n",
    "\n",
    "bibi_nom = decimal_vers_bibi(n)\n",
    "\n",
    "print(n, 'se \"bibi-écrit\"', bibi_nom)"
   ]
  },
  {
   "cell_type": "markdown",
   "metadata": {},
   "source": [
    "Pour les plus rapides : de la *\"bibi-écriture\"* à l'écriture décimale\n",
    "-----------------------------------------------------------------\n",
    "\n",
    "### Une version sans dictionnaire\n",
    "\n",
    "#### Le code"
   ]
  },
  {
   "cell_type": "code",
   "execution_count": 46,
   "metadata": {},
   "outputs": [
    {
     "name": "stdout",
     "output_type": "stream",
     "text": [
      "801 se \"bibi-écrit\" : HIHEHA\n",
      "HIHEHA correspond à 801\n"
     ]
    }
   ],
   "source": [
    "# ------------------------------- #\n",
    "# -- DEFINITION DE LA FONCTION -- #\n",
    "# ------------------------------- #\n",
    "\n",
    "def bibi_vers_decimal(bibi_ecriture):\n",
    "    bibi_notations = [\n",
    "        \"HO\", \"HA\", \"HE\", \"HI\",\n",
    "        \"BO\", \"BA\", \"BE\", \"BI\",\n",
    "        \"KO\", \"KA\", \"KE\", \"KI\",\n",
    "        \"DO\", \"DA\", \"DE\", \"DI\"\n",
    "    ]\n",
    "    \n",
    "    # On récupère les groupes de deux lettres dans le bibi-noms\n",
    "    # correspondants à un bibi-chiffre.\n",
    "    bibi_chiffres = []\n",
    "    \n",
    "    for i in range(0, len(bibi_ecriture), 2):\n",
    "        un_bibi_chiffre = bibi_ecriture[i: i + 2]\n",
    "        bibi_chiffres   = [un_bibi_chiffre] + bibi_chiffres\n",
    "        \n",
    "    \n",
    "    n_calcule = 0\n",
    "    \n",
    "    for puissance in range(len(bibi_chiffres)):\n",
    "        un_bibi_chiffre     = bibi_chiffres[puissance]\n",
    "        chiffre_hexadecimal = bibi_notations.index(un_bibi_chiffre)\n",
    "        \n",
    "        n_calcule += chiffre_hexadecimal * 16**puissance\n",
    "    \n",
    "    return n_calcule\n",
    "    \n",
    "\n",
    "# -------------------------------- #\n",
    "# -- UTILISATION DE LA FONCTION -- #\n",
    "# -------------------------------- #\n",
    "\n",
    "# Comme Jupyter garde en mémoire toutes les lignes de code précédemment\n",
    "# exécutées, nous pouvons réutiliser la fonction `decimal_vers_bibi` \n",
    "# implémentée précédemment. Ceci nous permet de facilment tester ce que\n",
    "# nous avons fait.\n",
    "\n",
    "n = 801\n",
    "\n",
    "bibi_nom = decimal_vers_bibi(n)\n",
    "n_trouve = bibi_vers_decimal(bibi_nom)\n",
    "\n",
    "print(n, 'se \"bibi-écrit\" :', bibi_nom)\n",
    "print(bibi_nom, 'correspond à', n_trouve)"
   ]
  },
  {
   "cell_type": "markdown",
   "metadata": {},
   "source": [
    "#### Tests au pseudo-hasard\n",
    "\n",
    "Faisons des tests au hasard pour valider notre fonction."
   ]
  },
  {
   "cell_type": "code",
   "execution_count": 47,
   "metadata": {},
   "outputs": [
    {
     "name": "stdout",
     "output_type": "stream",
     "text": [
      "Fin des tests.\n"
     ]
    }
   ],
   "source": [
    "from random import randint\n",
    "\n",
    "# ATTENTION !!!  randint(debut, fin) renvoie un entier relatif au pseudo-hasard\n",
    "# entre `debut` et `fin` compris. Et oui, `fin` n'est pas exclu.\n",
    "\n",
    "# Faisons 10**5 tests au hasard.\n",
    "for i in range(10**5):\n",
    "    n = randint(2, 10**9)\n",
    "    \n",
    "    bibi_nom = decimal_vers_bibi(n)\n",
    "    n_trouve = bibi_vers_decimal(bibi_nom)\n",
    "    \n",
    "    if n != n_trouve:\n",
    "        print(n, \"mal traduit ou mal recalculé !\")\n",
    "        break\n",
    "        \n",
    "print(\"Fin des tests.\")"
   ]
  },
  {
   "cell_type": "markdown",
   "metadata": {},
   "source": [
    "### Une version utilisant un dictionnaire\n",
    "\n",
    "#### Le code"
   ]
  },
  {
   "cell_type": "code",
   "execution_count": 2,
   "metadata": {},
   "outputs": [
    {
     "name": "stdout",
     "output_type": "stream",
     "text": [
      "123456789 se \"bibi-écrit\" : BIBAKIDODAHABA\n",
      "BIBAKIDODAHABA correspond à 123456789\n"
     ]
    }
   ],
   "source": [
    "# ------------------------------- #\n",
    "# -- DEFINITION DE LA FONCTION -- #\n",
    "# ------------------------------- #\n",
    "\n",
    "def bibi_vers_decimal_dico(bibi_ecriture):\n",
    "    bibi_associations = {\n",
    "        \"HO\": 0 , \"HA\": 1 , \"HE\": 2 , \"HI\": 3 ,\n",
    "        \"BO\": 4 , \"BA\": 5 , \"BE\": 6 , \"BI\": 7 ,\n",
    "        \"KO\": 8 , \"KA\": 9 , \"KE\": 10, \"KI\": 11,\n",
    "        \"DO\": 12, \"DA\": 13, \"DE\": 14, \"DI\": 15\n",
    "    }\n",
    "    \n",
    "    # On récupère les groupes de deux lettres dans le bibi-noms\n",
    "    # correspondants à un bibi-chiffre.\n",
    "    bibi_chiffres = []\n",
    "    \n",
    "    for i in range(0, len(bibi_ecriture), 2):\n",
    "        un_bibi_chiffre = bibi_ecriture[i: i + 2]\n",
    "        bibi_chiffres   = [un_bibi_chiffre] + bibi_chiffres\n",
    "        \n",
    "    \n",
    "    n_calcule = 0\n",
    "    \n",
    "    for puissance in range(len(bibi_chiffres)):\n",
    "        un_bibi_chiffre     = bibi_chiffres[puissance]\n",
    "        chiffre_hexadecimal = bibi_associations[un_bibi_chiffre]\n",
    "        \n",
    "        n_calcule += chiffre_hexadecimal * 16**puissance\n",
    "    \n",
    "    return n_calcule\n",
    "    \n",
    "\n",
    "# -------------------------------- #\n",
    "# -- UTILISATION DE LA FONCTION -- #\n",
    "# -------------------------------- #\n",
    "\n",
    "# Comme Jupyter garde en mémoire toutes les lignes de code précédemment\n",
    "# exécutées, nous pouvons réutiliser la fonction `decimal_vers_bibi` \n",
    "# implémentée précédemment. Ceci nous permet de facilment tester ce que\n",
    "# nous avons fait.\n",
    "\n",
    "n = 123456789\n",
    "\n",
    "bibi_nom = decimal_vers_bibi(n)\n",
    "n_trouve = bibi_vers_decimal_dico(bibi_nom)\n",
    "\n",
    "print(n, 'se \"bibi-écrit\" :', bibi_nom)\n",
    "print(bibi_nom, 'correspond à', n_trouve)"
   ]
  },
  {
   "cell_type": "markdown",
   "metadata": {},
   "source": [
    "#### Tests au pseudo-hasard\n",
    "\n",
    "Faisons des tests au hasard pour valider notre seconde fonction."
   ]
  },
  {
   "cell_type": "code",
   "execution_count": 51,
   "metadata": {},
   "outputs": [
    {
     "name": "stdout",
     "output_type": "stream",
     "text": [
      "Fin des tests.\n"
     ]
    }
   ],
   "source": [
    "from random import randint\n",
    "\n",
    "# ATTENTION !!!  randint(debut, fin) renvoie un entier relatif au pseudo-hasard\n",
    "# entre `debut` et `fin` compris. Et oui, `fin` n'est pas exclu.\n",
    "\n",
    "# Faisons 10**5 tests au hasard.\n",
    "for i in range(10**5):\n",
    "    n = randint(2, 10**9)\n",
    "    \n",
    "    bibi_nom = decimal_vers_bibi(n)\n",
    "    n_trouve = bibi_vers_decimal_dico(bibi_nom)\n",
    "    \n",
    "    if n != n_trouve:\n",
    "        print(n, \"mal traduit ou mal recalculé !\")\n",
    "        break\n",
    "        \n",
    "print(\"Fin des tests.\")"
   ]
  },
  {
   "cell_type": "markdown",
   "metadata": {},
   "source": [
    "#### Une astuce Pythonienne\n",
    "\n",
    "On peut obtenir très facilement le dictionaire `bibi_associations` à partir de la liste `bibi_notations`. Voici une première version."
   ]
  },
  {
   "cell_type": "code",
   "execution_count": 52,
   "metadata": {},
   "outputs": [
    {
     "name": "stdout",
     "output_type": "stream",
     "text": [
      "{'HE': 2, 'DE': 14, 'DO': 12, 'KO': 8, 'HO': 0, 'KI': 11, 'HI': 3, 'HA': 1, 'BA': 5, 'KE': 10, 'DA': 13, 'BI': 7, 'KA': 9, 'BE': 6, 'DI': 15, 'BO': 4}\n"
     ]
    }
   ],
   "source": [
    "bibi_notations = [\n",
    "    \"HO\", \"HA\", \"HE\", \"HI\",\n",
    "    \"BO\", \"BA\", \"BE\", \"BI\",\n",
    "    \"KO\", \"KA\", \"KE\", \"KI\",\n",
    "    \"DO\", \"DA\", \"DE\", \"DI\"\n",
    "]\n",
    "\n",
    "# Création d'un dictionnaire vide.\n",
    "bibi_associations = {}\n",
    "\n",
    "# Remplissage du dictionnaire.\n",
    "#\n",
    "# On utilise la fonction `enumerate` pour récupérer à la fois\n",
    "# une position et un élement dans la liste.\n",
    "for position, bibi_chiffre in enumerate(bibi_notations): \n",
    "    bibi_associations[bibi_chiffre] = position\n",
    "    \n",
    "# Vérification.\n",
    "print(bibi_associations)"
   ]
  },
  {
   "cell_type": "markdown",
   "metadata": {},
   "source": [
    "On peut faire encore mieux grâce à la syntaxe de Python."
   ]
  },
  {
   "cell_type": "code",
   "execution_count": 54,
   "metadata": {},
   "outputs": [
    {
     "name": "stdout",
     "output_type": "stream",
     "text": [
      "{'HE': 2, 'DE': 14, 'DO': 12, 'KO': 8, 'HO': 0, 'KI': 11, 'HI': 3, 'HA': 1, 'BA': 5, 'KE': 10, 'DA': 13, 'BI': 7, 'KA': 9, 'BE': 6, 'DI': 15, 'BO': 4}\n"
     ]
    }
   ],
   "source": [
    "bibi_notations = [\n",
    "    \"HO\", \"HA\", \"HE\", \"HI\",\n",
    "    \"BO\", \"BA\", \"BE\", \"BI\",\n",
    "    \"KO\", \"KA\", \"KE\", \"KI\",\n",
    "    \"DO\", \"DA\", \"DE\", \"DI\"\n",
    "]\n",
    "\n",
    "# Création du dictionnaire via une syntaxe proposée par Python.\n",
    "bibi_associations = {\n",
    "    bibi_chiffre: position\n",
    "    for position, bibi_chiffre in enumerate(bibi_notations)\n",
    "}\n",
    "\n",
    "# vérification.\n",
    "print(bibi_associations)"
   ]
  }
 ],
 "metadata": {
  "kernelspec": {
   "display_name": "Python 3",
   "language": "python",
   "name": "python3"
  },
  "language_info": {
   "codemirror_mode": {
    "name": "ipython",
    "version": 3
   },
   "file_extension": ".py",
   "mimetype": "text/x-python",
   "name": "python",
   "nbconvert_exporter": "python",
   "pygments_lexer": "ipython3",
   "version": "3.7.4"
  },
  "name": "list-function_cor.ipynb"
 },
 "nbformat": 4,
 "nbformat_minor": 1
}
