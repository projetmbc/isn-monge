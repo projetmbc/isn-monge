{
 "cells": [
  {
   "cell_type": "markdown",
   "metadata": {},
   "source": [
    "Problématique 12 : Programmation - Trier une liste\n",
    "===========================\n",
    "\n",
    "\n",
    "Aujourd'hui il va falloir résister à la tentation !\n",
    "------------------------------------------------\n",
    "\n",
    "Jouez bien le jeu en n'allant pas rechercher des indices ou des réponses sur Internet car les sujets abordés dans ce T.P. sont des grands classiques de la programmation."
   ]
  },
  {
   "cell_type": "markdown",
   "metadata": {},
   "source": [
    "Vocabulaire\n",
    "-----------\n",
    "\n",
    "***Dans le corrigé nous préciserons ce qui est communément appelé un tri par sélection, et aussi pour les plus rapides, nous indiquerons ce que l'on nomme habituellement le tri par insertion et le tri par fusion.***"
   ]
  },
  {
   "cell_type": "markdown",
   "metadata": {},
   "source": [
    "Tris de type \"par sélection\"\n",
    "----------------------------\n",
    "\n",
    "### De la vraie vie à l'algorithmique puis à la programmation\n",
    "\n",
    "En déménageant sur Chambéry, le professeur LAB a dû déplacer le contenu de sa bibliothèque. Malheureusement pour lui, l'ensemble de son encyclopédie numérotée du chocolat en 20 volumes a bien été placée sur son rayon par les déménageurs mais ces derniers n'ont pas pris le temps de ranger correctement les livres dans le bon ordre.\n",
    "\n",
    "Le professeur LAB s'étant cassé un bras décide d'utiliser son temps chômé pour remédier enfin à ce problème laissé de côté pendant plusieurs mois. Il décide de s'y prendre comme suit.\n",
    "\n",
    "1. Il va sélectionner le premier livre de son encyclopédie, celui numéroté $1$, et non $0$ comme en Python. \n",
    "\n",
    "1. Il prend ce livre et le place tout à gauche à sa bonne position. Pour cela, il suffit...\n",
    "\n",
    "   * de retirer le livre sélectionné,\n",
    "   * de déplacer vers la droite tous les autres livres à gauche du livre retiré,\n",
    "   * puis enfin de placer le livre numéro $1$ tout à gauche.\n",
    "\n",
    "1. Il cherche ensuite le livre numéroté $2$ parmi les livres après le premier bien rangé pour le placer à sa bonne deuxième position en partant de la gauche. La méthode est similaire au point précédent si ce n'est que l'on ne touche plus au premier livre qui est sa bonne position.\n",
    "\n",
    "1. Le professeur LAB poursuit alors le rangement avec le livre numéro $3$ en le cherchant parmi les livres après les deux premiers bien rangés, puis vient celui numéroté $4$ en le cherchant parmi les livres après les trois premiers bien rangés, etc..."
   ]
  },
  {
   "cell_type": "markdown",
   "metadata": {},
   "source": [
    "### Votre travail\n",
    "\n",
    "Voici ce que vous devez faire.\n",
    "\n",
    "1. Traduire et adapter la méthode utilisée par le professeur LAB en un algorithme triant, du plus petit élément au plus grand, une liste **quelconque** d'entiers. Autrement dit, l'algorithme doit fonctionner quelque soit la taille de la liste, et aussi si cette liste contient des entiers se répetant et/ou non forcément tous consécutifs une fois rangés. **Attention ! Pour M. LAB, la liste de taille égale à 20 ne contenait que des entiers consécutifs à ordonner.** **<span style=\"color:darkred;\">Si vous ne trouvez pas comment commencer, vous pouvez jeter un oeil à [cette animation](images/selection-sort.gif) <i>(image sous licence CC BY-SA 3.0 dont la source sera donnée dans le corrigé)</i>.</span>**\n",
    "\n",
    "1. Traduire l'algorithme en une fonction ``tri_lab_bc`` à l'aide du langage Python.\n",
    "\n",
    "1. Tester la fonction en l'appliquant à certaines listes particulières.\n",
    "\n",
    "1. Ajouter enfin des tests aléatoires *(voir les indications données dans le code ci-dessous)*.\n",
    "\n",
    "\n",
    "**Remarque :** l'énoncé étant assez ouvert, rien ne vous interdit de choisir une technique particulière d'algorithmique puis de programmation, et/ou d'utiliser d'autres fonctions intermédiaires dans votre code. Le tout est de respecter la méthode de tri."
   ]
  },
  {
   "cell_type": "code",
   "execution_count": null,
   "metadata": {},
   "outputs": [],
   "source": [
    "# --------------------- #\n",
    "# -- À VOUS DE JOUER -- #\n",
    "# --------------------- #\n",
    "\n",
    "# tri_lab_bc : [tri] du professeur [LAB] au [b]ras [c]assé.\n",
    "\n",
    "def tri_lab_bc(une_liste):\n",
    "    ...\n",
    "\n",
    "\n",
    "# --------------- #\n",
    "# -- VOS TESTS -- #\n",
    "# --------------- #\n",
    "\n",
    "import random\n",
    "\n",
    "# Étant donnée une liste ``une_liste``, l'utilisation de\n",
    "# ``random.shuffle(une_liste)`` a pour effet de \"mélanger\"\n",
    "# au hasard la liste."
   ]
  },
  {
   "cell_type": "markdown",
   "metadata": {},
   "source": [
    "Tester la fonction non plus sur une liste d'entiers mais sur une liste de chaînes de caractères. Comment Python réagit-il ? En cas de problème, sauriez-vous améliorer votre fonction ``tri_lab_bc`` pour qu'elle fonctionne aussi avec une liste de chaînes de caractères ?"
   ]
  },
  {
   "cell_type": "code",
   "execution_count": null,
   "metadata": {},
   "outputs": [],
   "source": [
    "# ATTENTION ! \n",
    "#\n",
    "# La cellule précédente contenant le code de la fonction ``tri_lab_bc``\n",
    "# a dû étre activée juste avant !\n",
    "\n",
    "# ---------------------- #\n",
    "# -- À VOUS DE TESTER -- #\n",
    "# ---------------------- #\n",
    "\n",
    "..."
   ]
  },
  {
   "cell_type": "markdown",
   "metadata": {},
   "source": [
    "Pour les plus rapides - Deux autres types de tris... voire plus\n",
    "------------------------------------------------------------\n",
    "\n",
    "### Tris de type \"par insertion\"\n",
    "\n",
    "Reprendre la démarche suivie pour les tris de type \"par sélection\" avec le cas concret suivant. Les avertissements sont identiques à ceux pour les tris de type \"par sélection\". \n",
    "\n",
    "\n",
    "La convalescence du professeur LAB étant finie, il peut s'adonner à son activité favorite, à savoir jouer aux cartes *(mais avec un jeu utilisant la numérotation bibi-binaire mais peu importe)*. \n",
    "\n",
    "Le professeur range ses cartes de la façon suivante.\n",
    "\n",
    "1. Il range toujours les cartes par catégorie de gauche à droite dans l'ordre \"carreau\", \"pic\", \"coeur\" puis \"treffle\".\n",
    "\n",
    "1. Dans chaque catégorie, les cartes sont rangées dans l'ordre croissant pour les valeurs chiffrées de $2$ à $10$, puis viennent le valet, la dame, le roi et enfin l'as.\n",
    "\n",
    "En fait ceci n'est pas très important mais cela montre qu'il y a plusieurs façons de ranger des objets. **<span style=\"color:darkred;\">Dans la suite, vous pouvez considérer que le jeu de cartes est constitué de cartes portant toutes des numéros naturels distincts.</span>**"
   ]
  },
  {
   "cell_type": "markdown",
   "metadata": {},
   "source": [
    "Devant répondre au téléphone lors de la distribution des cartes, le professeur LAB doit ranger toutes ses cartes en main et non au fur et à mesure comme à son habitude *(et comme à l'habitude de beaucoup de joueurs)*. \n",
    "\n",
    "1. Dans sa main, il part de la deuxième carte à partir de la gauche. Si cette carte doit être rangée avant la première il échange leurs places respectives.\n",
    "\n",
    "1. Vient ensuite le cas de la troisième carte qu'il insère à la bonne position parmi les trois cartes tout à gauche. Notons que comme les deux premières cartes sont bien rangées, il suffit de déplacer la troisième carte vers la gauche tant qu'à sa gauche se trouve une carte de rang plus élevé. \n",
    "\n",
    "1. Pour la carte à la quatrième position, la démarche reste la même. Toujours en notant que les trois premières cartes sont bien rangées, il suffit de déplacer la quatrième carte vers la gauche tant qu'à sa gauche se trouve une carte de rang plus élevé. \n",
    "\n",
    "1. Le professeur continue ainsi jusqu'à bien placer sa carte la plus à droite dans sa main initiale.\n",
    "\n",
    "\n",
    "**<span style=\"color:darkred;\">Si vous ne trouvez pas comment commencer, vous pouvez jeter un oeil à [cette animation](images/insertion-sort.gif) <i>(image sous licence CC BY-SA 3.0 dont la source sera donnée dans le corrigé)</i>.</span>**\n",
    "\n",
    "\n",
    "**Remarque :** les tris de type \"par insertion\" sont intéressants car ils s'adaptent facilement aux cas de données à trier reçues les unes après les autres et non toutes d'un coup. Dans la vraie vie, imaginons avoir un tas de livres sur une table que nous devons ranger dans une bibliothèque. Dans ce cas, on peut les ranger les uns après les autres assez efficacement grâce à un tri de type \"par insertion\". "
   ]
  },
  {
   "cell_type": "code",
   "execution_count": null,
   "metadata": {},
   "outputs": [],
   "source": [
    "# --------------------- #\n",
    "# -- À VOUS DE JOUER -- #\n",
    "# --------------------- #\n",
    "\n",
    "def tri_insertion(une_liste):\n",
    "    ...\n",
    "\n",
    "\n",
    "# --------------- #\n",
    "# -- VOS TESTS -- #\n",
    "# --------------- #\n",
    "\n",
    "..."
   ]
  },
  {
   "cell_type": "markdown",
   "metadata": {},
   "source": [
    "### Tris de type \"par fusion\"\n",
    "\n",
    "Reprendre la démarche suivie pour les tris de type \"par sélection\" avec le cas concret suivant. Les avertissements sont identiques à ceux pour les tris de type \"par sélection\". \n",
    "\n",
    "\n",
    "La partie de cartes étant finie, le professeur LAB propose pour détendre l'atmosphère d'écouter un peu de musique algorithmique dans son salon qui contient une très grande table basse d'époque. Malheureusement pour lui, ses $256$ CDs sont disposés totalement en vrac sur cette table suite au passage de son petit garçon de deux ans *(pour ceux qui ont oublié ce qu'est un CD, se rendre sur Wikipédia par exemple)*. Le professeur LAB propose à ses sept amis de l'aider à mettre de l'ordre dans ce réel fatras musico-numérique en rangeant ses CDs qui sont numérotés sur la tranche par leur date d'édition. Voici sa méthode.\n",
    "\n",
    "1. Faire deux tas contenant exactement le même nombre de CDs, soit $128$ ici. Concrètement il suffit de faire des piles de même hauteur sans chercher à compter les CDs.\n",
    "\n",
    "1. Diviser chacun des deux tas en deux sous-tas contenant exactement le même nombre de CDs, soit $64$ ici.\n",
    "\n",
    "1. On continue ainsi jusqu'à n'avoir que des CDs isolés. Combien d'étapes a-t-il fallu pour arriver à ce stade ? \n",
    "\n",
    "1. On aligne tous les CDs isolés, ce qui est faisable sur la table basse d'époque.\n",
    "\n",
    "1. Le professeur demande alors à chacun de s'occuper de deux CDs consécutifs pour les mettre sur leur tranche en les ordonnant de gauche à droite. Il va falloir traiter tous les couples de CDs : chacun va ordonner $\\frac{128}{8} = 16$ couples de CDs. \n",
    "\n",
    "1. Ensuite, chacun prend deux piles bien rangées de couples de CDs pour former une série bien ordonnée de quatre CDs. Chacun va s'occuper de $\\frac{64}{8} = 8$ fusions de couples de CDs. Étant donné que chaque couple est bien rangé, le travail n'est pas trop complexe.\n",
    "\n",
    "1. On poursuit ensuite jusqu'à n'avoir qu'une grande rangée de $256$ CDs tous bien rangés.\n",
    "\n",
    "\n",
    "L'histoire ne dit pas si les amis du professeur lui en ont voulu longtemps pour cette activité de rangement fort passionnante.\n",
    "\n",
    "\n",
    "**Remarque :** les lycées proposant des formations post-bac devaient courant avril-mai trier à la main des dossiers d'élèves avant de pouvoir les analyser en vue d'une intégration à l'une des formations proposées. L'utilisation d'un tri de type \"par fusion\" pouvait s'avérer très utile dans ce cas. \n",
    "\n",
    "\n",
    "**Hors-sujet :** si programmer de la musique vous attire, **<span style=\"color:darkred;\">vous pouvez essayer en dehors du cours le langage de programmation [Sonic Pi](http://sonic-pi.net)</span>**."
   ]
  },
  {
   "cell_type": "code",
   "execution_count": null,
   "metadata": {},
   "outputs": [],
   "source": [
    "# --------------------- #\n",
    "# -- À VOUS DE JOUER -- #\n",
    "# --------------------- #\n",
    "\n",
    "def tri_fusion(une_liste):\n",
    "    ...\n",
    "\n",
    "\n",
    "# --------------- #\n",
    "# -- VOS TESTS -- #\n",
    "# --------------- #\n",
    "\n",
    "..."
   ]
  },
  {
   "cell_type": "markdown",
   "metadata": {},
   "source": [
    "#### Et ce n'est pas fini...\n",
    "\n",
    "[Cette page](http://www.sorting-algorithms.com) propose divers tris tous appliqués à différents types *\"intéressants\"* de listes. Si le sujet vous intéresse il y a là de quoi s'amuser à programmer certains tris."
   ]
  }
 ],
 "metadata": {
  "kernelspec": {
   "display_name": "Python 3",
   "language": "python",
   "name": "python3"
  },
  "language_info": {
   "codemirror_mode": {
    "name": "ipython",
    "version": 3
   },
   "file_extension": ".py",
   "mimetype": "text/x-python",
   "name": "python",
   "nbconvert_exporter": "python",
   "pygments_lexer": "ipython3",
   "version": "3.7.7"
  },
  "name": "prog-list-sort.ipynb"
 },
 "nbformat": 4,
 "nbformat_minor": 1
}
