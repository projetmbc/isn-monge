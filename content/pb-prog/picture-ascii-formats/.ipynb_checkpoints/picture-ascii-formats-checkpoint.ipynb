{
 "cells": [
  {
   "cell_type": "markdown",
   "metadata": {},
   "source": [
    "Problématique 7 : Programmation - Images (Formats ASCII)\n",
    "=====================\n",
    "\n",
    "Un pixel, c'est quoi ?\n",
    "---------------------\n",
    "\n",
    "Si besoin, faire une recherche rapide sur internet. En particulier, retenir l'origine du mot pixel car c'est très éclairant !"
   ]
  },
  {
   "cell_type": "markdown",
   "metadata": {},
   "source": [
    "Pixeliser à la main\n",
    "------------------\n",
    "\n",
    "Voici les consignes pour cet exercice.\n",
    "\n",
    "1. Tracer à la règle une grille de 15 cases sur 20. \n",
    "1. Par dessus cette grille, tarcer soit un cercle soit un triangle.\n",
    "1. Colorier en noir toutes les cases traversées par les traits du dessin.\n",
    "1. Créer un fichier au format PBM (Portable Bitmap) nommé `alamain.pbm` en utilisant [Notepad++](https://notepad-plus-plus.org/fr/) et en copiant-collant le contenu de la cellule ci-après.\n",
    "1. Remplacer `L` et `H` par les valeurs correspondant à la grille \"papier\", puis suivant que la case est blanche ou noire sur la grille, mettre un zéro (blanc) ou un un (noir) dans le fichier `alamain.pbm`. Rappelons que la lecture naturelle correspond à l'écriture dans la fichier. **Ne pas mettre plus de 70 caractères par ligne !**\n",
    "1. Avec [IrfanView](http://www.irfanview.com), ouvrir le fichier `alamain.pbm` pour voir apparaître votre oeuvre pour juger de votre génie."
   ]
  },
  {
   "cell_type": "raw",
   "metadata": {},
   "source": [
    "P1   # Image en noir et blanc\n",
    "L H  # Largeur = L Hauteur = H\n",
    "# Vient ensuite votre codage."
   ]
  },
  {
   "cell_type": "markdown",
   "metadata": {},
   "source": [
    "Modifier : couleurs, niveaux de gris mais aussi du noir et blanc\n",
    "------------------------------------------------------------\n",
    "\n",
    "### Travail préliminaire\n",
    "\n",
    "L'image suivante admet pour chemin `images/logo_python.jpg` relativement au présent document.\n",
    "\n",
    "![Logo Python](images/logo_python.jpg)\n",
    "\n",
    "Le dossier propose aussi une version au format PPM (Portable Pixmap) dont le chemin relatif est `images/logo_python.ppm` [téléchargeable ici](images/logo_python.ppm) via un clic droit.\n",
    "\n",
    "\n",
    "**Note :** le format PPM est pris en compte par le langage HTML utilisé pour mettre en forme le document que vous lisez mais la comparaison des tailles des fichiers `logo_python.jpg` et `logo_python.ppm` montre qu'il vaut mieux utiliser la version `jpg` pour JPEG qui est bien moins lourde à télécharger."
   ]
  },
  {
   "cell_type": "markdown",
   "metadata": {},
   "source": [
    "### Le format PPM (Portable Pixmap)\n",
    "\n",
    "Rappeler les spécifications utilisées dans les premières lignes d'un fichier PPM, et aussi la façon d'indiquer la couleur pour chaque pixel. Ouvrir si besoin le fichier `logo_python.ppm` via Notepad++. \n",
    "\n",
    "**Question subsidiaire.** Avec quel logiciel l'image `logo_python.ppm` a-t-elle été produite ?"
   ]
  },
  {
   "cell_type": "markdown",
   "metadata": {},
   "source": [
    "### Squelette Python\n",
    "\n",
    "Via l'éditeur Spyder, un peu lent au démarrage, créer un fichier `modifier_ppm.py` ayant le contenu donné dans la cellule suivante, puis créer un sous-dossier `images` où placer `logo_python.ppm`.\n",
    "\n",
    "\n",
    "** Avertissement 1 :** nul besoin dans un premier temps de chercher à comprendre le code de la fonction `modifie_ppm`, cette dernière pouvant être utilisée comme une boîte noire. Des explications seront données durant la prochaine séance. **Par contre, vous devez comprendre le fonctionnement de tout le reste du code !**\n",
    "\n",
    "\n",
    "** Avertissement 2 :** le code suivant n'est pas des plus adroits mais il a le mérite de ne pas être trop technique. Le corrigé apportera des précisisons techniques sur la bonne façon de procéder avec des fichiers."
   ]
  },
  {
   "cell_type": "code",
   "execution_count": null,
   "metadata": {
    "collapsed": true
   },
   "outputs": [],
   "source": [
    "# ------------------- #\n",
    "# -- NOS FONCTIONS -- #\n",
    "# ------------------- #\n",
    "\n",
    "def inverse(r, g, b):\n",
    "    \"\"\"\n",
    "ATTENTION !!! Nous travaillons avec des couleurs RGB codées de 0 à 255 compris\n",
    "et nous devons renvoyer du texte à mettre dans un fichier ASCII.  \n",
    "    \"\"\"\n",
    "    r_inverse = 255 - r\n",
    "    g_inverse = 255 - g\n",
    "    b_inverse = 255 - b\n",
    "\n",
    "    # \\n : caractère indiquant un retour à la ligne.\n",
    "    # {0} , {1} et {2} combinés avec la méthode `format`des chaînes de caractères\n",
    "    # indiquent la 1ère, la 2ème et la 3ème variable utilisée pour compléter le\n",
    "    # texte.\n",
    "    return \"{0}\\n{1}\\n{2}\".format(r_inverse, g_inverse, b_inverse)\n",
    "\n",
    "\n",
    "def decalage_gauche(r, g, b):\n",
    "    \"\"\"\n",
    "ATTENTION !!! Nous travaillons avec des couleurs RGB codées de 0 à 255 compris\n",
    "et nous devons renvoyer du texte à mettre dans un fichier ASCII.\n",
    "    \"\"\"\n",
    "    return \"{0}\\n{1}\\n{2}\".format(b, r, g)\n",
    "\n",
    "\n",
    "def modifie_ppm(\n",
    "    chemin_image, \n",
    "    chemin_nelle_image, \n",
    "    type_image,\n",
    "    convertisseur\n",
    "):\n",
    "    \"\"\"\n",
    "ATTENTION !!! Pour la lecture d'image, nous ne prenons en compte que des images\n",
    "PPM produites via Gimp à la date du 9 décembre 2015. Nous faisons cela pour\n",
    "simplifier au maximum le code utilisé. \n",
    "    \"\"\"\n",
    "    if type_image == \"noir-blanc\":\n",
    "        nouvelles_lignes = [\"P1\"]\n",
    "        \n",
    "    elif type_image == \"gris\":\n",
    "        nouvelles_lignes = [\"P2\"]\n",
    "        \n",
    "    elif type_image == \"couleur\":\n",
    "        nouvelles_lignes = [\"P3\"]\n",
    "\n",
    "\n",
    "    # Ouverture d'un fichier en mode lecture, soit \"reading\" en anglais, et nous\n",
    "    # avons choisi le nom de variable `fichier` pour le fichier.\n",
    "    with open(file = chemin_image, mode = \"r\") as fichier:\n",
    "        lignes = fichier.readlines()\n",
    "\n",
    "        # Attention ! Les lignes renvoyées contenant des retours à la ligne, nous\n",
    "        # utilisons la méthode `strip` qui pour retire ces retours àa la lignes.\n",
    "        nouvelles_lignes.append(lignes[2].strip())\n",
    "        \n",
    "        if type_image in [\"gris\", \"couleur\"]:\n",
    "            nouvelles_lignes.append(\"255\")\n",
    "            \n",
    "        for i in range(3, len(lignes) - 1, 3):\n",
    "            r = lignes[i].strip()\n",
    "            g = lignes[i + 1].strip()\n",
    "            b = lignes[i + 2].strip()\n",
    "            \n",
    "            r, g, b = int(r), int(g), int(b)\n",
    "\n",
    "            nelle_couleur = convertisseur(r, g, b)\n",
    "            \n",
    "            nouvelles_lignes.append(nelle_couleur)\n",
    "            \n",
    "            \n",
    "    # Ouverture d'un fichier en mode écriture, soit \"writing\" en anglais        \n",
    "    with open(file = chemin_nelle_image, mode =\"w\") as nouveau_fichier:\n",
    "        # La méthode `join` permet de joindre des textes contenus dans une liste en\n",
    "        # les éparant ici par le carctère \"\\n\".\n",
    "        texte = '\\n'.join(nouvelles_lignes)\n",
    "        \n",
    "        nouveau_fichier.write(texte)\n",
    "\n",
    "    \n",
    "    # Un petit message pour savoir que le travail a été fait.\n",
    "    print(\"Fichier ``{0}`` créé sans problème apparant.\".format(chemin_nelle_image))\n",
    "\n",
    "    \n",
    "# ----------------- #\n",
    "# -- APPLICATION -- #\n",
    "# ----------------- #\n",
    "\n",
    "# Les chemins peuvent poser problème ! \n",
    "# Ceci sera réglé ensemble en classe.\n",
    "\n",
    "modifie_ppm(\n",
    "    chemin_image       = \"images/logo_python.ppm\", \n",
    "    chemin_nelle_image = \"images/logo_python_inverse.ppm\",\n",
    "    type_image         = \"couleur\",\n",
    "    convertisseur      = inverse\n",
    ")\n",
    "\n",
    "modifie_ppm(\n",
    "    chemin_image       = \"images/logo_python.ppm\", \n",
    "    chemin_nelle_image = \"images/logo_python_decalage_gauche.ppm\",\n",
    "    type_image         = \"couleur\",\n",
    "    convertisseur      = decalage_gauche\n",
    ")"
   ]
  },
  {
   "cell_type": "markdown",
   "metadata": {},
   "source": [
    "### Une image pour chaque composante RGB\n",
    "\n",
    "Commencer par ajouter au code dans votre fichier `modifier_ppm.py` une fonction `juste_rouge` permettant via la fonction `modifie_ppm` d'obtenir une image produite en mettant toutes les composantes vertes et bleues à zéro et en gardant inchangées toutes celles rouges. De façon analogue ajouter deux fonctions `juste_vert` et `juste_bleu`."
   ]
  },
  {
   "cell_type": "markdown",
   "metadata": {},
   "source": [
    "### De la couleur aux niveaux de gris\n",
    "\n",
    "Nous avons vu en classe que le codage RGB des gris s'obtenait bien via $(R, G, B) = (n, n, n)$ où le naturel $n$ vérifie $0 \\leq n \\leq 255$. Proposer et implémenter une tactique permettant d'obtenir une image en niveaux de gris, ce que l'on appelle communément, à tors, une image en noir et blanc *(nous allons voir qu'il y a bien un abus de langage juste après)*. Créer une fonction `niveau_gris` à utiliser via la fonction `modifie_ppm`."
   ]
  },
  {
   "cell_type": "markdown",
   "metadata": {},
   "source": [
    "### De la couleur au \"vrai\" noir et blanc\n",
    "\n",
    "Pour avoir du noir et blanc, nous devons définir un seuil à partir duquel afficher un pixel en noir, et sinon le pixel sera blanc. En vous inspirant de la fonction `niveau_gris`, créer une nouvelle fonction `noir_blanc` qui une fois appelée via `modifie_ppm` permettra d'obtenir une image en pur noir et blanc. Que pensez-vous de la qualité de l'image ainsi obtenue ?"
   ]
  },
  {
   "cell_type": "markdown",
   "metadata": {},
   "source": [
    "Créer des images\n",
    "---------------\n",
    "\n",
    "### Squelette Python\n",
    "\n",
    "Le code ci-dessous vous donne un squelette qui permettant de répondre aux questions qui vont suivre. Copier et coller ce code dans un fichier nommé `creer_ppm.py`."
   ]
  },
  {
   "cell_type": "code",
   "execution_count": null,
   "metadata": {
    "collapsed": true
   },
   "outputs": [],
   "source": [
    "# ------------------- #\n",
    "# -- NOS FONCTIONS -- #\n",
    "# ------------------- #\n",
    "\n",
    "def monochrome_whiteman_ppm(chemin_image):\n",
    "    lignes = [\n",
    "        \"P3\",\n",
    "        \"200 200\",\n",
    "        \"255\"\n",
    "    ]\n",
    "    \n",
    "    for y in range(200):\n",
    "        for x in range(200):\n",
    "            # Une ligne par pixel !\n",
    "            lignes.append(\"255 255 255\")\n",
    "            \n",
    "    \n",
    "    with open(file = chemin_image, mode =\"w\") as fichier:\n",
    "        texte = '\\n'.join(lignes)\n",
    "        \n",
    "        fichier.write(texte)\n",
    "        \n",
    "    \n",
    "    print(\"Fichier ``{0}`` créé sans problème apparant.\".format(chemin_image))\n",
    "\n",
    "    \n",
    "# ----------------- #\n",
    "# -- APPLICATION -- #\n",
    "# ----------------- #\n",
    "\n",
    "# Les chemins peuvent poser problème ! \n",
    "# Ceci sera réglé ensemble en classe.\n",
    "\n",
    "monochrome_whiteman_ppm(\"images/whiteman.ppm\")"
   ]
  },
  {
   "cell_type": "markdown",
   "metadata": {},
   "source": [
    "### D'autres monochromes sont possibles...\n",
    "\n",
    "Fabriquer une nouvelle fonction `monochrome_redman_ppm` pour obtenir un monochrome \"rouge pur\", puis ensuite une fonction plus générale `monochrome_rgb_ppm` pour des monochromes prenant les arguments suivants :\n",
    "\n",
    "1. Le chemin de l'image à fabriquer.\n",
    "1. La couleur au format RGB.\n",
    "1. Les dimensions de l'image fabriquée"
   ]
  },
  {
   "cell_type": "markdown",
   "metadata": {},
   "source": [
    "### Le drapeau français\n",
    "\n",
    "Faire une fonction `drapeau_france` qui dessine le drapeau français. Pour le bleu vous utiliserez $(R,G,b) = (0, 21, 149)$ et pour le rouge $(R,G,b) = (235, 14, 58)$.\n",
    "\n",
    "**Note :** les valeurs RGB ont été obtenues via le logiciel pour Mac nommé Just Color Picker et les informations trouvées sur Wikipédia."
   ]
  },
  {
   "cell_type": "markdown",
   "metadata": {},
   "source": [
    "### Tracés géométriques simples\n",
    "\n",
    "#### Un signe plus $+$\n",
    "\n",
    "Programmer une fonction `plus_ppm` permettant de produire une image sur un fond gris clair, de votre choix, de dimensions $101$ sur $101$ avec un trait vertical et un autre horizontal de trois pixels d'épaisseur de telle façon que chaque trait soit parfaitement au milieu. Pourquoi $101$ est-il un meilleur choix que $100$ ?"
   ]
  },
  {
   "cell_type": "markdown",
   "metadata": {},
   "source": [
    "#### Un signe fois $\\times$\n",
    "\n",
    "Coder une fonction `croix_ppm` produisant une image blanche carrée contenant une croix \"bleu pur\" formée de deux diagonales de l'image."
   ]
  },
  {
   "cell_type": "markdown",
   "metadata": {},
   "source": [
    "Pour les plus rapides <a id=\"pourlesrapides\"></a>\n",
    "--------------------"
   ]
  },
  {
   "cell_type": "markdown",
   "metadata": {},
   "source": [
    "### Cercle\n",
    "\n",
    "Inventer une fonction permettant de fabriquer une image blanche carrée de dimension $120$ et qui contient un cercle visible centré au \"milieu\" de l'image et de rayon $50$ avec une épaisseur de trait de un pixel. Que constate-t-on ? Comment remédier à cela ?\n",
    "\n",
    "\n",
    "**Indication :** le cercle de rayon $R$ et de centre $\\Omega(x_\\Omega , y_\\Omega)$ est l'ensemble des points $M(x , y)$ tels que $(x - x_\\Omega)^2 + (y - y_\\Omega)^2 = R^2$."
   ]
  },
  {
   "cell_type": "markdown",
   "metadata": {},
   "source": [
    "### Disque : le drapeau japonnais\n",
    "\n",
    "Faire une fonction pour obtenir le drapeau du Japon qui est un disque plein rouge de composantes $(R,G,b)$ valant $(174, 41, 63)$ sur un fond blanc *(la valeur RGB a été obtenue via le logiciel pour Mac nommé Just Color Picker et les informations trouvées sur Wikipédia)*.\n",
    "\n",
    "**Indication :** un disque de rayon $R$ et de centre $\\Omega(x_\\Omega , y_\\Omega)$ est l'ensemble des points $M(x , y)$ tels que $(x - x_\\Omega)^2 + (y - y_\\Omega)^2 \\leq R^2$."
   ]
  },
  {
   "cell_type": "markdown",
   "metadata": {},
   "source": [
    "### Besoin d'un segment passant par deux points donnés ? Pas si simple....\n",
    "\n",
    "Élaborer une fonction `segment_ppm` qui recoit en arguments les coordonnées graphiques, avec la convention de la machine à écrire, de deux points $A$ et $B$, et qui produit une image blanche de largeur $200$ et de hauteur $300$ avec par dessus le segment $[AB]$ tracé en \"bleu pur\". Que penser de la qualité du tracé obtenu ? Proposer une tactique pour corriger d'éventuels défauts."
   ]
  },
  {
   "cell_type": "markdown",
   "metadata": {},
   "source": [
    "### Des dégradés, ou comment mêler maths et couleurs\n",
    "\n",
    "Créer une fonction pour obtenir un dégradé comme celui ci-dessous sachant que l'image ne contient que des\n",
    "pixels ayant des composantes vertes et bleues nulles.\n",
    "\n",
    "![Dégradé Rouge](images/degrade_rouge.png)\n",
    "\n",
    "Créer d'autres type de dégradés utilisant par exemple plusieurs composantes RGB, ou bien paramétrables avec une couleur de départ et une autre d'arrivée, ou bien aussi avec une couleur de départ, une autre intermédiaire et une d'arrivée."
   ]
  },
  {
   "cell_type": "markdown",
   "metadata": {},
   "source": [
    "Pour les experts : des transformations (pas si) simples\n",
    "------------------------------\n",
    "\n",
    "### Comme dans un mirroir\n",
    "\n",
    "Faire une fonction `logo_narcisse.ppm` fabriquant le logo Python \"obtenu\" via une symétrie axiale verticale relativement au côté droit de l'image initiale."
   ]
  },
  {
   "cell_type": "markdown",
   "metadata": {},
   "source": [
    "### Sans dessus dessous\n",
    "\n",
    "Faire une fonction `logo_poirier.ppm` qui permette d'obtenir le logo Python en version \"tête en bas\", autrement dit l'image obtenue en faisant faire un demi-tour au logo Python."
   ]
  },
  {
   "cell_type": "markdown",
   "metadata": {},
   "source": [
    "### Zoom pixelisé\n",
    "\n",
    "Faire une fonction `logo_pix_zoom.ppm` qui fabrique une image ayant exactement les mêmes dimensions que notre logo Python mais dans laquelle un pixel du logo d'origine utilisera quatre pixels sur quatre dans la nouvelle image. Ceci implique que l'on ne pourra représenter qu'une fraction du logo. Au passage, laquelle ? "
   ]
  },
  {
   "cell_type": "markdown",
   "metadata": {},
   "source": [
    "### Miniaturiser\n",
    "\n",
    "Faire une fonction `logo_demi.ppm` qui fabrique une version deux fois plus petites du logo Python."
   ]
  },
  {
   "cell_type": "markdown",
   "metadata": {},
   "source": [
    "### Rotation de $90$ dégrés, une opération courante pour les images\n",
    "\n",
    "Faire une fonction produisant le logo Python tourné de $90$ dégrés dans le sens anti-horaire."
   ]
  }
 ],
 "metadata": {
  "kernelspec": {
   "display_name": "Python 3",
   "language": "python",
   "name": "python3"
  },
  "language_info": {
   "codemirror_mode": {
    "name": "ipython",
    "version": 3
   },
   "file_extension": ".py",
   "mimetype": "text/x-python",
   "name": "python",
   "nbconvert_exporter": "python",
   "pygments_lexer": "ipython3",
   "version": "3.7.5"
  },
  "name": "picture-ascii-formats.ipynb"
 },
 "nbformat": 4,
 "nbformat_minor": 1
}
