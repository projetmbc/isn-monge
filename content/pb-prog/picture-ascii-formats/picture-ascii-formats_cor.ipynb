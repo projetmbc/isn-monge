{
 "cells": [
  {
   "cell_type": "markdown",
   "metadata": {},
   "source": [
    "Problématique 7 : Programmation - Images (Formats ASCII) - Corrigé\n",
    "==========================\n",
    "\n",
    "Note technique uniquement pour les curieux\n",
    "----------------------------------------\n",
    "\n",
    "Comme Jupyter est fâché avec les formats exotiques que sont le PBM, le PGM et le PPM, et comme de plus ces formats utilisent beaucoup de place mémoire, il a fallu convertir au format JPEG toutes les images produites par les programmes ci-dessous pour pouvoir les insérer dans ce document. Ceci a été fait sans trop difficulté grâce au formidable couteau suisse de l'image qu'est [ImageMagick](http://www.imagemagick.org/script/index.php) : les commandes utilisées dans un terminal, ou une invite de commandes, sont soit `mogrify -format jpg *.ppm` , soit `mogrify -format jpg *.pgm` , soit  `mogrify -format jpg *.pbm` suivant le type de fichiers à convertir."
   ]
  },
  {
   "cell_type": "markdown",
   "metadata": {},
   "source": [
    "Avertissement\n",
    "------------\n",
    "\n",
    "Toutes les images visibles sur cette page sont au format JPEG, un format qui compresse avec perte. Ceci induit des phénomènes de bruits ou d'artefacts qui font apparaître des pixels non présents dans l'image de départ. même si cela est généralement peu perceptible, il faut se méfier des rendus ainsi obtenus."
   ]
  },
  {
   "cell_type": "markdown",
   "metadata": {},
   "source": [
    "Modifier : couleurs, niveaux de gris mais aussi du noir et blanc\n",
    "------------------------------------------------------------\n",
    "\n",
    "### Un code complet tout en un"
   ]
  },
  {
   "cell_type": "code",
   "execution_count": 80,
   "metadata": {},
   "outputs": [
    {
     "name": "stdout",
     "output_type": "stream",
     "text": [
      "Fichier ``images/modification/logo_python_inverse.ppm`` créé sans problème apparant.\n",
      "Fichier ``images/modification/logo_python_decalage_gauche.ppm`` créé sans problème apparant.\n",
      "Fichier ``images/modification/logo_python_rouge.ppm`` créé sans problème apparant.\n",
      "Fichier ``images/modification/logo_python_vert.ppm`` créé sans problème apparant.\n",
      "Fichier ``images/modification/logo_python_bleu.ppm`` créé sans problème apparant.\n",
      "Fichier ``images/modification/logo_python_gris.pgm`` créé sans problème apparant.\n",
      "Fichier ``images/modification/logo_python_noir_blanc.pbm`` créé sans problème apparant.\n",
      "Fichier ``images/modification/logo_python_noir_blanc_bis.pbm`` créé sans problème apparant.\n"
     ]
    }
   ],
   "source": [
    "# ----------------------------- #\n",
    "# -- FONCTIONS DES EXERCICES -- #\n",
    "# ----------------------------- #\n",
    "\n",
    "def juste_rouge(r, g, b):\n",
    "    return \"{0}\\n{1}\\n{2}\".format(r, 0, 0)\n",
    "\n",
    "def juste_vert(r, g, b):\n",
    "    return \"{0}\\n{1}\\n{2}\".format(0, g, 0)\n",
    "\n",
    "def juste_bleu(r, g, b):\n",
    "    return \"{0}\\n{1}\\n{2}\".format(0, 0, b)\n",
    "\n",
    "\n",
    "def niveau_gris(r, g, b):\n",
    "    # Une simple moyenne et le tour est joué...\n",
    "    m = (r + g + b) // 3\n",
    "\n",
    "    return str(m)\n",
    "\n",
    "\n",
    "def noir_blanc(r, g, b):\n",
    "    m = (r + g + b) // 3\n",
    "\n",
    "    # Du blanc s'il y a \"suffisamment\" de gris.\n",
    "    if m > 125:\n",
    "        noirblanc = 0\n",
    "    \n",
    "    # Du noir sinon.\n",
    "    else:\n",
    "        noirblanc = 1\n",
    "        \n",
    "    return str(noirblanc)\n",
    "\n",
    "\n",
    "def noir_blanc_bis(r, g, b):\n",
    "    m = (r + g + b) // 3\n",
    "\n",
    "    # Du blanc s'il y a \"suffisamment\" de gris.\n",
    "    if m > 195:\n",
    "        noirblanc = 0\n",
    "    \n",
    "    # Du noir sinon.\n",
    "    else:\n",
    "        noirblanc = 1\n",
    "        \n",
    "    return str(noirblanc)\n",
    "\n",
    "\n",
    "# ------------------------------------ #\n",
    "# -- FONCTIONS PROPOSÉES EN EXEMPLE -- #\n",
    "# ------------------------------------ #\n",
    "\n",
    "def inverse(r, g, b):\n",
    "    r_inverse = 255 - r\n",
    "    g_inverse = 255 - g\n",
    "    b_inverse = 255 - b\n",
    "\n",
    "    return \"{0}\\n{1}\\n{2}\".format(r_inverse, g_inverse, b_inverse)\n",
    "\n",
    "\n",
    "def decalage_gauche(r, g, b):\n",
    "    return \"{0}\\n{1}\\n{2}\".format(b, r, g)\n",
    "\n",
    "\n",
    "def modifie_ppm(\n",
    "    chemin_image, \n",
    "    chemin_nelle_image, \n",
    "    type_image,\n",
    "    convertisseur\n",
    "):\n",
    "    \"\"\"\n",
    "ATTENTION !!! Pour la lecture d'image, nous ne prenons en compte que des images\n",
    "PPM produites via Gimp à la date du 9 décembre 2015. Nous faisons cela pour\n",
    "simplifier au maximum le code utilisé. \n",
    "    \"\"\"\n",
    "    if type_image == \"noir-blanc\":\n",
    "        nouvelles_lignes = [\"P1\"]\n",
    "        \n",
    "    elif type_image == \"gris\":\n",
    "        nouvelles_lignes = [\"P2\"]\n",
    "        \n",
    "    elif type_image == \"couleur\":\n",
    "        nouvelles_lignes = [\"P3\"]\n",
    "\n",
    "\n",
    "    # Ouverture d'un fichier en mode lecture, soit \"reading\" en anglais, et nous\n",
    "    # avons choisi le nom de variable `fichier` pour le fichier.\n",
    "    with open(file = chemin_image, mode = \"r\") as fichier:\n",
    "        lignes = fichier.readlines()\n",
    "\n",
    "        # Attention ! Les lignes renvoyées contenant des retours à la ligne, nous\n",
    "        # utilisons la méthode `strip` qui pour retire ces retours àa la lignes.\n",
    "        nouvelles_lignes.append(lignes[2].strip())\n",
    "        \n",
    "        if type_image in [\"gris\", \"couleur\"]:\n",
    "            nouvelles_lignes.append(\"255\")\n",
    "            \n",
    "        for i in range(3, len(lignes) - 1, 3):\n",
    "            r = lignes[i].strip()\n",
    "            g = lignes[i + 1].strip()\n",
    "            b = lignes[i + 2].strip()\n",
    "            \n",
    "            r, g, b = int(r), int(g), int(b)\n",
    "\n",
    "            nelle_couleur = convertisseur(r, g, b)\n",
    "            \n",
    "            nouvelles_lignes.append(nelle_couleur)\n",
    "            \n",
    "            \n",
    "    # Ouverture d'un fichier en mode écriture, soit \"writing\" en anglais        \n",
    "    with open(file = chemin_nelle_image, mode =\"w\") as nouveau_fichier:\n",
    "        # La méthode `join` permet de joindre des textes contenus dans une liste en\n",
    "        # les éparant ici par le carctère \"\\n\".\n",
    "        texte = '\\n'.join(nouvelles_lignes)\n",
    "        \n",
    "        nouveau_fichier.write(texte)\n",
    "\n",
    "    \n",
    "    # Un petit message pour savoir que le travail a été fait.\n",
    "    print(\"Fichier ``{0}`` créé sans problème apparant.\".format(chemin_nelle_image))\n",
    "\n",
    "    \n",
    "# ----------------- #\n",
    "# -- APPLICATION -- #\n",
    "# ----------------- #\n",
    "\n",
    "modifie_ppm(\n",
    "    chemin_image       = \"images/logo_python.ppm\", \n",
    "    chemin_nelle_image = \"images/modification/logo_python_inverse.ppm\",\n",
    "    type_image         = \"couleur\",\n",
    "    convertisseur      = inverse\n",
    ")\n",
    "\n",
    "modifie_ppm(\n",
    "    chemin_image       = \"images/logo_python.ppm\", \n",
    "    chemin_nelle_image = \"images/modification/logo_python_decalage_gauche.ppm\",\n",
    "    type_image         = \"couleur\",\n",
    "    convertisseur      = decalage_gauche\n",
    ")\n",
    "\n",
    "modifie_ppm(\n",
    "    chemin_image       = \"images/logo_python.ppm\", \n",
    "    chemin_nelle_image = \"images/modification/logo_python_rouge.ppm\",\n",
    "    type_image         = \"couleur\",\n",
    "    convertisseur      = juste_rouge\n",
    ")\n",
    "\n",
    "modifie_ppm(\n",
    "    chemin_image       = \"images/logo_python.ppm\", \n",
    "    chemin_nelle_image = \"images/modification/logo_python_vert.ppm\",\n",
    "    type_image         = \"couleur\",\n",
    "    convertisseur      = juste_vert\n",
    ")\n",
    "\n",
    "modifie_ppm(\n",
    "    chemin_image       = \"images/logo_python.ppm\", \n",
    "    chemin_nelle_image = \"images/modification/logo_python_bleu.ppm\",\n",
    "    type_image         = \"couleur\",\n",
    "    convertisseur      = juste_bleu\n",
    ")\n",
    "\n",
    "modifie_ppm(\n",
    "    chemin_image       = \"images/logo_python.ppm\", \n",
    "    chemin_nelle_image = \"images/modification/logo_python_gris.pgm\",\n",
    "    type_image         = \"gris\",\n",
    "    convertisseur      = niveau_gris\n",
    ")\n",
    "\n",
    "modifie_ppm(\n",
    "    chemin_image       = \"images/logo_python.ppm\", \n",
    "    chemin_nelle_image = \"images/modification/logo_python_noir_blanc.pbm\",\n",
    "    type_image         = \"noir-blanc\",\n",
    "    convertisseur      = noir_blanc\n",
    ")\n",
    "\n",
    "modifie_ppm(\n",
    "    chemin_image       = \"images/logo_python.ppm\", \n",
    "    chemin_nelle_image = \"images/modification/logo_python_noir_blanc_bis.pbm\",\n",
    "    type_image         = \"noir-blanc\",\n",
    "    convertisseur      = noir_blanc_bis\n",
    ")"
   ]
  },
  {
   "cell_type": "markdown",
   "metadata": {},
   "source": [
    "### Utilisation de Jupyter pour afficher nos images\n",
    "\n",
    "#### Logo aux couleurs inversées\n",
    "\n",
    "![Logo aux couleurs inversées](images/modification/logo_python_inverse.jpg)\n",
    "\n",
    "\n",
    "#### Décalage vers la gauche\n",
    "\n",
    "![Logo - Décalage vers la gauche](images/modification/logo_python_decalage_gauche.jpg)\n",
    "\n",
    "\n",
    "#### Filtre rouge\n",
    "\n",
    "![Logo - Filtre rouge](images/modification/logo_python_rouge.jpg)\n",
    "\n",
    "\n",
    "#### Filtre vert\n",
    "\n",
    "![Logo - Filtre vert](images/modification/logo_python_vert.jpg)\n",
    "\n",
    "\n",
    "#### Filtre bleu\n",
    "\n",
    "![Logo - Filtre bleu](images/modification/logo_python_bleu.jpg)\n",
    "\n",
    "\n",
    "#### En niveaux de gris\n",
    "\n",
    "![Logo en niveaux de gris](images/modification/logo_python_gris.jpg)\n",
    "\n",
    "\n",
    "#### En noir et blanc\n",
    "\n",
    "![Logo en noir et blanc](images/modification/logo_python_noir_blanc.jpg)\n",
    "\n",
    "La qualité de l'image ci-dessus est plus que médiocre à cause de notre choix de seuil. Ceci s'améliore un peu en prenant un seuil plus grand pour avoir moins de blanc comme le montre l'image suivante.\n",
    "\n",
    "![Logo en noir et blanc (bis)](images/modification/logo_python_noir_blanc_bis.jpg)\n",
    "\n",
    "Ceci étant, il ne faut pas espérer obtenir en général d'images en noir et blanc \"pur\" de très grande qualité."
   ]
  },
  {
   "cell_type": "markdown",
   "metadata": {},
   "source": [
    "Créer des images\n",
    "---------------\n",
    "\n",
    "### Monochrome rouge\n",
    "\n",
    "Pour ce code, il fallait juste changer une ligne, celle définissant la couleur."
   ]
  },
  {
   "cell_type": "code",
   "execution_count": 81,
   "metadata": {},
   "outputs": [
    {
     "name": "stdout",
     "output_type": "stream",
     "text": [
      "Fichier ``images/creation/redman.ppm`` créé sans problème apparant.\n"
     ]
    }
   ],
   "source": [
    "def monochrome_redman_ppm(chemin_image):\n",
    "    lignes = [\n",
    "        \"P3\",\n",
    "        \"200 200\",\n",
    "        \"255\"\n",
    "    ]\n",
    "    \n",
    "    for y in range(200):\n",
    "        for x in range(200):\n",
    "            # La seule chose changée est la ligne de code suivante.\n",
    "            lignes.append(\"255 0 0\")\n",
    "            \n",
    "    \n",
    "    with open(file = chemin_image, mode =\"w\") as fichier:\n",
    "        texte = '\\n'.join(lignes)\n",
    "        \n",
    "        fichier.write(texte)\n",
    "        \n",
    "    \n",
    "    print(\"Fichier ``{0}`` créé sans problème apparant.\".format(chemin_image))\n",
    "\n",
    "\n",
    "monochrome_redman_ppm(\"images/creation/redman.ppm\")"
   ]
  },
  {
   "cell_type": "markdown",
   "metadata": {},
   "source": [
    "Voici ce que l'on obtient.\n",
    "\n",
    "![Monochrome rouge](images/creation/redman.jpg)"
   ]
  },
  {
   "cell_type": "markdown",
   "metadata": {},
   "source": [
    "### Monochromes paramétrables\n",
    "\n",
    "Pour ce code, il suffit d'adapter le précédent en utilisant une fonction avec plusieurs arguments. "
   ]
  },
  {
   "cell_type": "code",
   "execution_count": 82,
   "metadata": {},
   "outputs": [
    {
     "name": "stdout",
     "output_type": "stream",
     "text": [
      "Fichier ``images/creation/greyman.ppm`` créé sans problème apparant.\n",
      "Fichier ``images/creation/yellowman.ppm`` créé sans problème apparant.\n"
     ]
    }
   ],
   "source": [
    "def monochrome_ppm(chemin_image, r, g, b, largeur, hauteur):\n",
    "    lignes = [\n",
    "        \"P3\",\n",
    "        # Utilisation des dimensions choisies.\n",
    "        \"{0} {1}\".format(largeur, hauteur),\n",
    "        \"255\"\n",
    "    ]\n",
    "    \n",
    "    for y in range(hauteur):\n",
    "        for x in range(largeur):\n",
    "            # Un nouveau pixel de la couleur (r, g, b) demandée.\n",
    "            lignes.append(\"{0} {1} {2}\".format(r, g, b))\n",
    "            \n",
    "    \n",
    "    with open(file = chemin_image, mode =\"w\") as fichier:\n",
    "        texte = '\\n'.join(lignes)\n",
    "        \n",
    "        fichier.write(texte)\n",
    "        \n",
    "    \n",
    "    print(\"Fichier ``{0}`` créé sans problème apparant.\".format(chemin_image))\n",
    "\n",
    "\n",
    "monochrome_ppm(\n",
    "    chemin_image = \"images/creation/greyman.ppm\",\n",
    "    r            = 100,\n",
    "    g            = 100,\n",
    "    b            = 100,\n",
    "    largeur      = 500,\n",
    "    hauteur      = 150\n",
    ")\n",
    "\n",
    "monochrome_ppm(\n",
    "    chemin_image = \"images/creation/yellowman.ppm\",\n",
    "    r            = 255,\n",
    "    g            = 255,\n",
    "    b            = 0,\n",
    "    largeur      = 50,\n",
    "    hauteur      = 300\n",
    ")"
   ]
  },
  {
   "cell_type": "markdown",
   "metadata": {},
   "source": [
    "Voici la première image que l'on obtient.\n",
    "\n",
    "![Monochrome gris](images/creation/greyman.jpg)\n",
    "\n",
    "\n",
    "Voici la seconde image obtenue.\n",
    "\n",
    "![Monochrome jaune](images/creation/yellowman.jpg)"
   ]
  },
  {
   "cell_type": "markdown",
   "metadata": {},
   "source": [
    "### Drapeau français\n",
    "\n",
    "Pour le drapeau français, nous devons tracer une image faite de trois bandes monochromes. Comment faire ? Nous devons repérer les coordonnées des points ayant une couleur donnée. C'est facile. De façon arbitraire, nous choisissons une largeur de $300$ pixels et une hauteur de $200$ *(en toute rigueur il faudrait se renseigner sur les dimensions officielles d'un drapeau)*.\n",
    "\n",
    "1. La première bande verticale en bleu correspondra au premier tiers soit pour $x \\in [0 \\,;\\, 99]$.\n",
    "1. La deuxième bande verticale en blanc correspondra au deuxième tiers soit pour $x \\in [100 \\,;\\, 199]$.\n",
    "1. La troisième bande verticale en rouge correspondra au troisième tiers soit pour $x \\in [200 \\,;\\, 299]$.\n",
    "\n",
    "Nous obtenons donc le code suivant."
   ]
  },
  {
   "cell_type": "code",
   "execution_count": 83,
   "metadata": {},
   "outputs": [
    {
     "name": "stdout",
     "output_type": "stream",
     "text": [
      "Fichier ``images/creation/drapeau_francais.ppm`` créé sans problème apparant.\n"
     ]
    }
   ],
   "source": [
    "def drapeau_france(chemin_image):\n",
    "    lignes = [\n",
    "        \"P3\",\n",
    "        \"300 200\",\n",
    "        \"255\"\n",
    "    ]\n",
    "    \n",
    "    bleu  = (0, 21, 149)\n",
    "    blanc = (255, 255, 255)\n",
    "    rouge = (235, 14, 58)                                                                       \n",
    "                                                                          \n",
    "    for y in range(200):\n",
    "        for x in range(300):\n",
    "            # Première bande.\n",
    "            if x < 100:\n",
    "                lignes.append(\"{0} {1} {2}\".format(bleu[0], bleu[1], bleu[2]))\n",
    "            \n",
    "            # Deuxième bande.\n",
    "            elif x < 200:\n",
    "                lignes.append(\"{0} {1} {2}\".format(blanc[0], blanc[1], blanc[2]))\n",
    "            \n",
    "            # Troisième bande.\n",
    "            else:\n",
    "                lignes.append(\"{0} {1} {2}\".format(rouge[0], rouge[1], rouge[2]))\n",
    "            \n",
    "\n",
    "    \n",
    "    with open(file = chemin_image, mode =\"w\") as fichier:\n",
    "        texte = '\\n'.join(lignes)\n",
    "        \n",
    "        fichier.write(texte)\n",
    "        \n",
    "    \n",
    "    print(\"Fichier ``{0}`` créé sans problème apparant.\".format(chemin_image))\n",
    "\n",
    "\n",
    "drapeau_france(\"images/creation/drapeau_francais.ppm\")"
   ]
  },
  {
   "cell_type": "markdown",
   "metadata": {},
   "source": [
    "Ceci nous donne l'image suivante.\n",
    "\n",
    "![Drapeau français](images/creation/drapeau_francais.jpg)\n",
    "\n",
    "\n",
    "**Note technique :** à la place de `lignes.append(\"{0} {1} {2}\".format(bleu[0], bleu[1], bleu[2]))`, on peut utiliser `lignes.append(\"{0}[0] {0}[1] {0}[2]\".format(bleu))` car `{0}` faisant référence à `bleu`, quelque chose comme `{0}[2]` fait référence à la valeur `bleu[2]`.\n",
    "\n",
    "\n",
    "**Une petite amélioration visuelle :** faisons une version avec un bord noir de 2 pixels d'épaisseur pour améliorer le rendu sur fond blanc. Voici le code qui va permettre d'obtenir une telle image. Attention car le cadre noir induit un décalage de deux pixels vers la droite de toutes les bandes, et les dimensionsde l'image deviennent $300 + 2\\times2 = 304$ pour la largeur, et $200 + 2\\times2 = 204$ pour la hauteur."
   ]
  },
  {
   "cell_type": "code",
   "execution_count": 84,
   "metadata": {},
   "outputs": [
    {
     "name": "stdout",
     "output_type": "stream",
     "text": [
      "Fichier ``images/creation/drapeau_france_encadre.ppm`` créé sans problème apparant.\n"
     ]
    }
   ],
   "source": [
    "def drapeau_france_encadre(chemin_image):\n",
    "    lignes = [\n",
    "        \"P3\",\n",
    "        \"304 204\",\n",
    "        \"255\"\n",
    "    ]\n",
    "    \n",
    "    bleu  = (0, 21, 149)\n",
    "    blanc = (255, 255, 255)\n",
    "    rouge = (235, 14, 58)                                                                       \n",
    "                                                                          \n",
    "    for y in range(204):\n",
    "        for x in range(304):\n",
    "            # Cadre noir.\n",
    "            if y <= 1 or y >= 202 \\\n",
    "            or x <= 1 or x >= 302 :\n",
    "                lignes.append(\"0 0 0\")\n",
    "\n",
    "            # Les bandes sont décalées de deux pixels vers la droite.\n",
    "            \n",
    "            # Première bande.\n",
    "            elif x < 102:\n",
    "                lignes.append(\"{0} {1} {2}\".format(bleu[0], bleu[1], bleu[2]))\n",
    "            \n",
    "            # Deuxième bande.\n",
    "            elif x < 202:\n",
    "                lignes.append(\"{0} {1} {2}\".format(blanc[0], blanc[1], blanc[2]))\n",
    "            \n",
    "            # Troisième bande.\n",
    "            else:\n",
    "                lignes.append(\"{0} {1} {2}\".format(rouge[0], rouge[1], rouge[2]))\n",
    "                \n",
    "                \n",
    "    \n",
    "    with open(file = chemin_image, mode =\"w\") as fichier:\n",
    "        texte = '\\n'.join(lignes)\n",
    "        \n",
    "        fichier.write(texte)\n",
    "        \n",
    "    \n",
    "    print(\"Fichier ``{0}`` créé sans problème apparant.\".format(chemin_image))\n",
    "\n",
    "\n",
    "drapeau_france_encadre(\"images/creation/drapeau_france_encadre.ppm\")"
   ]
  },
  {
   "cell_type": "markdown",
   "metadata": {},
   "source": [
    "Mission accomplie !\n",
    "\n",
    "![Drapeau français encadré](images/creation/drapeau_france_encadre.jpg)"
   ]
  },
  {
   "cell_type": "markdown",
   "metadata": {},
   "source": [
    "### Un signe plus $+$ sur fond gris\n",
    "\n",
    "Tout comme pour le drapeau, nous devons repérer les coordonnées des points qui correspondent à la croix. Notre image doit avoir dimensions $101$ sur $101$, et le signe plus de trois pixels d'épaisseur doit être parfaitement centré. Les pixels pour le signe sont ceux de coordonnées $(x \\,;\\, y)$ vérifiant soit $49 \\leq x \\leq 51$ , soit $49 \\leq y \\leq 51$ *(les deux éventualités étant possibles)*. Nous allons donc utiliser le `or`.\n",
    "\n",
    "Indiquons au passage que $101$ est un meilleur choix que $100$  car sinon nous aurions une croix non parfaitement centrée. Ceci étant dit, cela aurait été non perceptible à l'oeil nu.\n",
    "\n",
    "Nous arrivons au code suivant."
   ]
  },
  {
   "cell_type": "code",
   "execution_count": 85,
   "metadata": {},
   "outputs": [
    {
     "name": "stdout",
     "output_type": "stream",
     "text": [
      "Fichier ``images/creation/plus.ppm`` créé sans problème apparant.\n"
     ]
    }
   ],
   "source": [
    "def plus(chemin_image):\n",
    "    lignes = [\n",
    "        \"P3\",\n",
    "        \"101 101\",\n",
    "        \"255\"\n",
    "    ]                                                                       \n",
    "                                                                          \n",
    "    for y in range(101):\n",
    "        for x in range(101):\n",
    "            # Le trait vertical et l'horizontal.\n",
    "            if 49 <= x <= 51 \\\n",
    "            or 49 <= y <= 51:\n",
    "                lignes.append(\"0 0 0\")\n",
    "\n",
    "            # Le fond.\n",
    "            else:\n",
    "                lignes.append(\"160 160 160\")\n",
    "\n",
    "    \n",
    "    with open(file = chemin_image, mode =\"w\") as fichier:\n",
    "        texte = '\\n'.join(lignes)\n",
    "        \n",
    "        fichier.write(texte)\n",
    "        \n",
    "    \n",
    "    print(\"Fichier ``{0}`` créé sans problème apparant.\".format(chemin_image))\n",
    "\n",
    "\n",
    "plus(\"images/creation/plus.ppm\")"
   ]
  },
  {
   "cell_type": "markdown",
   "metadata": {},
   "source": [
    "Nous avons ainsi construit l'image ci-dessous.\n",
    "\n",
    "![Signe plus](images/creation/plus.jpg)"
   ]
  },
  {
   "cell_type": "markdown",
   "metadata": {},
   "source": [
    "### Un signe fois $\\times$ bleu \"pur\" sur fond blanc\n",
    "\n",
    "Prenons une image carré de dimension $150$. Les pixels du signe fois sont ceux de coordonnées $(x \\,;\\, y)$ vérifiant soit $y = x$ , soit $y = 150 - x$ *(les deux éventualités étant possibles)*. Le code est alors facile à taper. Le voici."
   ]
  },
  {
   "cell_type": "code",
   "execution_count": 86,
   "metadata": {},
   "outputs": [
    {
     "name": "stdout",
     "output_type": "stream",
     "text": [
      "Fichier ``images/creation/fois.ppm`` créé sans problème apparant.\n"
     ]
    }
   ],
   "source": [
    "def fois(chemin_image):\n",
    "    lignes = [\n",
    "        \"P3\",\n",
    "        \"150 150\",\n",
    "        \"255\"\n",
    "    ]                                                                       \n",
    "                                                                          \n",
    "    for y in range(150):\n",
    "        for x in range(150):\n",
    "            # Les diagonales.\n",
    "            if y == x or y == 150 - x:\n",
    "                lignes.append(\"0 0 255\")\n",
    "            \n",
    "            # Le fond.\n",
    "            else:\n",
    "                lignes.append(\"255 255 255\")\n",
    "\n",
    "    \n",
    "    with open(file = chemin_image, mode =\"w\") as fichier:\n",
    "        texte = '\\n'.join(lignes)\n",
    "        \n",
    "        fichier.write(texte)\n",
    "        \n",
    "    \n",
    "    print(\"Fichier ``{0}`` créé sans problème apparant.\".format(chemin_image))\n",
    "\n",
    "\n",
    "fois(\"images/creation/fois.ppm\")"
   ]
  },
  {
   "cell_type": "markdown",
   "metadata": {},
   "source": [
    "Nous obtenons bien une croix.\n",
    "\n",
    "![Signe fois](images/creation/fois.jpg)"
   ]
  },
  {
   "cell_type": "markdown",
   "metadata": {},
   "source": [
    "Pour les plus rapides\n",
    "------------------------"
   ]
  },
  {
   "cell_type": "markdown",
   "metadata": {},
   "source": [
    "### Cercle\n",
    "\n",
    "Nous devons tracaer dans une image blanche carrée de dimension $120$ un cercle visible centré au \"milieu\" de l'image et de rayon $50$ avec une épaisseur de trait de un pixel. Il était rappelé que le cercle de rayon $R$ et de centre $\\Omega(x_\\Omega , y_\\Omega)$ est l'ensemble des points $M(x , y)$ tels que $(x - x_\\Omega)^2 + (y - y_\\Omega)^2 = R^2$. Ce rappel nous donne donc que les pixels du cercle sont ceux de coordonnées $(x \\,;\\, y)$ vérifiant $(x - 51)^2 + (y - 51)^2 = 50^2$. Notons qu'ici nous ne pouvons pas prendre le centre \"parfaitement\". Nous avons le code suivant."
   ]
  },
  {
   "cell_type": "code",
   "execution_count": 87,
   "metadata": {},
   "outputs": [
    {
     "name": "stdout",
     "output_type": "stream",
     "text": [
      "Fichier ``images/creation/cercle.ppm`` créé sans problème apparant.\n"
     ]
    }
   ],
   "source": [
    "def cercle(chemin_image):\n",
    "    lignes = [\n",
    "        \"P3\",\n",
    "        \"120 120\",\n",
    "        \"255\"\n",
    "    ]                                                                       \n",
    "                                                                          \n",
    "    for y in range(120):\n",
    "        for x in range(120):\n",
    "            # Le cercle.\n",
    "            if (x - 51)**2 + (y - 51)**2 == 50**2:\n",
    "                lignes.append(\"120 60 180\")\n",
    "            \n",
    "            # Le fond.\n",
    "            else:\n",
    "                lignes.append(\"255 255 255\")\n",
    "\n",
    "    \n",
    "    with open(file = chemin_image, mode =\"w\") as fichier:\n",
    "        texte = '\\n'.join(lignes)\n",
    "        \n",
    "        fichier.write(texte)\n",
    "        \n",
    "    \n",
    "    print(\"Fichier ``{0}`` créé sans problème apparant.\".format(chemin_image))\n",
    "\n",
    "\n",
    "cercle(\"images/creation/cercle.ppm\")"
   ]
  },
  {
   "cell_type": "markdown",
   "metadata": {},
   "source": [
    "Voici le cercle que nous obtenons.\n",
    "\n",
    "![Cercle discret](images/creation/cercle.jpg)\n",
    "\n",
    "\n",
    "C'est la catastrophe ! Soyons fort et tentons de comprendre ce qu'il s'est passé. En fait, nous testons une égalité sur des entiers naturels, et du coup nous avons très peu de solutions. Nous voyons donc qu'au lieu de la condition $(x - 51)^2 + (y - 51)^2 = 50^2$, nous pouvons opter pour une condition du type $50^2 - S \\leq (x - 51)^2 + (y - 51)^2 \\leq 50^2 + S$ avec un seuil $S$ donné que nous allons choisir de façon empirico-pifométrique. C'est parti !"
   ]
  },
  {
   "cell_type": "code",
   "execution_count": 88,
   "metadata": {},
   "outputs": [
    {
     "name": "stdout",
     "output_type": "stream",
     "text": [
      "Fichier ``images/creation/cercle_seuil_007.ppm`` créé sans problème apparant.\n",
      "Fichier ``images/creation/cercle_seuil_050.ppm`` créé sans problème apparant.\n",
      "Fichier ``images/creation/cercle_seuil_100.ppm`` créé sans problème apparant.\n"
     ]
    }
   ],
   "source": [
    "def cercle(chemin_image, seuil):\n",
    "    lignes = [\n",
    "        \"P3\",\n",
    "        \"120 120\",\n",
    "        \"255\"\n",
    "    ]\n",
    "    \n",
    "    for y in range(120):\n",
    "        for x in range(120):\n",
    "            # Le cercle.\n",
    "            if 50**2 - seuil <= (x - 51)**2 + (y - 51)**2 <= 50**2 + seuil:\n",
    "                lignes.append(\"120 60 180\")\n",
    "            \n",
    "            # Le fond.\n",
    "            else:\n",
    "                lignes.append(\"255 255 255\")\n",
    "\n",
    "    \n",
    "    with open(file = chemin_image, mode =\"w\") as fichier:\n",
    "        texte = '\\n'.join(lignes)\n",
    "        \n",
    "        fichier.write(texte)\n",
    "        \n",
    "    \n",
    "    print(\"Fichier ``{0}`` créé sans problème apparant.\".format(chemin_image))\n",
    "\n",
    "\n",
    "cercle(\n",
    "    chemin_image = \"images/creation/cercle_seuil_007.ppm\",\n",
    "    seuil        = 7\n",
    ")\n",
    "\n",
    "cercle(\n",
    "    chemin_image = \"images/creation/cercle_seuil_050.ppm\",\n",
    "    seuil        = 50\n",
    ")\n",
    "\n",
    "cercle(\n",
    "    chemin_image = \"images/creation/cercle_seuil_100.ppm\",\n",
    "    seuil        = 100\n",
    ")"
   ]
  },
  {
   "cell_type": "markdown",
   "metadata": {},
   "source": [
    "Voici les trois cercles que nous obtenons.\n",
    "\n",
    "<table>\n",
    "  <tr>\n",
    "    <th style=\"text-align: center;\">\n",
    "      Cercle avec un seuil de 7\n",
    "    </th>\n",
    "    <th style=\"text-align: center;\">\n",
    "      Cercle avec un seuil de 50\n",
    "    </th>\n",
    "    <th style=\"text-align: center;\">\n",
    "      Cercle avec un seuil de 100\n",
    "    </th>\n",
    "  </tr>\n",
    "\n",
    "  <tr>\n",
    "    <td style=\"text-align: center;\">\n",
    "      <img src=\"images/creation/cercle_seuil_007.jpg\" alt=\"Cercle avec un seuil de 7\">\n",
    "    </td>\n",
    "    <td style=\"text-align: center;\">\n",
    "      <img src=\"images/creation/cercle_seuil_050.jpg\" alt=\"Cercle avec un seuil de 50\">\n",
    "    </td>\n",
    "    <td style=\"text-align: center;\">\n",
    "      <img src=\"images/creation/cercle_seuil_100.jpg\" alt=\"Cercle avec un seuil de 100\">\n",
    "    </td>\n",
    "  </tr>\n",
    "</table>"
   ]
  },
  {
   "cell_type": "markdown",
   "metadata": {},
   "source": [
    "Parmi nos trois exemples, le seuil de $100$ est celui donnant le résultat le plus acceptable même si le cercle est un peu épais. On note malgré tout un nouveau problème. Si vous regardez bien le cercle de droite, il y a un phénomène dit de crénelage, aussi nommé aliasing en anglais *(voir à ce propos l'exercice un peu plus bas sur le tracé d'un segment)*. "
   ]
  },
  {
   "cell_type": "markdown",
   "metadata": {},
   "source": [
    "### Disque : le drapeau japonnais\n",
    "\n",
    "Nous gardons le principe de seuil vu précédemment. Autrement dit, au lieu de l'inéquation  $(x - x_\\Omega)^2 + (y - y_\\Omega)^2 \\leq R^2$, nous utiliserons  $(x - x_\\Omega)^2 + (y - y_\\Omega)^2 \\leq R^2 + S$ où $S$ est un seuil à bien choisir."
   ]
  },
  {
   "cell_type": "code",
   "execution_count": 89,
   "metadata": {},
   "outputs": [
    {
     "name": "stdout",
     "output_type": "stream",
     "text": [
      "Fichier ``images/creation/drapeau_japon_seuil_000.ppm`` créé sans problème apparant.\n",
      "Fichier ``images/creation/drapeau_japon_seuil_050.ppm`` créé sans problème apparant.\n",
      "Fichier ``images/creation/drapeau_japon_seuil_100.ppm`` créé sans problème apparant.\n"
     ]
    }
   ],
   "source": [
    "def drapeau_japon(chemin_image, seuil):\n",
    "    lignes = [\n",
    "        \"P3\",\n",
    "        \"300 200\",\n",
    "        \"255\"\n",
    "    ]                                                                       \n",
    "                                                                          \n",
    "    for y in range(200):\n",
    "        for x in range(300):\n",
    "            # Le cercle.\n",
    "            if (x - 150)**2 + (y - 100)**2 <= 70**2 + seuil:\n",
    "                lignes.append(\"174 41 63\")\n",
    "            \n",
    "            # Le cadre noir.\n",
    "            elif x <= 1 or x >= 298 \\\n",
    "            or y <= 1 or y >= 198:\n",
    "                lignes.append(\"0 0 0\")\n",
    "\n",
    "            # Le fond.\n",
    "            else:\n",
    "                lignes.append(\"255 255 255\")\n",
    "\n",
    "    \n",
    "    with open(file = chemin_image, mode =\"w\") as fichier:\n",
    "        texte = '\\n'.join(lignes)\n",
    "        \n",
    "        fichier.write(texte)\n",
    "        \n",
    "    \n",
    "    print(\"Fichier ``{0}`` créé sans problème apparant.\".format(chemin_image))\n",
    "\n",
    "\n",
    "drapeau_japon(\n",
    "    chemin_image = \"images/creation/drapeau_japon_seuil_000.ppm\",\n",
    "    seuil        = 0\n",
    ")\n",
    "\n",
    "drapeau_japon(\n",
    "    chemin_image = \"images/creation/drapeau_japon_seuil_050.ppm\",\n",
    "    seuil        = 50\n",
    ")\n",
    "\n",
    "drapeau_japon(\n",
    "    chemin_image = \"images/creation/drapeau_japon_seuil_100.ppm\",\n",
    "    seuil        = 100\n",
    ")"
   ]
  },
  {
   "cell_type": "markdown",
   "metadata": {},
   "source": [
    "Voici les trois drapeaux que nous obtenons.\n",
    "\n",
    "<table>\n",
    "  <tr>\n",
    "    <th style=\"text-align: center;\">\n",
    "      Disque avec un seuil nul\n",
    "    </th>\n",
    "    <th style=\"text-align: center;\">\n",
    "      Disque avec un seuil de 50\n",
    "    </th>\n",
    "    <th style=\"text-align: center;\">\n",
    "      Disque avec un seuil de 100\n",
    "    </th>\n",
    "  </tr>\n",
    "\n",
    "  <tr>\n",
    "    <td>\n",
    "      <img src=\"images/creation/drapeau_japon_seuil_000.jpg\" alt=\"Disque avec un seuil nul\">\n",
    "    </td>\n",
    "    <td>\n",
    "      <img src=\"images/creation/drapeau_japon_seuil_050.jpg\" alt=\"Disque avec un seuil de 50\">\n",
    "    </td>\n",
    "    <td>\n",
    "      <img src=\"images/creation/drapeau_japon_seuil_100.jpg\" alt=\"Disque avec un seuil de 100\">\n",
    "    </td>\n",
    "  </tr>\n",
    "</table>\n",
    "\n",
    "\n",
    "Il se trouve que contrairement au cas du cercle vu précédemment, ici c'est un seuil de $50$ qui est plus joli *(celui  de $100$ possède des pixels isolés si l'on \"regarde en diagonale\")*."
   ]
  },
  {
   "cell_type": "markdown",
   "metadata": {},
   "source": [
    "### Besoin d'un segment passant par deux points donnés ? Pas si simple....\n",
    "\n",
    "Pour tracer un segment, nous aurons besoin d'un résultat mathématique vu en seconde qui affirme que $\\vec{AM}$ et $\\vec{AB}$ sont colinéaires si et seulement si $x_{\\vec{AM}} y_{\\vec{AB}} = y_{\\vec{AM}} x_{\\vec{AB}}$, *i.e.* si et seulement si $(x_M - x_A) (y_B - y_A) = (y_M - y_A) (x_B - x_A)$. Ceci permet de comprendre le code suivant."
   ]
  },
  {
   "cell_type": "code",
   "execution_count": 90,
   "metadata": {},
   "outputs": [
    {
     "name": "stdout",
     "output_type": "stream",
     "text": [
      "Fichier ``images/creation/segment_150-150_150-300.ppm`` créé sans problème apparant.\n",
      "Fichier ``images/creation/segment_0-0_200-300.ppm`` créé sans problème apparant.\n"
     ]
    }
   ],
   "source": [
    "def segment_ppm(chemin_image, coord_A, coord_B):\n",
    "    lignes = [\n",
    "        \"P3\",\n",
    "        \"200 300\",\n",
    "        \"255\"\n",
    "    ]\n",
    "    \n",
    "    # Équation de la droite (AB).\n",
    "    x_A, y_A = coord_A\n",
    "    x_B, y_B = coord_B\n",
    "\n",
    "    #     * Cas d'un segment vertical.\n",
    "    if x_A == x_B:\n",
    "        est_vertical = True\n",
    "        \n",
    "        y_min = min(y_A, y_B)\n",
    "        y_max = max(y_A, y_B)\n",
    "\n",
    "    #     * Cas d'un segment non vertical.\n",
    "    else:\n",
    "        est_vertical = False\n",
    "\n",
    "        x_min = min(x_A, x_B)\n",
    "        x_max = max(x_A, x_B)\n",
    "    \n",
    "    # Fabrication de l'image.\n",
    "    for y in range(300):\n",
    "        for x in range(200):\n",
    "            # Cas d'un pixel sur le segment vertical.\n",
    "            if est_vertical \\\n",
    "            and x == x_A \\\n",
    "            and y_min <= y <= y_max:\n",
    "                lignes.append(\"0 0 255\")\n",
    "\n",
    "            # Cas d'un pixel sur le segment non vertical.\n",
    "            elif not est_vertical \\\n",
    "            and x_min <= x <= x_max \\\n",
    "            and (x - x_A)*(y_B - y_A) == (y - y_A)*(x_B - x_A):\n",
    "                lignes.append(\"0 0 255\")\n",
    "\n",
    "            # Le fond.\n",
    "            else:\n",
    "                lignes.append(\"255 255 255\")\n",
    "\n",
    "    \n",
    "    with open(file = chemin_image, mode =\"w\") as fichier:\n",
    "        texte = '\\n'.join(lignes)\n",
    "        \n",
    "        fichier.write(texte)\n",
    "        \n",
    "    \n",
    "    print(\"Fichier ``{0}`` créé sans problème apparant.\".format(chemin_image))\n",
    "\n",
    "\n",
    "segment_ppm(\n",
    "    chemin_image = \"images/creation/segment_150-150_150-300.ppm\",\n",
    "    coord_A      = (150, 160),\n",
    "    coord_B      = (150, 300)\n",
    ")\n",
    "\n",
    "segment_ppm(\n",
    "    chemin_image = \"images/creation/segment_0-0_200-300.ppm\",\n",
    "    coord_A      = (0, 0),\n",
    "    coord_B      = (200, 300)\n",
    ")"
   ]
  },
  {
   "cell_type": "markdown",
   "metadata": {},
   "source": [
    "Voici les deux segment obtenus.\n",
    "\n",
    "<table>\n",
    "  <tr>\n",
    "    <th style=\"text-align: center;\">\n",
    "      Segment vertical\n",
    "    </th>\n",
    "    <th style=\"text-align: center;\">\n",
    "      Segment non vertical\n",
    "    </th>\n",
    "  </tr>\n",
    "\n",
    "  <tr>\n",
    "    <td>\n",
    "      <img src=\"images/creation/segment_0-0_200-300.jpg\" alt=\"Segment vertical\">\n",
    "    </td>\n",
    "    <td>\n",
    "      <img src=\"images/creation/segment_150-150_150-300.jpg\" alt=\"Segment non vertical\">\n",
    "    </td>\n",
    "  </tr>\n",
    "</table>\n",
    "\n",
    "\n",
    "Le segment non vertical n'est pas des plus beaux. Retentons l'utilisation d'un seuil pour épaissir un peu le trait en espérant que cei améliore le rendu visuel."
   ]
  },
  {
   "cell_type": "code",
   "execution_count": 91,
   "metadata": {},
   "outputs": [
    {
     "name": "stdout",
     "output_type": "stream",
     "text": [
      "Fichier ``images/creation/segment_0-0_200-300_seuil_5.ppm`` créé sans problème apparant.\n",
      "Fichier ``images/creation/segment_0-0_200-300_seuil_100.ppm`` créé sans problème apparant.\n"
     ]
    }
   ],
   "source": [
    "def segment_bis_ppm(chemin_image, coord_A, coord_B, seuil):\n",
    "    lignes = [\n",
    "        \"P3\",\n",
    "        \"200 300\",\n",
    "        \"255\"\n",
    "    ]\n",
    "    \n",
    "    # Équation de la droite (AB).\n",
    "    x_A, y_A = coord_A\n",
    "    x_B, y_B = coord_B\n",
    "\n",
    "    #     * Cas d'un segment vertical.\n",
    "    if x_A == x_B:\n",
    "        est_vertical = True\n",
    "        \n",
    "        y_min = min(y_A, y_B)\n",
    "        y_max = max(y_A, y_B)\n",
    "\n",
    "    #     * Cas d'un segment non vertical.\n",
    "    else:\n",
    "        est_vertical = False\n",
    "\n",
    "        x_min = min(x_A, x_B)\n",
    "        x_max = max(x_A, x_B)\n",
    "    \n",
    "    # Fabrication de l'image.\n",
    "    for y in range(300):\n",
    "        for x in range(200):\n",
    "            # Cas d'un pixel sur le segment vertical.\n",
    "            if est_vertical \\\n",
    "            and x == x_A \\\n",
    "            and y_min <= y <= y_max:\n",
    "                lignes.append(\"0 0 255\")\n",
    "\n",
    "            # Cas d'un pixel sur le segment non vertical.\n",
    "            elif not est_vertical \\\n",
    "            and x_min <= x <= x_max \\\n",
    "            and -seuil <= (x - x_A)*(y_B - y_A) - (y - y_A)*(x_B - x_A) <= seuil:\n",
    "                lignes.append(\"0 0 255\")\n",
    "\n",
    "\n",
    "            # Le fond.\n",
    "            else:\n",
    "                lignes.append(\"255 255 255\")\n",
    "\n",
    "    \n",
    "    with open(file = chemin_image, mode =\"w\") as fichier:\n",
    "        texte = '\\n'.join(lignes)\n",
    "        \n",
    "        fichier.write(texte)\n",
    "        \n",
    "    \n",
    "    print(\"Fichier ``{0}`` créé sans problème apparant.\".format(chemin_image))\n",
    "\n",
    "\n",
    "segment_bis_ppm(\n",
    "    chemin_image = \"images/creation/segment_0-0_200-300_seuil_5.ppm\",\n",
    "    coord_A      = (0, 0),\n",
    "    coord_B      = (200, 300),\n",
    "    seuil        = 5\n",
    ")\n",
    "\n",
    "segment_bis_ppm(\n",
    "    chemin_image = \"images/creation/segment_0-0_200-300_seuil_100.ppm\",\n",
    "    coord_A      = (0, 0),\n",
    "    coord_B      = (200, 300),\n",
    "    seuil        = 100\n",
    ")"
   ]
  },
  {
   "cell_type": "markdown",
   "metadata": {},
   "source": [
    "Ci-dessous le segment avec un seuil de $100$ est acceptable.\n",
    "\n",
    "<table>\n",
    "  <tr>\n",
    "    <th style=\"text-align: center;\">\n",
    "      Segment avec un seuil de 5\n",
    "    </th>\n",
    "    <th style=\"text-align: center;\">\n",
    "      Segment avec un seuil de 100\n",
    "    </th>\n",
    "  </tr>\n",
    "\n",
    "  <tr>\n",
    "    <td>\n",
    "      <img src=\"images/creation/segment_0-0_200-300_seuil_5.jpg\" alt=\"Segment avec un seuil de 5\">\n",
    "    </td>\n",
    "    <td>\n",
    "      <img src=\"images/creation/segment_0-0_200-300_seuil_100.jpg\" alt=\"Segment avec un seuil de 100\">\n",
    "    </td>\n",
    "  </tr>\n",
    "</table>\n",
    "\n",
    "\n",
    "Essayons d'autres segments au hasard."
   ]
  },
  {
   "cell_type": "code",
   "execution_count": 92,
   "metadata": {},
   "outputs": [
    {
     "name": "stdout",
     "output_type": "stream",
     "text": [
      "Fichier ``images/creation/segment_hasard_102-139_193-259.ppm`` créé sans problème apparant.\n",
      "Fichier ``images/creation/segment_hasard_137-205_110-269.ppm`` créé sans problème apparant.\n",
      "Fichier ``images/creation/segment_hasard_80-286_167-39.ppm`` créé sans problème apparant.\n"
     ]
    }
   ],
   "source": [
    "# ATTENTION ! La précédente cellule doit avoir été lancée.\n",
    "\n",
    "from random import randint\n",
    "\n",
    "for i in range(1, 4):\n",
    "    x_A, y_A = randint(0, 200), randint(0, 300)\n",
    "    x_B, y_B = randint(0, 200), randint(0, 300)\n",
    "    \n",
    "    segment_bis_ppm(\n",
    "        chemin_image = \"images/creation/segment_hasard_{0}-{1}_{2}-{3}.ppm\".format(\n",
    "             x_A, y_A, x_B, y_B\n",
    "        ),\n",
    "        coord_A      = (x_A, y_A),\n",
    "        coord_B      = (x_B, y_B),\n",
    "        seuil        = 100\n",
    "    )"
   ]
  },
  {
   "cell_type": "markdown",
   "metadata": {},
   "source": [
    "Voici trois segments tracés au hasard avec un seuil de $100$.\n",
    "\n",
    "<table>\n",
    "  <tr>\n",
    "    <th style=\"text-align: center; width: 210px;\">\n",
    "      $A(160 \\,;\\, 202)$\n",
    "      <br>\n",
    "      $B(190 \\,;\\, 117)$ \n",
    "    </th>\n",
    "    <th style=\"text-align: center; width: 210px;\">\n",
    "      $A(156 \\,;\\, 178)$\n",
    "      <br>\n",
    "      $B(94 \\,;\\, 34)$ \n",
    "    </th>\n",
    "    <th style=\"text-align: center; width: 210px;\">\n",
    "      $A(97 \\,;\\, 285)$\n",
    "      <br>\n",
    "      $B(169 \\,;\\, 278)$ \n",
    "    </th>\n",
    "  </tr>\n",
    "\n",
    "  <tr>\n",
    "    <td>\n",
    "      <img src=\"images/creation/segment_hasard_160-202_190-117.jpg\" alt=\"Segment au hasard no 1\">\n",
    "    </td>\n",
    "    <td>\n",
    "      <img src=\"images/creation/segment_hasard_156-178_94-34.jpg\" alt=\"Segment au hasard no 2\">\n",
    "    </td>\n",
    "    <td>\n",
    "      <img src=\"images/creation/segment_hasard_97-285_169-278.jpg\" alt=\"Segment au hasard no 3\">\n",
    "    </td>\n",
    "  </tr>\n",
    "</table>"
   ]
  },
  {
   "cell_type": "markdown",
   "metadata": {},
   "source": [
    "Même en épaississant le trait il subsiste de nouveau le problème de crénelage ou d'aliasing. Si le sujet vous intérese, cherchez des informations sur les algorithmes de Bresenham, de Xiaolin Wu et celui dit de \"l'analyseur différentiel numérique\". Wikipédia les exposent très bien ! Ces algorithmes sont assez faciles à coder en Python."
   ]
  },
  {
   "cell_type": "markdown",
   "metadata": {},
   "source": [
    "### Des dégradés, ou comment mêler maths et couleurs\n",
    "\n",
    "Le dégradé suivant ne contient que des pixels ayant des composantes vertes et bleues nulles.\n",
    "\n",
    "![Dégradé Rouge](images/degrade_rouge.png)\n",
    "\n",
    "Commençons par proposer un code reproduisant ce dégradé dans une image de largeur $50$ et de hauteur $200$. Voici une façon de procéder.\n",
    "\n",
    "1. Prendre la même couleur pour une ligne de pixels.\n",
    "1. Toutes les composantes RGB sont telles que $G = B = 0$.\n",
    "1. Pour la 1ère ligne on veut du noir c'est dire $R = 0$ dans les composantes RGB *(les deux autres sont ici toujours nulles)*. Pour la dernière, on veut $R = 255$. L'idée consiste à calculer la division approchée de $y$ le numéro de la ligne par $199$ la valeur maximale possible pour un tel numéro. On obtient ainsi une transformation linéaire donnant des nombres approchés allant de $0$ à $1$ qui multipliés à 255 vont donnés des nombres approchés allant de $0$ à $255$. Il faudra juste prendre garde à utiliser une valeur entière au final pour $R$, ce qui sera fait grâce à la fonction `int`."
   ]
  },
  {
   "cell_type": "code",
   "execution_count": 93,
   "metadata": {},
   "outputs": [
    {
     "name": "stdout",
     "output_type": "stream",
     "text": [
      "Fichier ``images/creation/degrade_rouge.ppm`` créé sans problème apparant.\n"
     ]
    }
   ],
   "source": [
    "def degrade_rouge_ppm(chemin_image):\n",
    "    lignes = [\n",
    "        \"P3\",\n",
    "        \"50 200\",\n",
    "        \"255\"\n",
    "    ]\n",
    "    \n",
    "    for y in range(200):\n",
    "        r   = int(255 * y / 199)\n",
    "        rgb = \"{0} 0 0\".format(r)\n",
    "        \n",
    "        for x in range(50):\n",
    "            lignes.append(rgb)\n",
    "    \n",
    "    \n",
    "    with open(file = chemin_image, mode =\"w\") as fichier:\n",
    "        texte = '\\n'.join(lignes)\n",
    "        \n",
    "        fichier.write(texte)\n",
    "        \n",
    "    \n",
    "    print(\"Fichier ``{0}`` créé sans problème apparant.\".format(chemin_image))\n",
    "\n",
    "\n",
    "degrade_rouge_ppm(\"images/creation/degrade_rouge.ppm\")"
   ]
  },
  {
   "cell_type": "markdown",
   "metadata": {},
   "source": [
    "Nous obtenons le même type de dégradé que celui de l'exemple proposé.\n",
    "\n",
    "![Dégradé du rouge vers le noir](images/creation/degrade_rouge.jpg)\n",
    "\n",
    "\n",
    "Généralisons la fonction précédente pour obtenir le même effet mais avec une couleur RGB de notre choix."
   ]
  },
  {
   "cell_type": "code",
   "execution_count": 94,
   "metadata": {},
   "outputs": [
    {
     "name": "stdout",
     "output_type": "stream",
     "text": [
      "Fichier ``images/creation/degrade_simple_120-70-220.ppm`` créé sans problème apparant.\n"
     ]
    }
   ],
   "source": [
    "def degrade_simple_ppm(chemin_image, rgb):\n",
    "    lignes = [\n",
    "        \"P3\",\n",
    "        \"50 200\",\n",
    "        \"255\"\n",
    "    ]\n",
    "    \n",
    "    r_choisi, g_choisi, b_choisi = rgb\n",
    "    \n",
    "    for y in range(200):\n",
    "        r = int(r_choisi * y / 200)\n",
    "        g = int(g_choisi * y / 200)\n",
    "        b = int(b_choisi * y / 200)\n",
    "        \n",
    "        rgb = \"{0} {1} {2}\".format(r, g, b)\n",
    "        \n",
    "        for x in range(50):\n",
    "            lignes.append(rgb)\n",
    "    \n",
    "    \n",
    "    with open(file = chemin_image, mode =\"w\") as fichier:\n",
    "        texte = '\\n'.join(lignes)\n",
    "        \n",
    "        fichier.write(texte)\n",
    "        \n",
    "    \n",
    "    print(\"Fichier ``{0}`` créé sans problème apparant.\".format(chemin_image))\n",
    "\n",
    "\n",
    "degrade_simple_ppm(\n",
    "    chemin_image = \"images/creation/degrade_simple_120-70-220.ppm\",\n",
    "    rgb          = (120, 70, 220)\n",
    ")"
   ]
  },
  {
   "cell_type": "markdown",
   "metadata": {},
   "source": [
    "Nous obtenons le résultat suivant.\n",
    "\n",
    "![Dégradé simple du noir vers une couleur personnalisée](images/creation/degrade_simple_120-70-220.jpg)\n",
    "\n",
    "\n",
    "Généralisons la fonction précédente pour obtenir le même effet mais en partant avec une autre couleur de notre choix et non du noir. Nous allons de nouveau utiliser $\\delta$ une valeur approchée de la division de $y$ le numéro de la ligne par $199$. Raisonnons sur la composante $R$ *(les cas des deux autres compsantes RGB seront gérés de la même façon)*. Nous allons chercher à passer de $R_1$ la composante rouge de la première couleur à celle $R_2$ de la deuxième via une transformation linéaires $f(x) = a x + b$. Nous allons appliquer $f$ à $\\delta$, autrement dit nous souhaitons que $f(0) = R_1$ et $f(1) = R_2$. Résolvons ce mini-système.\n",
    "\n",
    "Tout d'abord, $f(0) = R_1$ nous donne $b = R_1$. \n",
    "\n",
    "Ensuite, $f(1) = R_2$ devient $a + b = R_2$ , d'où $a + R_1 = R_2$ puis $a = R_2 - R_1$.\n",
    "\n",
    "Finalement, nous allons prendre $f(x) = (R_2 - R_1) x + R_1$. Ceci nous conduit au code suivant."
   ]
  },
  {
   "cell_type": "code",
   "execution_count": 95,
   "metadata": {},
   "outputs": [
    {
     "name": "stdout",
     "output_type": "stream",
     "text": [
      "Fichier ``images/creation/degrade_double.ppm`` créé sans problème apparant.\n"
     ]
    }
   ],
   "source": [
    "def degrade_double_ppm(chemin_image, rgb_1, rgb_2):\n",
    "    lignes = [\n",
    "        \"P3\",\n",
    "        \"50 200\",\n",
    "        \"255\"\n",
    "    ]\n",
    "    \n",
    "    R_1, G_1, B_1 = rgb_1\n",
    "    R_2, G_2, B_2 = rgb_2\n",
    "    \n",
    "    for y in range(200):\n",
    "        delta = (200 - y) / 200\n",
    "        \n",
    "        r = int((R_2 - R_1)*delta + R_1)\n",
    "        g = int((G_2 - G_1)*delta + G_1)\n",
    "        b = int((B_2 - B_1)*delta + B_1)\n",
    "\n",
    "        rgb = \"{0} {1} {2}\".format(r, g, b)\n",
    "        \n",
    "        for x in range(50):\n",
    "            lignes.append(rgb)\n",
    "    \n",
    "    \n",
    "    with open(file = chemin_image, mode =\"w\") as fichier:\n",
    "        texte = '\\n'.join(lignes)\n",
    "        \n",
    "        fichier.write(texte)\n",
    "        \n",
    "    \n",
    "    print(\"Fichier ``{0}`` créé sans problème apparant.\".format(chemin_image))\n",
    "\n",
    "\n",
    "degrade_double_ppm(\n",
    "    chemin_image = \"images/creation/degrade_double.ppm\",\n",
    "    rgb_1        = (0  , 139, 139),\n",
    "    rgb_2        = (255, 211, 155)\n",
    "\n",
    ")"
   ]
  },
  {
   "cell_type": "markdown",
   "metadata": {},
   "source": [
    "Voici le dégradé ainsi construit.\n",
    "\n",
    "![Dégradé double](images/creation/degrade_double.jpg)\n",
    "\n",
    "\n",
    "Pour finir, la dernière fonction suivante construit un dégradé \"affine par morceaux\" partant d'un couleur donnée, puis qui passe par une autre, et enfin qui finit par une troisième. Voici les raisonnements mathématiques faits *(de nouveau on raisonne juste sur la composante $R$, les cas du $G$ et du $B$ étant identiques)*.\n",
    "\n",
    "1. $\\delta$ désigne une valeur approchée de la division de $y$ le numéro de la ligne par $199$.\n",
    "1. $R_1$ la composante rouge de la première couleur, $R_2$ celle de la deuxième et $R_3$ celle de la troisième.\n",
    "1. Soient $f(x) = a x + b$ et $g(x) = c x + d$ qui permettent de passer respectivement de $R_1$ à $R_2$, et de $R_2$ à $R_3$.\n",
    "1. On décide de passer de $R_1$ à $R_2$ sur $[0 \\,;\\, 0,\\!5]$ via $f$, et de $R_2$ à $R_3$ sur $[0,\\!5 \\,;\\, 1]$ via $g$. Nous obtenons comme ci-dessous les paramètres $a$, $b$, $c$ et $d$ en fonction de $R_1$, $R_2$ et $R_3$.\n",
    "\n",
    "   * $f(0) = R_1 \\Longrightarrow b = R_1$ \n",
    "\n",
    "   * $f(0,\\!5) = R_2 \\Longrightarrow 0,\\!5 a + R_1 = R_2 \n",
    "                     \\Longrightarrow a = 2(R_2 - R_1)$ \n",
    "   \n",
    "   * Donc $f(x) = 2(R_2 - R_1) x + R_1$.\n",
    "\n",
    "   * $[g(0,\\!5) = R_2 \\text{ et } g(1) = R_3] \\Longrightarrow 0,\\!5 c + d = R_2 \\text{ et } c + d = R_3$ \n",
    "\n",
    "   * Par soustraction des deux dernières relations, nous obtenons : \n",
    "   $0,\\!5 c = R_3 - R_2 \\Longrightarrow c = 2(R_3 - R_2)$.\n",
    "   Nous avons alors : \n",
    "   $c + d = R_3 \\Longrightarrow 2(R_3 - R_2) + d = R_3\n",
    "                \\Longrightarrow d = 2 R_2 - R_3$.\n",
    "   \n",
    "   * Donc $g(x) = 2(R_3 - R_2) x + 2 R_2 - R_3$.\n",
    "\n",
    "\n",
    "Dans le code qui suit, nous définissions une fonction Python qui calcule la valeur d'une composante dans le degradé suivant la valeur de $\\delta$. Ceci améliore grandement la lisibilité du code et permet en plus d'utiliser une autre transformation très facilement !"
   ]
  },
  {
   "cell_type": "code",
   "execution_count": 96,
   "metadata": {},
   "outputs": [
    {
     "name": "stdout",
     "output_type": "stream",
     "text": [
      "Fichier ``images/creation/degrade_triple.ppm`` créé sans problème apparant.\n"
     ]
    }
   ],
   "source": [
    "def rgb_compo_degrade_triple(delta, composante_1, composante_2, composante_3):\n",
    "    if delta <= 0.5:\n",
    "        # f(x) = 2(R_2 - R_1) x + R_1\n",
    "        return int(2*(composante_2 - composante_1)*delta + composante_1)\n",
    "    \n",
    "    else:\n",
    "        # g(x) = 2(R_3 - R_2) x + 2 R_2 - R_3\n",
    "        return int(2*(composante_3 - composante_2)*delta + 2*composante_2 - composante_3)\n",
    "\n",
    "\n",
    "def degrade_triple_ppm(chemin_image, rgb_1, rgb_2, rgb_3):\n",
    "    lignes = [\n",
    "        \"P3\",\n",
    "        \"50 200\",\n",
    "        \"255\"\n",
    "    ]\n",
    "    \n",
    "    r_1, r_2, r_3 = rgb_1[0], rgb_2[0], rgb_3[0]\n",
    "    g_1, g_2, g_3 = rgb_1[1], rgb_2[1], rgb_3[1]\n",
    "    b_1, b_2, b_3 = rgb_1[2], rgb_2[2], rgb_3[2]\n",
    "\n",
    "    for y in range(200):\n",
    "        delta = (200 - y) / 200\n",
    "        \n",
    "        r = rgb_compo_degrade_triple(delta, r_1, r_2, r_3)\n",
    "        g = rgb_compo_degrade_triple(delta, g_1, g_2, g_3)\n",
    "        b = rgb_compo_degrade_triple(delta, b_1, b_2, b_3)\n",
    "        \n",
    "        rgb = \"{0} {1} {2}\".format(r, g, b)\n",
    "        \n",
    "        for x in range(50):\n",
    "            lignes.append(rgb)\n",
    "    \n",
    "    \n",
    "    with open(file = chemin_image, mode =\"w\") as fichier:\n",
    "        texte = '\\n'.join(lignes)\n",
    "        \n",
    "        fichier.write(texte)\n",
    "        \n",
    "    \n",
    "    print(\"Fichier ``{0}`` créé sans problème apparant.\".format(chemin_image))\n",
    "\n",
    "\n",
    "degrade_triple_ppm(\n",
    "    chemin_image = \"images/creation/degrade_triple.ppm\",\n",
    "    rgb_1        = (202, 255, 112),\n",
    "    rgb_2        = (139, 69 , 19),\n",
    "    rgb_3        = (0  , 191, 255)\n",
    "\n",
    ")"
   ]
  },
  {
   "cell_type": "markdown",
   "metadata": {},
   "source": [
    "Voici le résultat de notre coktail de couleurs.\n",
    "\n",
    "![Dégradé triple](images/creation/degrade_triple.jpg)\n",
    "\n",
    "\n",
    "**Remarque :** rien n'empêche d'utiliser des fonctions mathématiques non affines pour passer d'une couleur à une autre tant que les valeurs ainsi produites restent dans l'intervalle des couleurs autorisées. On peut aussi faire des dégradés horizontaux de gauche à droite, ou circulaires... etc."
   ]
  },
  {
   "cell_type": "markdown",
   "metadata": {},
   "source": [
    "Pour les experts : des transformations (pas si) simples\n",
    "----------------------------------------------------\n",
    "\n",
    "### Le logo qui va être transformé\n",
    "\n",
    "Redonnons pour mémoire le logo Python où l'on note que la partie bleue est en haut à gauche.\n",
    "\n",
    "![logo inversé](images/logo_python.jpg)\n",
    "\n",
    "\n",
    "\n",
    "### Récupération efficace de toutes les informations\n",
    "\n",
    "Attaquer directement les problèmes ci-après va être grandement facilité si nous arrivons à faire une fonction récupérant toutes les informations sur les pixels dans un tableau de dimension $2$, c'est à dire une liste de lignes où chaque ligne est une liste de pixels. Pour arriver à nos fins, nous adaptons la fonction `modifie_ppm` qui était proposée pour les premiers exercices. **Sans cette idée, les exercices sont assez pénibles à faire !**"
   ]
  },
  {
   "cell_type": "code",
   "execution_count": 97,
   "metadata": {},
   "outputs": [
    {
     "name": "stdout",
     "output_type": "stream",
     "text": [
      "[117, 153, 185]\n",
      "250\n"
     ]
    }
   ],
   "source": [
    "def ppm_vers_liste(chemin_image):\n",
    "    \"\"\"\n",
    "ATTENTION !!! Pour la lecture d'image, nous ne prenons en compte que des images\n",
    "PPM produites via Gimp à la date du 9 décembre 2015. Nous faisons cela pour\n",
    "simplifier au maximum le code utilisé. \n",
    "    \"\"\"\n",
    "    with open(file = chemin_image, mode = \"r\") as fichier:\n",
    "        lignes_fichier = fichier.readlines()\n",
    "\n",
    "        # Récupération des dimensions dans la deuxième ligne.\n",
    "        dimensions = lignes_fichier[2].strip()\n",
    "        \n",
    "        largeur, hauteur = dimensions.split(\" \")\n",
    "        largeur, hauteur = int(largeur), int(hauteur)\n",
    "        \n",
    "        # La troisième ligne contient la valeur maximale pour les couleurs.\n",
    "\n",
    "        # Récupération des couleurs à partir de la quatrième ligne dans \n",
    "        # une liste \"simple\".  \n",
    "        pixels_en_farandole = []\n",
    "        \n",
    "        for i in range(4, len(lignes_fichier) - 2, 3):\n",
    "            r = lignes_fichier[i].strip()\n",
    "            g = lignes_fichier[i + 1].strip()\n",
    "            b = lignes_fichier[i + 2].strip()\n",
    "            \n",
    "            r, g, b = int(r), int(g), int(b)\n",
    "\n",
    "            nelle_couleur = [r, g, b]\n",
    "            \n",
    "            pixels_en_farandole.append(nelle_couleur)\n",
    "    \n",
    "        # Il nous reste à regrouper les pixels ligne par ligne relativement à l'image\n",
    "        # d'origine dont on connait la largeur et la hauteur.\n",
    "        lignes_pixels = []\n",
    "        \n",
    "        for i in range(0, len(pixels_en_farandole) - largeur + 1, largeur):\n",
    "            une_ligne_pixels = pixels_en_farandole[i: i + largeur]\n",
    "            \n",
    "            lignes_pixels.append(une_ligne_pixels)\n",
    "         \n",
    "        return lignes_pixels\n",
    "\n",
    "\n",
    "# -------------------------------- #\n",
    "# -- TESTONS COMME NOUS POUVONS -- #\n",
    "# -------------------------------- #\n",
    "\n",
    "lignes_pixels = ppm_vers_liste(\"images/logo_python.ppm\")\n",
    "\n",
    "# Lecture d'un pixel.\n",
    "print(lignes_pixels[100][220])\n",
    "\n",
    "# Nombre de lignes.\n",
    "print(len(lignes_pixels))\n",
    "\n",
    "# Toutes les lignes ont-elles 400 colonnes ?\n",
    "for une_ligne in lignes_pixels:\n",
    "    if len(une_ligne) != 400:\n",
    "        print(\"Problème !\")\n",
    "        break"
   ]
  },
  {
   "cell_type": "markdown",
   "metadata": {},
   "source": [
    "### Comme dans un mirroir\n",
    "\n",
    "Nous devons faire une fonction `logo_narcisse.ppm` fabriquant le logo Python \"obtenu\" via une symétrie axiale verticale relativement au côté droit de l'image initiale. Pour cela, il suffit juste d'inverser l'ordre des pixels dans chaque ligne *(de nouveau, nous utilisons un morceau de la fonction `modifie_ppm` pour créer notre nouvelle image)*."
   ]
  },
  {
   "cell_type": "code",
   "execution_count": 98,
   "metadata": {},
   "outputs": [
    {
     "name": "stdout",
     "output_type": "stream",
     "text": [
      "Fichier créé sans problème apparant.\n"
     ]
    }
   ],
   "source": [
    "# Nous utilisons la cellule ci-dessus où est définie la fonction `ppm_vers_liste`.\n",
    "\n",
    "lignes_pixels = ppm_vers_liste(\"images/logo_python.ppm\")\n",
    "\n",
    "\n",
    "with open(file = \"images/transformation/logo_narcisse.ppm\", mode =\"w\") as fichier:\n",
    "    lignes_texte = [\n",
    "        \"P3\",\n",
    "        \"400 250\",\n",
    "        \"255\"\n",
    "    ]\n",
    "\n",
    "    # Lecture ligne par ligne.\n",
    "    for une_ligne_pixels in lignes_pixels:\n",
    "        # Lecture des pixels de gauche à droite en partant de la fin.\n",
    "        for i in range(len(une_ligne_pixels) - 1, -1, -1):\n",
    "            un_pixel = une_ligne_pixels[i]\n",
    "            r, g, b  = un_pixel[0], un_pixel[1], un_pixel[2]\n",
    "           \n",
    "            lignes_texte.append(\"{0} {1} {2}\".format(r, g, b))\n",
    "\n",
    "\n",
    "    texte = \"\\n\".join(lignes_texte)\n",
    "    \n",
    "    fichier.write(texte)     \n",
    "\n",
    "print(\"Fichier créé sans problème apparant.\")"
   ]
  },
  {
   "cell_type": "markdown",
   "metadata": {},
   "source": [
    "Voici ce que nous obtenons. Ceci semble bon.\n",
    "\n",
    "![Logo narcissique](images/transformation/logo_narcisse.jpg)"
   ]
  },
  {
   "cell_type": "markdown",
   "metadata": {},
   "source": [
    "### Sans dessus dessous\n",
    "\n",
    "Nous devons faire une fonction `logo_poirier.ppm` qui permette d'obtenir le logo Python en version \"tête en bas\", autrement dit l'image obtenue en faisant faire un demi-tour au logo Python. Cela devient très facile grâce à ce qui a été fait juste avant !"
   ]
  },
  {
   "cell_type": "code",
   "execution_count": 99,
   "metadata": {},
   "outputs": [
    {
     "name": "stdout",
     "output_type": "stream",
     "text": [
      "Fichier créé sans problème apparant.\n"
     ]
    }
   ],
   "source": [
    "# ATTENTION !\n",
    "#\n",
    "# Nous utilisons la cellule où avait été définie la fonction `ppm_vers_liste`.\n",
    "\n",
    "lignes_pixels = ppm_vers_liste(\"images/logo_python.ppm\")\n",
    "\n",
    "\n",
    "with open(file = \"images/transformation/logo_poirier.ppm\", mode =\"w\") as fichier:\n",
    "    lignes_texte = [\n",
    "        \"P3\",\n",
    "        \"400 250\",\n",
    "        \"255\"\n",
    "    ]\n",
    "\n",
    "    # Lecture ligne par ligne de bas en haut en commençant par la fin.\n",
    "    for i in range(len(lignes_pixels) - 1, -1, -1):\n",
    "        une_ligne_pixels = lignes_pixels[i]\n",
    "        \n",
    "        # Lecture des pixels de gauche à droite en partant de la fin.\n",
    "        for i in range(len(une_ligne_pixels) - 1, -1, -1):\n",
    "            un_pixel = une_ligne_pixels[i]\n",
    "            r, g, b  = un_pixel[0], un_pixel[1], un_pixel[2]\n",
    "            \n",
    "            lignes_texte.append(\"{0} {1} {2}\".format(r, g, b))\n",
    "\n",
    "\n",
    "    texte = \"\\n\".join(lignes_texte)\n",
    "    \n",
    "    fichier.write(texte)     \n",
    "\n",
    "print(\"Fichier créé sans problème apparant.\")"
   ]
  },
  {
   "cell_type": "markdown",
   "metadata": {},
   "source": [
    "Voici ce que nous obtenons. Ceci semble bon.\n",
    "\n",
    "![Logo faisant le poirier](images/transformation/logo_poirier.jpg)"
   ]
  },
  {
   "cell_type": "markdown",
   "metadata": {},
   "source": [
    "### Zoom pixelisé\n",
    "\n",
    "Nous devons faire une fonction `logo_pix_zoom.ppm` qui fabrique une image ayant exactement les mêmes dimensions que notre logo Python mais dans laquelle un pixel du logo d'origine utilisera quatre pixels sur quatre dans la nouvelle image. Ceci implique que l'on ne pourra représenter qu'une fraction du logo, à savoir un seizième du logo de départ. \n",
    "\n",
    "Comme $4$ ne divise pas $250$, nous choisissons de produire une image de largeur $400$ et de hauteur $248$ et non $250$ comme cela était demandé *(la différence sera invisible ou presque à l'oeil nul)*."
   ]
  },
  {
   "cell_type": "code",
   "execution_count": 100,
   "metadata": {},
   "outputs": [
    {
     "name": "stdout",
     "output_type": "stream",
     "text": [
      "Fichier créé sans problème apparant.\n"
     ]
    }
   ],
   "source": [
    "# ATTENTION !\n",
    "#\n",
    "# Nous utilisons la cellule où avait été définie la fonction `ppm_vers_liste`.\n",
    "\n",
    "lignes_pixels = ppm_vers_liste(\"images/logo_python.ppm\")\n",
    "\n",
    "\n",
    "with open(file = \"images/transformation/logo_pix_zoom.ppm\", mode =\"w\") as fichier:\n",
    "    lignes_texte = [\n",
    "        \"P3\",\n",
    "        \"400 248\",\n",
    "        \"255\"\n",
    "    ]\n",
    "\n",
    "    # Lecture ligne par ligne.\n",
    "    for num_ligne in range(62):\n",
    "        une_ligne_pixels = lignes_pixels[num_ligne]\n",
    "        \n",
    "        # On fait quatre fois d'affilé la même ligne.\n",
    "        for i in range(4):\n",
    "            for num_col in range(100):\n",
    "                un_pixel = une_ligne_pixels[num_col]\n",
    "                r, g, b  = un_pixel[0], un_pixel[1], un_pixel[2]\n",
    "                \n",
    "                # Sur une ligne, on met quatre fois d'affilé le même pixel.\n",
    "                for j in range(4):\n",
    "                    lignes_texte.append(\"{0} {1} {2}\".format(r, g, b))\n",
    "\n",
    "\n",
    "    texte = \"\\n\".join(lignes_texte)\n",
    "    \n",
    "    fichier.write(texte)     \n",
    "\n",
    "print(\"Fichier créé sans problème apparant.\")"
   ]
  },
  {
   "cell_type": "markdown",
   "metadata": {},
   "source": [
    "Voici le résultat final.\n",
    "\n",
    "![Logo zoomé (monochrome)](images/transformation/logo_pix_zoom.jpg)\n",
    "\n",
    "L'auteur de l'énoncé s'est bien fait avoir car on obtient un beau monochrome digne de Whiteman et ses trois frères. Choisissons donc une autre partie de l'image pour la zoomer."
   ]
  },
  {
   "cell_type": "code",
   "execution_count": 101,
   "metadata": {},
   "outputs": [
    {
     "name": "stdout",
     "output_type": "stream",
     "text": [
      "Fichier créé sans problème apparant.\n"
     ]
    }
   ],
   "source": [
    "# ATTENTION !\n",
    "#\n",
    "# Nous utilisons la cellule où avait été définie la fonction `ppm_vers_liste`.\n",
    "\n",
    "lignes_pixels = ppm_vers_liste(\"images/logo_python.ppm\")\n",
    "\n",
    "\n",
    "with open(file = \"images/transformation/logo_pix_zoom_bis.ppm\", mode =\"w\") as fichier:\n",
    "    lignes_texte = [\n",
    "        \"P3\",\n",
    "        \"400 248\",\n",
    "        \"255\"\n",
    "    ]\n",
    "\n",
    "    # Lecture ligne par ligne.\n",
    "    for num_ligne in range(62, 124):\n",
    "        une_ligne_pixels = lignes_pixels[num_ligne]\n",
    "        \n",
    "        # On fait quatre fois d'affilé la même ligne.\n",
    "        for i in range(4):\n",
    "            for num_col in range(100, 200):\n",
    "                un_pixel = une_ligne_pixels[num_col]\n",
    "                r, g, b  = un_pixel[0], un_pixel[1], un_pixel[2]\n",
    "                \n",
    "                # Sur une ligne, on met quatre fois d'affilé le même pixel.\n",
    "                for j in range(4):\n",
    "                    lignes_texte.append(\"{0} {1} {2}\".format(r, g, b))\n",
    "\n",
    "\n",
    "    texte = \"\\n\".join(lignes_texte)\n",
    "    \n",
    "    fichier.write(texte)     \n",
    "\n",
    "print(\"Fichier créé sans problème apparant.\")"
   ]
  },
  {
   "cell_type": "markdown",
   "metadata": {},
   "source": [
    "Voici un résultat plus parlant.\n",
    "\n",
    "![Logo zoomé et pixélisation](images/transformation/logo_pix_zoom_bis.jpg)"
   ]
  },
  {
   "cell_type": "markdown",
   "metadata": {},
   "source": [
    "### Miniaturiser\n",
    "\n",
    "Nous devons faire une fonction `logo_demi.ppm` qui fabrique une version deux fois plus petites du logo Python. L'idée ici est de récupérer des carrées de quatre pixels adjacents et de les remplacer par un seul pixel ayant pour couleur la moyenne des couelurs des quatres pixels. Vous ne croyez pas que clea marche aussi simplement ! Tentons donc l'expérience."
   ]
  },
  {
   "cell_type": "code",
   "execution_count": null,
   "metadata": {},
   "outputs": [
    {
     "name": "stdout",
     "output_type": "stream",
     "text": [
      "Fichier créé sans problème apparant.\n"
     ]
    }
   ],
   "source": [
    "# ATTENTION !\n",
    "#\n",
    "# Nous utilisons la cellule où avait été définie la fonction `ppm_vers_liste`.\n",
    "\n",
    "lignes_pixels = ppm_vers_liste(\"images/logo_python.ppm\")\n",
    "\n",
    "\n",
    "with open(file = \"images/transformation/logo_demi.ppm\", mode =\"w\") as fichier:\n",
    "    lignes_texte = [\n",
    "        \"P3\",\n",
    "        \"200 125\",\n",
    "        \"255\"\n",
    "    ]\n",
    "\n",
    "    # Lecture une ligne sur deux.\n",
    "    for num_ligne in range(0, 250, 2):\n",
    "        une_ligne_pixels     = lignes_pixels[num_ligne]\n",
    "        ligne_pixels_dessous = lignes_pixels[num_ligne + 1]\n",
    "\n",
    "        # Pour une ligne, lecture un pixel sur deux.\n",
    "        for num_col in range(0, 400, 2):\n",
    "            # On numérote les quatre pixels comme suit :\n",
    "            #\n",
    "            #    1 2\n",
    "            #    3 4 \n",
    "            pixel_1       = une_ligne_pixels[num_col]\n",
    "            r_1, g_1, b_1 = pixel_1[0], pixel_1[1], pixel_1[2]\n",
    "                \n",
    "            pixel_2       = une_ligne_pixels[num_col + 1]\n",
    "            r_2, g_2, b_2 = pixel_2[0], pixel_2[1], pixel_2[2]\n",
    "                \n",
    "            pixel_3       = ligne_pixels_dessous[num_col]\n",
    "            r_3, g_3, b_3 = pixel_3[0], pixel_3[1], pixel_3[2]\n",
    "                \n",
    "            pixel_4       = ligne_pixels_dessous[num_col + 1]\n",
    "            r_4, g_4, b_4 = pixel_4[0], pixel_4[1], pixel_4[2]\n",
    "            \n",
    "            r_moyen = (r_1 + r_2 + r_3 + r_4) // 4\n",
    "            g_moyen = (g_1 + g_2 + g_3 + g_4) // 4\n",
    "            b_moyen = (b_1 + b_2 + b_3 + b_4) // 4\n",
    "                \n",
    "            lignes_texte.append(\"{0} {1} {2}\".format(r_moyen, g_moyen, b_moyen))\n",
    "\n",
    "\n",
    "    texte = \"\\n\".join(lignes_texte)\n",
    "    \n",
    "    fichier.write(texte)     \n",
    "\n",
    "print(\"Fichier créé sans problème apparant.\")"
   ]
  },
  {
   "cell_type": "markdown",
   "metadata": {},
   "source": [
    "Et voilà ! C'est tellement simple...\n",
    "\n",
    "![Logo miniaturisé](images/transformation/logo_demi.jpg)"
   ]
  },
  {
   "cell_type": "markdown",
   "metadata": {},
   "source": [
    "### Rotation de $90$ dégrés, une opération courante pour les images\n",
    "\n",
    "Pour finir, nous cherchons à obtenir une version du logo Python tourné de $90$ dégrés dans le sens anti-horaire, *i.e.* dans le sens trigonométrique.\n",
    "\n",
    "On note $\\mathcal R$ la rotation de centre l'origine du repère **orthonormé** et d'angle $90°$ dans le sens anti-horaire, et on considère $N$ un point qui est l'image par la rotation $\\mathcal R$ d'un point $M(x_M \\,;\\, y_M)$. \n",
    "\n",
    "Pour comprendre ce qu'il se passe, manipulez l'applet GeoGebra ci-dessous *(cet applet est hebergé, à mon grand regret, sur le site collaboratif  [GeoGebra Tube](http://tube.geogebra.org) qui est trop contraignant)*.\n",
    "Vous pouvez faire évoluer la valeur du curseur $\\alpha$ afin de visualiser l'effet de la rotation $\\mathcal R$ pour essayer de trouver une formule simple exprimant $x_N$ et $y_N$ en fonction de $x_M$ et $y_M$ *(la réponse est donnée un peu plus bas)*.\n",
    "\n",
    "**Indication :** si vous bloquez, changez la valeur du curseur $see$ pour la mettre à $1$ afin de voir apparaître quelques indices.\n",
    "\n",
    "**ATTENTION !** Notez bien que l'on a travaille dans un repère graphique avec l'axe des ordonnées pointé vers le bas. [Cette page](http://ggbtu.be/m2328165) vous permt de manipuler l'image dans un repère mathématique \"standard\". Vous obtiendrez des formules différentes. Seriez-vous trouvez comment l'on passe du cas des axes \"graphiques\" à celui des axes \"mathématiques\" ?"
   ]
  },
  {
   "cell_type": "code",
   "execution_count": 1,
   "metadata": {},
   "outputs": [
    {
     "data": {
      "text/html": [
       "<center>\n",
       "  <iframe scrolling=\"no\"\n",
       "          src=\"https://www.geogebra.org/material/iframe/id/2328841/width/644/height/694/border/888888/rc/false/ai/false/sdz/false/smb/false/stb/false/stbh/true/ld/false/sri/true/at/auto\"\n",
       "          width=\"480px\" height=\"534px\"\n",
       "          style=\"border:0px;\">\n",
       "  </iframe>\n",
       "</center>"
      ],
      "text/plain": [
       "<IPython.core.display.HTML object>"
      ]
     },
     "execution_count": 1,
     "metadata": {},
     "output_type": "execute_result"
    }
   ],
   "source": [
    "import IPython\n",
    "\n",
    "iframe = \"\"\"<center>\n",
    "  <iframe scrolling=\"no\"\n",
    "          src=\"https://www.geogebra.org/material/iframe/id/2328841/width/644/height/694/border/888888/rc/false/ai/false/sdz/false/smb/false/stb/false/stbh/true/ld/false/sri/true/at/auto\"\n",
    "          width=\"480px\" height=\"534px\"\n",
    "          style=\"border:0px;\">\n",
    "  </iframe>\n",
    "</center>\"\"\"\n",
    "IPython.display.HTML(iframe)"
   ]
  },
  {
   "cell_type": "markdown",
   "metadata": {},
   "source": [
    "Ceci nous amène à conjecturer que $x_N = y_M$ et $y_N = -x_M$. Cette conjecture est vraie mais nous admettrons ceci *(la méthode la plus efficace pour démontrer ceci est l'utilisation des nombres complexes)*.\n",
    "\n",
    "Il nous reste deux petits problèmes à résoudre.\n",
    "\n",
    "1. Pour notre nouvelle image à produire, nous devons n'avoir que des valeurs commençant à $0$. Ceci se règle facilement car il suffit d'ajouter $x_M^{max} = 399$ dans la formule $y_N = -x_M$ qui devient $y_N = 399 - x_M$.\n",
    "\n",
    "1. Comme nous allons construire la nouvelle image, pour accéder aux informations dans l'image à transformer nous n'allons pas utiliser les transformations $x_N = y_M$ et $y_N = 399 - x_M$ mais leurs réciproques $x_M = 399 - y_N$ et $y_M = x_N$."
   ]
  },
  {
   "cell_type": "code",
   "execution_count": 107,
   "metadata": {},
   "outputs": [
    {
     "name": "stdout",
     "output_type": "stream",
     "text": [
      "Fichier créé sans problème apparant.\n"
     ]
    }
   ],
   "source": [
    "# ATTENTION !\n",
    "#\n",
    "# Nous utilisons la cellule où avait été définie la fonction `ppm_vers_liste`.\n",
    "\n",
    "lignes_pixels = ppm_vers_liste(\"images/logo_python.ppm\")\n",
    "\n",
    "\n",
    "with open(file = \"images/transformation/logo_quart_tour.ppm\", mode =\"w\") as fichier:\n",
    "    lignes_texte = [\n",
    "        \"P3\",\n",
    "        \"250 400\",\n",
    "        \"255\"\n",
    "    ]\n",
    "\n",
    "    for y in range(400):        \n",
    "        for x in range(250):\n",
    "            # x_M = 399 - y_N  et  y_M = x_N\n",
    "            pixel = lignes_pixels[x][399 - y]\n",
    "            \n",
    "            lignes_texte.append(\"{0} {1} {2}\".format(pixel[0], pixel[1], pixel[2]))\n",
    "\n",
    "    texte = \"\\n\".join(lignes_texte)\n",
    "    \n",
    "    fichier.write(texte)     \n",
    "\n",
    "print(\"Fichier créé sans problème apparant.\")"
   ]
  },
  {
   "cell_type": "markdown",
   "metadata": {},
   "source": [
    "Vérifions que tout a fonctionné comme souhaité.\n",
    "\n",
    "![Logo après un quart de tour anti-horaire](images/transformation/logo_quart_tour.jpg)\n",
    "\n",
    "Ce n'était pas si simple que cela..."
   ]
  }
 ],
 "metadata": {
  "kernelspec": {
   "display_name": "Python 3",
   "language": "python",
   "name": "python3"
  },
  "language_info": {
   "codemirror_mode": {
    "name": "ipython",
    "version": 3
   },
   "file_extension": ".py",
   "mimetype": "text/x-python",
   "name": "python",
   "nbconvert_exporter": "python",
   "pygments_lexer": "ipython3",
   "version": "3.7.5"
  },
  "name": "picture-ascii-formats_cor.ipynb"
 },
 "nbformat": 4,
 "nbformat_minor": 1
}
