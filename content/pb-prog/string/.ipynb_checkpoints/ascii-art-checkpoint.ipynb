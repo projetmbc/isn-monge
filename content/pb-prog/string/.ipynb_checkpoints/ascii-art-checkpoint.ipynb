{
 "cells": [
  {
   "cell_type": "markdown",
   "metadata": {},
   "source": [
    "Problématique 5 : Organiser son code - Une proto-bibliothèque d'ASCII art\n",
    "============================\n",
    "\n",
    "Dans le T.P. précédent, vous avez appris à tracer des figures géométriques à l'aide de caractères. Nous allons pousser un peu plus loin ces exercices afin de commencer un tout début de bibliothèque d'ASCII art."
   ]
  },
  {
   "cell_type": "markdown",
   "metadata": {},
   "source": [
    "Réorganiser ce qui a été déjà fait\n",
    "--------------\n",
    "\n",
    "Vous allez devoir coder trois fonctions respectant certaines contraintes. La première fonction nommée `square` avec un seul paramètre obligatoire `size` sert à imprimer un carré de la taille demandée.\n",
    "Par exemple `square(size = 3)` imprimera le carré suivant."
   ]
  },
  {
   "cell_type": "raw",
   "metadata": {},
   "source": [
    "***\n",
    "***\n",
    "***"
   ]
  },
  {
   "cell_type": "markdown",
   "metadata": {},
   "source": [
    "Une deuxième fonction nommée `parallelogram` avec deux paramètres obligatoires `length` et `height` permettra d'imprimer un parallélogramme de largeur et de hauteurs données.\n",
    "Par exemple `parallelogram(length = 3, height = 5)` imprimera le parallélogramme suivant."
   ]
  },
  {
   "cell_type": "raw",
   "metadata": {},
   "source": [
    "***\n",
    " ***\n",
    "  ***\n",
    "   ***\n",
    "    ***"
   ]
  },
  {
   "cell_type": "markdown",
   "metadata": {},
   "source": [
    "Une troisième fonction nommée `isotriangle` avec un paramètre obligatoire `height` permettra d'imprimer un triangle isocèle de la hauteur demandée.\n",
    "Par exemple `isotriangle(height = 3)` imprimera le triangle suivant."
   ]
  },
  {
   "cell_type": "raw",
   "metadata": {},
   "source": [
    "  *\n",
    " ***\n",
    "*****"
   ]
  },
  {
   "cell_type": "markdown",
   "metadata": {},
   "source": [
    "A vous de compléter le code suivant pour que le test final affiche ce qui est demandé."
   ]
  },
  {
   "cell_type": "code",
   "execution_count": 13,
   "metadata": {},
   "outputs": [
    {
     "name": "stdout",
     "output_type": "stream",
     "text": [
      "\n",
      "-----------------------\n",
      "UN CARRÉ DE DIMENSION 5\n",
      "-----------------------\n",
      "\n",
      "Où est mon carré ?\n",
      "\n",
      "--------------------------------------------\n",
      "UN PARALLÉLOGRAMME DE HAUTEUR 7 ET LARGEUR 3\n",
      "--------------------------------------------\n",
      "\n",
      "Où est mon parallélogramme ?\n",
      "\n",
      "------------------------------\n",
      "TRIANGLE ISOCÈLE DE HAUTEUR 11\n",
      "------------------------------\n",
      "\n",
      "Où est mon triangle \"isocèle\"  ?\n"
     ]
    }
   ],
   "source": [
    "# ----------------------- #\n",
    "# -- FONCTIONS A CODER -- #\n",
    "# ----------------------- #\n",
    "\n",
    "def square(size):\n",
    "    print(\"Où est mon carré ?\")\n",
    "    \n",
    "def parallelogram(length, height):\n",
    "    print(\"Où est mon parallélogramme ?\")\n",
    "    \n",
    "def isotriangle(height):\n",
    "    print(\"Où est mon triangle \\\"isocèle\\\"  ?\")\n",
    "\n",
    "\n",
    "# ----------- #\n",
    "# -- TESTS -- #\n",
    "# ----------- #\n",
    "\n",
    "print(\"\"\"\n",
    "-----------------------\n",
    "UN CARRÉ DE DIMENSION 5\n",
    "-----------------------\n",
    "\"\"\")\n",
    "square(size = 5)\n",
    "\n",
    "print(\"\"\"\n",
    "--------------------------------------------\n",
    "UN PARALLÉLOGRAMME DE HAUTEUR 7 ET LARGEUR 3\n",
    "--------------------------------------------\n",
    "\"\"\")\n",
    "parallelogram(length = 7, height = 3)\n",
    "\n",
    "print(\"\"\"\n",
    "------------------------------\n",
    "TRIANGLE ISOCÈLE DE HAUTEUR 11\n",
    "------------------------------\n",
    "\"\"\")\n",
    "isotriangle(height = 11)"
   ]
  },
  {
   "cell_type": "markdown",
   "metadata": {},
   "source": [
    "Arguments optionnels\n",
    "--------------------------\n",
    "\n",
    "La fonction très simple suivante `hline` permet de tracer une ligne horizontale du nombre de caractères demandés avec la possibilité de changer ou non le symbole utilisé pour le tracé. Vous noterez différentes façons d'appeler la fonction `hline`."
   ]
  },
  {
   "cell_type": "code",
   "execution_count": 3,
   "metadata": {},
   "outputs": [
    {
     "name": "stdout",
     "output_type": "stream",
     "text": [
      "LIGNE HORIZONTALE DE TAILLE 11\n",
      "***********\n",
      "\n",
      "LIGNE HORIZONTALE DE TAILLE 5\n",
      "*****\n",
      "\n",
      "LIGNE HORIZONTALE DE TAILLE 3 TRACÉE AVEC DES +\n",
      "++++++\n",
      "\n",
      "LIGNE HORIZONTALE DE TAILLE 7 TRACÉE AVEC DES @+- (un peu gênant)\n",
      "@+-@+-@+-@+-@+-@+-@+-\n"
     ]
    }
   ],
   "source": [
    "# ----------------------- #\n",
    "# -- FONCTIONS A CODER -- #\n",
    "# ----------------------- #\n",
    "\n",
    "def hline(length, symbol = \"*\"):\n",
    "    line = symbol*length\n",
    "    \n",
    "    print(line)\n",
    "\n",
    "\n",
    "# ----------- #\n",
    "# -- TESTS -- #\n",
    "# ----------- #\n",
    "\n",
    "print(\"LIGNE HORIZONTALE DE TAILLE 11\")\n",
    "hline(length = 11)\n",
    "\n",
    "print(\"\\nLIGNE HORIZONTALE DE TAILLE 5\")\n",
    "hline(5)\n",
    "\n",
    "print(\"\\nLIGNE HORIZONTALE DE TAILLE 3 TRACÉE AVEC DES +\")\n",
    "hline(length = 6, symbol = \"+\")\n",
    "\n",
    "print(\"\\nLIGNE HORIZONTALE DE TAILLE 7 TRACÉE AVEC DES @+- (un peu gênant)\")\n",
    "hline(7, symbol = \"@+-\")"
   ]
  },
  {
   "cell_type": "markdown",
   "metadata": {},
   "source": [
    "Créer une fonction \"menu\"\n",
    "-------------------------------\n",
    "\n",
    "Créer une bibliothèque de nouvelles fonctions pour répondre au cahier des charges suivant.\n",
    "\n",
    "  1. L'utilisateur peut tracer autant de fois qu'il le veut un \"ASCII\" carré, un \"ASCII\" parallélogramme, un \"ASCII\" triangle isocèle, ainsi que des \"ASCII\" lignes horizontales et verticales. \n",
    "\n",
    "  1. À chaque tracé, l'utilisateur peut choisir le symbole utilisé. On ne peut utiliser qu'un seul caractère.\n",
    "\n",
    "  1. À tout moment, l'utilisateur doit pouvoir arrêter son oeuvre \"ASCII\"."
   ]
  },
  {
   "cell_type": "code",
   "execution_count": null,
   "metadata": {},
   "outputs": [],
   "source": [
    "# --------------------- #\n",
    "# -- À VOUS DE CODER -- #\n",
    "# --------------------- #\n",
    "\n",
    "..."
   ]
  }
 ],
 "metadata": {
  "kernelspec": {
   "display_name": "Python 3",
   "language": "python",
   "name": "python3"
  },
  "language_info": {
   "codemirror_mode": {
    "name": "ipython",
    "version": 3
   },
   "file_extension": ".py",
   "mimetype": "text/x-python",
   "name": "python",
   "nbconvert_exporter": "python",
   "pygments_lexer": "ipython3",
   "version": "3.6.6"
  },
  "name": "string2.ipynb"
 },
 "nbformat": 4,
 "nbformat_minor": 1
}
