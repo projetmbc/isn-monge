{
 "cells": [
  {
   "cell_type": "markdown",
   "metadata": {},
   "source": [
    "Problématique 4 : Programmation - Manipuler des chaînes de caractères\n",
    "============================\n",
    "\n",
    "Vous trouvez dans ce document divers problèmes autour des textes. Rappelons que les textes peuvent être représentés sous forme de chaînes de caractères.\n",
    "\n",
    "Vous êtes vivement invité(e) à écrire un algorithme \"papier\" avant toute écriture de programme, excepté bien entendu si la question vous semble évidente."
   ]
  },
  {
   "cell_type": "markdown",
   "metadata": {
    "collapsed": true
   },
   "source": [
    "Géométrie ASCII\n",
    "--------------\n",
    "\n",
    "### Mise en bouche avec un carré \"étoilé\"\n",
    "\n",
    "Faire un programme qui affiche le texte suivant. Nous appelerons ceci un carré \"étoilé\" de longueur $3$."
   ]
  },
  {
   "cell_type": "raw",
   "metadata": {
    "collapsed": true
   },
   "source": [
    "***\n",
    "***\n",
    "***"
   ]
  },
  {
   "cell_type": "code",
   "execution_count": 1,
   "metadata": {},
   "outputs": [],
   "source": [
    "# ----------------------------------------- #\n",
    "# -- TAPEZ VOTRE CODE DANS CETTE CELLULE -- #\n",
    "# ----------------------------------------- #"
   ]
  },
  {
   "cell_type": "markdown",
   "metadata": {},
   "source": [
    "### Un carré \"étoilé\" plus grand\n",
    "\n",
    "1. Demandez à votre voisin un naturel $L$ entre $5$ et $10$, puis faites un programme qui affiche un carré \"étoilé\" de longueur $L$ la valeur donnée par votre voisin.\n",
    "\n",
    "1. Reprendre la question précédente mais en demandant cette fois un naturel $L$ entre $50$ et $100$."
   ]
  },
  {
   "cell_type": "code",
   "execution_count": 2,
   "metadata": {},
   "outputs": [],
   "source": [
    "# ----------------------------------------- #\n",
    "# -- TAPEZ VOTRE CODE DANS CETTE CELLULE -- #\n",
    "# ----------------------------------------- #"
   ]
  },
  {
   "cell_type": "markdown",
   "metadata": {},
   "source": [
    "### Un parallélogramme \"étoilé\"\n",
    "\n",
    "Faire un programme qui affiche le texte suivant. Nous appelerons ceci un parallélogramme \"étoilé\" de longueur $3$ et de hauteur $5$."
   ]
  },
  {
   "cell_type": "raw",
   "metadata": {},
   "source": [
    "***\n",
    " ***\n",
    "  ***\n",
    "   ***\n",
    "    ***"
   ]
  },
  {
   "cell_type": "code",
   "execution_count": 3,
   "metadata": {},
   "outputs": [],
   "source": [
    "# ----------------------------------------- #\n",
    "# -- TAPEZ VOTRE CODE DANS CETTE CELLULE -- #\n",
    "# ----------------------------------------- #"
   ]
  },
  {
   "cell_type": "markdown",
   "metadata": {},
   "source": [
    "Écrire un programme qui demande à l'utilisateur un entier naturel non nul $L \\in \\mathbb{N}^\\star$, puis un autre entier naturel non nul $h \\in \\mathbb{N}^\\star$, et qui ensuite affiche un parallélogramme \"étoilé\" de longueur $L$ et de hauteur $h$. Par exemple, pour $L = 7$ et $h = 4$, le programme devra afficher ce qui suit."
   ]
  },
  {
   "cell_type": "raw",
   "metadata": {},
   "source": [
    "*******\n",
    " *******\n",
    "  *******\n",
    "   *******"
   ]
  },
  {
   "cell_type": "code",
   "execution_count": 4,
   "metadata": {},
   "outputs": [],
   "source": [
    "# ----------------------------------------- #\n",
    "# -- TAPEZ VOTRE CODE DANS CETTE CELLULE -- #\n",
    "# ----------------------------------------- #"
   ]
  },
  {
   "cell_type": "markdown",
   "metadata": {},
   "source": [
    "### Des triangles \"isocèles étoilés\"\n",
    "\n",
    "Écrire un programme qui demande à l'utilisateur un entier naturel non nul $h \\in \\mathbb{N}^\\star$, puis affiche un triangle \"isocèle étoilé\" de hauteur $h$. Par exemple, pour $h = 3$, le programme devra afficher ce qui suit."
   ]
  },
  {
   "cell_type": "raw",
   "metadata": {},
   "source": [
    "  *\n",
    " ***\n",
    "*****"
   ]
  },
  {
   "cell_type": "markdown",
   "metadata": {},
   "source": [
    "Pour $h = 5$, le texte affiché sera le suivant."
   ]
  },
  {
   "cell_type": "raw",
   "metadata": {},
   "source": [
    "    *\n",
    "   ***\n",
    "  *****\n",
    " *******\n",
    "*********"
   ]
  },
  {
   "cell_type": "code",
   "execution_count": 5,
   "metadata": {},
   "outputs": [],
   "source": [
    "# ----------------------------------------- #\n",
    "# -- TAPEZ VOTRE CODE DANS CETTE CELLULE -- #\n",
    "# ----------------------------------------- #"
   ]
  },
  {
   "cell_type": "markdown",
   "metadata": {},
   "source": [
    "Noms autorisés pour les variables Python\n",
    "--------------------------------------\n",
    "\n",
    "Pour nommer une variable dans le langage Python, il faut suivre certaines contraintes que voici d'après [cette page](https://en.wikibooks.org/wiki/Think_Python/Variables,_expressions_and_statements#Variable_names_and_keywords).\n",
    "\n",
    "1. Un nom de variable peut avoir une longueur arbitraire.\n",
    "\n",
    "1. Les caractères autorisés sont le blanc souligné _ , les chiffres, et les lettres non accentuées, soit en minuscule les lettres qui sont dans le texte entre les guillemets `\"abcdefghijklmnopqrstuvwxz\"`.\n",
    "\n",
    "1. Un nom de variable ne doit pas commencer par un chiffre.\n",
    "\n",
    "Écrire un programme qui demande à l'utilisateur un nom de variable Python puis indique si le nom est autorisé ou non. Par exemple, `nom` , `nom_2` , `_possible` et `_` sont quatre noms autorisés contrairement à `2_mots` et `français`.\n",
    "\n",
    "**Astuce :** les variables de type `set` en Python qui modélisent le comportement des ensembles peuvent être utiles ici. "
   ]
  },
  {
   "cell_type": "code",
   "execution_count": 6,
   "metadata": {},
   "outputs": [],
   "source": [
    "# ----------------------------------------- #\n",
    "# -- TAPEZ VOTRE CODE DANS CETTE CELLULE -- #\n",
    "# ----------------------------------------- #"
   ]
  },
  {
   "cell_type": "markdown",
   "metadata": {},
   "source": [
    "Voyelles utiles ou inutiles ?\n",
    "---------------------------\n",
    "\n",
    "Écrire un programme qui demande à l'utilisateur un mot puis affiche dans l'ordre d'apparition uniquement les consonnes du mot. Pour simplifier, nous ne considérons que le mot est tout en minuscules, ce qui implique que les consonnes seront contenues dans le texte entre les guillemets suivant : `\"bcdfghjklmnpqrstvwxz\"`. \n",
    "Par exemple, pour le mot `\"consonne\"`, le programme devra afficher `\"cnsnn\"`."
   ]
  },
  {
   "cell_type": "code",
   "execution_count": 7,
   "metadata": {},
   "outputs": [],
   "source": [
    "# ----------------------------------------- #\n",
    "# -- TAPEZ VOTRE CODE DANS CETTE CELLULE -- #\n",
    "# ----------------------------------------- #"
   ]
  },
  {
   "cell_type": "markdown",
   "metadata": {},
   "source": [
    "Reprendre le programme précédent pour qu'il affiche des tirets à la place des lettres qui ne sont pas des consonnes. Par exemple, pour le mot `\"consonne\"`, le programme devra afficher `\"c-ns-nn-\"`."
   ]
  },
  {
   "cell_type": "code",
   "execution_count": 8,
   "metadata": {},
   "outputs": [],
   "source": [
    "# ----------------------------------------- #\n",
    "# -- TAPEZ VOTRE CODE DANS CETTE CELLULE -- #\n",
    "# ----------------------------------------- #"
   ]
  },
  {
   "cell_type": "markdown",
   "metadata": {},
   "source": [
    "**Remarque : ** vous pourrez tester au près de vos amis ou dans votre famille si l'absence de voyelles est importante ou non pour déchiffrer un mot."
   ]
  },
  {
   "cell_type": "markdown",
   "metadata": {},
   "source": [
    "Votre tout premier jeu : un pendu simplifié\n",
    "----------------------------------------\n",
    "\n",
    "### Rappel des règles du jeu du pendu\n",
    "\n",
    "Dans ce jeu, on doit deviner un mot. On dispose pour cela d'un nombre fini d'essais pour proposer des lettres qui seraient contenues dans le mot à deviner. Si l'on trouve une lettre, on peut alors proposer une réponse.\n",
    "\n",
    "\n",
    "### Un algorithme avant de programmer\n",
    "\n",
    "Proposez un algorithme traduisant une version du jeu du pendu où `MOT_A_DECOUVRIR` désignera le mot à découvrir, et `NBRE_MAX_ESSAIS` un nombre maximal d'essais autorisés pour chercher le mot."
   ]
  },
  {
   "cell_type": "markdown",
   "metadata": {},
   "source": [
    "### Il est temps de programmer...\n",
    "\n",
    "Une fois votre algorithme validé, programmez-le. "
   ]
  },
  {
   "cell_type": "code",
   "execution_count": 9,
   "metadata": {},
   "outputs": [],
   "source": [
    "# ----------------------------------------- #\n",
    "# -- TAPEZ VOTRE CODE DANS CETTE CELLULE -- #\n",
    "# ----------------------------------------- #"
   ]
  }
 ],
 "metadata": {
  "kernelspec": {
   "display_name": "Python 3",
   "language": "python",
   "name": "python3"
  },
  "language_info": {
   "codemirror_mode": {
    "name": "ipython",
    "version": 3
   },
   "file_extension": ".py",
   "mimetype": "text/x-python",
   "name": "python",
   "nbconvert_exporter": "python",
   "pygments_lexer": "ipython3",
   "version": "3.6.6"
  },
  "name": "string2.ipynb"
 },
 "nbformat": 4,
 "nbformat_minor": 1
}
