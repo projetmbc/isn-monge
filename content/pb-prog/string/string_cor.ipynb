{
 "cells": [
  {
   "cell_type": "markdown",
   "metadata": {},
   "source": [
    "Problématique 4 : Programmation - Manipuler des chaînes de caractères - Des solutions possibles\n",
    "==========================================\n"
   ]
  },
  {
   "cell_type": "markdown",
   "metadata": {
    "collapsed": true
   },
   "source": [
    "Géométrie ASCII\n",
    "--------------\n",
    "\n",
    "### Mise en bouche avec un carré \"étoilé\"\n",
    "\n",
    "#### Énoncé\n",
    "\n",
    "Il fallait faire un programme qui affiche le texte suivant."
   ]
  },
  {
   "cell_type": "raw",
   "metadata": {
    "collapsed": true
   },
   "source": [
    "***\n",
    "***\n",
    "***"
   ]
  },
  {
   "cell_type": "markdown",
   "metadata": {},
   "source": [
    "#### Solution 1 : le copier-coller\n",
    "\n",
    "Commençons par la méthode la plus rapide mais aussi la moins adaptable. On utilise les triples guillemets qui autorisent les retours à la ligne."
   ]
  },
  {
   "cell_type": "code",
   "execution_count": null,
   "metadata": {
    "collapsed": true
   },
   "outputs": [],
   "source": [
    "print(\"\"\"***\n",
    "***\n",
    "***\"\"\")"
   ]
  },
  {
   "cell_type": "markdown",
   "metadata": {},
   "source": [
    "#### Solution 2 : ligne par ligne\n",
    "\n",
    "Faisons un peu de programmation en notant que l'on doit afficher trois fois la même ligne."
   ]
  },
  {
   "cell_type": "code",
   "execution_count": null,
   "metadata": {
    "collapsed": true
   },
   "outputs": [],
   "source": [
    "for i in range(3):\n",
    "    print(\"***\")"
   ]
  },
  {
   "cell_type": "markdown",
   "metadata": {},
   "source": [
    "#### Solution  3 : caractère par caractère\n",
    "\n",
    "On peut aussi raisonner sur les caractères comme suit.\n",
    "\n",
    "1. On affiche trois caractères `*` les uns après les autres.\n",
    "1. On va à la ligne.\n",
    "1. On refait deux fois de suite les deux actions précédentes. "
   ]
  },
  {
   "cell_type": "code",
   "execution_count": null,
   "metadata": {
    "collapsed": true
   },
   "outputs": [],
   "source": [
    "for i in range(3):\n",
    "    for j in range(3):\n",
    "        print(\"*\", end = \"\")\n",
    "\n",
    "    print(\"\")"
   ]
  },
  {
   "cell_type": "markdown",
   "metadata": {},
   "source": [
    "Comparée à la solution 2, la solution 3 utilise deux boucles `for` imbriquées. Ceci demande d'analyser un peu plus ce dernier code pour comprendre ce qu'il fait.\n",
    "\n",
    "\n",
    "#### Solution 4 : ligne par ligne mais facilement modifiable\n",
    "\n",
    "Ce qui suit ressemble beaucoup à la solution 2 excepté que nous indiquons le nombre de caractères par ligne au lieu de taper nous-même ces caractères.\n",
    "On utilise `\"*\"*3` qui est un raccourci pour `\"*\" + \"*\" + \"*\"`.\n",
    "Dans le code suivant, il devient alors rapide et facile de modifier le nombre de caractères par ligne."
   ]
  },
  {
   "cell_type": "code",
   "execution_count": null,
   "metadata": {
    "collapsed": true
   },
   "outputs": [],
   "source": [
    "ligne = \"*\"*3\n",
    "\n",
    "for i in range(3):\n",
    "    print(ligne)"
   ]
  },
  {
   "cell_type": "markdown",
   "metadata": {},
   "source": [
    "#### Solution 5 : un peu de magie \"Pythonienne\"\n",
    "\n",
    "Pour comprendre le code suivant, il faut savoir que `\"\\n\"` indique un retour à la ligne donc l'affichage de `\"*\"*3 + \"\\n\"` donnera `***` suivi d'un retour à la ligne."
   ]
  },
  {
   "cell_type": "code",
   "execution_count": null,
   "metadata": {
    "collapsed": true
   },
   "outputs": [],
   "source": [
    "carre = (\"*\"*3 + \"\\n\")*3\n",
    "\n",
    "print(carre)"
   ]
  },
  {
   "cell_type": "markdown",
   "metadata": {},
   "source": [
    "On peut reprendre le code précédent pour n'utiliser qu'une seule ligne. Très court mais peu lisible..."
   ]
  },
  {
   "cell_type": "code",
   "execution_count": null,
   "metadata": {
    "collapsed": true
   },
   "outputs": [],
   "source": [
    "print((\"*\"*3 + \"\\n\")*3)"
   ]
  },
  {
   "cell_type": "markdown",
   "metadata": {},
   "source": [
    "### Un carré \"étoilé\" plus grand\n",
    "\n",
    "#### Énoncé\n",
    "\n",
    "1. Demandez à votre voisin un naturel $L$ entre $5$ et $10$, puis faites un programme qui affiche un carré \"étoilé\" de longueur $L$ la valeur donnée par votre voisin.\n",
    "\n",
    "1. Reprendre la question précédente mais en demandant cette fois un naturel $L$ entre $50$ et $100$.\n",
    "\n",
    "\n",
    "#### Solution 6  : ligne par ligne facilement modifiable\n",
    "\n",
    "Nous n'allons bien entendu pas nous amuser à taper nous-même le bon nombre de caractères `*`. Nous proposons la méthode suivante : voir la solution $4$."
   ]
  },
  {
   "cell_type": "code",
   "execution_count": null,
   "metadata": {
    "collapsed": true
   },
   "outputs": [],
   "source": [
    "longueur = 8\n",
    "ligne    = \"*\"*longueur\n",
    "\n",
    "for i in range(longueur):\n",
    "    print(ligne)"
   ]
  },
  {
   "cell_type": "markdown",
   "metadata": {},
   "source": [
    "#### Solution 7  : le retour du Python magicien\n",
    "\n",
    "On peut utiliser le code suivant qui bien que très court n'est pas le plus immédiat à comprendre : voir la solution $5$."
   ]
  },
  {
   "cell_type": "code",
   "execution_count": null,
   "metadata": {
    "collapsed": true
   },
   "outputs": [],
   "source": [
    "longueur = 5\n",
    "print((\"*\"*longueur + \"\\n\")*longueur)"
   ]
  },
  {
   "cell_type": "markdown",
   "metadata": {},
   "source": [
    "### Un parallélogramme \"étoilé\"\n",
    "\n",
    "#### Énoncé\n",
    "\n",
    "Faire un programme qui affiche le texte suivant. Nous appelerons ceci un parallélogramme \"étoilé\" de longueur $3$ et de hauteur $5$."
   ]
  },
  {
   "cell_type": "raw",
   "metadata": {},
   "source": [
    "***\n",
    " ***\n",
    "  ***\n",
    "   ***\n",
    "    ***"
   ]
  },
  {
   "cell_type": "markdown",
   "metadata": {},
   "source": [
    "#### Solution 8\n",
    "\n",
    "La figure est assez similaire à ce qui a été fait avec le carré. On peut déjà commencer par faire un rectangle \"étoilé\" de longueur $3$ et de hauteur $5$ sans nous occuper des espaces à gauche. On veut donc obtenir ce qui suit."
   ]
  },
  {
   "cell_type": "raw",
   "metadata": {},
   "source": [
    "***\n",
    "***\n",
    "***\n",
    "***\n",
    "***"
   ]
  },
  {
   "cell_type": "markdown",
   "metadata": {},
   "source": [
    "Il suffit d'adapter la solution 6 ci-dessus comme suit. Nous choisissons cette solution car elle permet de changer très facilement les dimensions du rectangle."
   ]
  },
  {
   "cell_type": "code",
   "execution_count": null,
   "metadata": {
    "collapsed": true
   },
   "outputs": [],
   "source": [
    "longueur = 3\n",
    "hauteur  = 5\n",
    "\n",
    "ligne = \"*\"*longueur\n",
    "\n",
    "for i in range(hauteur):\n",
    "    print(ligne)"
   ]
  },
  {
   "cell_type": "markdown",
   "metadata": {},
   "source": [
    "Il nous reste à ajouter les espaces à gauche dans le dessin suivant."
   ]
  },
  {
   "cell_type": "raw",
   "metadata": {},
   "source": [
    "***\n",
    " ***\n",
    "  ***\n",
    "   ***\n",
    "    ***"
   ]
  },
  {
   "cell_type": "markdown",
   "metadata": {},
   "source": [
    "Comptons le nombre d'espaces dans chaque ligne que l'on numérote à la Python.\n",
    "\n",
    "1. Ligne $0$ : $0$ espace\n",
    "1. Ligne $1$ : $1$ espace\n",
    "1. Ligne $2$ : $2$ espaces\n",
    "1. Ligne $3$ : $3$ espaces\n",
    "1. Ligne $4$ : $4$ espaces\n",
    "\n",
    "Ceci nous amène au code suivant."
   ]
  },
  {
   "cell_type": "code",
   "execution_count": null,
   "metadata": {
    "collapsed": true
   },
   "outputs": [],
   "source": [
    "longueur = 3\n",
    "hauteur  = 5\n",
    "\n",
    "ligne = \"*\"*longueur\n",
    "\n",
    "for i in range(hauteur):\n",
    "    decalage = \" \"*i\n",
    "\n",
    "    print(decalage + ligne)"
   ]
  },
  {
   "cell_type": "markdown",
   "metadata": {},
   "source": [
    "#### Énoncé\n",
    "\n",
    "Écrire un programme qui demande à l'utilisateur un entier naturel non nul $L \\in \\mathbb{N}^\\star$, puis un autre entier naturel non nul $h \\in \\mathbb{N}^\\star$, et qui ensuite affiche un parallélogramme \"étoilé\" de longueur $L$ et de hauteur $h$. Par exemple, pour $L = 7$ et $h = 4$, le programme devra afficher ce qui suit."
   ]
  },
  {
   "cell_type": "raw",
   "metadata": {},
   "source": [
    "*******\n",
    " *******\n",
    "  *******\n",
    "   *******"
   ]
  },
  {
   "cell_type": "markdown",
   "metadata": {},
   "source": [
    "#### Solution 9\n",
    "\n",
    "Comme `input` renvoie une chaîne de caractères, nous devons utiliser `int` pour transformer la réponse de l'utilisateur en un naturel, dans la mesure du possible."
   ]
  },
  {
   "cell_type": "code",
   "execution_count": null,
   "metadata": {
    "collapsed": true
   },
   "outputs": [],
   "source": [
    "longueur = int(input(\"Longueur : \"))\n",
    "hauteur  = int(input(\"Hauteur  : \"))\n",
    "\n",
    "# Avec une ligne vide, c'est plus joli. \n",
    "print(\"\") \n",
    "\n",
    "ligne = \"*\"*longueur\n",
    "\n",
    "for i in range(hauteur):\n",
    "    decalage = \" \"*i\n",
    "\n",
    "    print(decalage + ligne)"
   ]
  },
  {
   "cell_type": "markdown",
   "metadata": {},
   "source": [
    "### Des triangles \"isocèles étoilés\"\n",
    "\n",
    "#### Énoncé\n",
    "\n",
    "Écrire un programme qui demande à l'utilisateur un entier naturel non nul $h \\in \\mathbb{N}^\\star$, puis affiche un triangle \"isocèle étoilé\" de hauteur $h$. Par exemple, pour $h = 3$, le programme devra afficher ce qui suit."
   ]
  },
  {
   "cell_type": "raw",
   "metadata": {},
   "source": [
    "  *\n",
    " ***\n",
    "*****"
   ]
  },
  {
   "cell_type": "markdown",
   "metadata": {},
   "source": [
    "Pour $h = 5$, le texte affiché sera le suivant."
   ]
  },
  {
   "cell_type": "raw",
   "metadata": {},
   "source": [
    "    *\n",
    "   ***\n",
    "  *****\n",
    " *******\n",
    "*********"
   ]
  },
  {
   "cell_type": "markdown",
   "metadata": {},
   "source": [
    "#### Solution 10\n",
    "\n",
    "Commençons par voir comment tracer un parallélogramme \"étoilé\" comme le suivant. Ceci ressemble à ce que nous avons fait précédemment excepté que le nombre d'espaces diminue au lieu d'augmenter."
   ]
  },
  {
   "cell_type": "raw",
   "metadata": {},
   "source": [
    "    ***\n",
    "   ***\n",
    "  ***\n",
    " ***\n",
    "***"
   ]
  },
  {
   "cell_type": "markdown",
   "metadata": {},
   "source": [
    "Comptons le nombre d'espaces dans chaque ligne que l'on numérote à la Python.\n",
    "\n",
    "1. Ligne $0$ : $4$ espaces où nous avons $4 = 4 - 0$.\n",
    "1. Ligne $1$ : $3$ espaces où nous avons $3 = 4 - 1$.\n",
    "1. Ligne $2$ : $2$ espaces où nous avons $2 = 4 - 2$.\n",
    "1. Ligne $3$ : $1$ espace  où nous avons $1 = 4 - 3$.\n",
    "1. Ligne $4$ : $0$ espace  où nous avons $0 = 4 - 4$.\n",
    "\n",
    "Ceci nous amène au code suivant."
   ]
  },
  {
   "cell_type": "code",
   "execution_count": null,
   "metadata": {
    "collapsed": true
   },
   "outputs": [],
   "source": [
    "longueur = 3\n",
    "hauteur  = 5\n",
    "\n",
    "ligne = \"*\"*longueur\n",
    "\n",
    "for i in range(hauteur):\n",
    "    nb_espaces = hauteur - 1 - i\n",
    "    decalage   = \" \"*nb_espaces\n",
    "\n",
    "    print(decalage + ligne)"
   ]
  },
  {
   "cell_type": "markdown",
   "metadata": {},
   "source": [
    "Un autre problème que nous devons résoudre est l'affichage d'un triangle. Simplifions le problème en essayant de produire le triangle \"étoilé\" suivant."
   ]
  },
  {
   "cell_type": "raw",
   "metadata": {},
   "source": [
    "*\n",
    "***\n",
    "*****\n",
    "*******\n",
    "*********"
   ]
  },
  {
   "cell_type": "markdown",
   "metadata": {},
   "source": [
    "Comptons le nombre d'étoiles dans chaque ligne que l'on numérote à la Python.\n",
    "\n",
    "1. Ligne $0$ : $1$ espace  où nous avons $1 = 1 + 2 \\times 0$.\n",
    "1. Ligne $1$ : $3$ espaces où nous avons $3 = 1 + 2 \\times 1$.\n",
    "1. Ligne $2$ : $5$ espaces où nous avons $5 = 1 + 2 \\times 2$.\n",
    "1. Ligne $3$ : $7$ espace  où nous avons $7 = 1 + 2 \\times 3$.\n",
    "1. Ligne $4$ : $9$ espace  où nous avons $9 = 1 + 2 \\times 4$.\n",
    "\n",
    "Ceci nous amène au code suivant."
   ]
  },
  {
   "cell_type": "code",
   "execution_count": null,
   "metadata": {
    "collapsed": true
   },
   "outputs": [],
   "source": [
    "hauteur = 5\n",
    "\n",
    "for i in range(hauteur):\n",
    "    nb_etoiles = 1 + 2*i\n",
    "    ligne      = \"*\"*nb_etoiles\n",
    "\n",
    "    print(ligne)"
   ]
  },
  {
   "cell_type": "markdown",
   "metadata": {},
   "source": [
    "Il ne nous reste plus qu'à combiner les deux programmes précédents pour arriver à nos fins."
   ]
  },
  {
   "cell_type": "code",
   "execution_count": null,
   "metadata": {
    "collapsed": true
   },
   "outputs": [],
   "source": [
    "hauteur = 5\n",
    "\n",
    "for i in range(hauteur):\n",
    "    nb_etoiles = 2*i + 1\n",
    "    ligne      = \"*\"*nb_etoiles\n",
    "\n",
    "    nb_espaces = hauteur - 1 - i\n",
    "    decalage   = \" \"*nb_espaces\n",
    "\n",
    "    print(decalage + ligne)"
   ]
  },
  {
   "cell_type": "markdown",
   "metadata": {},
   "source": [
    "Pour finir, rajoutons la possibilité de demander la hauteur à l'utilisateur."
   ]
  },
  {
   "cell_type": "code",
   "execution_count": null,
   "metadata": {
    "collapsed": true
   },
   "outputs": [],
   "source": [
    "hauteur = int(input(\"Hauteur : \"))\n",
    "\n",
    "# Avec une ligne vide, c'est plus joli. \n",
    "print(\"\") \n",
    "\n",
    "for i in range(hauteur):\n",
    "    nb_etoiles = 2*i + 1\n",
    "    ligne      = \"*\"*nb_etoiles\n",
    "\n",
    "    nb_espaces = hauteur - 1 - i\n",
    "    decalage   = \" \"*nb_espaces\n",
    "\n",
    "    print(decalage + ligne)"
   ]
  },
  {
   "cell_type": "markdown",
   "metadata": {},
   "source": [
    "#### Solution 11\n",
    "\n",
    "On peut opter pour une autre tactique consistant à noter que la première ligne contient une seule étoile, et qu'à chaque nouvelle ligne affichée nous devons ajouter deux étoiles supplémentaires. Ceci conduit au code ci-dessous."
   ]
  },
  {
   "cell_type": "code",
   "execution_count": null,
   "metadata": {
    "collapsed": true
   },
   "outputs": [],
   "source": [
    "hauteur = int(input(\"Hauteur : \"))\n",
    "# Avec une ligne vide, c'est plus joli. \n",
    "print(\"\") \n",
    "\n",
    "ligne = \"*\"\n",
    "\n",
    "for i in range(hauteur):\n",
    "    nb_espaces = hauteur - 1 - i\n",
    "    decalage   = \" \"*nb_espaces\n",
    "\n",
    "    print(decalage + ligne)\n",
    "\n",
    "# Pour la ligne suivante...\n",
    "    ligne = ligne + \"**\""
   ]
  },
  {
   "cell_type": "markdown",
   "metadata": {},
   "source": [
    "#### Solution 12\n",
    "\n",
    "Il est aussi possible de raisonner comme suit. La première ligne contient $(h - 1)$ espaces, où $h$ est ma hauteur, suivis d'une seule étoile, et à chaque nouvelle ligne affichée nous devons supprimer un espace à gauche et ajouter deux étoiles supplémentaires. Ceci conduit au code ci-dessous."
   ]
  },
  {
   "cell_type": "code",
   "execution_count": null,
   "metadata": {
    "collapsed": true
   },
   "outputs": [],
   "source": [
    "hauteur = int(input(\"Hauteur : \"))\n",
    "# Avec une ligne vide, c'est plus joli. \n",
    "print(\"\") \n",
    "\n",
    "espaces = \" \"*(hauteur - 1)\n",
    "ligne   = espaces + \"*\"\n",
    "\n",
    "for i in range(hauteur):\n",
    "    print(ligne)\n",
    "\n",
    "# Pour enlever un espace, il suffit ici de partir du 2ème caractère du texte. \n",
    "# C'est ce que permet `ligne[1:]`.\n",
    "    ligne = ligne[1:] + \"**\""
   ]
  },
  {
   "cell_type": "markdown",
   "metadata": {},
   "source": [
    "Noms autorisés pour les variables Python\n",
    "--------------------------------------\n",
    "\n",
    "#### Énoncé\n",
    "\n",
    "Pour nommer une variable dans le langage Python, il faut suivre certaines contraintes que voici d'après [cette page](https://en.wikibooks.org/wiki/Think_Python/Variables,_expressions_and_statements#Variable_names_and_keywords).\n",
    "\n",
    "1. Un nom de variable peut avoir une longueur arbitraire.\n",
    "\n",
    "1. Les caractères autorisés sont le blanc souligné _ , les chiffres, et les lettres non accentuées, soit en minuscule les lettres qui sont dans le texte entre les guillemets `\"abcdefghijklmnopqrstuvwxz\"`.\n",
    "\n",
    "1. Un nom de variable ne doit pas commencer par un chiffre.\n",
    "\n",
    "Écrire un programme qui demande à l'utilisateur un nom de variable Python puis indique si le nom est autorisé ou non. Par exemple, `nom` , `nom_2` , `_possible` et `_` sont quatre noms autorisés contrairement à `2_mots` et `français`.\n",
    "\n",
    "\n",
    "#### Solution 13\n",
    "\n",
    "Voici une solution proposée en grande partie par un élève."
   ]
  },
  {
   "cell_type": "code",
   "execution_count": 55,
   "metadata": {},
   "outputs": [
    {
     "name": "stdout",
     "output_type": "stream",
     "text": [
      "Nom illégal.\n"
     ]
    }
   ],
   "source": [
    "# On rentre directement le nom dans le code pour faciliter les tests.\n",
    "nom = \"français\"\n",
    "\n",
    "# On met le mot tout en minuscule.\n",
    "nom = nom.lower()\n",
    "\n",
    "est_valide = True\n",
    "\n",
    "# Un mot vide n'est pas valide.\n",
    "if nom == \"\":\n",
    "    est_valide = False\n",
    "\n",
    "# Cas d'un mot non vide.\n",
    "else:\n",
    "    # On vérifie que le premier caractère n'est pas un chiffre.\n",
    "    for i in range(10):\n",
    "        # ATTENTION ! La variable `i` étant de type `int`, et\n",
    "        # `nom[0]` de type `str`, nous devons utiliser `str(i)`\n",
    "        # Pour transformer le \"integer\" `i` en \"string\".\n",
    "        #\n",
    "        # Plus concrètement, le test `\"1\" == 1` renverra `False`,\n",
    "        # contrairement au test `\"1\" == str(1)`.\n",
    "        if nom[0] == str(i):\n",
    "            est_valide = False\n",
    "    \n",
    "    # On vérifie que tous les caractères sont des caractères autorisés.\n",
    "    for caract in nom:\n",
    "        if caract not in \"abcdefghijklmnopqrstuvwxz_0123456789\":\n",
    "            est_valide = False\n",
    "\n",
    "# On affiche le résultat.\n",
    "if est_valide:\n",
    "    print(\"Nom autorisé.\")\n",
    "else:\n",
    "    print(\"Nom illégal.\")"
   ]
  },
  {
   "cell_type": "markdown",
   "metadata": {},
   "source": [
    "#### Solution 14\n",
    "\n",
    "Le code suivant simplifie certains des traitements précédents. On utilise les particularités du langage Python."
   ]
  },
  {
   "cell_type": "code",
   "execution_count": 56,
   "metadata": {},
   "outputs": [
    {
     "name": "stdout",
     "output_type": "stream",
     "text": [
      "Nom autorisé.\n"
     ]
    }
   ],
   "source": [
    "# On rentre directement le nom dans le code pour faciliter les tests.\n",
    "\n",
    "nom = \"France\"\n",
    "\n",
    "nom = nom.lower()\n",
    "\n",
    "est_valide = True\n",
    "\n",
    "if nom == \"\":\n",
    "    est_valide = False\n",
    "\n",
    "else:\n",
    "    # SIMPLIFICATION 1 : vérification que le premier caractère n'est pas un chiffre.\n",
    "    if nom[0] in \"0123456789\":\n",
    "        est_valide = False\n",
    "            \n",
    "    # SIMPLIFICATION 2 : vérification que tous les caractère sont autorisés.\n",
    "    for caract in nom:\n",
    "        if caract not in \"abcdefghijklmnopqrstuvwxz_0123456789\":\n",
    "            est_valide = False\n",
    "            \n",
    "if est_valide:\n",
    "    print(\"Nom autorisé.\")\n",
    "else:\n",
    "    print(\"Nom illégal.\")"
   ]
  },
  {
   "cell_type": "markdown",
   "metadata": {},
   "source": [
    "#### Solution 15\n",
    "\n",
    "Nous puvons encore améliorer le code précédent car dès que `est_valide = False` est utilisé, il ne sert plus à rien de faire d'autres tests. Le code qui suit gère ceci. "
   ]
  },
  {
   "cell_type": "code",
   "execution_count": 66,
   "metadata": {},
   "outputs": [
    {
     "name": "stdout",
     "output_type": "stream",
     "text": [
      "Nom autorisé.\n"
     ]
    }
   ],
   "source": [
    "# On rentre directement le nom dans le code pour faciliter les tests.\n",
    "\n",
    "nom = \"France\"\n",
    "\n",
    "nom = nom.lower()\n",
    "\n",
    "est_valide = True\n",
    "\n",
    "if nom == \"\":\n",
    "    est_valide = False\n",
    "\n",
    "else:\n",
    "    if nom[0] in \"0123456789\":\n",
    "        est_valide = False\n",
    "\n",
    "    # On teste que tous les caractères sont autorisés uniquement si \n",
    "    # le test précédent n'a rien trouvé de gênant.\n",
    "    else:\n",
    "        for caract in nom:\n",
    "            if caract not in \"abcdefghijklmnopqrstuvwxz_0123456789\":\n",
    "                est_valide = False\n",
    "                \n",
    "                # On sort brutalement de la boucle car nous avons\n",
    "                # trouvé quelque chose d'interdit.\n",
    "                break\n",
    "\n",
    "if est_valide:\n",
    "    print(\"Nom autorisé.\")\n",
    "else:\n",
    "    print(\"Nom illégal.\")"
   ]
  },
  {
   "cell_type": "markdown",
   "metadata": {},
   "source": [
    "#### Solution 15'\n",
    "\n",
    "Il nous reste à rendre notre programme un peu plus interactif grâce à la fonction `input`. On en profite aussi au passage pour garder le version initiale du mot proposé par l'utilisateur. "
   ]
  },
  {
   "cell_type": "code",
   "execution_count": 67,
   "metadata": {},
   "outputs": [
    {
     "name": "stdout",
     "output_type": "stream",
     "text": [
      "Nom de variable à tester : GHTpourNOEL\n",
      "---\n",
      "GHTpourNOEL est un nom autorisé.\n"
     ]
    }
   ],
   "source": [
    "nom = input(\"Nom de variable à tester : \")\n",
    "\n",
    "# Utilisation d'une nouvelle variable pour ne pas modifier `nom`.\n",
    "nom_minuscule = nom.lower()\n",
    "\n",
    "est_valide = True\n",
    "\n",
    "if nom_minuscule == \"\":\n",
    "    est_valide = False\n",
    "\n",
    "else:\n",
    "    if nom_minuscule[0] in \"0123456789\":\n",
    "        est_valide = False\n",
    "            \n",
    "    else:\n",
    "        for caract in nom_minuscule:\n",
    "            if caract not in \"abcdefghijklmnopqrstuvwxz_0123456789\":\n",
    "                est_valide = False\n",
    "                break\n",
    "\n",
    "# Un peu de décoration.\n",
    "print('---')\n",
    "\n",
    "if est_valide:\n",
    "    print(nom, \"est un nom autorisé.\")\n",
    "else:\n",
    "    print(nom, \"est un nom illégal.\")"
   ]
  },
  {
   "cell_type": "markdown",
   "metadata": {},
   "source": [
    "Voyelles utiles ou inutiles ?\n",
    "---------------------------\n",
    "\n",
    "#### Énoncé\n",
    "\n",
    "Écrire un programme qui demande à l'utilisateur un mot puis affiche dans l'ordre d'apparition uniquement les consonnes du mot. Pour simplifier, nous ne considérons que le mot est tout en minuscules, ce qui implique que les consonnes seront contenues dans le texte entre les guillemets suivant : `\"bcdfghjklmnpqrstvwxz\"`. \n",
    "Par exemple, pour le mot `\"consonne\"`, le programme devra afficher `\"cnsnn\"`.\n",
    "\n",
    "\n",
    "#### Solution 16\n",
    "\n",
    "Voir la solution 15' et ce qui a été fait sur la géométrie \"étoilée\". "
   ]
  },
  {
   "cell_type": "code",
   "execution_count": 62,
   "metadata": {},
   "outputs": [
    {
     "name": "stdout",
     "output_type": "stream",
     "text": [
      "Proposer un mot dont on ne veur garder que les consonnes : consonne\n",
      "---\n",
      "cnsnn\n"
     ]
    }
   ],
   "source": [
    "mot = input(\"Proposer un mot dont on ne veut garder que les consonnes : \")\n",
    "\n",
    "mot_juste_consonne = \"\"\n",
    "\n",
    "for un_car in mot:\n",
    "    if un_car in \"bcdfghjklmnpqrstvwxz\":\n",
    "        mot_juste_consonne = mot_juste_consonne + un_car\n",
    "\n",
    "# Un peu de décoration.\n",
    "print('---')\n",
    "\n",
    "print(mot_juste_consonne)"
   ]
  },
  {
   "cell_type": "markdown",
   "metadata": {},
   "source": [
    "#### Énoncé\n",
    "\n",
    "Reprendre le programme précédent pour qu'il affiche des tirets à la place des lettres qui ne sont pas des consonnes. Par exemple, pour le mot `\"consonne\"`, le programme devra afficher `\"c-ns-nn-\"`.\n",
    "\n",
    "\n",
    "#### Solution 17\n",
    "\n",
    "Ceci est immédiat à faire à partir de la solution 16."
   ]
  },
  {
   "cell_type": "code",
   "execution_count": 68,
   "metadata": {},
   "outputs": [
    {
     "name": "stdout",
     "output_type": "stream",
     "text": [
      "Proposer un mot dont on ne veut garder que les consonnes : consonne\n",
      "---\n",
      "c-ns-nn-\n"
     ]
    }
   ],
   "source": [
    "mot = input(\"Proposer un mot dont on ne veut garder que les consonnes : \")\n",
    "\n",
    "mot_consonne_visible = \"\"\n",
    "\n",
    "for un_caract in mot:\n",
    "    if un_caract in \"bcdfghjklmnpqrstvwxz\":\n",
    "        mot_consonne_visible = mot_consonne_visible + un_caract\n",
    "    else:\n",
    "        mot_consonne_visible = mot_consonne_visible + \"-\"\n",
    "\n",
    "# Un peu de décoration.\n",
    "print('---')\n",
    "\n",
    "print(mot_consonne_visible)"
   ]
  },
  {
   "cell_type": "markdown",
   "metadata": {},
   "source": [
    "Votre tout premier jeu : un pendu simplifié\n",
    "----------------------------------------\n",
    "\n",
    "### Rappel des règles du jeu du pendu\n",
    "\n",
    "Dans ce jeu, on doit deviner un mot. On dispose pour cela d'un nombre fini d'essais pour proposer des lettres qui seraient contenues dans le mot à deviner. Si l'on trouve une lettre, on peut alors proposer une réponse.\n",
    "\n",
    "\n",
    "### Un algorithme avant de programmer\n",
    "\n",
    "#### Énoncé\n",
    "\n",
    "Proposez un algorithme traduisant une version du jeu du pendu où `MOT_A_DECOUVRIR` désignera le mot à découvrir, et `NBRE_MAX_ESSAIS` un nombre maximal d'essais autorisés pour chercher le mot.\n",
    "\n",
    "\n",
    "#### Solution 18 (un algorithme incomplet)\n",
    "\n",
    "Comme souvent en programmation, avant de traiter tous les cas possibles on commence par résoudre une version simplifiée d'un problème. Nous n'allons donc pas chercher ici à faire la vraie version du jeu du pendu. Nous proposons le version simplifiée suivante. "
   ]
  },
  {
   "cell_type": "raw",
   "metadata": {},
   "source": [
    "MOT_A_DECOUVRIR = \"strangulation\"\n",
    "NBRE_MAX_ESSAIS = 10\n",
    "\n",
    "LETTRES_TROUVEES est l'ensemble vide.\n",
    "AGAGNE = Faux\n",
    "\n",
    "Pour i allant de 1 à NBRE_MAX_ESSAIS:\n",
    "    Demander une lettre LETTRE à l'utilisateur\n",
    "    \n",
    "    Si LETTRE est dans MOT_A_DECOUVRIR:\n",
    "        Ajouter LETTRE à l'ensemble LETTRES_TROUVEES\n",
    "    \n",
    "    Construire INDICATION la version du mot où apparaît toutes \n",
    "    les lettres qui sont dans LETTRES_TROUVEES\n",
    "    \n",
    "    Afficher INDICATION\n",
    "    \n",
    "    Demander PROP une proposition de mot.\n",
    "    \n",
    "    Si PROP = MOT_A_DECOUVRIR:\n",
    "        AGAGNE = Vrai\n",
    "        Sortir de la boucle\n",
    "        \n",
    "Si AGAGNE = Vrai:\n",
    "    Afficher \"Mot trouvé.\"\n",
    "    \n",
    "Sinon:\n",
    "    Afficher \"Perdu ! Le mot était\", MOT    "
   ]
  },
  {
   "cell_type": "markdown",
   "metadata": {},
   "source": [
    "#### Solution 18 (un programme incomplet)\n",
    "\n",
    "Nous proposons le programme suivant traduisant l'algorithme précédent. Ce programme est une bonne base pour envisager la programmation d'un vrai jeu du pendu avec notamment le gestion du dessin d'un pendu. Notez bien que nous traduisons assez rapidement ce qui a été indiqué dans l'algorithme, c'est une des forces du langage Python."
   ]
  },
  {
   "cell_type": "code",
   "execution_count": 72,
   "metadata": {},
   "outputs": [
    {
     "name": "stdout",
     "output_type": "stream",
     "text": [
      "Proposer une lettre : d\n",
      "\n",
      "-------------\n",
      "Proposer un mot : strangulation     \n",
      "\n",
      "Proposer une lettre : z\n",
      "\n",
      "-------------\n",
      "Proposer un mot : ccndskjfkdsjfhds\n",
      "\n",
      "Proposer une lettre : s\n",
      "\n",
      "s------------\n",
      "Proposer un mot : t\n",
      "\n",
      "Proposer une lettre : t\n",
      "\n",
      "st-------t---\n",
      "Proposer un mot : n\n",
      "\n",
      "Proposer une lettre : n\n",
      "\n",
      "st--n----t--n\n",
      "Proposer un mot : strangulation\n",
      "\n",
      "Mot trouvé.\n"
     ]
    }
   ],
   "source": [
    "MOT_A_DECOUVRIR = \"strangulation\"\n",
    "NBRE_MAX_ESSAIS = 10\n",
    "\n",
    "LETTRES_TROUVEES = set()\n",
    "AGAGNE = False\n",
    "\n",
    "for i in range(NBRE_MAX_ESSAIS):\n",
    "    LETTRE = input(\"Proposer une lettre : \")\n",
    "    \n",
    "    if LETTRE in MOT_A_DECOUVRIR:\n",
    "        LETTRES_TROUVEES.add(LETTRE) \n",
    "    \n",
    "    INDICATION = \"\"\n",
    "    \n",
    "    for caract in MOT_A_DECOUVRIR:\n",
    "        if caract in LETTRES_TROUVEES:\n",
    "            INDICATION = INDICATION + caract\n",
    "        else:\n",
    "            INDICATION = INDICATION + \"-\"\n",
    "    \n",
    "    # Pour améliorer la lisibilité.\n",
    "    print('')\n",
    "\n",
    "    print(INDICATION)\n",
    "    \n",
    "    PROP = input(\"Proposer un mot : \") \n",
    "\n",
    "    # Pour améliorer la lisibilité.\n",
    "    print('')\n",
    "\n",
    "    if PROP == MOT_A_DECOUVRIR:\n",
    "        AGAGNE = True\n",
    "        break\n",
    "  \n",
    "\n",
    "if AGAGNE == True:\n",
    "    print(\"Mot trouvé.\")\n",
    "else:\n",
    "    print(\"Perdu ! Le mot était\", MOT)    "
   ]
  },
  {
   "cell_type": "markdown",
   "metadata": {},
   "source": [
    "En testant le programme, nous constatons qu'il souffre des défauts suivants.\n",
    "\n",
    "1. Les espaces au début et à la fin ne sont jamais supprimés. Par exemple, si l'on propose le mot `\"strangumation  \"`, le programme ne va pas considérer que nous avons trouvé.\n",
    "\n",
    "1. Le programme doit redemander à l'utilisateur de proposer une lettre tant que sa réponse n'est pas une lettre de l'alphabet."
   ]
  }
 ],
 "metadata": {
  "kernelspec": {
   "display_name": "Python 3",
   "language": "python",
   "name": "python3"
  },
  "language_info": {
   "codemirror_mode": {
    "name": "ipython",
    "version": 3
   },
   "file_extension": ".py",
   "mimetype": "text/x-python",
   "name": "python",
   "nbconvert_exporter": "python",
   "pygments_lexer": "ipython3",
   "version": "3.6.6"
  },
  "name": "string_cor.ipynb"
 },
 "nbformat": 4,
 "nbformat_minor": 1
}
