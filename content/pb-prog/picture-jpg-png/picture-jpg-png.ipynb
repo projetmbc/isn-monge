{
 "cells": [
  {
   "cell_type": "markdown",
   "metadata": {},
   "source": [
    "Problématique 8 : Programmation - Images (Formats Compressés)\n",
    "=======================\n",
    "\n",
    "Travailler avec un fichier Python sans Jupyter\n",
    "-------------------------------------------\n",
    "\n",
    "Ce T.P. sera fait à l'aide de Iddle ou Spyder. Penser à bien organiser le travail fait."
   ]
  },
  {
   "cell_type": "markdown",
   "metadata": {},
   "source": [
    "Présentation rapide de `pillow`\n",
    "-----------------------------\n",
    "\n",
    "Les images que l'on utilise réellement sont compressées avec perte comme avec le JPEG, ou sans perte comme avec le PNG. Ceci nécessite des techniques de programmation et des mathématiques de niveaux très avancés. Il faut donc passer par des bibliothèques spécialisées pour manipuler simplement des images aux formats JPEG ou PNG.\n",
    "\n",
    "Reconsidérons la version JPEG du logo Python visisble ci-dessous dont le chemin relativement à ce document est `images/logo_python.jpg`.\n",
    "\n",
    "![Logo Python](images/logo_python.jpg)\n",
    "\n",
    "Voyons quelques fonctionnalités de base du module `pillow` qui est très complet."
   ]
  },
  {
   "cell_type": "code",
   "execution_count": 1,
   "metadata": {},
   "outputs": [
    {
     "name": "stdout",
     "output_type": "stream",
     "text": [
      "Type de couleur     = RGB\n",
      "largeur             = 400\n",
      "hauteur             = 250\n",
      "Pixel en (200, 200) = (237, 197, 65)\n",
      "\n",
      "Image tronquée créée sans problème apparant.\n"
     ]
    }
   ],
   "source": [
    "# Historiquement, le premier module complet pour traiter des images sous Python 2 s'appelait PIL.\n",
    "# Un nouveau projet nommé pillow a été créé ensuite pour une utilisation avec Python 3.\n",
    "#\n",
    "# Pour faciliter la tâche des programmeurs, on continue à utiliser `PIL` comme nom dans les codes\n",
    "# Python au lieu de `pillow`. \n",
    "\n",
    "from PIL import Image\n",
    "\n",
    "notre_image = Image.open('images/logo_python.jpg')\n",
    "\n",
    "# Récupérer des informations.\n",
    "type_couleur = notre_image.mode\n",
    "print(\"Type de couleur     =\", type_couleur)\n",
    "\n",
    "largeur, hauteur = notre_image.size\n",
    "print(\"largeur             =\", largeur)\n",
    "print(\"hauteur             =\", hauteur)\n",
    "\n",
    "print(\"Pixel en (200, 200) =\", notre_image.getpixel((200, 200)))\n",
    "\n",
    "# Créer une nouvelle image btenue en ne gardant qu'une partie du logo.\n",
    "largeur, hauteur = 300, 100\n",
    "nelle_image      = Image.new('RGB', (largeur, hauteur))\n",
    "\n",
    "for x in range(50, 350):\n",
    "    for y in range(70, 170):\n",
    "        rgb = notre_image.getpixel((x, y))\n",
    "        \n",
    "        # Attention ! Dans la nouvelle image x et y commencent à zéro.\n",
    "        nelle_image.putpixel((x - 50, y - 70), rgb)\n",
    "        \n",
    "nelle_image.save('images/logo_python_morceau.jpg')\n",
    "\n",
    "# UTILE ! Dans un fichier Python isolé, vous pouvez en plus utiliser `nelle_image.show()`. \n",
    "\n",
    "print(\"\")\n",
    "print(\"Image tronquée créée sans problème apparant.\")"
   ]
  },
  {
   "cell_type": "markdown",
   "metadata": {},
   "source": [
    "Voici le morceau extrait de l'image de départ *(on constate au passage que la manipulation d'image est énormément simplifiée grâce à la bibliothèque `pillow`.)*.\n",
    "\n",
    "![Logo Python](images/logo_python_morceau.jpg)\n",
    "\n",
    "\n",
    "Nous pouvons aussi créer une image PNG. Dans l'exemple qui suit nous devons utiliser comme système de couleur le format RGBA qui permet de gérer en plus la transparence des pixels."
   ]
  },
  {
   "cell_type": "code",
   "execution_count": 2,
   "metadata": {},
   "outputs": [
    {
     "name": "stdout",
     "output_type": "stream",
     "text": [
      "Image créée sans problème apparant.\n"
     ]
    }
   ],
   "source": [
    "from PIL import Image\n",
    "\n",
    "logo = Image.open('images/logo_python.jpg')\n",
    "\n",
    "largeur, hauteur = logo.size\n",
    "logo_modifie     = Image.new('RGBA', (largeur, hauteur))\n",
    "\n",
    "for x in range(largeur):\n",
    "    for y in range(hauteur):\n",
    "        r, g, b = logo.getpixel((x, y))\n",
    "        \n",
    "        # La 4ème coordonnée est appelé canal alpha. C'est lui qui gère la transparence. On peut aller\n",
    "        # d'une tranpsarence totale associée à 0 à aucune transparence associée à 255. \n",
    "        rgba = (r, g, b, 70)\n",
    "            \n",
    "        logo_modifie.putpixel((x, y), rgba)\n",
    "        \n",
    "logo_modifie.save('images/logo_python_transparent.png')\n",
    "\n",
    "print(\"Image créée sans problème apparant.\")"
   ]
  },
  {
   "cell_type": "markdown",
   "metadata": {},
   "source": [
    "En quelques lignes de code, nous avons réussi à rendre notre logo Python plus transparent au format PNG.\n",
    "\n",
    "![Logo Python](images/logo_python_transparent.png)"
   ]
  },
  {
   "cell_type": "markdown",
   "metadata": {},
   "source": [
    "Exercice 1 : image en niveau de gris (deux possibilités) \n",
    "----------------------------------------------------\n",
    "\n",
    "### Méthode 1 \n",
    "\n",
    "Compléter le code suivant pour qu'il créé une image `logo_python_gris_rgb.jpg` de type RGB ayant un rendu visuel en niveaux de gris."
   ]
  },
  {
   "cell_type": "code",
   "execution_count": null,
   "metadata": {
    "collapsed": true
   },
   "outputs": [],
   "source": [
    "from PIL import Image\n",
    "\n",
    "logo = Image.open('logo_python.jpg')\n",
    "\n",
    "largeur, hauteur = logo.size\n",
    "logo_modifie     = Image.new('RGB', (largeur, hauteur))\n",
    "\n",
    "for x in range(largeur):\n",
    "    for y in range(hauteur):\n",
    "        r, g, b = logo.getpixel((x, y))\n",
    "        \n",
    "        gris = ...\n",
    "            \n",
    "        logo_modifie.putpixel((x, y), (gris, gris, gris))\n",
    "        \n",
    "logo_modifie.save('logo_python_gris_rgb.jpg')\n",
    "\n",
    "print(\"Image créée sans problème apparant.\")"
   ]
  },
  {
   "cell_type": "markdown",
   "metadata": {},
   "source": [
    "### Méthode 2\n",
    "\n",
    "Compléter le code suivant pour qu'il créé une image `logo_python_niveaux_gris.jpg` qui est vraiment en niveau de gris. Repérez au passage ce qui a changé."
   ]
  },
  {
   "cell_type": "code",
   "execution_count": null,
   "metadata": {
    "collapsed": true
   },
   "outputs": [],
   "source": [
    "from PIL import Image\n",
    "\n",
    "logo = Image.open('logo_python.jpg')\n",
    "\n",
    "largeur, hauteur = logo.size\n",
    "logo_modifie     = Image.new('L', (largeur, hauteur))\n",
    "\n",
    "for x in range(largeur):\n",
    "    for y in range(hauteur):\n",
    "        ...\n",
    "        \n",
    "logo_modifie.save('logo_python_niveaux_gris.jpg')\n",
    "\n",
    "print(\"Image créée sans problème apparant.\")"
   ]
  },
  {
   "cell_type": "markdown",
   "metadata": {},
   "source": [
    "Exercice 2 : un effet sympa \n",
    "--------------------------\n",
    "\n",
    "Nous souhaitons faire une image gardant des couleurs voisines d'une couleur souhaitée et transformer toutes les autres en leur équivalent en niveau de gris. Vous devez compléter le code ci-dessous pour implémenter ceci. Voici ce qui doit être fait.\n",
    "\n",
    "1. Créer une nouvelle image de type RGB nommée `logo_python_sympa.jpg` ayant les mêmes dimensions que notre logo Python.\n",
    "\n",
    "1. Pour chaque pixel de couleur $(R, G, B)$, on gardera cette couleur inchangée dans `logo_python_sympa.jpg` si les trois inégalités $\\left| \\, R - r_{voulu} \\, \\right| \\leq seuil$ , $\\left| \\, G - g_{voulu} \\, \\right| \\leq seuil$ et $\\left| \\, B - b_{voulu} \\, \\right| \\leq seuil$ sont vérifiées. Dans le cas contraire, on utilisera le gris obtenu en moyennant $R$, $G$ et $B$. "
   ]
  },
  {
   "cell_type": "code",
   "execution_count": 48,
   "metadata": {},
   "outputs": [
    {
     "name": "stdout",
     "output_type": "stream",
     "text": [
      "Image créée sans problème apparant.\n"
     ]
    }
   ],
   "source": [
    "from PIL import Image\n",
    "\n",
    "# Seuil obtenu de façon empirico-pifométrique.\n",
    "seuil = 125\n",
    "\n",
    "# Le bleu du logo Python.\n",
    "couleur_voulue = (0,20,150)\n",
    "\n",
    "r_voulu, g_voulu, b_voulu = couleur_voulue\n",
    "\n",
    "logo = Image.open('logo_python.jpg')\n",
    "\n",
    "largeur, hauteur = logo.size\n",
    "logo_modifie     = Image.new('RGB', (largeur, hauteur))\n",
    "\n",
    "...\n",
    "\n",
    "print(\"Image créée sans problème apparant.\")"
   ]
  },
  {
   "cell_type": "markdown",
   "metadata": {},
   "source": [
    "Exercice 3 : faire ressortir les contours\n",
    "---------------------------------------\n",
    "\n",
    "### Balayage horizontale\n",
    "\n",
    "<img style = \"margin-left: 25px;\n",
    "              float: right;\n",
    "              height: 100px;\"\n",
    "     src   = \"images/neighbors.png\">\n",
    "\n",
    "\n",
    "Essayons de tenter d'obtenir les contours en noir et blanc de notre logo Python. Compléter le code suivant pour qu'il créer une image en niveau de gris `logo_python_contour_horizontal.jpg` de même hauteur que `logo_python.jpg`, mais de largeur diminué de un relativement à celle de `logo_python.jpg`. Pour chaque pixel de couleur $(R, G, B)$ et de coordonnées graphiques $(x, y)$, il faudra procéder comme suit.\n",
    "\n",
    "1. Déterminer ${gris}_{courant}$ l'équivalent en niveau de gris de la couleur $(R, G, B)$.\n",
    "\n",
    "1. Déterminer ${gris}_{suivant}$ l'équivalent en niveau de gris de la couleur $(R\\,^\\prime, G\\,^\\prime, B\\,^\\prime)$ du pixel en position `q` *(cf. l'image ci-contre)*.\n",
    "\n",
    "1. Si $\\left| \\, {gris}_{courant} - {gris}_{suivant} \\, \\right| > 50$, on aura un nouveau pixel blanc, sinon on obtiendra du noir *(le seuil $50$ a été choisi de obtenu de façon empirico-pifométrique)*. L'idée est de ne garder que les pixels où une forte variation horizontale de couleur a lieu. \n",
    "\n",
    "\n",
    "**Note :** double-cliquer sur cette cellule pour savoir quelles règles CSS permettent de placer l'image à droite entourée de texte."
   ]
  },
  {
   "cell_type": "code",
   "execution_count": 49,
   "metadata": {},
   "outputs": [
    {
     "name": "stdout",
     "output_type": "stream",
     "text": [
      "Image créée sans problème apparant.\n"
     ]
    }
   ],
   "source": [
    "from PIL import Image\n",
    "\n",
    "logo = Image.open('logo_python.jpg')\n",
    "\n",
    "largeur, hauteur = logo.size\n",
    "\n",
    "largeur -= 1\n",
    "\n",
    "logo_modifie = Image.new('L', (largeur, hauteur))\n",
    "\n",
    "...\n",
    "\n",
    "print(\"Image créée sans problème apparant.\")"
   ]
  },
  {
   "cell_type": "markdown",
   "metadata": {},
   "source": [
    "### Balayages horizontale et verticale\n",
    "\n",
    "<img style = \"margin-left: 25px;\n",
    "              float: right;\n",
    "              height: 100px;\"\n",
    "     src   = \"images/neighbors.png\">\n",
    "\n",
    "L'image obtenue précédemment n'est pas parfaite. Seriez-vous donner un exemple simple d'image avec un contour mais qui ne fournira aucun cotour avec le programme précédent ?\n",
    "\n",
    "Compléter le programme précédent pour que l'on recherche à la fois les variations fortes horizontales vers la droits et verticales vers le bas *(toujours en gardant le voisin proche)*. Plus précisément, on veut créer une image `logo_python_contour.jpg` en procédant comme suit.\n",
    "\n",
    "\n",
    "1. Les dimensions de `logo_python_contour.jpg` sont celles de `logo_python.jpg` diminuées de un.\n",
    "\n",
    "1. Déterminer ${gris}_{courant}$ l'équivalent en niveau de gris de la couleur $(R, G, B)$ du pixel à modifier.\n",
    "\n",
    "1. Déterminer ${gris}_{suivant}$ l'équivalent en niveau de gris de la couleur $(R\\,^\\prime, G\\,^\\prime, B\\,^\\prime)$ du pixel en position `q` *(cf. l'image ci-contre)*, ainsi que celui ${gris}_{sous}$ de la couleur $(R\\,^{\\prime\\prime}, G\\,^{\\prime\\prime}, B\\,^{\\prime\\prime})$ du pixel en position `s`.\n",
    "\n",
    "1. Si $\\left| \\, {gris}_{courant} - {gris}_{suivant} \\, \\right| > 50$ ou $\\left| \\, {gris}_{courant} - {gris}_{sous} \\, \\right| > 50$, on aura un nouveau pixel blanc, sinon on obtiendra du noir *(le seuil $50$ a été choisi de obtenu de façon empirico-pifométrique)*."
   ]
  },
  {
   "cell_type": "markdown",
   "metadata": {},
   "source": [
    "Pour les plus rapides\n",
    "---------------------"
   ]
  },
  {
   "cell_type": "markdown",
   "metadata": {},
   "source": [
    "### Faire ressortir les contours - Une version améliorée\n",
    "\n",
    "<img style = \"margin-left: 25px;\n",
    "              float: right;\n",
    "              height: 100px;\"\n",
    "     src   = \"images/neighbors.png\">\n",
    "     \n",
    "Pour faire resortir les contours nous avons raisonner horizontalement et verticalement. On peut essayer de le faire aussi par rapport des voisins `q`, `s` et `t`  du pixel à modifier, ou bien de tous les voisins. Tenter l'expérience."
   ]
  },
  {
   "cell_type": "markdown",
   "metadata": {},
   "source": [
    "### Rognage\n",
    "\n",
    "Ajoutons un cadre noir de deux pixels d'épaisseur autour du logo Python *(double-cliquer sur cette cellule pour voir les règles CSS utilisées)*.\n",
    "\n",
    "<img src= \"images/logo_python.jpg\" style=\"border: solid 2px black\">\n",
    "\n",
    "Vous devez produire une image `logo_python_rogne.jpg` cadrée au minimum autour du logo sans blanc inutile autour. Il y a des problèmes cachés dans cet exercice donc ne soyez pas surpris si votre rognage est imparfait. Vous pourrez adapter votre code au cas de l'image PNG à la fin de ce document et comparer les résultats obtenus. "
   ]
  },
  {
   "cell_type": "markdown",
   "metadata": {},
   "source": [
    "### Mise en relief (énoncée tirée d'une formation faite en 2015 par Nicolas Buyle-Bodin)\n",
    "\n",
    "<img style = \"margin-left: 25px;\n",
    "              float: right;\n",
    "              height: 100px;\"\n",
    "     src   = \"images/neighbors.png\">\n",
    "\n",
    "\n",
    "Cet exercice est un extrait et une adaptation de [ce document ressource](http://cache.media.eduscol.education.fr/file/ISN_Tle_S/27/1/lyceeGT_ressource_ISN_20_06_Tle_S_22_Traitement_images_2_218271.pdf) disponible sur le site Éduscol.\n",
    "\n",
    "1. Dans une image, chaque pixel admet huit voisins directs qui sont représentés ci-contre pour le pixel de coordonnées `(x, y)`.\n",
    "\n",
    "1. À partir d'une image, programmer les modificatins suivantes pour créer une nouvelle image qui devrait montrer un effet de relief.\n",
    "  * On considère un pixel de coordonnées $(x, y)$ et de niveau de gris $g$.\n",
    "  * On calcule la nouvelle valeur de $g$ à partir des niveaux de gris des pixels voisins : \n",
    "  $g = 128 + (-2 m - n - p + q + s + 2 t) \\, // \\, 8$ . \n",
    "  On justifiera que cette nouvelle valeur de $g$ est bien comprise entre $0$ et $255$."
   ]
  },
  {
   "cell_type": "markdown",
   "metadata": {},
   "source": [
    "### Retrouver les centres\n",
    "\n",
    "Seriez-vous évaluer aux mieux les coordoonées graphiques des pixels associés aux centres des deux disques contenus dans l'image PNG suivante ? On vous indique que le bleu et le noir sont \"purs\". Vous produirez une nouvelle image PNG où votre programme aura tracé des croix rouges \"purs\" aux positions approximatives des centres : voir [cette page](http://pillow.readthedocs.org/en/3.0.x/reference/ImageDraw.html) pour savoir comment tracer un segment avec `pillow`.\n",
    "\n",
    "![Logo Python](images/two_circles.png)\n",
    "\n",
    "**Note :** l'image a été produite via GeoGebra. Bien que le fond soit blanc dans GeoGebra, si l'on produit une image PNG à partir d'un dessin, ce fond sera mis totalement transparent sauf si l'on décoche la case transparence lors de l'exportation au format PNG."
   ]
  },
  {
   "cell_type": "markdown",
   "metadata": {},
   "source": [
    "### Reprise des exercices proposés pour les images aux formats ASCII\n",
    "\n",
    "Vous pouvez, si vous le souhaitez, reprendre un ou plusieurs des exercices supplémentaires proposés dans la problématique 7 [\"Programmation - Images (Formats ASCII)\"](../prog-picture-ascii-formats/picture-ascii-formats.ipynb#pourlesrapides). Ceci est un bon exercice car il montre une partie du travail fait par la bibliothèque `pillow`."
   ]
  }
 ],
 "metadata": {
  "kernelspec": {
   "display_name": "Python 3",
   "language": "python",
   "name": "python3"
  },
  "language_info": {
   "codemirror_mode": {
    "name": "ipython",
    "version": 3
   },
   "file_extension": ".py",
   "mimetype": "text/x-python",
   "name": "python",
   "nbconvert_exporter": "python",
   "pygments_lexer": "ipython3",
   "version": "3.7.5"
  },
  "name": "picture-jpg-png.ipynb"
 },
 "nbformat": 4,
 "nbformat_minor": 1
}
