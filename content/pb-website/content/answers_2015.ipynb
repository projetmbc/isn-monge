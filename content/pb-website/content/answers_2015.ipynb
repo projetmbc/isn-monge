{
 "cells": [
  {
   "cell_type": "markdown",
   "metadata": {
    "collapsed": false
   },
   "source": [
    "Réponses des élèves de la promotion \"Diderot - Lyon 2015\"\n",
    "==============================="
   ]
  },
  {
   "cell_type": "markdown",
   "metadata": {
    "collapsed": true
   },
   "source": [
    "Nolan Bublex et Sosthène Guédon\n",
    "-----------------------------\n",
    "\n",
    "Lorsque qu'une URL est tapée, elle est envoyée au moteur web du navigateur, qui est la partie qui s'occupe du transfert des données et de l'affichage. Si l'URL provient d'un lien, elle est donc directement traitée par le moteur web. Celui-ci l'envoie au serveur DNS qui vas renvoyer au moteur web l'adresse IP du serveur qui possède les données de la page à laquelle on veut accéder. Ensuite le moteur web  vas se mettre en relation avec le serveur via l'IP, généralement a l'aide du protocole HTTP pour récupérer les informations de la page et enfin les afficher."
   ]
  },
  {
   "cell_type": "markdown",
   "metadata": {},
   "source": [
    "Camille Charrier, Rémi Degroisse et Motaouakkil Sarah \n",
    "--------------------------------------------------\n",
    "\n",
    "1. vérification de la chaine de caractère\n",
    "2. conversion en binaire \n",
    "3. mise en réseau\n",
    "4. réception des serveurs\n",
    "5. conparaison de la demande avec les adresses connus\n",
    "6. si correspondance regroupement \n",
    "7. envoie des infos a l'ordinateur \n",
    "8. traduction de la page par le navigateur et affichage du contenu"
   ]
  },
  {
   "cell_type": "markdown",
   "metadata": {},
   "source": [
    "Guillaume Klaas et Gabriel Sion\n",
    "-----------------------------\n",
    "\n",
    "Voici un schéma qui récapitule les étapes lors d'une requête à un serveur d'un ordinateur.\n",
    "\n",
    "![Un schéma](images/answers_2015/Klaas-Sion.png)"
   ]
  },
  {
   "cell_type": "markdown",
   "metadata": {},
   "source": [
    "Augustin Frottier et Aurélien Le Brech\n",
    "------------------------------------\n",
    "\n",
    "Lorsque l’on écrit une adresse aussi appelée “requête” dans le navigateur de notre choix *(Mozilla Firefox, Opera, ou Google Chrome par exemple)* et que l’on appuie sur “entrée”, on envoie celle-ci à un serveur DNS *(DNS veut dire \"Domain Name System\" ou \"système de nom de domaine\" en français)*, qui traite cette demande et nous envoi en réponse l’adresse IP de l'adresse demandée, qui envoie une requête associée au serveur lié à cette adresse IP pour ensuite nous répondre par la page demandé. Par exemple, si l’on tape `http://www.google.fr`, on passe par un serveur DNS, celui du navigateur qui nous renvoi au serveur Google en nous répondant avec l'IP de celui-ci, qui par la suite nous renvoi sur la page de recherche google associé a notre demande.\n",
    "\n",
    "![Un schéma](images/answers_2015/Frottier-LeBrech.png)"
   ]
  }
 ],
 "metadata": {
  "kernelspec": {
   "display_name": "Python 2",
   "language": "python",
   "name": "python2"
  },
  "language_info": {
   "codemirror_mode": {
    "name": "ipython",
    "version": 2
   },
   "file_extension": ".py",
   "mimetype": "text/x-python",
   "name": "python",
   "nbconvert_exporter": "python",
   "pygments_lexer": "ipython2",
   "version": "2.7.9"
  },
  "name": "answers_2015.ipynb"
 },
 "nbformat": 4,
 "nbformat_minor": 0
}
