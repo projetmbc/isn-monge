{
 "cells": [
  {
   "cell_type": "markdown",
   "metadata": {},
   "source": [
    "Problématique 1 : Généralités sur les sites web - Le contenu\n",
    "=================================\n",
    "\n",
    "Une petite question comme point de départ\n",
    "--------------------------------------\n",
    "\n",
    "Faites attention à l'apparente simplicité de la question en gras ci-dessous. Ne cherchez pas pour autant à trouver une réponse complète et définitive.\n",
    "Commencez par ce que vous pensez être juste puis ensuite affinez votre réponse en discutant avec vos camarades et à l'aide d'une recherche sur le web.\n",
    "\n",
    "> **Que se passe-t-il entre le moment où vous entrez l'adresse d'un site dans un navigateur web comme Firefox, et le moment où une page apparaît ?**"
   ]
  },
  {
   "cell_type": "markdown",
   "metadata": {},
   "source": [
    "HTML5 : un langage compris par les navigateurs web\n",
    "-----------------------------------------------\n",
    "\n",
    "Parmi les choses essentiels à un site web il y a les pages que nous pouvons lire et utiliser. Nous alllons nous concentrer maintenant sur une méthode directe pour rédiger de façon structurée des pages web mises en forme par un navigateur web. Pour cela, nous utiliserons le langage de description [HTML5](https://fr.wikipedia.org/wiki/HTML5) que tous les navigateurs web savent interpréter pour mettre en forme du texte."
   ]
  },
  {
   "cell_type": "markdown",
   "metadata": {},
   "source": [
    "### Une petite ruse de sioux pour mieux faire ressortir notre exemple\n",
    "\n",
    "Par défaut, lorsque l'on teste des codes HTML, Jupyter propose une mise en forme identique à celle du texte que vous ête en train de lire. Gênant pour voir ce qu'il se passe...\n",
    "Pour remédier à cela, nous utilisons les lignes de code suivantes *(la compréhension de ce code dépasse le cadre du cours d'ISN mais les curieux sont les bienvenus)*.\n",
    "Grâce aux lignes ci-dessous, la mise en forme de notre code exemple en HTML appraîtra dans un rectangle au fond gris et au bord rouge forcé."
   ]
  },
  {
   "cell_type": "code",
   "execution_count": 1,
   "metadata": {
    "collapsed": true
   },
   "outputs": [],
   "source": [
    "# Solution donnée sur la liste de diffusion des développeurs du projet Jupyter.\n",
    "#\n",
    "# PAS DE PANIQUE ! La compréhension de ce code dépasse le cadre du cours d'ISN.\n",
    "\n",
    "from IPython.display import HTML, display\n",
    "from IPython.core.magic import register_cell_magic\n",
    "\n",
    "@register_cell_magic\n",
    "def html(line, cell):\n",
    "    display(\n",
    "        HTML(\n",
    "            \"<div style='border:2px solid darkred; padding: 5px; background:lightgray'>{0}</div>\".format(cell)\n",
    "        )\n",
    "    )"
   ]
  },
  {
   "cell_type": "markdown",
   "metadata": {},
   "source": [
    "### Un bout de code en HTML\n",
    "\n",
    "Dans la cellule suivante, la ligne magique `%%html` permet de taper **des bouts de code HTML** qui sont interprétés au sein de notre document Jupyter *(vous travaillerez avec une *\"vraie\"* page HTML un peu plus tard)*. Analysez ce code et sa mise en forme dans le rectangle au fond gris et au bord rouge foncé *(voir un peu plus bas)*. Pouvez-vous établir certaines règles de programmation en HTML5 ? **Interdit d'utiliser votre moteur de recherche favori !**"
   ]
  },
  {
   "cell_type": "code",
   "execution_count": 2,
   "metadata": {},
   "outputs": [
    {
     "data": {
      "text/html": [
       "<div style='border:2px solid darkred; padding: 5px; background:lightgray'>\n",
       "<h1>Un bout de code HTML5</h1>\n",
       "\n",
       "<h2>Un tout petit bout de code</h2>\n",
       "\n",
       "<p>\n",
       "Mon inspiration faisant défaut,\n",
       "\n",
       "je risque de faire comme beaucoup de personnes non <em>latiniste</em> testant une technologie, \n",
       "\n",
       "à savoir utiliser un texte sans aucun intérêt.\n",
       "</p>\n",
       "\n",
       "<p>\n",
       "<strong>FIN !</strong>\n",
       "</p></div>"
      ],
      "text/plain": [
       "<IPython.core.display.HTML object>"
      ]
     },
     "metadata": {},
     "output_type": "display_data"
    }
   ],
   "source": [
    "%%html\n",
    "\n",
    "<h1>Un bout de code HTML5</h1>\n",
    "\n",
    "<h2>Un tout petit bout de code</h2>\n",
    "\n",
    "<p>\n",
    "Mon inspiration faisant défaut,\n",
    "\n",
    "je risque de faire comme beaucoup de personnes non <em>latiniste</em> testant une technologie, \n",
    "\n",
    "à savoir utiliser un texte sans aucun intérêt.\n",
    "</p>\n",
    "\n",
    "<p>\n",
    "<strong>FIN !</strong>\n",
    "</p>"
   ]
  },
  {
   "cell_type": "markdown",
   "metadata": {},
   "source": [
    "Une page HTML produite \"à la main\"\n",
    "--------------------------------\n",
    "\n",
    "Dans votre dossier de travail, trouvez le fichier de chemin relatif suivant :\n",
    "\n",
    "`isn-term-S/lessons/content/pb-website/content/example.html`\n",
    "\n",
    "Ouvrez le fichier `example.html` à l'aide de Firefox, mais aussi à l'aide d'un simple éditeur de texte pour voir le codage spécifique utilisé. \n",
    "\n",
    "1. Notez la structure minimale de départ du code HTML5 du fichier `example.html`. Cherchez des informations expliquant cette structure minimale.\n",
    "\n",
    "1. Toujours à l'aide d'un moteur de recherche, faites apparaître dans le document mis en forme une liste numérotée similaire à celle que vous êtes en train de lire.\n",
    "\n",
    "1. Pour finir, faites aparaître un tableau **ressemblant** à celui donnnant les régles des signes comme celui ci-dessous *(ne vous formalisez pas sur les bordures du tableau)*.\n",
    "\n",
    "| Produit |  +  |  -  |\n",
    "|:-------:| --- | --- |\n",
    "|    +    |  +  |  -  |\n",
    "|    -    |  -  |  +  |\n",
    "\n",
    "\n",
    "     \n",
    "**AVERTISSEMENT :** à chaque fois que vous modifiez le codage, pensez à rafraîchir la page mise en forme par votre navigateur *(celle obtenue ouverte dans Firefox)."
   ]
  },
  {
   "cell_type": "markdown",
   "metadata": {},
   "source": [
    "Travail évalué : votre tout première *\"vraie\"* page HTML\n",
    "-----------------------------------------------------\n",
    "\n",
    "Assez joué, il est temps de produire une page HTML tout(e) seul(e) sans l'aide de personne, ou presque, et ceci sur un ordinateur personnel. Pour obtenir cela, nous allons utiliser le logiciel `Notepad++` qui est un éditeur de programme disponible sous Windows *(`Notepad++` gère beaucoup de langages de programmation et de description dont le HTML)*.\n",
    "\n",
    "**UN POINT TRÈS TECHNIQUE !** Vous devez absolument vérifier que `Notepad++` est bien paramétré pour l'encodage `UTF-8 sans BOM` dans l'onglet `[Encodage]`.\n",
    "\n",
    "Voici ce que vous devez faire.\n",
    "\n",
    "1. Commencez par créer un fichier nommé `cequejaime_nom_prenom.html` dans votre dossier de travail pour le réseau du lycée où `nom` et `prenom` sont à adapter à votre état civil. **Attention à bien organiser ce dossier** pour vos futurs travaux en ISN et dans d'autres matières ! Le fichier devra contenir la structure minimale étudiée dans la section précédente.\n",
    "\n",
    "1. Choisissez un sujet, politiquement correct bien entendu, que vous aimeriez partager avec vos camarades : votre passion pour le VTT, votre magazine informatique préféré, une analyse comparée entre chocolat noir et chocolat blanc... Utilisez le langage HTML5 pour produire un texte autour de ce sujet favori. Respectez les contraintes suivantes :\n",
    "\n",
    "    1. Utilisez un titre de niveau 1 avec en plus votre prénom et votre nom entre des parenthèses.\n",
    "    \n",
    "    1. Structurez votre texte en utilisant des paragraphes et faites en sorte que vous utilisiez au moins deux titres de niveau 2.\n",
    "    \n",
    "    1. Faites ressortir des mots importants dans votre texte.\n",
    "    \n",
    "    1. Utilisez au moins un tableau à un moment ou à un autre.\n",
    "\n",
    "1. Envoyez le fichier fini par mail avec le sujet \"Site web - Contenu\" avant la **date donnée en classe**. Si vous n'avez pas pu finir en classe, pensez à emporter le fichier avec vous soit via une clé USB, soit en vous envoyant un mail à vous même.\n",
    "\n",
    "**IMPORTANT !** Ce travail sera amélioré plus tard lorsque nous verrons comment gérer la mise en forme d'une page HTML. "
   ]
  },
  {
   "cell_type": "markdown",
   "metadata": {},
   "source": [
    "Facultatif : recherche sur le web \n",
    "-------------------------------\n",
    "\n",
    "Si vous avez eu très peu ou pas de difficultés à faire l'exercice précédent, commencez par compléter un peu vos connnaissances en HTML en résolvant les mini-problèmes suivants grâce éventuellement à votre moteur de recherche favori.\n",
    "\n",
    "1. Comment peut-on indiquer un hyperlien vers une page d'un site web ?\n",
    "\n",
    "1. Comment insère-t-on une image dans une page HTML ?\n",
    "\n",
    "1. Comment peut-on afficher les symboles mathématiques `<` et `>` ?\n",
    "\n",
    "1. Comment peut-on afficher un texte qui respecte à la fois les espaces et les retours à la ligne utilisés dans le code du fichier HTML ?\n",
    "\n",
    "1. Est-ce qu'un fichier `test.html` ne contenant que le texte `Un petit test`, et absolument rien d'autre, sera traité sans erreur par un navigateur web ? Que pensez-vous de ce comportement ?"
   ]
  }
 ],
 "metadata": {
  "kernelspec": {
   "display_name": "Python 3",
   "language": "python",
   "name": "python3"
  },
  "language_info": {
   "codemirror_mode": {
    "name": "ipython",
    "version": 3
   },
   "file_extension": ".py",
   "mimetype": "text/x-python",
   "name": "python",
   "nbconvert_exporter": "python",
   "pygments_lexer": "ipython3",
   "version": "3.7.4"
  },
  "name": "website-content.ipynb"
 },
 "nbformat": 4,
 "nbformat_minor": 1
}
