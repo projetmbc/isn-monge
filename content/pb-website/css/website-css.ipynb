{
 "cells": [
  {
   "cell_type": "markdown",
   "metadata": {},
   "source": [
    "Problématique 3 : Généralités sur les sites web - La mise en forme\n",
    "====================================\n",
    "\n",
    "\n",
    "Mise en forme efficace grâce au langage CSS\n",
    "-----------------------------------------\n",
    "\n",
    "[Cette page HTML](example_default.html) vous explique comment mettre en forme un fichier HTML. Ce document se finit par un lien renvoyant vers une page utilisant une mise en forme personnalisée bien que de très mauvais goût.\n",
    "\n",
    "Vous devrez ensuite ouvrir ces deux pages via Notepad++ afin d'étudier leurs codes respectifs. Voici les chemins de ces deux pages.\n",
    "\n",
    "* `isn-term-S/lessons/content/pb-website/css/example_default.html` pour la mise en forme par défaut.\n",
    "* `isn-term-S/lessons/content/pb-website/css/example_css.html` pour la mise forme personnalisée et de très mauvais goût."
   ]
  },
  {
   "cell_type": "markdown",
   "metadata": {},
   "source": [
    "Auto-formation : un peu de mise en forme\n",
    "--------------------------------------\n",
    "\n",
    "Personnalisez la mise en forme de votre page `cequejaime`. Nul besoin de faire preuve de bon goût, mais de nouveau attention à ne pas vouloir embrasser l'ensemble des techniques CSS !\n",
    "\n",
    "**Note :** si vous n'arrivez pas à vos fins, n'hésitez pas à m'en parler."
   ]
  },
  {
   "cell_type": "markdown",
   "metadata": {},
   "source": [
    "Facultatif : recherche sur le web \n",
    "-------------------------------\n",
    "\n",
    "Si vous avez le temps, tentez de répondre aux questions suivantes grâce éventuellement à votre moteur de recherche favori.\n",
    "\n",
    "1. Est-il possible de mettre toutes les régles CSS dans un fichier à part ? Si oui, on pourrait ainsi facilement utiliser les mêmes règles de mise en forme dans toutes les pages HTML d'un site.\n",
    "\n",
    "1. Est-il possible de mettre une image comme fond d'une page HTML ?\n",
    "\n",
    "1. Dans la ruse de sioux pour mettre en valeur les résultats de nos bouts de code HTML dans nos documents Jupyter, on retrouve le code suivant : `<div style='border:2px solid darkred; padding: 5px; background:lightgray'>...</div>`. Seriez vous expliquer ce bout de code ?\n",
    "\n",
    "1. Comment obtenir le tableau des signes vus dans [la problématique n°1](../content/website-content.ipynb) mais cette fois-ci en ayant la mise en forme avec de jolis traits noirs ?\n",
    "\n",
    "1. Peut-on ajouter un dégradé comme fond d'une page HTML ? \n",
    "\n",
    "1. Le langage CSS permet-il de proposer des mises en forme différentes suivant la taille de l'écran utilisé ? Si oui, on pourrait utiliser le même code HTML pour un site proposant une mise en forme adaptée aux grands écrans, et une autre destinée aux smartphones. "
   ]
  },
  {
   "cell_type": "markdown",
   "metadata": {},
   "source": [
    "Friandise n°1 : un petit \"hack\"\n",
    "-----------------------------\n",
    "\n",
    "Jupyter se base sur le langage CSS pour la mise en forme du document que vous lisez. Changez `white` en `green` dans les lignes suivantes, puis appuyez ensuite sur le bouton *\"Play\"* de l'interface de Jupyter *(voir le bouton en forme de triangle)*. Ceci devrait vous convaincre.\n",
    "\n",
    "**Note :** pour revenir à une situation normale, il suffit de remettre `white` à la place de `green`, puis d'appuyer sur le bouton *\"Play\"*. "
   ]
  },
  {
   "cell_type": "code",
   "execution_count": 3,
   "metadata": {},
   "outputs": [
    {
     "data": {
      "text/html": [
       "\n",
       "<html>\n",
       "    <head>\n",
       "        <style>\n",
       "            div{background-color: white;}\n",
       "        </style>\n",
       "    </head>\n",
       "</html>\n"
      ],
      "text/plain": [
       "<IPython.core.display.HTML object>"
      ]
     },
     "metadata": {},
     "output_type": "display_data"
    }
   ],
   "source": [
    "%%html\n",
    "\n",
    "<html>\n",
    "    <head>\n",
    "        <style>\n",
    "            div{background-color: white;}\n",
    "        </style>\n",
    "    </head>\n",
    "</html>"
   ]
  },
  {
   "cell_type": "markdown",
   "metadata": {},
   "source": [
    "Friandise n°2 : une animation refusée par Dreamworks !\n",
    "--------------------------------------------------\n",
    "\n",
    "Le langage CSS3 propose des commandes pour faire des animations, et ceci pour le pire mais aussi pour le meilleur. On peut ainsi obtenir des choses très *\"drôles\"* comme [cette page](example_animation.html) à ouvrir avec Firefox *(l'effet ne marche pas avec tous les navigateurs)*."
   ]
  },
  {
   "cell_type": "markdown",
   "metadata": {},
   "source": [
    "Friandise n°3 : cacher, pas cacher, cacher, pas cacher,... etc.\n",
    "-----------------------------------------------------------\n",
    "\n",
    "Avec un peu plus de technique, on peut même faire des choses très utiles grâce au langage CSS. Voici \n",
    "[un exemple très concret](example_hide_show.html), au moins pour un professeur de mathématiques..."
   ]
  }
 ],
 "metadata": {
  "kernelspec": {
   "display_name": "Python 3",
   "language": "python",
   "name": "python3"
  },
  "language_info": {
   "codemirror_mode": {
    "name": "ipython",
    "version": 3
   },
   "file_extension": ".py",
   "mimetype": "text/x-python",
   "name": "python",
   "nbconvert_exporter": "python",
   "pygments_lexer": "ipython3",
   "version": "3.7.4"
  },
  "name": "website-css.ipynb"
 },
 "nbformat": 4,
 "nbformat_minor": 1
}
