{
 "cells": [
  {
   "cell_type": "markdown",
   "metadata": {},
   "source": [
    "Problématique 2 : Généralités sur les sites web - Liens et images\n",
    "===================================\n",
    "\n",
    "Utilisation d'un code Python pour mieux faire ressortir nos exemples en HTML\n",
    "------------------------------------------------------------------------\n",
    "\n",
    "Nous utilisons de nouveau les lignes de code Python ci-dessous pour demander à Jupyter de mettre en forme nos codes HTML dans un rectangle au fond gris et au bord rouge forcé."
   ]
  },
  {
   "cell_type": "code",
   "execution_count": 1,
   "metadata": {},
   "outputs": [],
   "source": [
    "# Solution donnée sur la liste de diffusion des développeurs du projet Jupyter.\n",
    "#\n",
    "# PAS DE PANIQUE ! La compréhension de ce code dépasse le cadre du cours d'ISN.\n",
    "\n",
    "from IPython.display import HTML, display\n",
    "from IPython.core.magic import register_cell_magic\n",
    "\n",
    "@register_cell_magic\n",
    "def html(line, cell):\n",
    "    display(\n",
    "        HTML(\n",
    "            \"<div style='border:2px solid darkred; padding: 5px; background:lightgray'>{0}</div>\".format(cell)\n",
    "        )\n",
    "    )"
   ]
  },
  {
   "cell_type": "markdown",
   "metadata": {},
   "source": [
    "Ajouter des images dans le contenu\n",
    "--------------------------------\n",
    "\n",
    "Dans un site web, l'usage d'images est primordial soit pour attirer l'oeil, soit pour résumer une situation très rapidement interprétable par le cerveau : par exemple, une icône avec une disquette nous fait tout suite penser à l'action *\"Enregister un fichier\"* même si pratiquement plus personne n'utilise de disquette. \n",
    "\n",
    "Pour la suite, il faut savoir la page que vous lisez et l'image affichée sont rangées comme suit dans le dossier `pb-website/link-picture` où un signe `+` indique un dossier, et un signe `*` indique un fichier. \n",
    "\n",
    "```\n",
    "+ pb-website\n",
    "    + link-picture\n",
    "        * favicon.html\n",
    "        * website-link-picture.ipynb\n",
    "        + images\n",
    "            * aeronave-eurocopter-ec120-12199153-o.jpg\n",
    "            * health_care32.png\n",
    "```\n",
    "\n",
    "Ceci permet de mieux comprendre le bout de code HTML ci-dessous.\n",
    "\n",
    "\n",
    "**Source utilisée :** l'image utilisée vient de [cette page](http://www.everystockphoto.com/photo.php?imageId=18171720&entryId=569). Vous pourrez vérifier que son utilisation est possible dans le cadre de ce cours, et vous ne chercherez pas à reproduire ceci chez vous.\n",
    "\n",
    "\n",
    "**Important !** Rappelons que l'utilisation de `%%html` est propre à Jupyter. Ce mot magique sert à tester de petits bouts de code mais il ne fait pas partie du langage HTML."
   ]
  },
  {
   "cell_type": "code",
   "execution_count": 2,
   "metadata": {},
   "outputs": [
    {
     "data": {
      "text/html": [
       "<div style='border:2px solid darkred; padding: 5px; background:lightgray'>\n",
       "<h1>Dimensions inchang&eacute;es</h1>\n",
       "\n",
       "<img src=\"images/aeronave-eurocopter-ec120-12199153-o.jpg\">\n",
       "\n",
       "\n",
       "<h1>Indication des dimensions en pixels</h1>\n",
       "\n",
       "<img src=\"images/aeronave-eurocopter-ec120-12199153-o.jpg\" style=\"width:104px; height:228px;\">\n",
       "\n",
       "\n",
       "<h1>Titre lorsque la souris survole l'image</h1>\n",
       "\n",
       "<img src=\"images/aeronave-eurocopter-ec120-12199153-o.jpg\" title =\"Survoles moi...\">\n",
       "\n",
       "\n",
       "\n",
       "<h1>Pour les non voyants</h1>\n",
       "\n",
       "<img src=\"images/aeronave-eurocopter-ec120-12199153-o.jpg\" alt=\"Description de l'image\"></div>"
      ],
      "text/plain": [
       "<IPython.core.display.HTML object>"
      ]
     },
     "metadata": {},
     "output_type": "display_data"
    }
   ],
   "source": [
    "%%html\n",
    "\n",
    "<h1>Dimensions inchang&eacute;es</h1>\n",
    "\n",
    "<img src=\"images/aeronave-eurocopter-ec120-12199153-o.jpg\">\n",
    "\n",
    "\n",
    "<h1>Indication des dimensions en pixels</h1>\n",
    "\n",
    "<img src=\"images/aeronave-eurocopter-ec120-12199153-o.jpg\" style=\"width:104px; height:228px;\">\n",
    "\n",
    "\n",
    "<h1>Titre lorsque la souris survole l'image</h1>\n",
    "\n",
    "<img src=\"images/aeronave-eurocopter-ec120-12199153-o.jpg\" title =\"Survoles moi...\">\n",
    "\n",
    "\n",
    "\n",
    "<h1>Pour les non voyants</h1>\n",
    "\n",
    "<img src=\"images/aeronave-eurocopter-ec120-12199153-o.jpg\" alt=\"Description de l'image\">\n"
   ]
  },
  {
   "cell_type": "markdown",
   "metadata": {},
   "source": [
    "Rien n'empêche d'indiquer comment accéder à l'image via son url sur le web comme dans l'exemple suivant."
   ]
  },
  {
   "cell_type": "code",
   "execution_count": 3,
   "metadata": {},
   "outputs": [
    {
     "data": {
      "text/html": [
       "<div style='border:2px solid darkred; padding: 5px; background:lightgray'>\n",
       "<img src=\"http://s3.amazonaws.com/everystockphoto/fspid30/12/19/91/53/aeronave-eurocopter-ec120-12199153-o.jpg\"></div>"
      ],
      "text/plain": [
       "<IPython.core.display.HTML object>"
      ]
     },
     "metadata": {},
     "output_type": "display_data"
    }
   ],
   "source": [
    "%%html\n",
    "\n",
    "<img src=\"http://s3.amazonaws.com/everystockphoto/fspid30/12/19/91/53/aeronave-eurocopter-ec120-12199153-o.jpg\">"
   ]
  },
  {
   "cell_type": "markdown",
   "metadata": {},
   "source": [
    "À savoir !\n",
    "---------\n",
    "\n",
    "Quand on indique `images/aeronave-eurocopter-ec120-12199153-o.jpg` dans le bout de code HTML précédent, la recherche se fait dans le sous-dossier `images` du dossier `pb-website/link-picture`. Par exemple, avec l'organisation ci-après des fichiers, aucune image ne pourrait être affichée car le dossier `badchoice` ne contient pas de sous-dossier `images`.\n",
    "\n",
    "```\n",
    "+ pb-website\n",
    "    + link-picture\n",
    "        + badchoice\n",
    "            * favicon.html\n",
    "            * website-link-picture.ipynb         <--- La recherche se fait relativement à ce fichier !\n",
    "        + images\n",
    "            * aeronave-eurocopter-ec120-12199153-o.jpg\n",
    "            * health_care32.png\n",
    "```\n",
    "\n",
    "Dans ce cas, il faudrait en fait utiliser `../images/aeronave-eurocopter-ec120-12199153-o.jpg` où `../` indique de monter d'un niveau dans l'organisation des dossiers. Ceci fonctionnerait ici car dans notre exemple fictif le dossier au-dessus de `badchoice` est `pb-website/link-picture` qui contient le sous-dossier `images` avec l'image souhaitée."
   ]
  },
  {
   "cell_type": "markdown",
   "metadata": {},
   "source": [
    "Ajouter une petite image à côté du mini-titre d'une page\n",
    "-----------------------------------------------------\n",
    "\n",
    "Ouvrir [ce lien](favicon.html) sous Firefox, puis lisez le contenu de la page ouverte. Pour travailler avec le code HTML de cette page via Notepad++, sachez que celle-ci admet le chemin suivant :\n",
    "\n",
    "`isn-term-S/lessons/content/pb-website/link-picture/favicon.html`"
   ]
  },
  {
   "cell_type": "markdown",
   "metadata": {},
   "source": [
    "Utiliser des hyperliens\n",
    "----------------------\n",
    "\n",
    "La force du HTML, acronyme de Hypertext Markup Language, est la possibilité d'ajouter des liens renvoyant vers d'autres pages HTML comme par exemple [ce lien vers le site du lycée Monge de Chambéry](http://www.ac-grenoble.fr/lycee/chambery.monge/). Mais comment indique-t-on un tel lien en HTML ? Il faut juste utiliser la balise `<a href=\"...\">...</a>` comme ci-après.\n",
    "\n",
    "\n",
    "** Attention !** Ouvrez bien le lien dans la cadre rouge sur fond gris via un clic droit. Pour les audatieux, ou les maladroits, si vous utilisez un clic gauche, pensez à faire un retour en arrière pour rattraper les dégâts."
   ]
  },
  {
   "cell_type": "code",
   "execution_count": 4,
   "metadata": {},
   "outputs": [
    {
     "data": {
      "text/html": [
       "<div style='border:2px solid darkred; padding: 5px; background:lightgray'>\n",
       "<a href=\"http://www.ac-grenoble.fr/lycee/chambery.monge/\">Un lien quelque part sur la toile</a></div>"
      ],
      "text/plain": [
       "<IPython.core.display.HTML object>"
      ]
     },
     "metadata": {},
     "output_type": "display_data"
    }
   ],
   "source": [
    "%%html\n",
    "\n",
    "<a href=\"http://www.ac-grenoble.fr/lycee/chambery.monge/\">Un lien quelque part sur la toile</a>"
   ]
  },
  {
   "cell_type": "markdown",
   "metadata": {},
   "source": [
    "Tout comme pour les images, on peut au choix pointer vers une page HTML sur le web, comme ci-dessus, ou bien vers une page relativement au fichier en cours. On peut ainsi créer un site web utilisable sur son ordinateur sans connexion *(par contre ce site n'est accessible que sur le dit ordinateur, la communication avec l'extérieur demandant bien plus de travail que simplemnt produire du code HTML, sauf à faire appel à des services dédiés)*. Rappelons que les fichiers sont organisés comme suit.\n",
    "\n",
    "```\n",
    "+ pb-website\n",
    "    + link-picture\n",
    "        * favicon.html\n",
    "        * website-link-picture.ipynb\n",
    "        + images\n",
    "            * aeronave-eurocopter-ec120-12199153-o.jpg\n",
    "            * health_care32.png\n",
    "```\n",
    "\n",
    "\n",
    "** Attention !** L'avertissement précédent à propos du clic droit reste valable ici."
   ]
  },
  {
   "cell_type": "code",
   "execution_count": 5,
   "metadata": {},
   "outputs": [
    {
     "data": {
      "text/html": [
       "<div style='border:2px solid darkred; padding: 5px; background:lightgray'>\n",
       "<a href=\"favicon.html\">Un lien vers une page HTML proche de moi<a></div>"
      ],
      "text/plain": [
       "<IPython.core.display.HTML object>"
      ]
     },
     "metadata": {},
     "output_type": "display_data"
    }
   ],
   "source": [
    "%%html\n",
    "\n",
    "<a href=\"favicon.html\">Un lien vers une page HTML proche de moi<a>"
   ]
  },
  {
   "cell_type": "markdown",
   "metadata": {},
   "source": [
    "Conseil pratique\n",
    "---------------\n",
    "\n",
    "Un site doit être bien organisé. Attention à cela pour le travail qui va vous être demandé !\n",
    "Dans le cas du document que vous lisez, le choix a été fait de mettre les documents dans le dossier principal, puis les images dans un fichier `images` comme ci-dessous.\n",
    "\n",
    "```\n",
    "+ pb-website\n",
    "    + link-picture\n",
    "        * favicon.html\n",
    "        * website-link-picture.ipynb\n",
    "        + images\n",
    "            * aeronave-eurocopter-ec120-12199153-o.jpg\n",
    "            * health_care32.png\n",
    "```"
   ]
  },
  {
   "cell_type": "markdown",
   "metadata": {},
   "source": [
    "Travail évalué : votre tout premier *\"site\"* statique\n",
    "--------------------------------------------------\n",
    "\n",
    "Pour ce travail, vous allez devoir travailler par trinôme. Organisez-vous comme vous voulez. Vous aurez peut-être à présenter votre travail à toute la classe. date limite d'envoi : la date donnée en classe.\n",
    "\n",
    "1. Créer un dossier nommé `nanosite_nom1-nom2-nom3` où `nom1`, `nom2` et `nom3` correspondent à vos noms respectifs. \n",
    "\n",
    "1. Ce dossier doit avoir la structure suivante.\n",
    "    ```\n",
    "    + nanosite_nom1-nom2-nom3\n",
    "        * index.html\n",
    "        + images\n",
    "        + cequejaime\n",
    "            * cequejaime_nom1_prenom1.html\n",
    "            * cequejaime_nom2_prenom2.html\n",
    "            * cequejaime_nom3_prenom3.html\n",
    "        + aproposdesimages\n",
    "    ```\n",
    "\n",
    "1. Le fichier `index.html` doit contenir une table des matières avec des liens pointant chacune de vos pages HTML. Faites un système basique de liens pour faciliter la navigation. Pas besoin de partir dans des menus évolués, ce n'est pas le propos ici ! Attention à ne pas vous retrouver au tableau interrogé(e) pour expliquer quelque chose que vous ne maitrisez pas ! Voir [cette page](https://openclassrooms.com/fr/courses/1603881-apprenez-a-creer-votre-site-web-avec-html5-et-css3/1605881-structurez-votre-page) qui propose une bonne pratique.\n",
    "\n",
    "1. Le dossier `images` est le seul endroit où doivent se trouver des images.\n",
    "\n",
    "1. Dans le dossier `cequejaime`, les fichiers `cequejaime_nom1_prenom1.html`, `cequejaime_nom2_prenom2.html` et `cequejaime_nom3_prenom3.html` ne sont autres que ce qui vous avez été demandé à la fin de la problématique n°1.\n",
    "***Important !*** *Si vous aviez déjà utilisé des images, il va falloir gérer celles-ci relativement à la contrainte précédente. Ceci va vous demander de reprendre un peu votre code HTML, et à bien mettre au bon endroit les images*. **INTERDIT D'AVOIR DES IMAGES EN DOUBLE DANS VOTRE \"SITE\" !**\n",
    "\n",
    "1. Dans le dossier, `aproposdesimages` rédiger *\"à trois mains\"* un document ni trop long, ni trop court à propos des images. Voici des axes de recherche.\n",
    "   * Présenter très rapidement différents formats d'images comme par exemple les formats PNG, JPEG ou SVG. Faire un comparatif très rapide de ces formats, ou d'autres. **Attention !** Prenez garde que rien que pour chacun de ces formats, il existe des livres entiers qui leur sont consacrés donc faites une synthèse pertinente et pas trop technique.\n",
    "   \n",
    "   * Peut-on mettre les images que l'on veut à disposition sur internet ? \n",
    "   \n",
    "   * Est-ce grave de mettre en ligne une photo dégradante de quelqu'un ?\n",
    "   \n",
    "   * Est-il facile de truquer une image ?\n",
    "   \n",
    "   * ...etc.\n",
    "\n",
    "1. Bien entendu, votre document rédigé *\"à trois mains\"* devra contenir des images. Veillez à indiquer d'où viennent ces images et aussi à prendre garde que vous avez bien le droit de les utiliser dans le cadre d'un cours.  \n",
    "\n",
    "1. Une fois le travail fini, il faudra me l'envoyer par mail sous forme d'un fichier zippé. Un clic droit sur votre dossier final devrait vous aider."
   ]
  },
  {
   "cell_type": "markdown",
   "metadata": {},
   "source": [
    "Facultatif : recherche sur le web \n",
    "-------------------------------\n",
    "\n",
    "Si vous avez le temps, continuez à compléter vos connnaissances en HTML en répondant aux questions suivantes grâce éventuellement à votre moteur de recherche favori.\n",
    "\n",
    "1. Peut-on associer une image à un hyperlien ? Autrement dit, peut-on faire en sorte qu'en cliquant sur une image, ceci ouvre une nouvelle page ?\n",
    "\n",
    "1. Peut-on créer des hyperliens au sein d'une même page ? Par exemple, peut-on faire en sorte que si on clique sur un lien, le navigateur affche la même page mais au niveau du troisième titre `<h1>...</h1>` de niveau 1 ? Pour tester cela, il faudra avoir une page avec suffisament de contenu *(mettre du contenu sans sens comme \"bla, bla, bla, ... par exemple\")*.\n",
    "\n",
    "1. Comment peut-on insérer une vidéo dans une page HTML ?"
   ]
  }
 ],
 "metadata": {
  "kernelspec": {
   "display_name": "Python 3",
   "language": "python",
   "name": "python3"
  },
  "language_info": {
   "codemirror_mode": {
    "name": "ipython",
    "version": 3
   },
   "file_extension": ".py",
   "mimetype": "text/x-python",
   "name": "python",
   "nbconvert_exporter": "python",
   "pygments_lexer": "ipython3",
   "version": "3.7.4"
  },
  "name": "website-link-picture.ipynb"
 },
 "nbformat": 4,
 "nbformat_minor": 1
}
