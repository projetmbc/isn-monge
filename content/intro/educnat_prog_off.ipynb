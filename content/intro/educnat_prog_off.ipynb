{
 "cells": [
  {
   "cell_type": "markdown",
   "metadata": {},
   "source": [
    "Le programme officiel\n",
    "============\n",
    "\n",
    "Lien officiel\n",
    "------------\n",
    "\n",
    "L'ensemble du programme se trouve dans [ce document au format PDF](https://www.legifrance.gouv.fr/jo_pdf.do?id=JORFTEXT000035329440&t=1&cn=ZmxleGlibGVfcmVjc18y&refsrc=email&iid=887fb940efcb447fb2abffcd9442e656&uid=862747333313916928&nid=244+281088008). Vous trouverez aussi dans [cette page](http://www.education.gouv.fr/pid25535/bulletin_officiel.html?cid_bo=57489) d'autres informations, dont certaines sont obsolètes au regard du document précédent."
   ]
  },
  {
   "cell_type": "markdown",
   "metadata": {
    "collapsed": true
   },
   "source": [
    "Mise en activité\n",
    "---------------\n",
    "\n",
    "Voici ce que l'on peut lire dans le programme.\n",
    "\n",
    "> Afin de refléter le caractère scientifique et technique propre à la discipline et de développer l’appétence des élèves en faveur de cet enseignement, il convient de les mettre en situation d’activité aussi souvent que possible, comme cela a déjà été fait au collège. Dans la continuité du cycle 4, une pédagogie par projets est à privilégier pour favoriser l’émergence d’une dynamique de groupe : la conduite d’un projet (création d’un objet, d’un programme, etc.) permet à un binôme ou un trinôme d’élèves de développer des compétences d’autonomie et de collaboration, de consolider des connaissances, et d’acquérir une expérience de programmation."
   ]
  },
  {
   "cell_type": "markdown",
   "metadata": {},
   "source": [
    "Travail pluridisciplinaire\n",
    "-------------------------\n",
    "\n",
    "Voici ce que l'on peut lire dans le programme.\n",
    "\n",
    "> L’informatique enrichit les autres disciplines en apportant ses propres démarches. Connexe à de nombreux domaines, elle est l’occasion d’un travail pluridisciplinaire : la complémentarité des approches, associée à la richesse d’un travail collaboratif, joue un rôle stimulant pour les élèves et les équipes pédagogiques."
   ]
  },
  {
   "cell_type": "markdown",
   "metadata": {},
   "source": [
    "Les projets\n",
    "-----------\n",
    "\n",
    "Voici ce que l'on peut lire dans le programme.\n",
    "\n",
    "> Les compétences mises en jeu au cours du développement d'un projet peuvent être regroupées ainsi :\n",
    "- proposer une approche fonctionnelle qui réponde aux besoins ;\n",
    "- conduire des recherches documentaires ;\n",
    "- concevoir des programmes en autonomie et vérifier le comportement attendu ;\n",
    "- gérer les étapes du projet en dialogue et en interaction avec le professeur.\n",
    "Les activités des élèves sont organisées selon la démarche de projet autour d’une équipe de projet formée de deux ou trois élèves et dont le fonctionnement est guidé par une démarche incluant des points d’étape pour faire un bilan avec le professeur, valider des éléments, contrôler ou modifier l’avancement du projet, voire le redéfinir partiellement."
   ]
  },
  {
   "cell_type": "markdown",
   "metadata": {},
   "source": [
    "Notions à aborder\n",
    "----------------\n",
    "\n",
    "### Représentation de l'information\n",
    "\n",
    "Voici ce que propose le programme.\n",
    "\n",
    "1. Numérisation.\n",
    "1. Formats et taille de l’information.\n",
    "1. Représentation binaire et opérations booléennes."
   ]
  },
  {
   "cell_type": "markdown",
   "metadata": {},
   "source": [
    "### Algorithmique \"simple\"\n",
    "\n",
    "Voici ce que propose le programme.\n",
    "\n",
    "1. Ajouter deux entiers exprimés en écriture binaire.\n",
    "1. Rechercher un élément dans un tableau trié par une méthode dichotomique.\n",
    "1. Trier un tableau via la méthode dite par sélection, et celle dite par fusion.\n",
    "1. Rechercher un chemin dans un graphe par un parcours en largeur ou en profondeur."
   ]
  },
  {
   "cell_type": "markdown",
   "metadata": {},
   "source": [
    "### Langages et programmation - Partie sur la programmation\n",
    "\n",
    "Voici ce que propose le programme.\n",
    "\n",
    "1. Types de données : nombre entier, nombre à virgule flottante, booléen, chaîne de caractères et tableau.\n",
    "1. Fonctions : notion de fonction, portée des variables et passage d'arguments, définition récursive de fonctions.\n",
    "1. Tester et corriger un programme.\n",
    "1. Programmation séquentielle versus parallèle"
   ]
  },
  {
   "cell_type": "markdown",
   "metadata": {},
   "source": [
    "### Langages et programmation - Partie sur les langages de description\n",
    "\n",
    "Voici ce que propose le programme.\n",
    "\n",
    "1. Présentation du langage HTML.\n",
    "1. Principe de séparation du contenu et de la mise en forme en HTML via le langage CSS."
   ]
  },
  {
   "cell_type": "markdown",
   "metadata": {},
   "source": [
    "### Images\n",
    "\n",
    "Voici ce que propose le programme.\n",
    "\n",
    "1. Programmation d’algorithmes simples de modification des images bitmap."
   ]
  },
  {
   "cell_type": "markdown",
   "metadata": {},
   "source": [
    "### Architectures matérielles - Partie sur l'architecture des ordinateurs\n",
    "\n",
    "Voici ce que propose le programme.\n",
    "\n",
    "1. Langage machine : jeu d’instructions simples (chargement, stockage, opérations arithmétiques et logiques, saut conditionnel).\n",
    "1. Les circuits combinatoires réalisant des fonctions booléennes."
   ]
  },
  {
   "cell_type": "markdown",
   "metadata": {},
   "source": [
    "### Architectures matérielles - Partie sur les réseaux\n",
    "\n",
    "Voici ce que propose le programme.\n",
    "\n",
    "1. Adressage sur un réseau.\n",
    "1. Routage.\n",
    "1. Structuration en couches des protocoles de réseau."
   ]
  },
  {
   "cell_type": "markdown",
   "metadata": {},
   "source": [
    "### Initiation à la robotique\n",
    "\n",
    "Voici ce que propose le programme.\n",
    "\n",
    "1. Découverte d’un système robotique et de sa programmation."
   ]
  }
 ],
 "metadata": {
  "kernelspec": {
   "display_name": "Python 3",
   "language": "python",
   "name": "python3"
  },
  "language_info": {
   "codemirror_mode": {
    "name": "ipython",
    "version": 3
   },
   "file_extension": ".py",
   "mimetype": "text/x-python",
   "name": "python",
   "nbconvert_exporter": "python",
   "pygments_lexer": "ipython3",
   "version": "3.6.6"
  }
 },
 "nbformat": 4,
 "nbformat_minor": 1
}
