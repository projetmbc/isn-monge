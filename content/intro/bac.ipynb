{
 "cells": [
  {
   "cell_type": "markdown",
   "metadata": {
    "slideshow": {
     "slide_type": "slide"
    }
   },
   "source": [
    "Épreuve finale du BAC\n",
    "============\n",
    "\n",
    "Le jour de l'oral\n",
    "----------------\n",
    "\n",
    "Vous trouverez le texte officiel dans [cette page](http://www.education.gouv.fr/pid25535/bulletin_officiel.html?cid_bo=57489). Voici des points importants.\n",
    "\n",
    "1. L'épreuve dure 20 minutes maximum, elle sera notée sur 20 et elle aura pour coefficient 2.\n",
    "1. L'évaluation est organisée dans l'établissement de formation du candidat et dans une salle munie d'un dispositif permettant la projection de documents informatiques.\n",
    "1. La commission d'évaluation est composée d'un professeur ayant suivi et formé l'élève pendant l'année et, dans la mesure du possible, d'un autre enseignant n'ayant pas été associé à l'enseignement de spécialité suivi par le candidat.\n",
    "1. L'épreuve est composée de deux parties consécutives.\n",
    "    * La première partie, d'une durée de 8 minutes maximum, sert à présenter le projet sans aucune interruption. Cette partie compte pour 8 points. L'élève s'appuiera sur un dossier-projet de 5 à 10 pages, hors annexes, élaboré à l'aide de l'outil informatique, et la dimension collaborative du projet sera évaluée.\n",
    "    * La deuxième partie, d'une durée de 12 minutes minimum, sert à interroger le candidat sur son projet, puis les questions s'élargiront à différentes notions du programme."
   ]
  },
  {
   "cell_type": "markdown",
   "metadata": {},
   "source": [
    "Principes d'évaluation\n",
    "---------------------\n",
    "\n",
    "Les principes d'évaluation le jour de l'oral du BAC sont donnés dans [cette page](http://www.education.gouv.fr/pid25535/bulletin_officiel.html?cid_bo=59864). Voici des points importants à retenir. \n",
    "\n",
    "1. Poser bien le problème que vous avez cherché à résoudre.\n",
    "1. Ne négliger pas le travail collaboratif même si parfois ce n'est pas simple.\n",
    "1. Attention à bien respecter l'esprit de l'enseignement de l'I.S.N. : par exemple, ne pas faire une présentation utilisant un logiciel \"cracké\"."
   ]
  },
  {
   "cell_type": "markdown",
   "metadata": {
    "collapsed": true
   },
   "source": [
    "Choix du projet\n",
    "--------------\n",
    "\n",
    "La fin du livre gratuit *[\"Informatique et sciences du numérique\"](https://wiki.inria.fr/sciencinfolycee/Fichier:Informatique_et_Sciences_du_Numérique_-_Spécialité_ISN_en_Terminale_S._version_Python.pdf)* propose une liste de projets possibles plus ou moins intéressants ou faisables. Voici quelques conseils.\n",
    "\n",
    "1. Votre enseignant est un allié de choix pour vous guider !\n",
    "1. Le projet devra être essentiellement un projet de programmation utilisant le langage Python. \n",
    "1. Vous être libre du choix de la thématique : mathématiques, S.V.T., physique, utilitaire informatique, application \"concrète\", jeux....\n",
    "1. La fabrication d'un programme est un chemin très tortureux. Soyez clair dans ce que vous cherchez à résoudre, pensez à commencer par des versions simplifiés de votre problèmatique en améliorant petit à petit votre programme.\n",
    "1. Attention aux programmes trop techniques. Par exemple, une interface graphique qui ne résoud pas un problème \"intéressant\" ne vous apportera que peu de points et ceci même si vous y aurez passé beaucoup de temps *(et oui, fabriquer une interface graphique est très chronophage)*.\n",
    "1. Ne pas s'appuyer sur des bibliothèques magiques pour résoudre votre problème. En cas de doute demandez à votre enseignant !\n"
   ]
  }
 ],
 "metadata": {
  "kernelspec": {
   "display_name": "Python 3",
   "language": "python",
   "name": "python3"
  },
  "language_info": {
   "codemirror_mode": {
    "name": "ipython",
    "version": 3
   },
   "file_extension": ".py",
   "mimetype": "text/x-python",
   "name": "python",
   "nbconvert_exporter": "python",
   "pygments_lexer": "ipython3",
   "version": "3.6.6"
  }
 },
 "nbformat": 4,
 "nbformat_minor": 1
}
