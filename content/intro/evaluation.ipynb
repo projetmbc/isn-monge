{
 "cells": [
  {
   "cell_type": "markdown",
   "metadata": {},
   "source": [
    "Évaluation durant l'année\n",
    "==============\n",
    "\n",
    "À quoi devez-vous vous attendre ?\n",
    "-------------------------------\n",
    "\n",
    "Tout au long de l'année vous serez évalué de l'une des façons suivantes.\n",
    "\n",
    "1. Tests de connaissances via des QCM par exemple.\n",
    "1. Exposés sur différents thèmes à répartir par trinômes ou binômes.\n",
    "1. Mini-projets de type programmation ou sous forme de pages web par trinômes ou binômes.\n",
    "\n",
    "\n",
    "**ATTENTION !** Un non respect des délais sera sanctionné. Il va falloir bien vous organiser cette année, et cela sera d'autant plus dur qu'il va falloir le faire par triplette ou paire."
   ]
  },
  {
   "cell_type": "markdown",
   "metadata": {},
   "source": [
    "Qu'est-ce qu'un mini-projet ?\n",
    "---------------------------\n",
    "\n",
    "Ce sont des projets proposés par votre enseignant portant sur une thématique ciblée et pouvant être résolus en peu de lignes de code. Ceci vous permettra d'appliquer ce qui a été vu en classe mais aussi de découvrir des choses par vous même. Ce dernier point est très important !\n",
    "\n",
    "**Votre enseignant peut vous aiguiller !** En cas de *\"gros blocage\"*, penser à communiquer avec moi. Comment ? Via l'ENT ou à défaut par mail. Dans ce dernier cas, je ferais à chaque fois une réponse groupée à l'ensemble du groupe."
   ]
  }
 ],
 "metadata": {
  "kernelspec": {
   "display_name": "Python 3",
   "language": "python",
   "name": "python3"
  },
  "language_info": {
   "codemirror_mode": {
    "name": "ipython",
    "version": 3
   },
   "file_extension": ".py",
   "mimetype": "text/x-python",
   "name": "python",
   "nbconvert_exporter": "python",
   "pygments_lexer": "ipython3",
   "version": "3.6.6"
  }
 },
 "nbformat": 4,
 "nbformat_minor": 1
}
