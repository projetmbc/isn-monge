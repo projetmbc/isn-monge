{
 "cells": [
  {
   "cell_type": "markdown",
   "metadata": {},
   "source": [
    "Boîte à outils - Premiers pas avec Python 3 \n",
    "===========================================\n",
    "\n",
    "> **Version du 2015-10-07**\n",
    "\n",
    "Ce document, sans prétention, propose de réunir un ensemble de techniques de base sous une forme facile d'utilisation.\n",
    "Le but ici n'est pas d'explorer en détail les différents thèmes proposés mais au contraire de proposer un ensemble d'outils suffisants et utiles quand on débute.\n",
    "Ceci évitera aux débutants de se noyer dans des concepts un peu trop avancés.\n",
    "Toute remarque constructive est bienvenue pour faire évoluer ***ce document non définitif***."
   ]
  },
  {
   "cell_type": "markdown",
   "metadata": {},
   "source": [
    "Licence\n",
    "-------\n",
    "\n",
    "Ce document est mis à disposition selon les termes de la licence Creative Commons\n",
    "« Attribution - Pas d’utilisation commerciale - Partage dans les mêmes conditions 4.0\n",
    "International » .\n",
    "\n",
    "<div style=\"text-align: center; margin-top:10px;\">\n",
    "    <img src=\"by-nc-sa.svg\">\n",
    "</div>\n",
    "\n",
    "Différents formats de ce document sont disponibles sur github à l'adresse [https://github.com/bc-writing/python-toolbox](https://github.com/bc-writing/python-toolbox)."
   ]
  },
  {
   "cell_type": "markdown",
   "metadata": {},
   "source": [
    "Généralités\n",
    "-----------\n",
    "\n",
    "1. [Programmer, c'est quoi ?](content/general/programming.ipynb)\n",
    "1. [Le choix de Python](content/general/python_choice.ipynb)\n",
    "1. [Installer Python 3](content/general/python_env.ipynb)\n",
    "1. [Utilisez des algorithmes !](content/general/algorithmic.ipynb)"
   ]
  },
  {
   "cell_type": "markdown",
   "metadata": {},
   "source": [
    "Python 3, comment fait-on ?\n",
    "---------------------------\n",
    "\n",
    "1. [Comment taper et utiliser un programme écrit en Python](content/howto/use_python.ipynb)\n",
    "1. [Commenter, c'est important](content/howto/comment.ipynb)\n",
    "1. [Communiquer basiquement avec l'utilisateur](content/howto/ui_basic.ipynb)\n",
    "1. [Textes](content/howto/string.ipynb)\n",
    "1. [Les nombres - Différents types](content/howto/number_type.ipynb)\n",
    "1. [Les nombres - Comment les manipuler](content/howto/number_manipulation.ipynb)\n",
    "1. [Les booléens `VRAI` et `FAUX`](content/howto/bool.ipynb)\n",
    "1. [Comparer c'est tester](content/howto/compare.ipynb)\n",
    "1. [Agir si quelque chose est vérifiée](content/howto/branch.ipynb)\n",
    "1. [Répéter des actions](content/howto/loop.ipynb)\n",
    "1. [Listes](content/howto/list.ipynb)\n",
    "1. [Ensembles](content/howto/set.ipynb)\n",
    "1. [Dictionnaires - Associer des clés à des valeurs](content/howto/dict.ipynb)\n",
    "1. [Parcourir les textes, les listes, les ensembles et les dictionnaires](content/howto/browse.ipynb)\n",
    "1. [Tests liés aux textes, aux listes, aux ensembles et aux dictionnaires](content/howto/testing_text_and_co.ipynb)\n",
    "1. [Organiser son code - Les fonctions](content/howto/function.ipynb)"
   ]
  }
 ],
 "metadata": {
  "kernelspec": {
   "display_name": "Python 3",
   "language": "python",
   "name": "python3"
  },
  "language_info": {
   "codemirror_mode": {
    "name": "ipython",
    "version": 3
   },
   "file_extension": ".py",
   "mimetype": "text/x-python",
   "name": "python",
   "nbconvert_exporter": "python",
   "pygments_lexer": "ipython3",
   "version": "3.7.4"
  }
 },
 "nbformat": 4,
 "nbformat_minor": 1
}
