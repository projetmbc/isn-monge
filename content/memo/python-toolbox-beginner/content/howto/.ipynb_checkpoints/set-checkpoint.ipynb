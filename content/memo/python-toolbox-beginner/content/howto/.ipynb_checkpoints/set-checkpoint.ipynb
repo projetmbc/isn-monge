{
 "cells": [
  {
   "cell_type": "markdown",
   "metadata": {},
   "source": [
    "Ensembles\n",
    "==========\n",
    "\n",
    "Des ensembles presque comme en mathématiques\n",
    "--------------------------------------------\n",
    "\n",
    "Un ensemble à la sauce Python se comporte pratiquement comme un ensemble fini. Voyons pour commencer comment définir directement de tels ensembles. Notez au passage que les répétitions dans la liste disparaissent dans l'ensemble car un ensemble ne contient que des éléments \"uniques\". Sachez que les éléments d'un ensemble peuvent être de n'importe quel type."
   ]
  },
  {
   "cell_type": "code",
   "execution_count": 1,
   "metadata": {},
   "outputs": [
    {
     "name": "stdout",
     "output_type": "stream",
     "text": [
      "ensemble_vide = set()\n",
      "Type de ensemble_vide : <class 'set'>\n",
      "ensemble_via_une_liste = {'a', 'b', 'c'}\n",
      "Type de ensemble_via_une_liste : <class 'set'>\n"
     ]
    }
   ],
   "source": [
    "ensemble_vide = set()\n",
    "print(\"ensemble_vide =\", ensemble_vide)\n",
    "print(\"Type de ensemble_vide :\", type(ensemble_vide))\n",
    "\n",
    "ensemble_via_une_liste  = set([\"a\", \"a\", \"a\", \"a\", \"b\", \"b\", \"b\", \"c\"])\n",
    "print(\"ensemble_via_une_liste =\", ensemble_via_une_liste)\n",
    "print(\"Type de ensemble_via_une_liste :\", type(ensemble_via_une_liste))"
   ]
  },
  {
   "cell_type": "markdown",
   "metadata": {},
   "source": [
    "Ajouter un nouvel élément à un ensemble\n",
    "---------------------------------------\n",
    "\n",
    "Un ensemble est une instance de la classe `set` qui possède une méthode `add` permettant d'ajouter un nouvel élément. Voici comment utiliser cette dernière."
   ]
  },
  {
   "cell_type": "code",
   "execution_count": 2,
   "metadata": {},
   "outputs": [
    {
     "name": "stdout",
     "output_type": "stream",
     "text": [
      "Un ensemble vide au départ : set()\n",
      "Ensemble rempli maintenant : {'nouvel élément', 'autre ajout'}\n"
     ]
    }
   ],
   "source": [
    "notre_ensemble = set()\n",
    "\n",
    "print(\"Un ensemble vide au départ :\", notre_ensemble)\n",
    "\n",
    "notre_ensemble.add(\"nouvel élément\")\n",
    "notre_ensemble.add(\"autre ajout\")\n",
    "\n",
    "# Ce qui suit ne doit rien modifier.\n",
    "notre_ensemble.add(\"nouvel élément\")\n",
    "notre_ensemble.add(\"nouvel élément\")\n",
    "notre_ensemble.add(\"nouvel élément\")\n",
    "notre_ensemble.add(\"autre ajout\")\n",
    "notre_ensemble.add(\"autre ajout\")\n",
    "\n",
    "print(\"Ensemble rempli maintenant :\", notre_ensemble)"
   ]
  },
  {
   "cell_type": "markdown",
   "metadata": {},
   "source": [
    "Créer un ensemble à l'aide de boucles\n",
    "-------------------------------------\n",
    "\n",
    "La méthode `add` vu juste avant peut être utilisée dans une boucle `for` pour construire un ensemble. Voici un exemple un peu mathématique mais pas trop. On construit l'ensemble des naturels obtenus en ne gardant que les deux derniers chiffres du carré d'un naturel. Par exemple, $11^2 = 121$ et $10^2 = 100$  donneront respectivement $21$ et $0$."
   ]
  },
  {
   "cell_type": "code",
   "execution_count": 3,
   "metadata": {},
   "outputs": [
    {
     "name": "stdout",
     "output_type": "stream",
     "text": [
      "{0, 1, 4, 9, 16, 21, 24, 25, 29, 36, 41, 44, 49, 56, 61, 64, 69, 76, 81, 84, 89, 96}\n"
     ]
    }
   ],
   "source": [
    "# Code non optimal !\n",
    "ens_deux_derniers_chiffres = set()\n",
    "\n",
    "for i in range(10**6):\n",
    "    carre = i**2\n",
    "    deux_derniers_chiffres = carre%100\n",
    "    \n",
    "    ens_deux_derniers_chiffres.add(deux_derniers_chiffres)\n",
    "\n",
    "print(ens_deux_derniers_chiffres)"
   ]
  },
  {
   "cell_type": "markdown",
   "metadata": {},
   "source": [
    "Réunion et intersection\n",
    "-----------------------\n",
    "\n",
    "L'intérêt du type `set` n'est pas juste d'éliminer les répétitions. Il permet notamment de faire des opérations ensemblistes présentées ci-après."
   ]
  },
  {
   "cell_type": "code",
   "execution_count": 10,
   "metadata": {},
   "outputs": [
    {
     "name": "stdout",
     "output_type": "stream",
     "text": [
      "reunion = {1, 2, 3, 100, 10, 'c', 'a', 'b'}\n",
      "intersection = {'a', 'b', 1}\n"
     ]
    }
   ],
   "source": [
    "ens_1 = set([\"a\", \"b\", \"c\", 1, 2, 3])\n",
    "ens_2 = set([\"a\", \"b\", 1, 10, 100])\n",
    "\n",
    "reunion = ens_1.union(ens_2)\n",
    "intersection = ens_1.intersection(ens_2)\n",
    "\n",
    "print(\"reunion =\", reunion)\n",
    "print(\"intersection =\", intersection)"
   ]
  },
  {
   "cell_type": "markdown",
   "metadata": {},
   "source": [
    "A la place des méthodes `union` et `intersection`, vous pouvez utiliser les opérateurs spéciaux `|` et `&` comme suit."
   ]
  },
  {
   "cell_type": "code",
   "execution_count": 11,
   "metadata": {},
   "outputs": [
    {
     "name": "stdout",
     "output_type": "stream",
     "text": [
      "reunion = {1, 2, 3, 100, 10, 'c', 'a', 'b'}\n",
      "intersection = {'a', 'b', 1}\n"
     ]
    }
   ],
   "source": [
    "ens_1 = set([\"a\", \"b\", \"c\", 1, 2, 3])\n",
    "ens_2 = set([\"a\", \"b\", 1, 10, 100])\n",
    "\n",
    "reunion = ens_1 | ens_2\n",
    "intersection = ens_1 & ens_2\n",
    "\n",
    "print(\"reunion =\", reunion)\n",
    "print(\"intersection =\", intersection)"
   ]
  },
  {
   "cell_type": "markdown",
   "metadata": {},
   "source": [
    "Soustraire d'un ensemble les éléments d'un autre\n",
    "------------------------------------------------\n",
    "\n",
    "La méthode à employer est donnée dans le titre comme le montre le code suivant."
   ]
  },
  {
   "cell_type": "code",
   "execution_count": 14,
   "metadata": {},
   "outputs": [
    {
     "name": "stdout",
     "output_type": "stream",
     "text": [
      "diff_1_moins_2 = {2, 3, 'c'}\n",
      "diff_2_moins_1 = {10, 100}\n"
     ]
    }
   ],
   "source": [
    "ens_1 = set([\"a\", \"b\", \"c\", 1, 2, 3])\n",
    "ens_2 = set([\"a\", \"b\", 1, 10, 100])\n",
    "\n",
    "diff_1_moins_2 = ens_1 - ens_2\n",
    "diff_2_moins_1 = ens_2 - ens_1\n",
    "\n",
    "print(\"diff_1_moins_2 =\", diff_1_moins_2)\n",
    "print(\"diff_2_moins_1 =\", diff_2_moins_1)"
   ]
  },
  {
   "cell_type": "markdown",
   "metadata": {},
   "source": [
    "Copier un ensemble, attention danger !\n",
    "--------------------------------------\n",
    "\n",
    "Tout comme avec les listes, Python évite autant que possible de copier des ensembles. Ceci permet de comprendre le résulat ci-dessous où les variables `ensemble_ancien` et `ensemble_nouveau` pointent vers le même emplacement mémoire."
   ]
  },
  {
   "cell_type": "code",
   "execution_count": 6,
   "metadata": {},
   "outputs": [
    {
     "name": "stdout",
     "output_type": "stream",
     "text": [
      "ensemble_ancien  = {1, 2, 3, 4, 5}\n",
      "ensemble_nouveau = {1, 2, 3, 4, 5}\n"
     ]
    }
   ],
   "source": [
    "ensemble_ancien  = set([1, 2, 3])\n",
    "ensemble_nouveau = ensemble_ancien\n",
    "\n",
    "ensemble_nouveau.add(4)\n",
    "ensemble_nouveau.add(5)\n",
    "\n",
    "print(\"ensemble_ancien  =\", ensemble_ancien)\n",
    "print(\"ensemble_nouveau =\", ensemble_nouveau)"
   ]
  },
  {
   "cell_type": "markdown",
   "metadata": {},
   "source": [
    "Pour copier un ensemble pour avoir deux versions différentes en mémoire, il suffit de faire appel au module spécialisé `copy`."
   ]
  },
  {
   "cell_type": "code",
   "execution_count": 7,
   "metadata": {},
   "outputs": [
    {
     "name": "stdout",
     "output_type": "stream",
     "text": [
      "ensemble_ancien  = {1, 2, 3}\n",
      "ensemble_nouveau = {1, 2, 3, 4, 5}\n"
     ]
    }
   ],
   "source": [
    "from copy import deepcopy\n",
    "\n",
    "ensemble_ancien  = set([1, 2, 3])\n",
    "ensemble_nouveau = deepcopy(ensemble_ancien)\n",
    "\n",
    "ensemble_nouveau.add(4)\n",
    "ensemble_nouveau.add(5)\n",
    "\n",
    "print(\"ensemble_ancien  =\", ensemble_ancien)\n",
    "print(\"ensemble_nouveau =\", ensemble_nouveau)"
   ]
  }
 ],
 "metadata": {
  "kernelspec": {
   "display_name": "Python 3",
   "language": "python",
   "name": "python3"
  },
  "language_info": {
   "codemirror_mode": {
    "name": "ipython",
    "version": 3
   },
   "file_extension": ".py",
   "mimetype": "text/x-python",
   "name": "python",
   "nbconvert_exporter": "python",
   "pygments_lexer": "ipython3",
   "version": "3.6.6"
  }
 },
 "nbformat": 4,
 "nbformat_minor": 1
}
