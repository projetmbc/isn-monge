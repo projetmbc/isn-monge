{
 "cells": [
  {
   "cell_type": "markdown",
   "metadata": {},
   "source": [
    "Dictionnaires - Associer des clés à des valeurs\n",
    "===============================================\n",
    "\n",
    "Un dictionnaire Python, c'est quoi !\n",
    "------------------------------------\n",
    "\n",
    "Un dictionnaire Python sert à associer une clé à une valeur. Voici un exemple d'utilisation."
   ]
  },
  {
   "cell_type": "code",
   "execution_count": 4,
   "metadata": {},
   "outputs": [
    {
     "name": "stdout",
     "output_type": "stream",
     "text": [
      "numero_tel = {'James Bond': '007', 'M. Arignan': '13.14.09.1515'}\n",
      "Type de numero_tel : <class 'dict'>\n",
      "Le numéro de James Bond : 007\n"
     ]
    }
   ],
   "source": [
    "numero_tel = {\"James Bond\": '007', \"M. Arignan\": '13.14.09.1515'}\n",
    "\n",
    "print(\"numero_tel =\", numero_tel)\n",
    "print(\"Type de numero_tel :\", type(numero_tel))\n",
    "\n",
    "print(\"Le numéro de James Bond :\", numero_tel[\"James Bond\"])"
   ]
  },
  {
   "cell_type": "markdown",
   "metadata": {},
   "source": [
    "**Attention !** Les clés doivent avoir des types \"simples\" comme le montre l'exemple suivant. Les chaînes de caractères, les nombres et les booléens ont des types \"simples\"."
   ]
  },
  {
   "cell_type": "code",
   "execution_count": 6,
   "metadata": {},
   "outputs": [
    {
     "ename": "TypeError",
     "evalue": "unhashable type: 'list'",
     "output_type": "error",
     "traceback": [
      "\u001b[1;31m---------------------------------------------------------------------------\u001b[0m\n\u001b[1;31mTypeError\u001b[0m                                 Traceback (most recent call last)",
      "\u001b[1;32m<ipython-input-6-4012efa7f409>\u001b[0m in \u001b[0;36m<module>\u001b[1;34m()\u001b[0m\n\u001b[1;32m----> 1\u001b[1;33m \u001b[0mprobleme\u001b[0m \u001b[1;33m=\u001b[0m \u001b[1;33m{\u001b[0m\u001b[1;34m\"ok\"\u001b[0m\u001b[1;33m:\u001b[0m \u001b[1;34m'pas ok ensuite'\u001b[0m\u001b[1;33m,\u001b[0m \u001b[1;33m[\u001b[0m\u001b[1;36m0\u001b[0m\u001b[1;33m,\u001b[0m \u001b[1;36m1\u001b[0m\u001b[1;33m]\u001b[0m\u001b[1;33m:\u001b[0m \u001b[1;36m4\u001b[0m\u001b[1;33m}\u001b[0m\u001b[1;33m\u001b[0m\u001b[0m\n\u001b[0m",
      "\u001b[1;31mTypeError\u001b[0m: unhashable type: 'list'"
     ]
    }
   ],
   "source": [
    "probleme = {\"ok\": 'pas ok ensuite', [0, 1]: 4}"
   ]
  },
  {
   "cell_type": "markdown",
   "metadata": {},
   "source": [
    "Modifier la valeur d'une clé\n",
    "----------------------------\n",
    "\n",
    "Tout se fait très facilement grâce aux crochets. Voici un exemple."
   ]
  },
  {
   "cell_type": "code",
   "execution_count": 8,
   "metadata": {},
   "outputs": [
    {
     "name": "stdout",
     "output_type": "stream",
     "text": [
      "Avant, numero_tel = {'James Bond': '007', 'M. Arignan': '13.14.09.1515'}\n",
      "Après, numero_tel = {'James Bond': '***', 'M. Arignan': '13.14.09.1515'}\n"
     ]
    }
   ],
   "source": [
    "numero_tel = {\"James Bond\": '007', \"M. Arignan\": '13.14.09.1515'}\n",
    "\n",
    "print(\"Avant, numero_tel =\", numero_tel)\n",
    "\n",
    "numero_tel[\"James Bond\"] = \"***\"\n",
    "\n",
    "print(\"Après, numero_tel =\", numero_tel)"
   ]
  },
  {
   "cell_type": "markdown",
   "metadata": {},
   "source": [
    "Ajouter de nouvelles clés\n",
    "----------------------------\n",
    "\n",
    "Tout se fait de nouveau via l'utilisation de crochets comme le montre l'exemple suivant"
   ]
  },
  {
   "cell_type": "code",
   "execution_count": 7,
   "metadata": {},
   "outputs": [
    {
     "name": "stdout",
     "output_type": "stream",
     "text": [
      "Un dictionnaire vide au départ : {}\n",
      "Dictionnaire rempli maintenant : {'James Bond': '007', 'M. Arignan': '13.14.09.1515'}\n"
     ]
    }
   ],
   "source": [
    "notre_dico = {}\n",
    "\n",
    "print(\"Un dictionnaire vide au départ :\", notre_dico)\n",
    "\n",
    "notre_dico[\"James Bond\"] = '007'\n",
    "notre_dico[\"M. Arignan\"] = '13.14.09.1515'\n",
    "\n",
    "print(\"Dictionnaire rempli maintenant :\", notre_dico)"
   ]
  },
  {
   "cell_type": "markdown",
   "metadata": {},
   "source": [
    "Copier un dictionnaire, attention danger !\n",
    "------------------------------------------\n",
    "\n",
    "Ci-dessous les variables `dico_ancien` et `dico_nouveau` pointent vers le même emplacement mémoire car Python cherche à limiter les copies des objets \"mémophages\". Ceci permet de comprendre ce qu'il se passe."
   ]
  },
  {
   "cell_type": "code",
   "execution_count": 3,
   "metadata": {},
   "outputs": [
    {
     "name": "stdout",
     "output_type": "stream",
     "text": [
      "dico_ancien  = {'un': 1, 'trois': 3, 'deux': 2, 'cinq': 5, 'quatre': 4}\n",
      "dico_nouveau = {'un': 1, 'trois': 3, 'deux': 2, 'cinq': 5, 'quatre': 4}\n"
     ]
    }
   ],
   "source": [
    "dico_ancien  = {\"un\": 1, \"deux\": 2, \"trois\": 3}\n",
    "dico_nouveau = dico_ancien\n",
    "\n",
    "dico_nouveau[\"quatre\"] = 4\n",
    "dico_nouveau[\"cinq\"]   = 5 \n",
    "\n",
    "print(\"dico_ancien  =\", dico_ancien)\n",
    "print(\"dico_nouveau =\", dico_nouveau)"
   ]
  },
  {
   "cell_type": "markdown",
   "metadata": {},
   "source": [
    "Pour copier un dictionnaire afin d'avoir deux versions différentes en mémoire, il suffit de faire appel au module spécialisé `copy`."
   ]
  },
  {
   "cell_type": "code",
   "execution_count": 4,
   "metadata": {},
   "outputs": [
    {
     "name": "stdout",
     "output_type": "stream",
     "text": [
      "dico_ancien  = {'un': 1, 'trois': 3, 'deux': 2}\n",
      "dico_nouveau = {'un': 1, 'trois': 3, 'deux': 2, 'cinq': 5, 'quatre': 4}\n"
     ]
    }
   ],
   "source": [
    "from copy import deepcopy\n",
    "\n",
    "dico_ancien  = {\"un\": 1, \"deux\": 2, \"trois\": 3}\n",
    "dico_nouveau = deepcopy(dico_ancien)\n",
    "\n",
    "dico_nouveau[\"quatre\"] = 4\n",
    "dico_nouveau[\"cinq\"]   = 5 \n",
    "\n",
    "print(\"dico_ancien  =\", dico_ancien)\n",
    "print(\"dico_nouveau =\", dico_nouveau)"
   ]
  }
 ],
 "metadata": {
  "kernelspec": {
   "display_name": "Python 3",
   "language": "python",
   "name": "python3"
  },
  "language_info": {
   "codemirror_mode": {
    "name": "ipython",
    "version": 3
   },
   "file_extension": ".py",
   "mimetype": "text/x-python",
   "name": "python",
   "nbconvert_exporter": "python",
   "pygments_lexer": "ipython3",
   "version": "3.6.6"
  }
 },
 "nbformat": 4,
 "nbformat_minor": 1
}
