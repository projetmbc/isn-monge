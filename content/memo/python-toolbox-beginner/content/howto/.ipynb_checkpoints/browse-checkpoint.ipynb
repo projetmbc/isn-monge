{
 "cells": [
  {
   "cell_type": "markdown",
   "metadata": {},
   "source": [
    "Parcourir les textes, les listes, les ensembles et les dictionnaires\n",
    "====================================================================\n",
    "\n",
    "Parcourir des textes, des listes et des ensembles\n",
    "-------------------------------------------------\n",
    "\n",
    "Ces trois types de variable se parcourent en utilisant le même type de syntaxe. Voici un premier exemple d'utilisation via `for ... in ...` . On fera attention au cas d'un ensemble Python : pour ce type de variables, il n'y a pas un ordre prévisible de renvoi des éléments d'un ensemble."
   ]
  },
  {
   "cell_type": "code",
   "execution_count": 13,
   "metadata": {},
   "outputs": [
    {
     "name": "stdout",
     "output_type": "stream",
     "text": [
      "Cas d'un texte\n",
      "--------------\n",
      "U\n",
      "n\n",
      " \n",
      "b\n",
      "o\n",
      "n\n",
      " \n",
      "d\n",
      "é\n",
      "p\n",
      "a\n",
      "r\n",
      "t\n",
      "\n",
      "Cas d'une liste\n",
      "---------------\n",
      "1\n",
      "2\n",
      "3\n",
      "4\n",
      "5\n",
      "\n",
      "Cas d'un ensemble\n",
      "-----------------\n",
      "1\n",
      "2\n",
      "3\n"
     ]
    }
   ],
   "source": [
    "# TEXTE\n",
    "print(\"Cas d'un texte\")\n",
    "print(\"--------------\")\n",
    "\n",
    "un_texte = \"Un bon départ\"\n",
    "\n",
    "for caractere in un_texte:\n",
    "    print(caractere)\n",
    "    \n",
    "\n",
    "# LISTE\n",
    "print(\"\")\n",
    "print(\"Cas d'une liste\")\n",
    "print(\"---------------\")\n",
    "\n",
    "une_liste = [1, 2, 3, 4, 5]\n",
    "\n",
    "for elt in une_liste:\n",
    "    print(elt)\n",
    "\n",
    "    \n",
    "# ENSEMBLE\n",
    "print(\"\")\n",
    "print(\"Cas d'un ensemble\")\n",
    "print(\"-----------------\")\n",
    "\n",
    "un_ensemble = set([3, 2, 1, 3, 2, 1, 3, 2, 1])\n",
    "\n",
    "for elt in un_ensemble:\n",
    "    print(elt)"
   ]
  },
  {
   "cell_type": "markdown",
   "metadata": {},
   "source": [
    "Ceci donne un moyen simple pour transformer un texte en une liste de lettres respectant l'ordre d'écriture du texte. Pas convaincu(e) ? Voici comment faire."
   ]
  },
  {
   "cell_type": "code",
   "execution_count": 18,
   "metadata": {},
   "outputs": [
    {
     "name": "stdout",
     "output_type": "stream",
     "text": [
      "['T', 'r', 'a', 'n', 's', 'f', 'o', 'r', 'm', 'e', 'z', ' ', 'm', 'o', 'i', ' ', '!']\n"
     ]
    }
   ],
   "source": [
    "texte = \"Transformez moi !\"\n",
    "\n",
    "liste_caracteres = [caractere for caractere in texte]\n",
    "\n",
    "print(liste_caracteres)"
   ]
  },
  {
   "cell_type": "markdown",
   "metadata": {},
   "source": [
    "**Utile :** le code suivant fonctionne car les textes, comme les listes, peuvent être parcourus via `for ... in ...` ."
   ]
  },
  {
   "cell_type": "code",
   "execution_count": 21,
   "metadata": {},
   "outputs": [
    {
     "name": "stdout",
     "output_type": "stream",
     "text": [
      "{'s', ' ', 'a', 'i', 'u', 'c', 't', 'è', 'é', 'l', 'e', 'r'}\n"
     ]
    }
   ],
   "source": [
    "texte = \"caractères utilisées\"\n",
    "\n",
    "caracteres_utilises = set(texte)\n",
    "\n",
    "print(caracteres_utilises)"
   ]
  },
  {
   "cell_type": "markdown",
   "metadata": {},
   "source": [
    "Parcourir un texte, une liste ou un ensemble en \"récupérant la position\"\n",
    "------------------------------------------------------------------------\n",
    "\n",
    "Il peut être utile de récupérer à la fois une lettre ou un élément avec sa position. Dans ce cas, on utilisera `for ... in enumerate(...)` comme le montre le code qui suit."
   ]
  },
  {
   "cell_type": "code",
   "execution_count": 12,
   "metadata": {},
   "outputs": [
    {
     "name": "stdout",
     "output_type": "stream",
     "text": [
      "Cas d'un texte\n",
      "--------------\n",
      "0 : U\n",
      "1 : n\n",
      "2 :  \n",
      "3 : b\n",
      "4 : o\n",
      "5 : n\n",
      "6 :  \n",
      "7 : d\n",
      "8 : é\n",
      "9 : p\n",
      "10 : a\n",
      "11 : r\n",
      "12 : t\n",
      "\n",
      "Cas d'une liste\n",
      "---------------\n",
      "0 : 1\n",
      "1 : 2\n",
      "2 : 3\n",
      "3 : 4\n",
      "4 : 5\n",
      "\n",
      "Cas d'un ensemble\n",
      "-----------------\n",
      "0 : 1\n",
      "1 : 2\n",
      "2 : 3\n"
     ]
    }
   ],
   "source": [
    "# TEXTE\n",
    "print(\"Cas d'un texte\")\n",
    "print(\"--------------\")\n",
    "\n",
    "un_texte = \"Un bon départ\"\n",
    "\n",
    "for position, lettre in enumerate(un_texte):\n",
    "    print(position, \":\", lettre)\n",
    "    \n",
    "\n",
    "# LISTE\n",
    "print(\"\")\n",
    "print(\"Cas d'une liste\")\n",
    "print(\"---------------\")\n",
    "\n",
    "une_liste = [1, 2, 3, 4, 5]\n",
    "\n",
    "for position, elt in enumerate(une_liste):\n",
    "    print(position, \":\", elt)\n",
    "\n",
    "    \n",
    "# ENSEMBLE\n",
    "print(\"\")\n",
    "print(\"Cas d'un ensemble\")\n",
    "print(\"-----------------\")\n",
    "\n",
    "un_ensemble = set([3, 2, 1, 3, 2, 1, 3, 2, 1])\n",
    "\n",
    "for position, elt in enumerate(un_ensemble):\n",
    "    print(position, \":\", elt)"
   ]
  },
  {
   "cell_type": "markdown",
   "metadata": {},
   "source": [
    "Parcourir un dictionnaire\n",
    "-------------------------\n",
    "\n",
    "Le parcours des dictionnaires peut se faire de deux façons possibles présentées dans l'exemple ci-après. Tout comme pour les ensembles, il n'y a pas d'ordre prévisible de renvoi des clés."
   ]
  },
  {
   "cell_type": "code",
   "execution_count": 22,
   "metadata": {},
   "outputs": [
    {
     "name": "stdout",
     "output_type": "stream",
     "text": [
      "Méthode 1\n",
      "---------\n",
      "0 s'écrit zéro .\n",
      "1 s'écrit un .\n",
      "2 s'écrit deux .\n",
      "\n",
      "Méthode 2\n",
      "---------\n",
      "0 s'écrit zéro .\n",
      "1 s'écrit un .\n",
      "2 s'écrit deux .\n"
     ]
    }
   ],
   "source": [
    "un_dico = {0: \"zéro\", 1: \"un\", 2: \"deux\"}\n",
    "\n",
    "print(\"Méthode 1\")\n",
    "print(\"---------\")\n",
    "\n",
    "for cle in un_dico:\n",
    "    print(cle, \"s'écrit\", un_dico[cle],\".\")\n",
    "    \n",
    "\n",
    "print(\"\")\n",
    "print(\"Méthode 2\")\n",
    "print(\"---------\")\n",
    "\n",
    "for cle, valeur in un_dico.items():\n",
    "    print(cle, \"s'écrit\", valeur,\".\")"
   ]
  }
 ],
 "metadata": {
  "kernelspec": {
   "display_name": "Python 3",
   "language": "python",
   "name": "python3"
  },
  "language_info": {
   "codemirror_mode": {
    "name": "ipython",
    "version": 3
   },
   "file_extension": ".py",
   "mimetype": "text/x-python",
   "name": "python",
   "nbconvert_exporter": "python",
   "pygments_lexer": "ipython3",
   "version": "3.6.6"
  }
 },
 "nbformat": 4,
 "nbformat_minor": 1
}
