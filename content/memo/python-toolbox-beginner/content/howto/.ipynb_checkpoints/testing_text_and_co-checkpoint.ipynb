{
 "cells": [
  {
   "cell_type": "markdown",
   "metadata": {},
   "source": [
    "Tests liés aux textes, aux listes, aux ensembles et aux dictionnaires\n",
    "=====================================================================\n",
    "\n",
    "Cas des textes\n",
    "--------------\n",
    "\n",
    "Pour tester la présence d'un texte dans un autre, on procède comme suit où le mot \"in\" signifie \"dans\" en anglais."
   ]
  },
  {
   "cell_type": "code",
   "execution_count": 12,
   "metadata": {},
   "outputs": [
    {
     "name": "stdout",
     "output_type": "stream",
     "text": [
      "\"a\" in texte vaut True\n",
      "\"z\" in texte vaut False\n",
      "\"cas\" in texte vaut True\n",
      "\"test\" in texte vaut False\n"
     ]
    }
   ],
   "source": [
    "texte = \"Testons un peu le cas d'un texte.\"\n",
    "\n",
    "print('\"a\" in texte vaut', \"a\" in texte)\n",
    "print('\"z\" in texte vaut', \"z\" in texte)\n",
    "\n",
    "print('\"cas\" in texte vaut', \"cas\" in texte)\n",
    "print('\"test\" in texte vaut', \"test\" in texte)"
   ]
  },
  {
   "cell_type": "markdown",
   "metadata": {},
   "source": [
    "Cas des listes\n",
    "--------------\n",
    "\n",
    "Ce qui suit est simple à comprendre car très similaire à ce qui a été proposé pour les chaînes de caractères."
   ]
  },
  {
   "cell_type": "code",
   "execution_count": 10,
   "metadata": {},
   "outputs": [
    {
     "name": "stdout",
     "output_type": "stream",
     "text": [
      "2 est-il dans la liste ? True\n",
      "\"2\" est-il dans la liste ? False\n",
      "17 est-il dans la liste ? False\n"
     ]
    }
   ],
   "source": [
    "premiers = [2, 3, 5, 7, 11, 13]\n",
    "\n",
    "print(\"2 est-il dans la liste ?  \", 2 in premiers)\n",
    "print('\"2\" est-il dans la liste ?', \"2\" in premiers)\n",
    "print(\"17 est-il dans la liste ? \", 17 in premiers)"
   ]
  },
  {
   "cell_type": "markdown",
   "metadata": {},
   "source": [
    "Cas des ensembles\n",
    "-----------------\n",
    "\n",
    "Pour commencer, rien de nouveau par rapport aux sections précédentes."
   ]
  },
  {
   "cell_type": "code",
   "execution_count": 13,
   "metadata": {},
   "outputs": [
    {
     "name": "stdout",
     "output_type": "stream",
     "text": [
      "2 est-il dans notre ensemble ?   True\n",
      "\"2\" est-il dans notre ensemble ? False\n",
      "17 est-il dans notre ensemble ?  False\n"
     ]
    }
   ],
   "source": [
    "premiers = set([2, 3, 5, 7, 11, 13])\n",
    "\n",
    "print(\"2 est-il dans notre ensemble ?  \", 2 in premiers)\n",
    "print('\"2\" est-il dans notre ensemble ?', \"2\" in premiers)\n",
    "print(\"17 est-il dans notre ensemble ? \", 17 in premiers)"
   ]
  },
  {
   "cell_type": "markdown",
   "metadata": {},
   "source": [
    "On peut aussi comparer des ensembles entre eux.\n",
    "Ci-dessous, nous avons juste montré l'emploi de `... <= ...` pour \"est inclus dans ou égal à\".\n",
    "Il est bien entendu aussi possible d'utiliser `... < ...` pour tester une inclusion stricte, ainsi que les écritures symétriques `... >= ...` et `... > ...` ."
   ]
  },
  {
   "cell_type": "code",
   "execution_count": 8,
   "metadata": {},
   "outputs": [
    {
     "name": "stdout",
     "output_type": "stream",
     "text": [
      "ens_2 est-il inclus dans ens_1 ? True\n",
      "ens_3 est-il inclus dans ens_1 ? False\n"
     ]
    }
   ],
   "source": [
    "ens_1 = set([1, 2, 3, 4])\n",
    "ens_2 = set([2, 4])\n",
    "ens_3 = set([1, 2, 7])\n",
    "\n",
    "print(\"ens_2 est-il inclus dans ens_1 ?\", ens_2 <= ens_1)\n",
    "print(\"ens_3 est-il inclus dans ens_1 ?\", ens_3 <= ens_1)"
   ]
  },
  {
   "cell_type": "markdown",
   "metadata": {},
   "source": [
    "Cas des dictionnaires\n",
    "---------------------\n",
    "\n",
    "Avec les dictionnaires, on peut teste s'ils \"contiennent\" une clé donnée."
   ]
  },
  {
   "cell_type": "code",
   "execution_count": 9,
   "metadata": {},
   "outputs": [
    {
     "name": "stdout",
     "output_type": "stream",
     "text": [
      "dico contient-il la clé \"inspiration\" ? True\n",
      "dico contient-il la clé \"erreur\" ? False\n"
     ]
    }
   ],
   "source": [
    "dico = {\"inspiration\": 0, \"automatisme\": 10**80}\n",
    "\n",
    "print('dico contient-il la clé \"inspiration\" ?', \"inspiration\" in dico)\n",
    "print('dico contient-il la clé \"erreur\" ?     ', \"erreur\" in dico)"
   ]
  }
 ],
 "metadata": {
  "kernelspec": {
   "display_name": "Python 3",
   "language": "python",
   "name": "python3"
  },
  "language_info": {
   "codemirror_mode": {
    "name": "ipython",
    "version": 3
   },
   "file_extension": ".py",
   "mimetype": "text/x-python",
   "name": "python",
   "nbconvert_exporter": "python",
   "pygments_lexer": "ipython3",
   "version": "3.6.6"
  }
 },
 "nbformat": 4,
 "nbformat_minor": 1
}
