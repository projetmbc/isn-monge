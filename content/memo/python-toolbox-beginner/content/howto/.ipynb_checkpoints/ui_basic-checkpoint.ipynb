{
 "cells": [
  {
   "cell_type": "markdown",
   "metadata": {},
   "source": [
    "Communiquer basiquement avec l'utilisateur\n",
    "==========================================\n",
    "\n",
    "Une façon évoluée de communiquer est d'utiliser une interface graphique comme celle de IPython par exemple. Ceci demande pas mal de travail et n'est donc pas faisable quand on débute. On peut aussi simplement passer par l'invite de commande, ou terminal. C'est ce qui est présenté ici.\n",
    "\n",
    "\n",
    "Afficher du texte\n",
    "-----------------\n",
    "\n",
    "Pour afficher par exemple le texte \"Nous ne dirons pas bonjour au monde car il n'est pas là dans son ensemble.\" sans les guillemets, il suffit de faire comme suit où la fonction `print` proposée par Python signifie \"imprimer\" (il faut se souvenir que les premiers ordinateurs disposaient juste d'une imprimante pour retourner des résultats)."
   ]
  },
  {
   "cell_type": "code",
   "execution_count": 1,
   "metadata": {
    "slideshow": {
     "slide_type": "slide"
    }
   },
   "outputs": [
    {
     "name": "stdout",
     "output_type": "stream",
     "text": [
      "Nous ne dirons pas bonjour au monde car il n'est pas complètement là aujourd'hui.\n"
     ]
    }
   ],
   "source": [
    "print(\"Nous ne dirons pas bonjour au monde car il n'est pas complètement là aujourd'hui.\")"
   ]
  },
  {
   "cell_type": "markdown",
   "metadata": {},
   "source": [
    "Récupérer du texte demandé à l'utilisateur dans une invite de commandes ou un terminal\n",
    "--------------------------------------------------------------------------------------\n",
    "\n",
    "La fonction `input` sert à poser une question à l'utilisateur pour récupérer une réponse de type texte."
   ]
  },
  {
   "cell_type": "code",
   "execution_count": 2,
   "metadata": {},
   "outputs": [
    {
     "name": "stdout",
     "output_type": "stream",
     "text": [
      "Taper un texte puis utilisez la touche [ENTREE]: Je ne sais que écrire...\n",
      "Votre texte : Je ne sais que écrire...\n"
     ]
    }
   ],
   "source": [
    "reponse = input(\"Taper un texte puis utilisez la touche [ENTREE]: \")\n",
    "\n",
    "print(\"Votre texte :\", reponse)"
   ]
  }
 ],
 "metadata": {
  "kernelspec": {
   "display_name": "Python 3",
   "language": "python",
   "name": "python3"
  },
  "language_info": {
   "codemirror_mode": {
    "name": "ipython",
    "version": 3
   },
   "file_extension": ".py",
   "mimetype": "text/x-python",
   "name": "python",
   "nbconvert_exporter": "python",
   "pygments_lexer": "ipython3",
   "version": "3.6.6"
  }
 },
 "nbformat": 4,
 "nbformat_minor": 1
}
