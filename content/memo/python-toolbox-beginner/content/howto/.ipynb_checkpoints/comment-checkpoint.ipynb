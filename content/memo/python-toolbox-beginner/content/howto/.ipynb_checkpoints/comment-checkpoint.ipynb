{
 "cells": [
  {
   "cell_type": "markdown",
   "metadata": {},
   "source": [
    "Commenter, c'est important\n",
    "==========================\n",
    "\n",
    "Python ne propose qu'un seul type de commentaires : il faut utiliser la caractère hash `#` en début de ligne avec éventuellement des espaces et/ou des tabulations le précédant. Le code suivant ne contenant aucune commande Python, il ne produira rien si l'on le lance."
   ]
  },
  {
   "cell_type": "code",
   "execution_count": 1,
   "metadata": {
    "slideshow": {
     "slide_type": "slide"
    }
   },
   "outputs": [],
   "source": [
    "# Je suis un commentaire\n",
    "         # Moi aussi\n",
    "    # Moi de même..."
   ]
  },
  {
   "cell_type": "markdown",
   "metadata": {},
   "source": [
    "Les commentaires sont importants dans un code pour lever des ambiguïtés ou expliquer des petits points techniques. Faites attention à ne pas les utiliser de façon excessive. Si vous commencez à commenter beaucoup votre code, il faudra vous poser deux questions.\n",
    "\n",
    "1. Mon commentaire est à but pédagogique. Dans ce cas pas de souci.\n",
    "\n",
    "1. Mon commentaire est indispensable pour comprendre ce que je fais. Dans ce cas, il faudra peut-être s'interroger sur la façon dont le code a été tapé, ou bien sur l'algorithme employé."
   ]
  }
 ],
 "metadata": {
  "kernelspec": {
   "display_name": "Python 3",
   "language": "python",
   "name": "python3"
  },
  "language_info": {
   "codemirror_mode": {
    "name": "ipython",
    "version": 3
   },
   "file_extension": ".py",
   "mimetype": "text/x-python",
   "name": "python",
   "nbconvert_exporter": "python",
   "pygments_lexer": "ipython3",
   "version": "3.6.6"
  }
 },
 "nbformat": 4,
 "nbformat_minor": 1
}
