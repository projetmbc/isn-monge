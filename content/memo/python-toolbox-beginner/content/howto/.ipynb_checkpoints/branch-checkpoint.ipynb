{
 "cells": [
  {
   "cell_type": "markdown",
   "metadata": {},
   "source": [
    "Agir si quelque chose est vérifiée\n",
    "==================================\n",
    "\n",
    "Si ... sinon si ... sinon ...\n",
    "-----------------------------\n",
    "\n",
    "Programmer c'est prendre des décisions en fonction d'un contexte donné. Dans l'exemple basique suivant, notez l'utilisation de l'indentation, ou décalage, de quatre espaces qui sert à indiquer le bloc d'instructions à faire en cas de test validé."
   ]
  },
  {
   "cell_type": "code",
   "execution_count": 3,
   "metadata": {
    "slideshow": {
     "slide_type": "slide"
    }
   },
   "outputs": [
    {
     "name": "stdout",
     "output_type": "stream",
     "text": [
      "Votre choix entre 1, 2, et 3 ? 7\n",
      "Choix inconnu\n"
     ]
    }
   ],
   "source": [
    "# Nous souhaitons une réponse de type naturel.\n",
    "choix = int(input(\"Votre choix entre 1, 2, et 3 ? \"))\n",
    "\n",
    "if choix == 1:\n",
    "    print(\"Premier choix\")\n",
    "\n",
    "elif choix == 2:\n",
    "    print(\"Deuxième choix\")\n",
    "\n",
    "elif choix == 3:\n",
    "    print(\"Troisième choix\")\n",
    "\n",
    "else:\n",
    "    print(\"Choix inconnu\")"
   ]
  },
  {
   "cell_type": "markdown",
   "metadata": {},
   "source": [
    "Bien entendu, on peut utiliser juste les formes \"réduites\" `if ... else ...` et `if ...` si le contexte le demande (voir par exemple la dernière section).\n",
    "\n",
    "\n",
    "Indentation, attention danger !\n",
    "-------------------------------\n",
    "\n",
    "L'indentation est importante comme le montre le code suivant."
   ]
  },
  {
   "cell_type": "code",
   "execution_count": 4,
   "metadata": {},
   "outputs": [
    {
     "name": "stdout",
     "output_type": "stream",
     "text": [
      "Tout au même niveau.\n",
      "x > 2\n",
      "x <= 5\n",
      "\n",
      "Des indentations différentes.\n"
     ]
    }
   ],
   "source": [
    "x = 5\n",
    "\n",
    "# Tout au même niveau.\n",
    "print(\"Tout au même niveau.\")\n",
    "\n",
    "if x == 2:\n",
    "    print(\"x == 2\")\n",
    "\n",
    "if x > 2:\n",
    "    print(\"x > 2\")\n",
    "\n",
    "if x < 0:\n",
    "    print(\"x < 0\")\n",
    "\n",
    "if x <= 5:\n",
    "    print(\"x <= 5\")\n",
    "\n",
    "# Tout au même niveau.\n",
    "print(\"\")\n",
    "print(\"Des indentations différentes.\")\n",
    "\n",
    "if x == 2:\n",
    "    print(\"x == 2\")\n",
    "\n",
    "    if x > 2:\n",
    "        print(\"x > 2\")\n",
    "\n",
    "if x < 0:\n",
    "    print(\"x < 0\")\n",
    "\n",
    "    if x <= 5:\n",
    "        print(\"x <= 5\")"
   ]
  }
 ],
 "metadata": {
  "kernelspec": {
   "display_name": "Python 3",
   "language": "python",
   "name": "python3"
  },
  "language_info": {
   "codemirror_mode": {
    "name": "ipython",
    "version": 3
   },
   "file_extension": ".py",
   "mimetype": "text/x-python",
   "name": "python",
   "nbconvert_exporter": "python",
   "pygments_lexer": "ipython3",
   "version": "3.6.6"
  }
 },
 "nbformat": 4,
 "nbformat_minor": 1
}
