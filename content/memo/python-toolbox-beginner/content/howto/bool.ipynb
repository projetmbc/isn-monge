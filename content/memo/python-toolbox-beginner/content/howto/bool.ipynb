{
 "cells": [
  {
   "cell_type": "markdown",
   "metadata": {},
   "source": [
    "Les booléens `VRAI` et `FAUX`\n",
    "=============================\n",
    "\n",
    "Un peu de vocabulaire booléen\n",
    "-----------------------------\n",
    "\n",
    "George Boole a vécu du 2 novembre 1815 au 8 décembre 1864. Il a inventé ce que l'on appelle aujourd'hui l'algèbre de Boole car il cherchait traduire à l'aide de calculs algébriques les raisonnements logiques. Indiquons au passage qu'il existe plusieurs types de logique. Celle modélisée par l'agèbre de Boole s'appuie sur deux valeurs de vérité `VRAI` et `FAUX` utilisables avec des opérateurs logiques `ET` , `OU` et `NON`. Commençons par voir comment distinguer le `VRAI` du `FAUX`."
   ]
  },
  {
   "cell_type": "code",
   "execution_count": 1,
   "metadata": {},
   "outputs": [
    {
     "name": "stdout",
     "output_type": "stream",
     "text": [
      "Type de variable_symbolisant_vrai : <class 'bool'>\n",
      "Type de variable_symbolisant_faux : <class 'bool'>\n"
     ]
    }
   ],
   "source": [
    "variable_symbolisant_vrai = True\n",
    "variable_symbolisant_faux = False\n",
    "\n",
    "print(\"Type de variable_symbolisant_vrai :\", type(variable_symbolisant_vrai))\n",
    "print(\"Type de variable_symbolisant_faux :\", type(variable_symbolisant_faux))"
   ]
  },
  {
   "cell_type": "markdown",
   "metadata": {},
   "source": [
    "Les opérateurs booléens\n",
    "-----------------------\n",
    "\n",
    "Il suffit de savoir que \"et\", \"ou\" et \"non\" se disent respectivement \"and\", \"or\" et \"not\" en anglais pour comprendre les lignes de code suivantes."
   ]
  },
  {
   "cell_type": "code",
   "execution_count": 1,
   "metadata": {},
   "outputs": [
    {
     "name": "stdout",
     "output_type": "stream",
     "text": [
      "`and` en action...\n",
      "    True and True = True\n",
      "    True and False = False\n",
      "    False and True = False\n",
      "    False and False = False\n",
      "\n",
      "`or` en action...\n",
      "    True or True = True\n",
      "    True or False = True\n",
      "    False or True = True\n",
      "    False or False = False\n",
      "\n",
      "`not` en action...\n",
      "    not True = False\n",
      "    not False = True\n"
     ]
    }
   ],
   "source": [
    "# L'opérateur booléen ET renvoie VRAI uniquement si  \n",
    "# les deux valeurs boléennes valent VRAI, sinon il\n",
    "# renvoie FAUX.\n",
    "print(\"`and` en action...\")\n",
    "print(\"    True and True =\", True and True)\n",
    "print(\"    True and False =\", True and False)\n",
    "print(\"    False and True =\", False and True)\n",
    "print(\"    False and False =\", False and False)\n",
    "\n",
    "# L'opérateur booléen OU renvoie VRAI uniquement si  \n",
    "# l'une au moins des deux valeurs boléennes est VRAI,\n",
    "# sinon il renvoie FAUX.\n",
    "print(\"\")\n",
    "print(\"`or` en action...\")\n",
    "print(\"    True or True =\", True or True)\n",
    "print(\"    True or False =\", True or False)\n",
    "print(\"    False or True =\", False or True)\n",
    "print(\"    False or False =\", False or False)\n",
    "\n",
    "# L'opérateur booléen NON renvoie une valeur booléenne\n",
    "# \"contraire\".\n",
    "print(\"\")\n",
    "print(\"`not` en action...\")\n",
    "print(\"    not True =\", not True)\n",
    "print(\"    not False =\", not False)"
   ]
  },
  {
   "cell_type": "markdown",
   "metadata": {},
   "source": [
    "Attention danger ! Calculer avec des booléens, c'est possible. \n",
    "--------------------------------------------------------------\n",
    "\n",
    "Le code ci-dessous montre une bizarrerie. Ceci peut se comprendre si l'on sait qu'à l'origine Python avait été construit \"au-dessus\" du langage C qui lui ne dispose pas de type booléen. Du coup dans le langage C on utilise les entiers `1` et `0` pour symboliser les valeurs de vérité `VRAI` et `FAUX` respectivement. Avec ceci en tête, on peut comprendre l'apparition du `3` ci-dessous."
   ]
  },
  {
   "cell_type": "code",
   "execution_count": 11,
   "metadata": {},
   "outputs": [
    {
     "name": "stdout",
     "output_type": "stream",
     "text": [
      "3\n"
     ]
    }
   ],
   "source": [
    "bizzar = 2 + True\n",
    "\n",
    "print(bizzar)"
   ]
  }
 ],
 "metadata": {
  "kernelspec": {
   "display_name": "Python 3",
   "language": "python",
   "name": "python3"
  },
  "language_info": {
   "codemirror_mode": {
    "name": "ipython",
    "version": 3
   },
   "file_extension": ".py",
   "mimetype": "text/x-python",
   "name": "python",
   "nbconvert_exporter": "python",
   "pygments_lexer": "ipython3",
   "version": "3.6.6"
  }
 },
 "nbformat": 4,
 "nbformat_minor": 1
}
