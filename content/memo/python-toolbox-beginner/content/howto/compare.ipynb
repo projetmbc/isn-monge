{
 "cells": [
  {
   "cell_type": "markdown",
   "metadata": {},
   "source": [
    "Comparer c'est tester\n",
    "=====================\n",
    "\n",
    "A-t-on égalité ?\n",
    "----------------\n",
    "\n",
    "Une grande partie des langages de programmation utilisent `=` pour affecter une valeur à une variable, et `==` pour tester une égalité. Python fait partie de ces langages. Notez au passage le manque de clarté en mathématiques où l'on peut écrire *\"Soit $x = 4$\"* et *\"A-t-on $x = 4$* ? dans deux contextes différents."
   ]
  },
  {
   "cell_type": "code",
   "execution_count": 8,
   "metadata": {},
   "outputs": [
    {
     "name": "stdout",
     "output_type": "stream",
     "text": [
      "A-t-on x = 2 ? True\n",
      "A-t-on x = 5 ? False\n"
     ]
    }
   ],
   "source": [
    "x = 2\n",
    "\n",
    "print(\"A-t-on x = 2 ?\", x == 2)\n",
    "print(\"A-t-on x = 5 ?\", x == 5)"
   ]
  },
  {
   "cell_type": "markdown",
   "metadata": {},
   "source": [
    "On note que les tests d'égalité renvoient un résultat de type booléens. Ce sera aussi le cas des tests de comparaison de type \"ordre\" présentés dans la sections suivante."
   ]
  },
  {
   "cell_type": "markdown",
   "metadata": {},
   "source": [
    "Est-ce différent ?\n",
    "------------------\n",
    "\n",
    "L'opérateur `!=` teste si deux variables sont différentes. Voici un exemple."
   ]
  },
  {
   "cell_type": "code",
   "execution_count": 10,
   "metadata": {},
   "outputs": [
    {
     "name": "stdout",
     "output_type": "stream",
     "text": [
      "A-t-on x différent 2 ? False\n",
      "A-t-on x différent 5 ? True\n"
     ]
    }
   ],
   "source": [
    "x = 2\n",
    "\n",
    "print(\"A-t-on x différent 2 ?\", x != 2)\n",
    "print(\"A-t-on x différent 5 ?\", x != 5)"
   ]
  },
  {
   "cell_type": "markdown",
   "metadata": {},
   "source": [
    "Plus petit, plus grand et compagnie\n",
    "-----------------------------------\n",
    "\n",
    "Dans le code suivant, remarquez qu'il est possible d'utiliser directement `1 <= x < 3` sans avoir à faire `(1 <= x) and (x < 3)`."
   ]
  },
  {
   "cell_type": "code",
   "execution_count": 10,
   "metadata": {},
   "outputs": [
    {
     "name": "stdout",
     "output_type": "stream",
     "text": [
      "A-t-on x > 0 ? True\n",
      "A-t-on x > 2 ? False\n",
      "A-t-on x <= 2 ? True\n",
      "A-t-on 1 <= x < 3 ? True\n"
     ]
    }
   ],
   "source": [
    "x = 2\n",
    "\n",
    "print(\"A-t-on x > 0 ?\", x > 0)\n",
    "print(\"A-t-on x > 2 ?\", x > 2)\n",
    "print(\"A-t-on x <= 2 ?\", x <= 2)\n",
    "print(\"A-t-on 1 <= x < 3 ?\", 1 <= x < 3) "
   ]
  },
  {
   "cell_type": "markdown",
   "metadata": {},
   "source": [
    "Attention danger ! Pour Python `1` et `True` sont égaux mais pas identiques. \n",
    "----------------------------------------------------------------------------\n",
    "\n",
    "Les opérateurs de comparaisons peuvent s'appliquer à des types différents de variables. Voici un premier exemple. Le résultat est prévisible car `2` désigne le naturel $2$, tandis que `\"2\"` désigne le texte formé de l'unique caractère 2."
   ]
  },
  {
   "cell_type": "code",
   "execution_count": 11,
   "metadata": {},
   "outputs": [
    {
     "name": "stdout",
     "output_type": "stream",
     "text": [
      "x == \"2\" vaut False\n"
     ]
    }
   ],
   "source": [
    "x = 2\n",
    "\n",
    "print('x == \"2\" vaut', x == \"2\")"
   ]
  },
  {
   "cell_type": "markdown",
   "metadata": {},
   "source": [
    "Regardons un code un peu plus problématique."
   ]
  },
  {
   "cell_type": "code",
   "execution_count": 7,
   "metadata": {},
   "outputs": [
    {
     "name": "stdout",
     "output_type": "stream",
     "text": [
      "True\n"
     ]
    }
   ],
   "source": [
    "print(1 == True)"
   ]
  },
  {
   "cell_type": "markdown",
   "metadata": {},
   "source": [
    "La section sur les booléens explique que dans l'implémentation de Python, les booléens sont d'une certaine façon des naturels. Ceci permet de comprendre le résultat étrange précédent. Si vous souhaitez vraiment comparer strictement et rigoureusement une variable à une valeur booléenne, il faudra utiliser l'opérateur `is` comme dans le code suivant."
   ]
  },
  {
   "cell_type": "code",
   "execution_count": 6,
   "metadata": {},
   "outputs": [
    {
     "name": "stdout",
     "output_type": "stream",
     "text": [
      "False\n"
     ]
    }
   ],
   "source": [
    "print(1 is True)"
   ]
  }
 ],
 "metadata": {
  "kernelspec": {
   "display_name": "Python 3",
   "language": "python",
   "name": "python3"
  },
  "language_info": {
   "codemirror_mode": {
    "name": "ipython",
    "version": 3
   },
   "file_extension": ".py",
   "mimetype": "text/x-python",
   "name": "python",
   "nbconvert_exporter": "python",
   "pygments_lexer": "ipython3",
   "version": "3.6.6"
  }
 },
 "nbformat": 4,
 "nbformat_minor": 1
}
