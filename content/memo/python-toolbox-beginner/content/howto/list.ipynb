{
 "cells": [
  {
   "cell_type": "markdown",
   "metadata": {},
   "source": [
    "Listes\n",
    "======\n",
    "\n",
    "Créer une liste directement\n",
    "---------------------------\n",
    "\n",
    "Les éléments d'une liste sont à mettre entre des crochets séparés par des virgules. Une liste peut contenir différents types de variables comme le montre l'exemple suivant."
   ]
  },
  {
   "cell_type": "code",
   "execution_count": 7,
   "metadata": {},
   "outputs": [
    {
     "name": "stdout",
     "output_type": "stream",
     "text": [
      "liste_heterogene = [0, 'un', 2.0]\n",
      "Type de liste_heterogene : <class 'list'>\n"
     ]
    }
   ],
   "source": [
    "liste_heterogene = [0, \"un\", 8/4] # 8/4 = 2.0 est un flottant !\n",
    "\n",
    "print(\"liste_heterogene =\", liste_heterogene)\n",
    "print(\"Type de liste_heterogene :\", type(liste_heterogene))"
   ]
  },
  {
   "cell_type": "markdown",
   "metadata": {},
   "source": [
    "Notons que l'on peut faire une liste de listes pour par exemple représenter une liste de coordonnées (on peut bien entendu aller plus loin en faisant une liste de listes de listes de listes...etc)."
   ]
  },
  {
   "cell_type": "code",
   "execution_count": 9,
   "metadata": {},
   "outputs": [
    {
     "name": "stdout",
     "output_type": "stream",
     "text": [
      "[[1], [0, 10], [33, -4, 17]]\n"
     ]
    }
   ],
   "source": [
    "coord_1d = [1]\n",
    "coord_2d = [0, 10]\n",
    "coord_3d = [33, -4, 17]\n",
    "\n",
    "liste_de_coord = [coord_1d, coord_2d, coord_3d]\n",
    "\n",
    "print(liste_de_coord)"
   ]
  },
  {
   "cell_type": "markdown",
   "metadata": {},
   "source": [
    "Ajouter un nouvel élément à une liste\n",
    "-------------------------------------\n",
    "\n",
    "Une liste est une instance de la classe `list` qui possède une méthode `append` permettant d'ajouter un nouvel élément. Voici comment utiliser cette dernière."
   ]
  },
  {
   "cell_type": "code",
   "execution_count": 17,
   "metadata": {},
   "outputs": [
    {
     "name": "stdout",
     "output_type": "stream",
     "text": [
      "Une liste vide au départ : []\n",
      "Liste remplie maintenant : ['nouvel élément', 'autre ajout']\n"
     ]
    }
   ],
   "source": [
    "notre_liste = []\n",
    "\n",
    "print(\"Une liste vide au départ :\", notre_liste)\n",
    "\n",
    "notre_liste.append(\"nouvel élément\")\n",
    "notre_liste.append(\"autre ajout\")\n",
    "\n",
    "print(\"Liste remplie maintenant :\", notre_liste)"
   ]
  },
  {
   "cell_type": "markdown",
   "metadata": {},
   "source": [
    "Créer une liste à l'aide de boucles\n",
    "-----------------------------------\n",
    "\n",
    "La méthode `append` présentée dans la section précédente permet de fabriquer facilement certaines listes ayant une structure régulière."
   ]
  },
  {
   "cell_type": "code",
   "execution_count": 18,
   "metadata": {},
   "outputs": [
    {
     "name": "stdout",
     "output_type": "stream",
     "text": [
      "[0, 1, 2, 3, 4, 5, 6, 7, 8, 9, 10, 11, 12, 13]\n"
     ]
    }
   ],
   "source": [
    "naturels = []\n",
    "\n",
    "for i in range(14):\n",
    "    naturels.append(i)\n",
    "    \n",
    "print(naturels)"
   ]
  },
  {
   "cell_type": "markdown",
   "metadata": {},
   "source": [
    "Il existe un raccourci très pratique basé sur le concept de liste en compréhension. Dans ce qui suit, les crochets nous indiquent que nous fabriquons une liste, puis ensuite cette liste a pour élément les `i` pour `i` parcourant la plage de valeurs renvoyées par `range(14)`."
   ]
  },
  {
   "cell_type": "code",
   "execution_count": 19,
   "metadata": {},
   "outputs": [
    {
     "name": "stdout",
     "output_type": "stream",
     "text": [
      "[0, 1, 2, 3, 4, 5, 6, 7, 8, 9, 10, 11, 12, 13]\n"
     ]
    }
   ],
   "source": [
    "naturels = [i for i in range(14)]\n",
    "    \n",
    "print(naturels)"
   ]
  },
  {
   "cell_type": "markdown",
   "metadata": {},
   "source": [
    "Accoler des listes\n",
    "------------------\n",
    "\n",
    "L'opérateur `+` permet d'accoler des listes les unes apès les autres."
   ]
  },
  {
   "cell_type": "code",
   "execution_count": 13,
   "metadata": {},
   "outputs": [
    {
     "name": "stdout",
     "output_type": "stream",
     "text": [
      "[1, 2, 3, 100, 1000, 9, 99, 999, 9999]\n"
     ]
    }
   ],
   "source": [
    "liste_1 = [1, 2, 3]\n",
    "liste_2 = [100, 1000]\n",
    "liste_3 = [9, 99, 999, 9999]\n",
    "\n",
    "listes_accolees = liste_1 + liste_2 + liste_3\n",
    "\n",
    "print(listes_accolees)"
   ]
  },
  {
   "cell_type": "markdown",
   "metadata": {},
   "source": [
    "Accéder à un élément d'une liste\n",
    "--------------------------------\n",
    "\n",
    "L'accès à un élément d'une liste se fait comme suit où le premier élément d'une liste a toujours pour position $0$. On peut aussi partir de la fin en utilisant un entier relatif négatif, le dernier élément correspondant à la position $(-1)$."
   ]
  },
  {
   "cell_type": "code",
   "execution_count": 20,
   "metadata": {},
   "outputs": [
    {
     "name": "stdout",
     "output_type": "stream",
     "text": [
      "Premier naturel pair de notre liste   : 0\n",
      "Denier naturel pair de notre liste    : 12\n",
      "Troisième naturel pair de notre liste : 4\n"
     ]
    }
   ],
   "source": [
    "naturels_pairs = [0, 2, 4, 6, 8, 10, 12]\n",
    "\n",
    "print(\"Premier naturel pair de notre liste   :\", naturels_pairs[0])\n",
    "print(\"Denier naturel pair de notre liste    :\", naturels_pairs[-1])\n",
    "print(\"Troisième naturel pair de notre liste :\", naturels_pairs[2])"
   ]
  },
  {
   "cell_type": "markdown",
   "metadata": {},
   "source": [
    "Extraire une sous-liste\n",
    "-----------------------\n",
    "\n",
    "Le code ci-après montre que `[d:f]` va extraire les éléments des positions `d` à `(f - 1)`, et que `[:f]` et `[d:]` sont des raccourcis pour `[0:f]` et `[d:-1]` respectivement. Le fonctionnement est similaire à ce qu'il se fait avec les chaînes de caractères.  "
   ]
  },
  {
   "cell_type": "code",
   "execution_count": 16,
   "metadata": {},
   "outputs": [
    {
     "name": "stdout",
     "output_type": "stream",
     "text": [
      "[0, 1, 2, 3]\n",
      "[4, 5, 6, 7]\n",
      "[8, 9, 10, 11, 12, 13, 14]\n"
     ]
    }
   ],
   "source": [
    "naturels = [0, 1, 2, 3, 4, 5, 6, 7, 8, 9, 10, 11, 12, 13, 14]\n",
    "\n",
    "naturels_avant_4             = naturels[:4]\n",
    "naturels_entre_4_et_7_inclus = naturels[4:8]\n",
    "naturels_apres_7             = naturels[8:]\n",
    "\n",
    "print(naturels_avant_4)\n",
    "print(naturels_entre_4_et_7_inclus)\n",
    "print(naturels_apres_7)"
   ]
  },
  {
   "cell_type": "markdown",
   "metadata": {},
   "source": [
    "Modifier une liste élément par élément\n",
    "--------------------------------------\n",
    "\n",
    "Il est possible de modifier un élément d'une liste comme suit (par contre ce type de manipulations ne marche pas avec les chaînes de caractères)."
   ]
  },
  {
   "cell_type": "code",
   "execution_count": 21,
   "metadata": {},
   "outputs": [
    {
     "name": "stdout",
     "output_type": "stream",
     "text": [
      "liste_heterogene avant : [0, 'un', 2.0]\n",
      "liste_heterogene après : ['zéro', 'un', 'deux']\n"
     ]
    }
   ],
   "source": [
    "liste_heterogene = [0, \"un\", 2.0]\n",
    "\n",
    "print(\"liste_heterogene avant :\", liste_heterogene)\n",
    "\n",
    "liste_heterogene[0] = \"zéro\"\n",
    "liste_heterogene[2] = \"deux\"\n",
    "\n",
    "print(\"liste_heterogene après :\", liste_heterogene)"
   ]
  },
  {
   "cell_type": "markdown",
   "metadata": {},
   "source": [
    "Copier une liste, attention danger !\n",
    "------------------------------------\n",
    "\n",
    "Commençons par quelque chose de déroutant et parfois dur à repérer dans de grands codes."
   ]
  },
  {
   "cell_type": "code",
   "execution_count": 30,
   "metadata": {},
   "outputs": [
    {
     "name": "stdout",
     "output_type": "stream",
     "text": [
      "liste_ancienne = [1, 2, 3, 4, 5]\n",
      "liste_nouvelle = [1, 2, 3, 4, 5]\n"
     ]
    }
   ],
   "source": [
    "liste_ancienne = [1, 2, 3]\n",
    "liste_nouvelle = liste_ancienne\n",
    "\n",
    "liste_nouvelle.append(4)\n",
    "liste_nouvelle.append(5)\n",
    "\n",
    "print(\"liste_ancienne =\", liste_ancienne)\n",
    "print(\"liste_nouvelle =\", liste_nouvelle)"
   ]
  },
  {
   "cell_type": "markdown",
   "metadata": {},
   "source": [
    "Regardez bien ce qu'il vient de se passer. Les **deux** listes ont été modifiées. Si cela ne vous choque pas, comparez avec le code suivant."
   ]
  },
  {
   "cell_type": "code",
   "execution_count": 29,
   "metadata": {},
   "outputs": [
    {
     "name": "stdout",
     "output_type": "stream",
     "text": [
      "texte_ancien  = Texte au départ.\n",
      "texte_nouveau = Des changements ont eu lieu.\n"
     ]
    }
   ],
   "source": [
    "texte_ancien  = \"Texte au départ.\"\n",
    "texte_nouveau = texte_ancien\n",
    "\n",
    "texte_nouveau = \"Des changements ont eu lieu.\"\n",
    "\n",
    "print(\"texte_ancien  =\", texte_ancien)\n",
    "print(\"texte_nouveau =\", texte_nouveau)"
   ]
  },
  {
   "cell_type": "markdown",
   "metadata": {},
   "source": [
    "Que s'est il passé avec nos listes, ou peut-être devrait-on dire avec notre liste ? Une liste est un objet informatique qui consomme beaucoup de mémoires, par conséquent les concepteurs de Python ont choisi de limiter la copie en mémoire des listes. Dans notre cas, ceci signifie que les variables `texte_ancien` et `texte_nouveau` pointent vers le même emplacement mémoire d'une unqiue liste (ce phénomène se rencontre aussi avec les variables de type ensemble et dictionnaire qui sont présentées dans les sections suivantes). \n",
    "\n",
    "Nous devons donc nous débrouiller pour imposer la création d'une nouvelle copie en mémoire. Voici une méthode propre qui fait appel à un module dédié à la copie d'objets \"mémophages\". Nous proposons d'utiliser `deepcopy` qui va gérer les cas de listes contenants des listes contenant des listes... etc."
   ]
  },
  {
   "cell_type": "code",
   "execution_count": 1,
   "metadata": {},
   "outputs": [
    {
     "name": "stdout",
     "output_type": "stream",
     "text": [
      "liste_ancienne = [1, 2, 3]\n",
      "liste_nouvelle = [1, 2, 3, 4, 5]\n"
     ]
    }
   ],
   "source": [
    "from copy import deepcopy\n",
    "\n",
    "liste_ancienne = [1, 2, 3]\n",
    "liste_nouvelle = deepcopy(liste_ancienne)\n",
    "\n",
    "liste_nouvelle.append(4)\n",
    "liste_nouvelle.append(5)\n",
    "\n",
    "print(\"liste_ancienne =\", liste_ancienne)\n",
    "print(\"liste_nouvelle =\", liste_nouvelle)"
   ]
  },
  {
   "cell_type": "markdown",
   "metadata": {},
   "source": [
    "Taille d'une liste\n",
    "------------------\n",
    "\n",
    "Le mot \"len\" signifiant \"longueur\" en anglais, le code suivant peut se \"deviner\"."
   ]
  },
  {
   "cell_type": "code",
   "execution_count": 2,
   "metadata": {},
   "outputs": [
    {
     "name": "stdout",
     "output_type": "stream",
     "text": [
      "6\n"
     ]
    }
   ],
   "source": [
    "une_liste = [1, 2, 3, 4, 5, 6]\n",
    "\n",
    "print(len(une_liste))"
   ]
  }
 ],
 "metadata": {
  "kernelspec": {
   "display_name": "Python 3",
   "language": "python",
   "name": "python3"
  },
  "language_info": {
   "codemirror_mode": {
    "name": "ipython",
    "version": 3
   },
   "file_extension": ".py",
   "mimetype": "text/x-python",
   "name": "python",
   "nbconvert_exporter": "python",
   "pygments_lexer": "ipython3",
   "version": "3.6.6"
  }
 },
 "nbformat": 4,
 "nbformat_minor": 1
}
