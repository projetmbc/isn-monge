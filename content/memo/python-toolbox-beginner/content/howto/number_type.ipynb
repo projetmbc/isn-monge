{
 "cells": [
  {
   "cell_type": "markdown",
   "metadata": {},
   "source": [
    "Les nombres - Différents types\n",
    "==============================\n",
    "\n",
    "Entiers relatifs\n",
    "----------------\n",
    "\n",
    "Sous Python, les entiers relatifs ne sont pas limités en taille. Ils s'écrivent très naturellement..."
   ]
  },
  {
   "cell_type": "code",
   "execution_count": 6,
   "metadata": {},
   "outputs": [
    {
     "name": "stdout",
     "output_type": "stream",
     "text": [
      "un                   : 1\n",
      "moins_dix            : -10\n",
      "grand_naturel        : 1606938044258990275541962092341162602522202993782792835301376\n",
      "oppose_grand_naturel : -1606938044258990275541962092341162602522202993782792835301376\n",
      "Type de un                   : <class 'int'>\n",
      "Type de moins_dix            : <class 'int'>\n",
      "Type de grand_naturel        : <class 'int'>\n",
      "Type de oppose_grand_naturel : <class 'int'>\n"
     ]
    }
   ],
   "source": [
    "un                   = 1\n",
    "moins_dix            = -10\n",
    "grand_naturel        = 2**200\n",
    "oppose_grand_naturel = -2**200\n",
    "\n",
    "print(\"un                   :\", un)\n",
    "print(\"moins_dix            :\", moins_dix)\n",
    "print(\"grand_naturel        :\", grand_naturel)\n",
    "print(\"oppose_grand_naturel :\", oppose_grand_naturel)\n",
    "\n",
    "print(\"Type de un                   :\", type(un))\n",
    "print(\"Type de moins_dix            :\", type(moins_dix))\n",
    "print(\"Type de grand_naturel        :\", type(grand_naturel))\n",
    "print(\"Type de oppose_grand_naturel :\", type(oppose_grand_naturel))"
   ]
  },
  {
   "cell_type": "markdown",
   "metadata": {},
   "source": [
    "Nombres réels approchés\n",
    "-----------------------\n",
    "\n",
    "La notion de nombres réels n'existe pas en informatique (même si l'on peut faire appel à des bibliothèques de calcul formel qui tente d'effectuer un maximum de calculs de façon exacte). A la place, on dispose des nombres à virgule flottante qui permettent de faire des calculs approchés. Sans entrer dans les détails techniques, savoir que pour Python un nombre à virgule est en fait un nombre à virgule flottante, et non un nombre décimal, permet de ne pas trop être surpris par ce qu'affiche le code suivant (à cette adresse [http://www.afpy.org/doc/python/2.7/tutorial/floatingpoint.html](http://www.afpy.org/doc/python/2.7/tutorial/floatingpoint.html) se trouve un document expliquant très bien ce qu'il se passe en coulisse)."
   ]
  },
  {
   "cell_type": "code",
   "execution_count": 7,
   "metadata": {},
   "outputs": [
    {
     "name": "stdout",
     "output_type": "stream",
     "text": [
      "resultat_bizarre : 0.30000000000000004\n",
      "Type de resultat_bizarre : <class 'float'>\n"
     ]
    }
   ],
   "source": [
    "resultat_bizarre = 0.1 + 0.2\n",
    "\n",
    "print(\"resultat_bizarre :\", resultat_bizarre)\n",
    "print(\"Type de resultat_bizarre :\", type(resultat_bizarre))"
   ]
  },
  {
   "cell_type": "markdown",
   "metadata": {},
   "source": [
    "Décimaux\n",
    "--------\n",
    "\n",
    "Il est possible de travailler de façon exacte avec des nombres décimaux via un module Python spécialisé. Il suffit de procéder comme suit."
   ]
  },
  {
   "cell_type": "code",
   "execution_count": 8,
   "metadata": {},
   "outputs": [
    {
     "name": "stdout",
     "output_type": "stream",
     "text": [
      "resultat_normal : 0.3\n",
      "Type de resultat_normal : <class 'builtin_function_or_method'>\n"
     ]
    }
   ],
   "source": [
    "from decimal import Decimal\n",
    "\n",
    "resultat_normal = Decimal(\"0.1\") + Decimal(\"0.2\")\n",
    "\n",
    "print(\"resultat_normal :\", resultat_normal)\n",
    "print(\"Type de resultat_normal :\", type(normal))"
   ]
  },
  {
   "cell_type": "markdown",
   "metadata": {},
   "source": [
    "Fractions\n",
    "---------\n",
    "\n",
    "On peut définir des fractions rationnelles en gardant leur valeur exacte grâce à un module Python spécialisé."
   ]
  },
  {
   "cell_type": "code",
   "execution_count": 9,
   "metadata": {},
   "outputs": [
    {
     "name": "stdout",
     "output_type": "stream",
     "text": [
      "fraction_approchee : 0.3333333333333333\n",
      "fraction_exacte    : 1/3\n",
      "Type de fraction_approchee : <class 'float'>\n",
      "Type de fraction_exacte    : <class 'fractions.Fraction'>\n"
     ]
    }
   ],
   "source": [
    "from fractions import Fraction\n",
    "\n",
    "fraction_approchee = 1/3\n",
    "fraction_exacte    = Fraction(\"1/3\")\n",
    "\n",
    "print(\"fraction_approchee :\", fraction_approchee)\n",
    "print(\"fraction_exacte    :\", fraction_exacte)\n",
    "\n",
    "print(\"Type de fraction_approchee :\", type(fraction_approchee))\n",
    "print(\"Type de fraction_exacte    :\", type(fraction_exacte))"
   ]
  },
  {
   "cell_type": "markdown",
   "metadata": {},
   "source": [
    "Nombres complexes approchés\n",
    "---------------------------\n",
    "\n",
    "Python propose par défaut un type pour calculer avec des nombres complexes approchés, plus précisément ces nombres seront des complexes ayant pour parties imaginaire et réelle des nombres à virgule flottante. "
   ]
  },
  {
   "cell_type": "code",
   "execution_count": 1,
   "metadata": {},
   "outputs": [
    {
     "name": "stdout",
     "output_type": "stream",
     "text": [
      "nbre_i_en_math    : 1j\n",
      "un_reel_complexe  : (2+0j)\n",
      "un_complexe       : (2-4j)\n",
      "partie_imaginaire : -4.0\n",
      "partie_reelle     : 2.0\n",
      "Type de nbre_i_en_math    : <class 'complex'>\n",
      "Type de un_reel_complexe  : <class 'complex'>\n",
      "Type de un_complexe       : <class 'complex'>\n",
      "Type de partie_imaginaire : <class 'float'>\n",
      "Type de partie_reelle     : <class 'float'>\n"
     ]
    }
   ],
   "source": [
    "# Attention ! j tout seul ne fonctionnera pas.\n",
    "nbre_i_en_math    = 1j\n",
    "un_reel_complexe  = 2 + 0j\n",
    "\n",
    "un_complexe       = 2 - 4j\n",
    "partie_imaginaire = un_complexe.imag\n",
    "partie_reelle     = un_complexe.real\n",
    "\n",
    "print(\"nbre_i_en_math    :\", nbre_i_en_math) \n",
    "print(\"un_reel_complexe  :\", un_reel_complexe) \n",
    "\n",
    "print(\"un_complexe       :\", un_complexe) \n",
    "print(\"partie_imaginaire :\", partie_imaginaire) \n",
    "print(\"partie_reelle     :\", partie_reelle) \n",
    "\n",
    "print(\"Type de nbre_i_en_math    :\", type(nbre_i_en_math))\n",
    "print(\"Type de un_reel_complexe  :\", type(un_reel_complexe))\n",
    "\n",
    "print(\"Type de un_complexe       :\", type(un_complexe))\n",
    "print(\"Type de partie_imaginaire :\", type(partie_imaginaire))\n",
    "print(\"Type de partie_reelle     :\", type(partie_reelle))"
   ]
  },
  {
   "cell_type": "markdown",
   "metadata": {},
   "source": [
    "Récupérer un nombre d'un type particulier demandé à l'utilisateur\n",
    "-----------------------------------------------------------------\n",
    "\n",
    "Pour chacun des types rencontrés précédemment, autre que les cas particuliers des décimaux et des fractions, il existe une fonction éponyme qui transforme une chaîne de caractères en un nombre du type souhaité, dans la mesure du possible. Ceci permet de récupérer un nombre d'un type particulier demandé à l'utilisateur dans une invite de commandes ou un terminal."
   ]
  },
  {
   "cell_type": "code",
   "execution_count": 9,
   "metadata": {},
   "outputs": [
    {
     "name": "stdout",
     "output_type": "stream",
     "text": [
      "Entrer un nombre : 15\n",
      "Réponse via `input` : 15\n",
      "    Type =  <class 'str'>\n",
      "Version `int` : 15\n",
      "    Type =  <class 'int'>\n",
      "Version `float` : 15.0\n",
      "    Type =  <class 'float'>\n",
      "Version `complex` : (15+0j)\n",
      "    Type =  <class 'complex'>\n"
     ]
    }
   ],
   "source": [
    "reponse_texte = input(\"Entrer un nombre : \")\n",
    "\n",
    "version_entiere   = int(reponse_texte)\n",
    "version_flottante = float(reponse_texte)\n",
    "version_complexe  = complex(reponse_texte)\n",
    "\n",
    "print(\"Réponse via `input` :\", reponse_texte)\n",
    "print(\"    Type = \", type(reponse_texte))\n",
    "\n",
    "print(\"Version `int` :\", version_entiere)\n",
    "print(\"    Type = \", type(version_entiere))\n",
    "\n",
    "print(\"Version `float` :\", version_flottante)\n",
    "print(\"    Type = \", type(version_flottante))\n",
    "\n",
    "print(\"Version `complex` :\", version_complexe)\n",
    "print(\"    Type = \", type(version_complexe))"
   ]
  }
 ],
 "metadata": {
  "kernelspec": {
   "display_name": "Python 3",
   "language": "python",
   "name": "python3"
  },
  "language_info": {
   "codemirror_mode": {
    "name": "ipython",
    "version": 3
   },
   "file_extension": ".py",
   "mimetype": "text/x-python",
   "name": "python",
   "nbconvert_exporter": "python",
   "pygments_lexer": "ipython3",
   "version": "3.6.6"
  }
 },
 "nbformat": 4,
 "nbformat_minor": 1
}
