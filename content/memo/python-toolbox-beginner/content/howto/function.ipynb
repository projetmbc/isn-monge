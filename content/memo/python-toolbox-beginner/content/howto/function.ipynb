{
 "cells": [
  {
   "cell_type": "markdown",
   "metadata": {},
   "source": [
    "Organiser son code - Les fonctions\n",
    "==================================\n",
    "\n",
    "Scinder son code en petits bouts\n",
    "--------------------------------\n",
    "\n",
    "Organiser un code est une tache importante, et pas toujours simple. L'une des techniques consistent à définir des fonctions qui agissent de façon précise sur des arguments donnés. Une fonction peut se définir comme suit (nous ne faisons qu'effleurer les choses ici)."
   ]
  },
  {
   "cell_type": "code",
   "execution_count": 8,
   "metadata": {
    "collapsed": false,
    "slideshow": {
     "slide_type": "slide"
    }
   },
   "outputs": [
    {
     "name": "stdout",
     "output_type": "stream",
     "text": [
      "Carré de 2 : 4\n",
      "Cube de 5  : 125\n"
     ]
    }
   ],
   "source": [
    "def puissance(x, n):\n",
    "    return x**n\n",
    "\n",
    "def carre(x):\n",
    "    return puissance(x, 2)\n",
    "\n",
    "def cube(x):\n",
    "    return puissance(x, 3)\n",
    "\n",
    "print(\"Carré de 2 :\", carre(2))\n",
    "print(\"Cube de 5  :\", cube(5))"
   ]
  },
  {
   "cell_type": "markdown",
   "metadata": {},
   "source": [
    "Indentation, attention danger !\n",
    "-------------------------------\n",
    "\n",
    "L'indentation est importante comme le montre le code suivant où la fonction `cube_test` n'existe qu'au sein de la fonction `carre_test`."
   ]
  },
  {
   "cell_type": "code",
   "execution_count": 1,
   "metadata": {
    "collapsed": false
   },
   "outputs": [
    {
     "name": "stdout",
     "output_type": "stream",
     "text": [
      "Carré de 2 : 4\n"
     ]
    },
    {
     "ename": "NameError",
     "evalue": "name 'cube_test' is not defined",
     "output_type": "error",
     "traceback": [
      "\u001b[1;31m---------------------------------------------------------------------------\u001b[0m\n\u001b[1;31mNameError\u001b[0m                                 Traceback (most recent call last)",
      "\u001b[1;32m<ipython-input-1-4e9e9e97b8a4>\u001b[0m in \u001b[0;36m<module>\u001b[1;34m()\u001b[0m\n\u001b[0;32m      6\u001b[0m \u001b[1;33m\u001b[0m\u001b[0m\n\u001b[0;32m      7\u001b[0m \u001b[0mprint\u001b[0m\u001b[1;33m(\u001b[0m\u001b[1;34m\"Carré de 2 :\"\u001b[0m\u001b[1;33m,\u001b[0m \u001b[0mcarre_test\u001b[0m\u001b[1;33m(\u001b[0m\u001b[1;36m2\u001b[0m\u001b[1;33m)\u001b[0m\u001b[1;33m)\u001b[0m\u001b[1;33m\u001b[0m\u001b[0m\n\u001b[1;32m----> 8\u001b[1;33m \u001b[0mprint\u001b[0m\u001b[1;33m(\u001b[0m\u001b[1;34m\"Cube de 5  :\"\u001b[0m\u001b[1;33m,\u001b[0m \u001b[0mcube_test\u001b[0m\u001b[1;33m(\u001b[0m\u001b[1;36m5\u001b[0m\u001b[1;33m)\u001b[0m\u001b[1;33m)\u001b[0m\u001b[1;33m\u001b[0m\u001b[0m\n\u001b[0m",
      "\u001b[1;31mNameError\u001b[0m: name 'cube_test' is not defined"
     ]
    }
   ],
   "source": [
    "def carre_test(x):\n",
    "    return x**2\n",
    "\n",
    "    def cube_test(x):\n",
    "        return x**3\n",
    "\n",
    "print(\"Carré de 2 :\", carre_test(2))\n",
    "print(\"Cube de 5  :\", cube_test(5))"
   ]
  },
  {
   "cell_type": "markdown",
   "metadata": {},
   "source": [
    "Portée des variables\n",
    "--------------------\n",
    "\n",
    "Il peut arriver que l'on souhaite modifier une variable au sein d'une fonction en gardant cette nouvelle valeur dans la suite de l'exécution du code (dans ce type de situation, la programmation orienté objet devient une technique très efficace, mais ceci ne sera pas abordé dans ce document). Commençons par un code ne fonctionnant pas."
   ]
  },
  {
   "cell_type": "code",
   "execution_count": 20,
   "metadata": {
    "collapsed": false
   },
   "outputs": [
    {
     "name": "stdout",
     "output_type": "stream",
     "text": [
      "Avant x = 5\n"
     ]
    },
    {
     "ename": "UnboundLocalError",
     "evalue": "local variable 'x' referenced before assignment",
     "output_type": "error",
     "traceback": [
      "\u001b[1;31m---------------------------------------------------------------------------\u001b[0m\n\u001b[1;31mUnboundLocalError\u001b[0m                         Traceback (most recent call last)",
      "\u001b[1;32m<ipython-input-20-fef8ffb504f2>\u001b[0m in \u001b[0;36m<module>\u001b[1;34m()\u001b[0m\n\u001b[0;32m      5\u001b[0m \u001b[1;33m\u001b[0m\u001b[0m\n\u001b[0;32m      6\u001b[0m \u001b[0mprint\u001b[0m\u001b[1;33m(\u001b[0m\u001b[1;34m\"Avant x =\"\u001b[0m\u001b[1;33m,\u001b[0m \u001b[0mx\u001b[0m\u001b[1;33m)\u001b[0m\u001b[1;33m\u001b[0m\u001b[0m\n\u001b[1;32m----> 7\u001b[1;33m \u001b[0mmodifie_x\u001b[0m\u001b[1;33m(\u001b[0m\u001b[1;33m)\u001b[0m\u001b[1;33m\u001b[0m\u001b[0m\n\u001b[0m\u001b[0;32m      8\u001b[0m \u001b[0mprint\u001b[0m\u001b[1;33m(\u001b[0m\u001b[1;34m\"Après x =\"\u001b[0m\u001b[1;33m,\u001b[0m \u001b[0mx\u001b[0m\u001b[1;33m)\u001b[0m\u001b[1;33m\u001b[0m\u001b[0m\n",
      "\u001b[1;32m<ipython-input-20-fef8ffb504f2>\u001b[0m in \u001b[0;36mmodifie_x\u001b[1;34m()\u001b[0m\n\u001b[0;32m      2\u001b[0m \u001b[1;33m\u001b[0m\u001b[0m\n\u001b[0;32m      3\u001b[0m \u001b[1;32mdef\u001b[0m \u001b[0mmodifie_x\u001b[0m\u001b[1;33m(\u001b[0m\u001b[1;33m)\u001b[0m\u001b[1;33m:\u001b[0m\u001b[1;33m\u001b[0m\u001b[0m\n\u001b[1;32m----> 4\u001b[1;33m     \u001b[0mx\u001b[0m \u001b[1;33m=\u001b[0m \u001b[0mx\u001b[0m \u001b[1;33m+\u001b[0m \u001b[1;36m10\u001b[0m\u001b[1;33m\u001b[0m\u001b[0m\n\u001b[0m\u001b[0;32m      5\u001b[0m \u001b[1;33m\u001b[0m\u001b[0m\n\u001b[0;32m      6\u001b[0m \u001b[0mprint\u001b[0m\u001b[1;33m(\u001b[0m\u001b[1;34m\"Avant x =\"\u001b[0m\u001b[1;33m,\u001b[0m \u001b[0mx\u001b[0m\u001b[1;33m)\u001b[0m\u001b[1;33m\u001b[0m\u001b[0m\n",
      "\u001b[1;31mUnboundLocalError\u001b[0m: local variable 'x' referenced before assignment"
     ]
    }
   ],
   "source": [
    "x = 5\n",
    "\n",
    "def modifie_x():\n",
    "    x = x + 10\n",
    "\n",
    "print(\"Avant x =\", x)\n",
    "modifie_x()\n",
    "print(\"Après x =\", x)"
   ]
  },
  {
   "cell_type": "markdown",
   "metadata": {},
   "source": [
    "Le message indique que la variable `x` est inconue du point de vue de la fonction `modifie_x`. Le mot clé `global` permet d'indiquer à une fonction une variable existant globalement. On obtient ainsi le code suivant qui fait ce qui est attendu."
   ]
  },
  {
   "cell_type": "code",
   "execution_count": 22,
   "metadata": {
    "collapsed": false
   },
   "outputs": [
    {
     "name": "stdout",
     "output_type": "stream",
     "text": [
      "Avant x = 5\n",
      "Après x = 15\n"
     ]
    }
   ],
   "source": [
    "x = 5\n",
    "\n",
    "def modifie_x_avec_global():\n",
    "    global x\n",
    "    x = x + 10\n",
    "\n",
    "print(\"Avant x =\", x)\n",
    "modifie_x_avec_global()\n",
    "print(\"Après x =\", x)"
   ]
  },
  {
   "cell_type": "markdown",
   "metadata": {},
   "source": [
    "Indiquons que pour des variables \"mémophages\" comme les listes, les ensembles et les dictionnaires, il peut y avoir des comportements bizarres comme le montre le code suivant."
   ]
  },
  {
   "cell_type": "code",
   "execution_count": 19,
   "metadata": {
    "collapsed": false
   },
   "outputs": [
    {
     "name": "stdout",
     "output_type": "stream",
     "text": [
      "modifie_liste_ok --> Avant liste = ['et un', 'et deux']\n",
      "modifie_liste_ok --> Après liste = ['et un', 'et deux', 'et trois zéro']\n",
      "modifie_liste_ok --> Avant liste = ['et un', 'et deux']\n"
     ]
    },
    {
     "ename": "UnboundLocalError",
     "evalue": "local variable 'liste' referenced before assignment",
     "output_type": "error",
     "traceback": [
      "\u001b[1;31m---------------------------------------------------------------------------\u001b[0m\n\u001b[1;31mUnboundLocalError\u001b[0m                         Traceback (most recent call last)",
      "\u001b[1;32m<ipython-input-19-47585a334ac2>\u001b[0m in \u001b[0;36m<module>\u001b[1;34m()\u001b[0m\n\u001b[0;32m     16\u001b[0m \u001b[1;33m\u001b[0m\u001b[0m\n\u001b[0;32m     17\u001b[0m \u001b[0mprint\u001b[0m\u001b[1;33m(\u001b[0m\u001b[1;34m\"modifie_liste_ok --> Avant liste =\"\u001b[0m\u001b[1;33m,\u001b[0m \u001b[0mliste\u001b[0m\u001b[1;33m)\u001b[0m\u001b[1;33m\u001b[0m\u001b[0m\n\u001b[1;32m---> 18\u001b[1;33m \u001b[0mmodifie_liste_pas_ok\u001b[0m\u001b[1;33m(\u001b[0m\u001b[1;33m)\u001b[0m\u001b[1;33m\u001b[0m\u001b[0m\n\u001b[0m\u001b[0;32m     19\u001b[0m \u001b[0mprint\u001b[0m\u001b[1;33m(\u001b[0m\u001b[1;34m\"modifie_liste_ok --> Après liste =\"\u001b[0m\u001b[1;33m,\u001b[0m \u001b[0mliste\u001b[0m\u001b[1;33m)\u001b[0m\u001b[1;33m\u001b[0m\u001b[0m\n",
      "\u001b[1;32m<ipython-input-19-47585a334ac2>\u001b[0m in \u001b[0;36mmodifie_liste_pas_ok\u001b[1;34m()\u001b[0m\n\u001b[0;32m     13\u001b[0m \u001b[1;33m\u001b[0m\u001b[0m\n\u001b[0;32m     14\u001b[0m \u001b[1;32mdef\u001b[0m \u001b[0mmodifie_liste_pas_ok\u001b[0m\u001b[1;33m(\u001b[0m\u001b[1;33m)\u001b[0m\u001b[1;33m:\u001b[0m\u001b[1;33m\u001b[0m\u001b[0m\n\u001b[1;32m---> 15\u001b[1;33m     \u001b[0mliste\u001b[0m \u001b[1;33m=\u001b[0m \u001b[0mliste\u001b[0m \u001b[1;33m+\u001b[0m \u001b[1;33m[\u001b[0m\u001b[1;34m\"et trois zéro\"\u001b[0m\u001b[1;33m]\u001b[0m\u001b[1;33m\u001b[0m\u001b[0m\n\u001b[0m\u001b[0;32m     16\u001b[0m \u001b[1;33m\u001b[0m\u001b[0m\n\u001b[0;32m     17\u001b[0m \u001b[0mprint\u001b[0m\u001b[1;33m(\u001b[0m\u001b[1;34m\"modifie_liste_ok --> Avant liste =\"\u001b[0m\u001b[1;33m,\u001b[0m \u001b[0mliste\u001b[0m\u001b[1;33m)\u001b[0m\u001b[1;33m\u001b[0m\u001b[0m\n",
      "\u001b[1;31mUnboundLocalError\u001b[0m: local variable 'liste' referenced before assignment"
     ]
    }
   ],
   "source": [
    "# Avec une liste\n",
    "liste = [\"et un\", \"et deux\"]\n",
    "\n",
    "def modifie_liste_ok():\n",
    "    liste.append(\"et trois zéro\")\n",
    "\n",
    "print(\"modifie_liste_ok --> Avant liste =\", liste)\n",
    "modifie_liste_ok()\n",
    "print(\"modifie_liste_ok --> Après liste =\", liste)\n",
    "\n",
    "# Avec une liste\n",
    "liste = [\"et un\", \"et deux\"]\n",
    "\n",
    "def modifie_liste_pas_ok():\n",
    "    liste = liste + [\"et trois zéro\"]\n",
    "\n",
    "print(\"modifie_liste_ok --> Avant liste =\", liste)\n",
    "modifie_liste_pas_ok()\n",
    "print(\"modifie_liste_ok --> Après liste =\", liste)"
   ]
  },
  {
   "cell_type": "markdown",
   "metadata": {},
   "source": [
    "Nous vous conseillons d'utiliser `global` dès que vous souhaitez agir globalement, et dans le cas contraire, utilisez un nom \"non global\" pour une variable au sein d'une fonction."
   ]
  }
 ],
 "metadata": {
  "kernelspec": {
   "display_name": "Python 3",
   "language": "python",
   "name": "python3"
  },
  "language_info": {
   "codemirror_mode": {
    "name": "ipython",
    "version": 3
   },
   "file_extension": ".py",
   "mimetype": "text/x-python",
   "name": "python",
   "nbconvert_exporter": "python",
   "pygments_lexer": "ipython3",
   "version": "3.4.3"
  }
 },
 "nbformat": 4,
 "nbformat_minor": 0
}
