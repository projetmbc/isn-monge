{
 "cells": [
  {
   "cell_type": "markdown",
   "metadata": {},
   "source": [
    "Comment taper et utiliser un programme écrit en Python\n",
    "======================================================\n",
    "\n",
    "Spyder, un outil deux en un\n",
    "------------------------\n",
    "\n",
    "L'intérêt de Spyder est qu'il est \"rassurant\" quand l'on débute car il permet à la fois de taper son code, puis ensuite de le lancer directement au sein de l'interface graphique de Spyder. "
   ]
  },
  {
   "cell_type": "markdown",
   "metadata": {},
   "source": [
    "Jupyter, un outil deux en un mais plus spécifique\n",
    "-------------------------------------------------\n",
    "\n",
    "On peut aussi utiliser Jupyter si l'on souhaite faire des bouts de code, ou bien si l'on veut écrire un code que l'on souhaite commenter de façon très visuelle.\n",
    "\n",
    "**Remarque :** on peut exporter une feuille Jupyter sous forme d'un fichier Python. Dans ce cas, toutes les explications deviendront des commentaires dans votre code.\n",
    "\n",
    "**Attention !** Dans une feuille Jupyter, on peut utiliser différentes cellules pour taper différentes séquences de code. Il faut savoir que Jupyter garde en mémoire tout ce qui a été fait avant. Voici un exemple de code."
   ]
  },
  {
   "cell_type": "code",
   "execution_count": 1,
   "metadata": {},
   "outputs": [],
   "source": [
    "x = 3"
   ]
  },
  {
   "cell_type": "markdown",
   "metadata": {},
   "source": [
    "Tapons maintenant du texte toujours dans le cadre de notre exemple. Dans la cellule suivante, la variable `x` n'est pas définie mais nous pouvons l'utiliser car elle a été définie dans une cellule précédente."
   ]
  },
  {
   "cell_type": "code",
   "execution_count": 2,
   "metadata": {},
   "outputs": [
    {
     "name": "stdout",
     "output_type": "stream",
     "text": [
      "300\n"
     ]
    }
   ],
   "source": [
    "# `print` sert à afficher un résultat.\n",
    "print(x*100)"
   ]
  },
  {
   "cell_type": "markdown",
   "metadata": {},
   "source": [
    "Il faut garder ceci en tête car quelque fois on peut être étonné du résultat renvoyé par Jupyter qui utilise la valeur d'une variable définie précédemment."
   ]
  },
  {
   "cell_type": "markdown",
   "metadata": {},
   "source": [
    "Faire comme les pros\n",
    "--------------------\n",
    "\n",
    "Avec l'habitude, certaines personnes trouvent plus simple d'utiliser des éditeurs de programmes légers et robustes comme Atom, Notepad++, Geany, ... etc couplé avec une invite de commande ou un terminal bien configuré, c'est à dire avec un alias `python` qui lance directement Python *(sous les systèmes Unix, cette commande est ajoutée dès lors que l'on installe un environnement Python)*."
   ]
  }
 ],
 "metadata": {
  "kernelspec": {
   "display_name": "Python 3",
   "language": "python",
   "name": "python3"
  },
  "language_info": {
   "codemirror_mode": {
    "name": "ipython",
    "version": 3
   },
   "file_extension": ".py",
   "mimetype": "text/x-python",
   "name": "python",
   "nbconvert_exporter": "python",
   "pygments_lexer": "ipython3",
   "version": "3.6.6"
  }
 },
 "nbformat": 4,
 "nbformat_minor": 1
}
