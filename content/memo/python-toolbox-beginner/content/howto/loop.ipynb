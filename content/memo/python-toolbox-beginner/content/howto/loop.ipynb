{
 "cells": [
  {
   "cell_type": "markdown",
   "metadata": {},
   "source": [
    "Répéter des actions\n",
    "===================\n",
    "\n",
    "Répéter un nombre de fois connu\n",
    "-------------------------------\n",
    "\n",
    "Dans le code qui suit, la fonction `range` renvoie une plage de valeurs. Voici un premier exemple d'utilisation."
   ]
  },
  {
   "cell_type": "code",
   "execution_count": 2,
   "metadata": {
    "slideshow": {
     "slide_type": "slide"
    }
   },
   "outputs": [
    {
     "name": "stdout",
     "output_type": "stream",
     "text": [
      "0\n",
      "1\n",
      "2\n",
      "3\n"
     ]
    }
   ],
   "source": [
    "for i in range(4):\n",
    "    print(i)"
   ]
  },
  {
   "cell_type": "markdown",
   "metadata": {},
   "source": [
    "La convention utilisée pour `range(n)` est de renvoyer les naturels de `0` à `(n - 1)`, et non de `1` à `n`. Mais comment obtenir ce dernier résultat ? Il suffit de faire comme suit où `range(d, f)` renvoie les naturels de `d` à `(f - 1)`."
   ]
  },
  {
   "cell_type": "code",
   "execution_count": 3,
   "metadata": {},
   "outputs": [
    {
     "name": "stdout",
     "output_type": "stream",
     "text": [
      "1\n",
      "2\n",
      "3\n",
      "4\n"
     ]
    }
   ],
   "source": [
    "for i in range(1, 5):\n",
    "    print(i)"
   ]
  },
  {
   "cell_type": "markdown",
   "metadata": {},
   "source": [
    "Un dernier usage possible consiste à indiquer un pas d'avancement. Le code suivant affiche tous les multiples de $5$ entre $0$ compris et $35$ non compris."
   ]
  },
  {
   "cell_type": "code",
   "execution_count": 4,
   "metadata": {},
   "outputs": [
    {
     "name": "stdout",
     "output_type": "stream",
     "text": [
      "0\n",
      "5\n",
      "10\n",
      "15\n",
      "20\n",
      "25\n",
      "30\n"
     ]
    }
   ],
   "source": [
    "for i in range(0, 35, 5):\n",
    "    print(i)"
   ]
  },
  {
   "cell_type": "markdown",
   "metadata": {},
   "source": [
    "Répéter un nombre de fois inconnu\n",
    "---------------------------------\n",
    "\n",
    "Lorsque l'on ne connait pas le nombre de répétitions à effectuer, Python propose la boucle `while`. Voici un exemple typique."
   ]
  },
  {
   "cell_type": "code",
   "execution_count": 11,
   "metadata": {},
   "outputs": [
    {
     "name": "stdout",
     "output_type": "stream",
     "text": [
      "Taper \"oui\" sans les guillemets pour partir. o\n",
      "Taper \"oui\" sans les guillemets pour partir. NON\n",
      "Taper \"oui\" sans les guillemets pour partir. Infernal...\n",
      "Taper \"oui\" sans les guillemets pour partir. Je vais céder !\n",
      "Taper \"oui\" sans les guillemets pour partir. oui\n"
     ]
    }
   ],
   "source": [
    "reponse = \"\"\n",
    "\n",
    "while(reponse != \"oui\"):\n",
    "    reponse = input('Taper \"oui\" sans les guillemets pour partir. ')"
   ]
  },
  {
   "cell_type": "markdown",
   "metadata": {},
   "source": [
    "Indentation, attention danger !\n",
    "-------------------------------\n",
    "\n",
    "L'indentation est importante comme nous allons le voir. Considérons le code suivant où l'utilisation maladroite d'une boucle `while` au lieu d'une boucle `for` sert juste à illustrer notre propos."
   ]
  },
  {
   "cell_type": "code",
   "execution_count": 8,
   "metadata": {},
   "outputs": [
    {
     "name": "stdout",
     "output_type": "stream",
     "text": [
      "1 ; 1\n",
      "2 ; 1\n",
      "3 ; 1\n",
      "4 ; 1\n",
      "1 ; 2\n",
      "2 ; 2\n",
      "3 ; 2\n",
      "4 ; 2\n",
      "1 ; 3\n",
      "2 ; 3\n",
      "3 ; 3\n",
      "4 ; 3\n"
     ]
    }
   ],
   "source": [
    "colonne = 0\n",
    "\n",
    "while(colonne < 3):\n",
    "    colonne = colonne + 1\n",
    "\n",
    "    for ligne in range(1, 5):\n",
    "        print(ligne, \";\", colonne)"
   ]
  },
  {
   "cell_type": "markdown",
   "metadata": {},
   "source": [
    "Bien que le code suivant change juste quelques indentations du code précédent, les résultats affichés sont très différents. "
   ]
  },
  {
   "cell_type": "code",
   "execution_count": 9,
   "metadata": {},
   "outputs": [
    {
     "name": "stdout",
     "output_type": "stream",
     "text": [
      "1 ; 3\n",
      "2 ; 3\n",
      "3 ; 3\n",
      "4 ; 3\n"
     ]
    }
   ],
   "source": [
    "colonne = 0\n",
    "\n",
    "while(colonne < 3):\n",
    "    colonne = colonne + 1\n",
    "\n",
    "for ligne in range(1, 5):\n",
    "    print(ligne, \";\", colonne)"
   ]
  }
 ],
 "metadata": {
  "kernelspec": {
   "display_name": "Python 3",
   "language": "python",
   "name": "python3"
  },
  "language_info": {
   "codemirror_mode": {
    "name": "ipython",
    "version": 3
   },
   "file_extension": ".py",
   "mimetype": "text/x-python",
   "name": "python",
   "nbconvert_exporter": "python",
   "pygments_lexer": "ipython3",
   "version": "3.6.6"
  }
 },
 "nbformat": 4,
 "nbformat_minor": 1
}
