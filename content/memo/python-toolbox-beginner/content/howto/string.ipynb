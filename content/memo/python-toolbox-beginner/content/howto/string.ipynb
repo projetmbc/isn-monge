{
 "cells": [
  {
   "cell_type": "markdown",
   "metadata": {},
   "source": [
    "Textes\n",
    "======\n",
    "\n",
    "Créer une variable contenant du texte\n",
    "-------------------------------------\n",
    "\n",
    "Vous disposez deux types de guillemets simples `'...'` et `\"...\"` pour taper directement dans le code du texte, sans retour à la ligne. Voici deux exemples."
   ]
  },
  {
   "cell_type": "code",
   "execution_count": 10,
   "metadata": {
    "slideshow": {
     "slide_type": "slide"
    }
   },
   "outputs": [
    {
     "name": "stdout",
     "output_type": "stream",
     "text": [
      "Que dire, je ne sais pas !\n",
      "Toujours en manque d'inspiration...\n"
     ]
    }
   ],
   "source": [
    "une_ligne = 'Que dire, je ne sais pas !'\n",
    "une_autre_ligne = \"Toujours en manque d'inspiration...\"\n",
    "\n",
    "print(une_ligne)\n",
    "print(une_autre_ligne)"
   ]
  },
  {
   "cell_type": "markdown",
   "metadata": {},
   "source": [
    "Le code suivant montre que les guillemets simples ne permettent pas de taper directement un texte sur plusieurs lignes."
   ]
  },
  {
   "cell_type": "code",
   "execution_count": 11,
   "metadata": {},
   "outputs": [
    {
     "ename": "SyntaxError",
     "evalue": "EOL while scanning string literal (<ipython-input-11-21d1c80e2827>, line 1)",
     "output_type": "error",
     "traceback": [
      "\u001b[0;36m  File \u001b[0;32m\"<ipython-input-11-21d1c80e2827>\"\u001b[0;36m, line \u001b[0;32m1\u001b[0m\n\u001b[0;31m    interdit = \"Ce qui est tapé\u001b[0m\n\u001b[0m                               ^\u001b[0m\n\u001b[0;31mSyntaxError\u001b[0m\u001b[0;31m:\u001b[0m EOL while scanning string literal\n"
     ]
    }
   ],
   "source": [
    "interdit = \"Ce qui est tapé\n",
    "ici n'est pas autorisé !\""
   ]
  },
  {
   "cell_type": "markdown",
   "metadata": {},
   "source": [
    "Définir du texte avec des retours à la ligne\n",
    "--------------------------------------------\n",
    "\n",
    "Les triples guillemets `'''...'''` et `\"\"\"...\"\"\"` permettent d'écrire du texte contenant des retours à la ligne. "
   ]
  },
  {
   "cell_type": "code",
   "execution_count": 12,
   "metadata": {},
   "outputs": [
    {
     "name": "stdout",
     "output_type": "stream",
     "text": [
      "Ce que j'ai tapé\n",
      "est valide\n",
      "maintenant.\n"
     ]
    }
   ],
   "source": [
    "retours_a_ligne = \"\"\"Ce que j'ai tapé\n",
    "est valide\n",
    "maintenant.\"\"\"\n",
    "\n",
    "print(retours_a_ligne)"
   ]
  },
  {
   "cell_type": "markdown",
   "metadata": {},
   "source": [
    "C'est quoi une chaîne pour Python ?\n",
    "-----------------------------------\n",
    "\n",
    "Les textes sont des instances de la classe `str` pour \"string\" soit \"chaîne\" de caractères. "
   ]
  },
  {
   "cell_type": "code",
   "execution_count": 13,
   "metadata": {},
   "outputs": [
    {
     "name": "stdout",
     "output_type": "stream",
     "text": [
      "<class 'str'>\n"
     ]
    }
   ],
   "source": [
    "print(type(\"Je suis une chaîne de caractères.\"))"
   ]
  },
  {
   "cell_type": "markdown",
   "metadata": {},
   "source": [
    "Accoler différents textes les uns après les autres\n",
    "--------------------------------------------------\n",
    "\n",
    "Pour faire ceci du point de vue de Python, on parle plus techniquement de concaténation de chaînes de caractères, il suffit d'additionner des chaînes."
   ]
  },
  {
   "cell_type": "code",
   "execution_count": 14,
   "metadata": {},
   "outputs": [
    {
     "name": "stdout",
     "output_type": "stream",
     "text": [
      "Je suis lui.\n"
     ]
    }
   ],
   "source": [
    "sujet = \"Je\"\n",
    "verbe = \"suis\"\n",
    "cod   = \"lui\"\n",
    "\n",
    "phrase = sujet + \" \" + verbe + \" \" + cod + \".\"\n",
    "\n",
    "print(phrase)"
   ]
  },
  {
   "cell_type": "markdown",
   "metadata": {},
   "source": [
    "Il existe un racourci pour additionner plusieurs fois de suite la même chaîne de caractères."
   ]
  },
  {
   "cell_type": "code",
   "execution_count": 15,
   "metadata": {},
   "outputs": [
    {
     "name": "stdout",
     "output_type": "stream",
     "text": [
      "drole      : ah\n",
      "tres_drole : ahahah\n",
      "hilarant   : ahahahahahahahahahahahah\n"
     ]
    }
   ],
   "source": [
    "drole      = \"ah\"\n",
    "tres_drole = drole*3   # 3 fois de suite.\n",
    "hilarant   = drole*12  # 12 fois de suite.\n",
    "\n",
    "print(\"drole      :\", drole)\n",
    "print(\"tres_drole :\", tres_drole)\n",
    "print(\"hilarant   :\", hilarant)"
   ]
  },
  {
   "cell_type": "markdown",
   "metadata": {},
   "source": [
    "Extraire une lettre d'un texte\n",
    "------------------------------\n",
    "\n",
    "Tout se fait assez naturellement dès lors que l'on sait qu'un premier caractère aura la position $0$ et non $1$."
   ]
  },
  {
   "cell_type": "code",
   "execution_count": 16,
   "metadata": {},
   "outputs": [
    {
     "name": "stdout",
     "output_type": "stream",
     "text": [
      "premiere_lettre       : a\n",
      "troisieme_lettre      : c\n",
      "derniere_lettre       : z\n",
      "antepenultieme_lettre : x\n"
     ]
    }
   ],
   "source": [
    "alphabet = \"abcdefghijklmnopqrstuvwxyz\"\n",
    "\n",
    "# Les crochets permettent d'indiquer une position.\n",
    "premiere_lettre  = alphabet[0]\n",
    "troisieme_lettre = alphabet[2]\n",
    "\n",
    "# Une valeur négative peut-être utilisée pour partir\n",
    "# de la fin, la dernière lettre ayant le numéro (-1).\n",
    "derniere_lettre       = alphabet[-1]\n",
    "antepenultieme_lettre = alphabet[-3]\n",
    "\n",
    "# Vérifications\n",
    "print(\"premiere_lettre       :\", premiere_lettre)\n",
    "print(\"troisieme_lettre      :\", troisieme_lettre)\n",
    "\n",
    "print(\"derniere_lettre       :\", derniere_lettre)\n",
    "print(\"antepenultieme_lettre :\", antepenultieme_lettre)"
   ]
  },
  {
   "cell_type": "markdown",
   "metadata": {},
   "source": [
    "Extraire un groupe de lettres d'un texte\n",
    "----------------------------------------\n",
    "\n",
    "De nouveau, on va utiliser des crochets."
   ]
  },
  {
   "cell_type": "code",
   "execution_count": 17,
   "metadata": {},
   "outputs": [
    {
     "name": "stdout",
     "output_type": "stream",
     "text": [
      "les_lettres_vant_le_E        : abcd\n",
      "les_trois_lettres_apres_le_D : efg\n",
      "les_lettres_apres_le_G       : hijklmnopqrstuvwxyz\n"
     ]
    }
   ],
   "source": [
    "alphabet = \"abcdefghijklmnopqrstuvwxyz\"\n",
    "\n",
    "# Ci-dessous, dans `[4:7]` on peut être étonné de voir `7`\n",
    "# et non `6`. Nous allons voir que ceci n'est pas qu'une\n",
    "# simple convention. \n",
    "les_trois_lettres_apres_le_D = alphabet[4:7]\n",
    "\n",
    "# Ci-après, l'absence d'un second entier dans `[7:]` indique\n",
    "# d'aller jusqu'à la fin de la chaîne de caractères. \n",
    "les_lettres_apres_le_G = alphabet[7:]\n",
    "\n",
    "# On peut utiliser une convention analogue à la précédente en\n",
    "# omettant le premier entier pour partir du tout début de la\n",
    "# chaîne de caractères.\n",
    "les_lettres_avant_le_E = alphabet[:4]\n",
    "\n",
    "# Vérifications\n",
    "print(\"les_lettres_vant_le_E        :\", les_lettres_avant_le_E)\n",
    "print(\"les_trois_lettres_apres_le_D :\", les_trois_lettres_apres_le_D)\n",
    "print(\"les_lettres_apres_le_G       :\", les_lettres_apres_le_G)"
   ]
  },
  {
   "cell_type": "markdown",
   "metadata": {},
   "source": [
    "Modifier un texte caractère par caractère\n",
    "-----------------------------------------\n",
    "\n",
    "**Il est impossible de modifier directement un caractère** d'une chaine de caractères comme le montre l'exemple ci-dessous."
   ]
  },
  {
   "cell_type": "code",
   "execution_count": 18,
   "metadata": {},
   "outputs": [
    {
     "ename": "TypeError",
     "evalue": "'str' object does not support item assignment",
     "output_type": "error",
     "traceback": [
      "\u001b[0;31m---------------------------------------------------------------------------\u001b[0m",
      "\u001b[0;31mTypeError\u001b[0m                                 Traceback (most recent call last)",
      "\u001b[0;32m<ipython-input-18-a24373db672e>\u001b[0m in \u001b[0;36m<module>\u001b[0;34m()\u001b[0m\n\u001b[1;32m      1\u001b[0m \u001b[0mtexte\u001b[0m \u001b[0;34m=\u001b[0m \u001b[0;34m\"Testons l'impossible...\"\u001b[0m\u001b[0;34m\u001b[0m\u001b[0m\n\u001b[1;32m      2\u001b[0m \u001b[0;34m\u001b[0m\u001b[0m\n\u001b[0;32m----> 3\u001b[0;31m \u001b[0mtexte\u001b[0m\u001b[0;34m[\u001b[0m\u001b[0;36m0\u001b[0m\u001b[0;34m]\u001b[0m \u001b[0;34m=\u001b[0m \u001b[0;34m\"Z\"\u001b[0m\u001b[0;34m\u001b[0m\u001b[0m\n\u001b[0m\u001b[1;32m      4\u001b[0m \u001b[0mprint\u001b[0m\u001b[0;34m(\u001b[0m\u001b[0mtexte\u001b[0m\u001b[0;34m)\u001b[0m\u001b[0;34m\u001b[0m\u001b[0m\n",
      "\u001b[0;31mTypeError\u001b[0m: 'str' object does not support item assignment"
     ]
    }
   ],
   "source": [
    "texte = \"Testons l'impossible...\"\n",
    "\n",
    "texte[0] = \"Z\"\n",
    "print(texte)"
   ]
  },
  {
   "cell_type": "markdown",
   "metadata": {},
   "source": [
    "Pour changer la première lettre de notre texte, il va falloir procéder d'une façon analogue à la suivante. "
   ]
  },
  {
   "cell_type": "code",
   "execution_count": 19,
   "metadata": {},
   "outputs": [
    {
     "name": "stdout",
     "output_type": "stream",
     "text": [
      "Zestons l'impossible...\n"
     ]
    }
   ],
   "source": [
    "texte = \"Testons l'impossible...\"\n",
    "\n",
    "texte = \"Z\" + texte[1:]\n",
    "print(texte)"
   ]
  },
  {
   "cell_type": "markdown",
   "metadata": {},
   "source": [
    "Remplacer du texte\n",
    "------------------\n",
    "\n",
    "Voici deux exemples de remplacements effectués partout dans un texte. Notez que l'on peut changer des morceaux de texte en d'autres sans le faire lettre par lettre, et aussi que le texte initial n'a pas été modifié."
   ]
  },
  {
   "cell_type": "code",
   "execution_count": 1,
   "metadata": {},
   "outputs": [
    {
     "name": "stdout",
     "output_type": "stream",
     "text": [
      "texte          = zozo et tata sont sympas\n",
      "texte_a_en_i   = zozo et titi sont sympis\n",
      "texte_ta_en_ri = zozo et riri sont sympas\n"
     ]
    }
   ],
   "source": [
    "texte = \"zozo et tata sont sympas\"\n",
    "\n",
    "texte_a_en_i   = texte.replace(\"a\", \"i\")\n",
    "texte_ta_en_ri = texte.replace(\"ta\", \"ri\")\n",
    "\n",
    "print(\"texte          =\", texte)\n",
    "print(\"texte_a_en_i   =\", texte_a_en_i)\n",
    "print(\"texte_ta_en_ri =\", texte_ta_en_ri)"
   ]
  },
  {
   "cell_type": "markdown",
   "metadata": {},
   "source": [
    "Nettoyer ces espaces que je ne saurais voir\n",
    "-------------------------------------------\n",
    "\n",
    "Les textes sont des instances de la classe `str` qui possède une méthode `strip` qui permet de retirer les espaces et les tabulations qui sont au tout début ou tout à la fin d'un texte. Le code suivant montre un exemple concret d'utilisation. Notez au passage que le texte initial n'a pas été modifié."
   ]
  },
  {
   "cell_type": "code",
   "execution_count": 21,
   "metadata": {},
   "outputs": [
    {
     "name": "stdout",
     "output_type": "stream",
     "text": [
      "reponse         : >>  Prénom NOM    <<\n",
      "reponse_nettoye : >>Prénom NOM<<\n"
     ]
    }
   ],
   "source": [
    "reponse = \"  Prénom NOM    \"\n",
    "\n",
    "reponse_nettoye = reponse.strip()\n",
    "\n",
    "# Nous modifions le paramètre `sep` de la fonction\n",
    "# `print` qui par défaut vaut un espace.\n",
    "print(\"reponse         : >>\", reponse, \"<<\", sep = \"\")\n",
    "print(\"reponse_nettoye : >>\", reponse_nettoye, \"<<\", sep = \"\")"
   ]
  },
  {
   "cell_type": "markdown",
   "metadata": {},
   "source": [
    "Un texte (en) capitale(s)\n",
    "-------------------------\n",
    "\n",
    "Les textes sont des instances de la classe `str` qui possède deux méthodes `upper` et `lower` pour mettre respectivement un texte tout en majuscule ou tout en minuscule. Le code ci-dessous explique comment les utiliser. Notez au passage que le texte initial n'a pas été modifié."
   ]
  },
  {
   "cell_type": "code",
   "execution_count": 22,
   "metadata": {},
   "outputs": [
    {
     "name": "stdout",
     "output_type": "stream",
     "text": [
      "texte            : Un texte capitale ou minuscule ? Bien testé ?\n",
      "texte_majuscules : UN TEXTE CAPITALE OU MINUSCULE ? BIEN TESTÉ ?\n",
      "texte_minuscules : un texte capitale ou minuscule ? bien testé ?\n"
     ]
    }
   ],
   "source": [
    "texte = \"Un texte capitale ou minuscule ? Bien testé ?\"\n",
    "\n",
    "texte_majuscules = texte.upper()\n",
    "texte_minuscules = texte.lower()\n",
    "\n",
    "print(\"texte            :\", texte)\n",
    "print(\"texte_majuscules :\", texte_majuscules)\n",
    "print(\"texte_minuscules :\", texte_minuscules)"
   ]
  },
  {
   "cell_type": "markdown",
   "metadata": {},
   "source": [
    "Longueur d'un texte\n",
    "-------------------\n",
    "\n",
    "Le mot \"longueur\" se traduit en \"len\" en anglais. Une fois ceci connu, le code suivant peut se \"deviner\"."
   ]
  },
  {
   "cell_type": "code",
   "execution_count": 23,
   "metadata": {},
   "outputs": [
    {
     "name": "stdout",
     "output_type": "stream",
     "text": [
      "10\n"
     ]
    }
   ],
   "source": [
    "texte = \"1234567890\"\n",
    "\n",
    "print(len(texte))"
   ]
  }
 ],
 "metadata": {
  "kernelspec": {
   "display_name": "Python 3",
   "language": "python",
   "name": "python3"
  },
  "language_info": {
   "codemirror_mode": {
    "name": "ipython",
    "version": 3
   },
   "file_extension": ".py",
   "mimetype": "text/x-python",
   "name": "python",
   "nbconvert_exporter": "python",
   "pygments_lexer": "ipython3",
   "version": "3.6.6"
  }
 },
 "nbformat": 4,
 "nbformat_minor": 1
}
