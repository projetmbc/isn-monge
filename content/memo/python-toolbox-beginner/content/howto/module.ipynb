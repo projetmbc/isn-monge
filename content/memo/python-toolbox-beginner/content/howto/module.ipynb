{
 "metadata": {
  "kernelspec": {
   "display_name": "Python 3",
   "language": "python",
   "name": "python3"
  },
  "language_info": {
   "codemirror_mode": {
    "name": "ipython",
    "version": 3
   },
   "file_extension": ".py",
   "mimetype": "text/x-python",
   "name": "python",
   "nbconvert_exporter": "python",
   "pygments_lexer": "ipython3",
   "version": "3.4.3"
  },
  "name": "",
  "signature": "sha256:1910644647c61cbbe5ba48e9d51e6bd6366923c4844e9a17c329710d8931e2aa"
 },
 "nbformat": 3,
 "nbformat_minor": 0,
 "worksheets": [
  {
   "cells": [
    {
     "cell_type": "markdown",
     "metadata": {},
     "source": [
      "Python 3 - Travailler avec des ensembles d'objets\n",
      "==========\n"
     ]
    }
   ],
   "metadata": {}
  }
 ]
}