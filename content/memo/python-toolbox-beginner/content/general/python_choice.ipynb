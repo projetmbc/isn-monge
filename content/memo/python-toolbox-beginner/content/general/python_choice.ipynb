{
 "cells": [
  {
   "cell_type": "markdown",
   "metadata": {
    "collapsed": true
   },
   "source": [
    "Le choix de Python\n",
    "==================\n",
    "\n",
    "Voici des avantages qui peuvent justifier le choix de Python comme langage de programmation.\n",
    "\n",
    "1. Le nombre de mots clés de base du langage est limité et la syntaxe très économe. Les instructions se rédigent dans un lanage proche du nôtre.\n",
    "\n",
    "1. La structuration visuelle du code fait partie des régles de rédaction d'un code *(ceci améliore la lisibilité)*.\n",
    "\n",
    "1. On peut utiliser des codes Python sous Linux, Mac OS et Windows sans avoir à utiliser un processus \"complexe\" de compilation. Par contre, ceci demande d'installer initialement un interpréteur, mais cette installation reste simple à faire.\n",
    "\n",
    "1. Les variables utilisées n'ont pas besoin d'être typées par le programmeur. C'est un peu comme en mathématique quand dans un même devoir la lettre $F$ peut dans un exercice indiquer un point, puis dans un autre une primitive.\n",
    "\n",
    "1. Python se charge des problèmes de gestion de la mémoire en libérant tout ce qui n'est plus utile *(ceci implique que l'on peut faire des choses très lentes si l'on utilise mal Python mais ceci ne veut pas dire qu'au contraire on ne puisse pas faire des choses très rapidement)*.\n",
    "\n",
    "1. Un nombre important de bibliothèques permettent de palier aux manques intrinsèques de rapidité du langage Python *(l'usage de ces bibiothèques n'empêchent pas d'avoir à réfléchir pour élaborer des codes)*.\n",
    "\n",
    "1. On a le choix de la technique de programmation. Si l'on veut faire de la programmation orientée objet, pas de souci. Si l'on veut n'utiliser que des fonctions pour faire de la programmation itérative à la sauce C, c'est aussi possible. On peut même mélanger les deux types d'approche. Il est aussi possible d'adapter à Python certaines techniques de programmation propres aux langages dits fonctionnels comme OCaml."
   ]
  }
 ],
 "metadata": {
  "kernelspec": {
   "display_name": "Python 3",
   "language": "python",
   "name": "python3"
  },
  "language_info": {
   "codemirror_mode": {
    "name": "ipython",
    "version": 3
   },
   "file_extension": ".py",
   "mimetype": "text/x-python",
   "name": "python",
   "nbconvert_exporter": "python",
   "pygments_lexer": "ipython3",
   "version": "3.4.3"
  }
 },
 "nbformat": 4,
 "nbformat_minor": 0
}
