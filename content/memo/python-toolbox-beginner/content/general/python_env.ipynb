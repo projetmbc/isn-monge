{
 "cells": [
  {
   "cell_type": "markdown",
   "metadata": {},
   "source": [
    "Installer Python 3\n",
    "==================\n",
    "\n",
    "WinPython\n",
    "----\n",
    "\n",
    "Les contraintes matérielles liées aux réseaux dans nos lycées font que l'usage de [WinPython](http://www.pyzo.org/) semble le choix le plus simple *(Anaconda aurait été un choix intéressant pour des ordinateurs Linux en réseau)*.\n",
    "WinPython propose un environnement capable d'interpréter les programmes écrits en Python en utilisant éventuellement un ensemble de bibliothèques intéressantes proposées par défaut.\n",
    "WinPython s'accompagne de Spyder un éditeur de codes très moyen, et aussi de Jupyter qui permet de rédiger efficacement des documents \"interactifs\" contenant des codes Python."
   ]
  },
  {
   "cell_type": "markdown",
   "metadata": {},
   "source": [
    "Jupyter\n",
    "-------\n",
    "\n",
    "Le document que vous lisez permet dans sa version pour navigateur de proposer des documents modifiables contenant des codes comme dans l'exemple suivant."
   ]
  },
  {
   "cell_type": "code",
   "execution_count": 2,
   "metadata": {},
   "outputs": [
    {
     "name": "stdout",
     "output_type": "stream",
     "text": [
      "Mon nom : Personne\n"
     ]
    }
   ],
   "source": [
    "# Quand IPython est lancé en tant qu'application web locale dans\n",
    "# un navigateur web, on peut changer les lignes de codes suivantes,\n",
    "# comme par exemple le texte entre les guillemets, puis en cliquant\n",
    "# sur le triangle \"Play\" en haut de la page, ou bien en utilisant\n",
    "# le raccourci clavier CTRL + ENTREE, on peut constater l'effet\n",
    "# des modifications apportées.\n",
    "mon_nom = \"Personne\"\n",
    "\n",
    "print(\"Mon nom :\", mon_nom)"
   ]
  }
 ],
 "metadata": {
  "kernelspec": {
   "display_name": "Python 3",
   "language": "python",
   "name": "python3"
  },
  "language_info": {
   "codemirror_mode": {
    "name": "ipython",
    "version": 3
   },
   "file_extension": ".py",
   "mimetype": "text/x-python",
   "name": "python",
   "nbconvert_exporter": "python",
   "pygments_lexer": "ipython3",
   "version": "3.6.6"
  }
 },
 "nbformat": 4,
 "nbformat_minor": 1
}
