{
 "cells": [
  {
   "cell_type": "markdown",
   "metadata": {},
   "source": [
    "Programmer, c'est quoi ?\n",
    "========================\n",
    "\n",
    "La programmation sert à résoudre des problèmes utiles ou non, concrets ou asbtraits, en s'appuyant sur un langage plus ou moins simple qui fera appel aux capacités de calcul d'un ordinateur tel qu'un ordinateur portable, un smartphone ou aussi par exemple aux fonctionnalités d'un Raspberry. Suivant les problèmes à résoudre, on pourra s'orienter vers différents langages. Voici des exemples possibles d'utilisation.\n",
    "\n",
    "1. Vous souhaitez gérer au mieux la mémoire pour de l'électronique embarquée, un langage comme le C devrait vous rendre de grand service.\n",
    "\n",
    "1. Votre problème à résoudre n'utilise pas de grosses données volumineuses, ou bien vous n'avez pas de restriction quant à l'utilisation de bibliothèques tierces programmées par d'autres, Python pourrait vous rendre très productif.\n",
    "\n",
    "1. Envie de mettre en page des rapports de façon automatisée, intéressez vous au langage HTML, ou bien à LaTeX.\n",
    "\n",
    "1. Vous devez partir à l'assaut de données structurées ou non, dans ce cas, les langages de type SQL ou ceux de la famille des NoSQL seront là pour vous servir.\n",
    "\n",
    "1. ... etc.\n",
    "\n",
    "Dans les exemples précédents, les langages HTML, SQL et NoSQL ont ceci de notables qu'ils ne permettent pas de faire des calculs comme par exemple le calcul du PGCD de deux naturels. Tous les autres le peuvent !"
   ]
  }
 ],
 "metadata": {
  "kernelspec": {
   "display_name": "Python 3",
   "language": "python",
   "name": "python3"
  },
  "language_info": {
   "codemirror_mode": {
    "name": "ipython",
    "version": 3
   },
   "file_extension": ".py",
   "mimetype": "text/x-python",
   "name": "python",
   "nbconvert_exporter": "python",
   "pygments_lexer": "ipython3",
   "version": "3.4.3"
  }
 },
 "nbformat": 4,
 "nbformat_minor": 0
}
