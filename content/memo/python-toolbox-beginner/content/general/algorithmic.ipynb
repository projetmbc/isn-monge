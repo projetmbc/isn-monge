{
 "cells": [
  {
   "cell_type": "markdown",
   "metadata": {},
   "source": [
    "Utilisez des algorithmes !\n",
    "==========================\n",
    "\n",
    "Même si ceci peut se faire uniquement mentalement, programmer demande une grande organisation. Un outil très utile est la notion d'algorithme. Par exemple, je souhaite afficher trois nombres réels connus `a`, `b` et `c` du plus petit au plus grand. Je peux opter pour la tactique suivante écrite sous forme d'un algorithme utilisant un langage naturel où les lignes commençant par `#` sont des commentaires *(cette tactique n'est pas optimale mais peu importe)*."
   ]
  },
  {
   "cell_type": "raw",
   "metadata": {},
   "source": [
    "# On se débrouille pour avoir b <= c.\n",
    "Si c < b alors échanger les valeurs de b et c.\n",
    "\n",
    "# On est certain que b <= c à ce stade. Il reste\n",
    "# juste à mettre a au bon endroit.\n",
    "\n",
    "# Cas 1: a < b . On n'a rien à faire.\n",
    "\n",
    "# Cas 2: b <= a <= c\n",
    "Si b <= a <= c alors échanger les valeurs de a et b.\n",
    "\n",
    "# Cas 3: a > c\n",
    "Si a > c, autrement dit b <= c < a, alors procéder\n",
    "comme suit.\n",
    "    + a prend l'ancienne valeur de b.\n",
    "    + b prend l'ancienne valeur de c.\n",
    "    + c prend l'ancienne valeur de a.\n",
    "\n",
    "# Fin du travail\n",
    "Afficher a, b et c dans cet ordre."
   ]
  },
  {
   "cell_type": "markdown",
   "metadata": {},
   "source": [
    "Ceci se traduit assez directement en Python comme suit à coçndition de disposer d'un \"dictionnaire\" permettant une traduction dans le langage Python. Les sections suivantes vous aideront à faire vos propres traductions."
   ]
  },
  {
   "cell_type": "code",
   "execution_count": 3,
   "metadata": {},
   "outputs": [
    {
     "name": "stdout",
     "output_type": "stream",
     "text": [
      "1 <= 2 <= 3\n"
     ]
    }
   ],
   "source": [
    "a = 2\n",
    "b = 1\n",
    "c = 3\n",
    "\n",
    "# On se débrouille pour avoir b <= c.\n",
    "if c < b:\n",
    "    b, c = c, b\n",
    "\n",
    "# On est certain que b <= c à ce stade. Il reste\n",
    "# juste à mettre a au bon endroit.\n",
    "\n",
    "# Cas 1: a <= b . On n'a rien à faire.\n",
    "\n",
    "# Cas 2: b <= a <= c\n",
    "if b <= a <= c:\n",
    "    a, b = b, a\n",
    "\n",
    "# Cas 3: a > c\n",
    "if a > c:\n",
    "    a, b, c = b, c, a\n",
    "\n",
    "# Fin du travail\n",
    "print(a, \"<=\", b, \"<=\", c)"
   ]
  },
  {
   "cell_type": "markdown",
   "metadata": {},
   "source": [
    "**Important !** Il ne faut jamais négliger la phase de réflexion avant de programmer. Ce ne sera jamais une perte de temps que d'organiser ses pensées avant de taper des lignes de code. "
   ]
  }
 ],
 "metadata": {
  "kernelspec": {
   "display_name": "Python 3",
   "language": "python",
   "name": "python3"
  },
  "language_info": {
   "codemirror_mode": {
    "name": "ipython",
    "version": 3
   },
   "file_extension": ".py",
   "mimetype": "text/x-python",
   "name": "python",
   "nbconvert_exporter": "python",
   "pygments_lexer": "ipython3",
   "version": "3.6.6"
  }
 },
 "nbformat": 4,
 "nbformat_minor": 1
}
