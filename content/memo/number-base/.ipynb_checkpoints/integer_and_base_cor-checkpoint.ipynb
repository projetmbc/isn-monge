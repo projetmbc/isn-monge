{
 "cells": [
  {
   "cell_type": "markdown",
   "metadata": {},
   "source": [
    "Écritures décimale, binaire et hexadécimale d'un naturel - Des solutions possibles\n",
    "--------------------------------------------------------------------\n",
    "\n",
    "### Convention utilisée\n",
    "\n",
    "Lorsque l'on écrira $12\\,\\,345$, ceci sous-entendra $[12345]_{10}$. Nous utiliserons uniquement ceci lors des détails des calculs.\n",
    "\n",
    "\n",
    "\n",
    "### Exercice 1\n",
    "\n",
    "La représentation en base 10 du nombre $[10110]_2$ s'obtient comme suit en commençant par la droite pour aller de la plus petite puissance à la plus grande. \n",
    "\n",
    "$[10110]_2 = 2^1 + 2^2 + 2^4$\n",
    "\n",
    "$\\phantom{[10110]_2} = [22]_{10}$\n",
    "\n",
    "Vérifions à l'aide de Python."
   ]
  },
  {
   "cell_type": "code",
   "execution_count": 61,
   "metadata": {},
   "outputs": [
    {
     "name": "stdout",
     "output_type": "stream",
     "text": [
      "22\n"
     ]
    }
   ],
   "source": [
    "print(int(\"0b10110\", 2))"
   ]
  },
  {
   "cell_type": "markdown",
   "metadata": {},
   "source": [
    "### Exercice 2\n",
    "\n",
    "Pour trouver la représentation en base 10 du nombre $[75b3]_{16}$, on effectue les calculs directs suivants en commençant par la droite pour aller de la plus petite puissance à la plus grande *(le calcul de la somme a été fait ci-après par Python)*.\n",
    "\n",
    "$[75b3]_{16} = 3 \\times 16^0 + 11 \\times 16^1 + 5 \\times 16^2 + 7 \\times 16^3$\n",
    "\n",
    "$\\phantom{[75b3]_{16}} = [30131]_{10}$"
   ]
  },
  {
   "cell_type": "code",
   "execution_count": 62,
   "metadata": {},
   "outputs": [
    {
     "name": "stdout",
     "output_type": "stream",
     "text": [
      "30131\n"
     ]
    }
   ],
   "source": [
    "print(3 + 11*16 + 5*16**2 + 7*16**3)"
   ]
  },
  {
   "cell_type": "markdown",
   "metadata": {},
   "source": [
    "Vérifions à l'aide de Python sans raisonnement de notre part. Nous ne devons pas oublier le préfixe `0x` pour indiquer à Python que nous utilisons une écriture en base hexadécimale."
   ]
  },
  {
   "cell_type": "code",
   "execution_count": 70,
   "metadata": {},
   "outputs": [
    {
     "name": "stdout",
     "output_type": "stream",
     "text": [
      "30131\n"
     ]
    }
   ],
   "source": [
    "print(int(\"0x75b3\", 16))"
   ]
  },
  {
   "cell_type": "markdown",
   "metadata": {},
   "source": [
    "### Exercice 3\n",
    "\n",
    "Deux méthodes sont possibles pour déterminer l'écriture binaire du nombre $[77]_{10}$ .\n",
    "\n",
    "\n",
    "#### Via des divisions successives par deux\n",
    "\n",
    "<center style=\"padding-top: 1em;\">\n",
    "    <img src=\"exercise_77_base_2.png\" style=\"width:22%\u001c",
    "; height:22%;\">\n",
    "</center>\n",
    "\n",
    "Nous obtenons donc : $[77]_{10} = [1001101]_2$.\n",
    "\n",
    "\n",
    "#### Via une table de puissances de deux\n",
    "\n",
    "Rappelons que nous avons :\n",
    "\n",
    "| $n$   | 0 | 1 | 2 | 3 | 4  | 5  | 6  |\n",
    "| ----- | - | - | - | - | -- | -- | -- |\n",
    "| $2^n$ | 1 | 2 | 4 | 8 | 16 | 32 | 64 |\n",
    "\n",
    "Ceci nous permet d'écrire :\n",
    "\n",
    "$[77]_{10} = 64 + 8 + 4 + 1$\n",
    "\n",
    "$\\phantom{[77]_{10}} = 2^6 + 2^3 + 2^2 + 2^0$\n",
    "\n",
    "$\\phantom{[77]_{10}} = [1001101]_2$"
   ]
  },
  {
   "cell_type": "markdown",
   "metadata": {},
   "source": [
    "Vérifions à l'aide de Python en n'oubliant pas que le préfixe `0b` de la chaîne de caractères `\"0b1001101\"` indique que l'on a une écriture binaire."
   ]
  },
  {
   "cell_type": "code",
   "execution_count": 64,
   "metadata": {},
   "outputs": [
    {
     "name": "stdout",
     "output_type": "stream",
     "text": [
      "0b1001101\n"
     ]
    }
   ],
   "source": [
    "print(bin(77))"
   ]
  },
  {
   "cell_type": "markdown",
   "metadata": {},
   "source": [
    "### Exercice 4\n",
    "\n",
    "Pour obtenir la représentation en base 16 du nombre $[1001101]_{2}$, nous faisons des groupes de quatre chiffres.\n",
    "\n",
    "| Groupe binaire      | 100  | 1101 |\n",
    "| ------------------- | ---- | ---- |\n",
    "| Valeur décimale     | 4    | 13   |\n",
    "| Valeur héxadécimale | 4    | d    |\n",
    "\n",
    "Nous avons rapidement $[1001101]_{2} = [4d]_{16}$."
   ]
  },
  {
   "cell_type": "markdown",
   "metadata": {},
   "source": [
    "Vérifions à l'aide de Python. On doit passer par l'écriture en base $10$. On doit se souvenir que le préfixe `0x` de la chaîne de caractères `\"0x4d\"` indique que l'on a une écriture hexadécimale."
   ]
  },
  {
   "cell_type": "code",
   "execution_count": 65,
   "metadata": {},
   "outputs": [
    {
     "name": "stdout",
     "output_type": "stream",
     "text": [
      "0x4d\n"
     ]
    }
   ],
   "source": [
    "nb_base_10 = int(\"0b1001101\", 2)\n",
    "\n",
    "print(hex(nb_base_10))"
   ]
  },
  {
   "cell_type": "markdown",
   "metadata": {},
   "source": [
    "### Exercice 5\n",
    "\n",
    "Pour obtenir l'écriture hexadécimale du nombre $[3199]_{10}$, une méthode rapide à la main consiste à obtenir d'abord son écriture en base $2$ via les premières puissances de $2$ ci-dessous.\n",
    "\n",
    "| $n$   | 0 | 1 | 2 | 3 | 4  | 5  | 6  | 7   | 8   | 9   | 10   | 11   |\n",
    "| ----- | - | - | - | - | -- | -- | -- | --- | --- | --- | ---- | ---- |\n",
    "| $2^n$ | 1 | 2 | 4 | 8 | 16 | 32 | 64 | 128 | 256 | 512 | 1024 | 2048 |\n",
    "\n",
    "Nous avons alors :\n",
    "\n",
    "$[3199]_{10} = 2048 + 1151$\n",
    "\n",
    "$\\phantom{[3199]_{10}} = 2048 + 1024 + 127$\n",
    "\n",
    "$\\phantom{[3199]_{10}} = 2048 + 1024 + 128 - 1$ \n",
    "\n",
    "$\\phantom{[3199]_{10}} = 2^{11} + 2^{10} + 2^6 + 2^5 + 2^4 + 2^3 + 2^2 + 2^1 + 2^0$\n",
    "\n",
    "$\\phantom{[3199]_{10}} = [1100\\,\\,0111\\,\\,1111]_2$\n",
    "\n",
    "La représentation en base 16 du nombre $[1100\\,\\,0111\\,\\,1111]_{2}$ s'obtient à l'aide de groupements de quatre chiffres.\n",
    "\n",
    "| Groupe binaire      | 1100 | 0111 | 1111 |\n",
    "| ------------------- | ---- | ---- | ---- |\n",
    "| Valeur décimale     | 12   | 7    | 15   |\n",
    "| Valeur héxadécimale | c    | 7    | f    |\n",
    "\n",
    "Nous avons finalement $[3199]_{10} = [c7f]_{16}$."
   ]
  },
  {
   "cell_type": "markdown",
   "metadata": {},
   "source": [
    "Vérifions à l'aide de Python en n'oubliant pas que le préfixe `0x` de la chaîne de caractères `\"0xc7f\"` indique que l'on a une écriture hexadécimale."
   ]
  },
  {
   "cell_type": "code",
   "execution_count": 66,
   "metadata": {},
   "outputs": [
    {
     "name": "stdout",
     "output_type": "stream",
     "text": [
      "0xc7f\n"
     ]
    }
   ],
   "source": [
    "print(hex(3199))"
   ]
  },
  {
   "cell_type": "markdown",
   "metadata": {},
   "source": [
    "**Remarque :** tout comme le nombre décimal $127$, les nombres décimaux $1$, $3$, $7$, $15$, $31$, $63$, ... et plus généralement les nombres décimaux du type $2^n - 1$ avec $n \\in \\mathbb{N}$ ont des écritures binaires ne contenant que des $1$.\n",
    "\n",
    "Par exemple, $[15]_{10} = 1 + 2 + 4 + 8 = [11111]_2$ , ou en posant une soustraction binaire $[15]_{10} = 2^4 - 1 = [10000]_2 - [1]_2 = [11111]_2$.\n",
    "\n",
    "Pour le cas général avec $n \\in \\mathbb{N}^\\star$, le cours de mathématiques sur la sommation des termes de puissances successives nous donne $\\displaystyle \\sum_{k=0}^{n - 1} 2^k = 2^0 + 2^1 + 2^2 + \\cdots + 2^{n - 1} = \\frac{2^n - 1}{2 - 1}$, d'où $\\displaystyle 2^n - 1 = \\sum_{k=0}^{n - 1} 2^k$. Ceci montre que l'écriture binaire de $2^n - 1$ est faite d'exactement $n$ chiffres $1$."
   ]
  },
  {
   "cell_type": "markdown",
   "metadata": {},
   "source": [
    "### Exercice 6\n",
    "\n",
    "Un système de notation pour des nombres en base $36$ peut s'obtenir en \"prolongeant\" le système hexadécimale, c'est à dire en associant une lettre à chaque chiffre plus grand que $10$ *(le tableau suivant a été obtenu via un script caché dans le code Markdown de cette cellule : double cliquer pour voir apparaître un commentaire HTML contenant un code que vous pourrez copier-coller dans une cellule Python afin de l'exécuter)*.\n",
    "\n",
    "<!--\n",
    "line_1 = []\n",
    "hrule  = [\"--\"]*36 \n",
    "line_2 = []\n",
    "\n",
    "for i in range(36):\n",
    "    if i < 10:\n",
    "        code = str(i)\n",
    "    \n",
    "    else:\n",
    "        # https://fr.wikipedia.org/wiki/American_Standard_Code_for_Information_Interchange#Les_standards_ASCII\n",
    "        code = chr(97 + i - 10)\n",
    "        \n",
    "    code += \" \"   \n",
    "\n",
    "    nb = str(i)\n",
    "        \n",
    "    if len(nb) == 1:\n",
    "        nb += \" \"\n",
    "        \n",
    "    line_1.append(nb)\n",
    "    line_2.append(code)\n",
    "\n",
    "line_1 = \"| {0} |\".format(\" | \".join(line_1)) \n",
    "line_2 = \"| {0} |\".format(\" | \".join(line_2)) \n",
    "\n",
    "hrule = \"| {0} |\".format(\" | \".join(hrule)) \n",
    "\n",
    "print(\n",
    "    line_1,\n",
    "    hrule,\n",
    "    line_2,\n",
    "    sep = \"\\n\"\n",
    ")    \n",
    "-->\n",
    "\n",
    "\n",
    "| 0  | 1  | 2  | 3  | 4  | 5  | 6  | 7  | 8  | 9  | 10 | 11 | 12 | 13 | 14 | 15 | 16 | 17 | 18 | 19 | 20 | 21 | 22 | 23 | 24 | 25 | 26 | 27 | 28 | 29 | 30 | 31 | 32 | 33 | 34 | 35 |\n",
    "| -- | -- | -- | -- | -- | -- | -- | -- | -- | -- | -- | -- | -- | -- | -- | -- | -- | -- | -- | -- | -- | -- | -- | -- | -- | -- | -- | -- | -- | -- | -- | -- | -- | -- | -- | -- |\n",
    "| 0  | 1  | 2  | 3  | 4  | 5  | 6  | 7  | 8  | 9  | a  | b  | c  | d  | e  | f  | g  | h  | i  | j  | k  | l  | m  | n  | o  | p  | q  | r  | s  | t  | u  | v  | w  | x  | y  | z  |\n",
    "\n",
    "\n",
    "Les quotients et les restes des divisions euclidiennes par $36$ ont été calculés par Python dans la cellule suivante.\n",
    "\n",
    "$[1652100]_{10} = 35 \\times 36^3 + 14 \\times 36^2 + 27 \\times 36^1 + 24 \\times 36^0$\n",
    "\n",
    "$\\phantom{[1652100]_{10}} = [zero]_{36}$"
   ]
  },
  {
   "cell_type": "code",
   "execution_count": 67,
   "metadata": {},
   "outputs": [
    {
     "name": "stdout",
     "output_type": "stream",
     "text": [
      "Quotient de 1652100 divisé par 36 : 45891\n",
      "Reste de 1652100 divisé par 36    : 24\n",
      "---\n",
      "Quotient de 45891 divisé par 36 : 1274\n",
      "Reste de 45891 divisé par 36    : 27\n",
      "---\n",
      "Quotient de 1274 divisé par 36 : 35\n",
      "Reste de 1274 divisé par 36    : 14\n",
      "---\n"
     ]
    }
   ],
   "source": [
    "for n in [1652100, 45891, 1274]: # Nbres ajoutés au fur et à mesure...\n",
    "    print(\"Quotient de\", n, \"divisé par 36 :\", n // 36)\n",
    "    print(\"Reste de\", n, \"divisé par 36    :\", n % 36)\n",
    "    print('---')"
   ]
  },
  {
   "cell_type": "markdown",
   "metadata": {},
   "source": [
    "Nous pouvons utiliser Python pour vérifier sans effort notre réponse."
   ]
  },
  {
   "cell_type": "code",
   "execution_count": 68,
   "metadata": {},
   "outputs": [
    {
     "name": "stdout",
     "output_type": "stream",
     "text": [
      "1652100\n"
     ]
    }
   ],
   "source": [
    "print(int(\"zero\", 36))"
   ]
  },
  {
   "cell_type": "markdown",
   "metadata": {},
   "source": [
    "**La base $36$ et Google Doc :** [cette discussion](http://stackoverflow.com/a/17281023/4589608) en anglais vous montre l'utilisation de la base $36$ pour identifier des feuilles de calcul de Google Doc."
   ]
  },
  {
   "cell_type": "markdown",
   "metadata": {},
   "source": [
    "### Exercice 7 \n",
    "\n",
    "Pour tout $B \\in \\mathbb{N}$, on peut représenter $B^{10}$ nombres ayant dix chiffres dans leur écriture en base $B$. Voici les exemples qui étaient demandés *(calculs effectués par Python ci-après)*.\n",
    "\n",
    "1. $10^{10} =              10\\,\\,000\\,\\,000\\,\\,000$ soit $10$ milliards de nombres.\n",
    "\n",
    "1. $2^{10}  = 1024$.\n",
    "\n",
    "1. $16^{10} =            1099\\,\\,511\\,\\,627\\,\\,776$ soit environ $1099$ milliards de nombres.\n",
    "\n",
    "1. $36^{10} = 3\\,\\,656\\,\\,158\\,\\,440\\,\\,062\\,\\,976$ soit environ $3,\\!6$ millions de milliards de nombres."
   ]
  },
  {
   "cell_type": "code",
   "execution_count": 69,
   "metadata": {},
   "outputs": [
    {
     "name": "stdout",
     "output_type": "stream",
     "text": [
      "Base 16 1099511627776\n",
      "Base 36 3656158440062976\n"
     ]
    }
   ],
   "source": [
    "for B in [16 , 36]:\n",
    "    print(\"Base\", B, B**10)"
   ]
  }
 ],
 "metadata": {
  "kernelspec": {
   "display_name": "Python 3",
   "language": "python",
   "name": "python3"
  },
  "language_info": {
   "codemirror_mode": {
    "name": "ipython",
    "version": 3
   },
   "file_extension": ".py",
   "mimetype": "text/x-python",
   "name": "python",
   "nbconvert_exporter": "python",
   "pygments_lexer": "ipython3",
   "version": "3.7.5"
  },
  "name": "integer_and_base_cor.ipynb"
 },
 "nbformat": 4,
 "nbformat_minor": 1
}
