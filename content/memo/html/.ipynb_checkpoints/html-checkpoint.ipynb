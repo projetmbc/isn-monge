{
 "cells": [
  {
   "cell_type": "markdown",
   "metadata": {},
   "source": [
    "HTML5 : quelques concepts de base à connaître <a id=\"haut\"></a>\n",
    "------------------------------------------\n",
    "\n",
    "Ce qui suit ne dispense pas de revoir les activités faites en classe qui contiennent beaucoup d'informations."
   ]
  },
  {
   "cell_type": "markdown",
   "metadata": {},
   "source": [
    "### Pour Jupyter : mieux faire ressortir notre exemple\n",
    "\n",
    "La cellule suivante nous permet de mettre en forme nos codes \"exemples\" HTML dans un rectangle au fond gris et au bord rouge forcé."
   ]
  },
  {
   "cell_type": "code",
   "execution_count": 14,
   "metadata": {
    "collapsed": true
   },
   "outputs": [],
   "source": [
    "# Solution donnée sur la liste de diffusion des développeurs du projet Jupyter.\n",
    "#\n",
    "# PAS DE PANIQUE ! La compréhension de ce code dépasse le cadre du cours d'ISN.\n",
    "\n",
    "from IPython.display import HTML, display\n",
    "from IPython.core.magic import register_cell_magic\n",
    "\n",
    "@register_cell_magic\n",
    "def html(line, cell):\n",
    "    display(\n",
    "        HTML(\n",
    "            \"<div style='border:2px solid darkred; padding: 5px; background:lightgray'>{0}</div>\".format(cell)\n",
    "        )\n",
    "    )"
   ]
  },
  {
   "cell_type": "markdown",
   "metadata": {},
   "source": [
    "### Pour Jupyter : la commande magique `%%html`\n",
    "\n",
    "Lorsque l'on met `%%html` au début d'une cellule de type code, Jupyter va interpréter ce code comme étant du HTML. En exécutant une telle cellule, on peut produire une sortie HTML respectant la mise en forme choisie par Jupyter."
   ]
  },
  {
   "cell_type": "markdown",
   "metadata": {},
   "source": [
    "### Un langage pour le contenu\n",
    "\n",
    "Le langage HTML a évolué pour proposer un ensemble de commandes donnant du sens à des mots *(cette évolution n'est pas achevée)*.\n",
    "Le but du HTML5 est de s'occuper du fond, laissant au langage CSS le rôle de mettre en forme. Par exemple, en HTML5 on indiquera un mot important via `<strong>...</strong>`, et ce sera ensuite au langage CSS de choisir de mettre les mots importants en rouge, ou bien en vert, ou d'utiliser toute autre mise en forme répondant à une charte graphique."
   ]
  },
  {
   "cell_type": "markdown",
   "metadata": {},
   "source": [
    "### Squelette minimal d'un fichier HTML5\n",
    "\n",
    "Un fichier HTML5 bien déclaré doit avoir la structure minimale suivante.\n",
    "\n",
    "---------------\n",
    "```html\n",
    "<!DOCTYPE html>\n",
    "<html>\n",
    "  <head>\n",
    "    <meta charset=\"UTF-8\">\n",
    "  </head>\n",
    "\n",
    "  <body>\n",
    "    ...\n",
    "  </body>\n",
    "</html>\n",
    "```\n",
    "---------------"
   ]
  },
  {
   "cell_type": "markdown",
   "metadata": {},
   "source": [
    "Deux choses sont à retenir.\n",
    "\n",
    "1. Le contenu visible se trouve dans `<body>...</body>`. \n",
    "\n",
    "1. `<meta charset=\"UTF-8\">` indique au navigateur l'encodage à utiliser pour lire le fichier HTML : ici l'encodage indiqué est l'UTF-8 qui tend à devenir un standard. On peut demander au navigateur de changer d'encodage de lecture : tenter l'expérience pour voir ce qu'il se passe."
   ]
  },
  {
   "cell_type": "markdown",
   "metadata": {},
   "source": [
    "### Structurer\n",
    "\n",
    "#### Titres : `<h1>...</h1>` et les autres\n",
    "\n",
    "Pour indiquer un titre de niveau $1$, il suffit de mettre le texte du titre dans `<h1>...</h1>`. On dispose aussi de balises analogues `h2`, `h3`, `h4`, `h5` et `h6`."
   ]
  },
  {
   "cell_type": "code",
   "execution_count": 15,
   "metadata": {},
   "outputs": [
    {
     "data": {
      "text/html": [
       "<div style='border:2px solid darkred; padding: 5px; background:lightgray'>\n",
       "<h1>Partie I</h1>\n",
       "\n",
       "<h2>Chapitre A</h2>\n",
       "\n",
       "<h3>Section 1</h3>\n",
       "\n",
       "<h4>Sous-section i</h4></div>"
      ],
      "text/plain": [
       "<IPython.core.display.HTML object>"
      ]
     },
     "metadata": {},
     "output_type": "display_data"
    }
   ],
   "source": [
    "%%html\n",
    "\n",
    "<h1>Partie I</h1>\n",
    "\n",
    "<h2>Chapitre A</h2>\n",
    "\n",
    "<h3>Section 1</h3>\n",
    "\n",
    "<h4>Sous-section i</h4>"
   ]
  },
  {
   "cell_type": "markdown",
   "metadata": {},
   "source": [
    "#### Paragraphes\n",
    "\n",
    "Dans un écrit, il faut pouvoir organiser les phrases dans des paragraphes. Chaque contenu d'un paragraphe se met à l'intérieur de `<p>...</p>`. Notez dans l'exemple suivant que les retours à la ligne dans le code HTML n'apparaissent pas dans la mise en forme."
   ]
  },
  {
   "cell_type": "code",
   "execution_count": 16,
   "metadata": {},
   "outputs": [
    {
     "data": {
      "text/html": [
       "<div style='border:2px solid darkred; padding: 5px; background:lightgray'>\n",
       "<p>Paragraphe 1: bla, bla, bla, bla, bla, bla, bla, bla, bla, bla, bla, bla, bla, bla, bla, ...etc</p>\n",
       "\n",
       "<p>\n",
       "    Paragraphe 2: bla, bla, bla,\n",
       "                  bla, bla, bla,\n",
       "                  bla, bla, bla,\n",
       "                  bla, bla, bla,\n",
       "                  bla, bla, bla,\n",
       "                  ...etc\n",
       "</p></div>"
      ],
      "text/plain": [
       "<IPython.core.display.HTML object>"
      ]
     },
     "metadata": {},
     "output_type": "display_data"
    }
   ],
   "source": [
    "%%html\n",
    "\n",
    "<p>Paragraphe 1: bla, bla, bla, bla, bla, bla, bla, bla, bla, bla, bla, bla, bla, bla, bla, ...etc</p>\n",
    "\n",
    "<p>\n",
    "    Paragraphe 2: bla, bla, bla,\n",
    "                  bla, bla, bla,\n",
    "                  bla, bla, bla,\n",
    "                  bla, bla, bla,\n",
    "                  bla, bla, bla,\n",
    "                  ...etc\n",
    "</p>"
   ]
  },
  {
   "cell_type": "markdown",
   "metadata": {},
   "source": [
    "#### Listes numérotées\n",
    "\n",
    "Dans le code HTML suivant `ol` vient de *\"ordered list\"* soit *\"liste ordonnée\"* en anglais, tandis que `li`  vient de *\"list item\"* soit *\"item de la liste\"* en anglais."
   ]
  },
  {
   "cell_type": "code",
   "execution_count": 17,
   "metadata": {},
   "outputs": [
    {
     "data": {
      "text/html": [
       "<div style='border:2px solid darkred; padding: 5px; background:lightgray'>\n",
       "<ol>\n",
       "    <li>Premier élément de la liste</li>\n",
       "    <li>Deuxième élément de la liste</li>\n",
       "    <li>Troisième élément de la liste</li>\n",
       "    <li>...etc</li>\n",
       "</ol></div>"
      ],
      "text/plain": [
       "<IPython.core.display.HTML object>"
      ]
     },
     "metadata": {},
     "output_type": "display_data"
    }
   ],
   "source": [
    "%%html\n",
    "\n",
    "<ol>\n",
    "    <li>Premier élément de la liste</li>\n",
    "    <li>Deuxième élément de la liste</li>\n",
    "    <li>Troisième élément de la liste</li>\n",
    "    <li>...etc</li>\n",
    "</ol>"
   ]
  },
  {
   "cell_type": "markdown",
   "metadata": {},
   "source": [
    "#### Listes non numérotées\n",
    "\n",
    "Dans le code HTML suivant `ul` vient de *\"unordered list\"* soit *\"liste non ordonnée\"* en anglais. Cette terminologie est un peu maladroite car la liste respecte l'ordre d'écriture dans le fichier HTML mais peu importe."
   ]
  },
  {
   "cell_type": "code",
   "execution_count": 18,
   "metadata": {},
   "outputs": [
    {
     "data": {
      "text/html": [
       "<div style='border:2px solid darkred; padding: 5px; background:lightgray'>\n",
       "<ul>\n",
       "    <li>Premier élément de la liste</li>\n",
       "    <li>Deuxième élément de la liste</li>\n",
       "    <li>Troisième élément de la liste</li>\n",
       "    <li>...etc</li>\n",
       "</ul></div>"
      ],
      "text/plain": [
       "<IPython.core.display.HTML object>"
      ]
     },
     "metadata": {},
     "output_type": "display_data"
    }
   ],
   "source": [
    "%%html\n",
    "\n",
    "<ul>\n",
    "    <li>Premier élément de la liste</li>\n",
    "    <li>Deuxième élément de la liste</li>\n",
    "    <li>Troisième élément de la liste</li>\n",
    "    <li>...etc</li>\n",
    "</ul>"
   ]
  },
  {
   "cell_type": "markdown",
   "metadata": {},
   "source": [
    "### Des balises pour des mots\n",
    "\n",
    "#### Mot très important\n",
    "\n",
    "Rappelons que *\"strong\"* signifie *\"fort\"* en anglais."
   ]
  },
  {
   "cell_type": "code",
   "execution_count": 19,
   "metadata": {},
   "outputs": [
    {
     "data": {
      "text/html": [
       "<div style='border:2px solid darkred; padding: 5px; background:lightgray'>\n",
       "Une phrase sans <strong>grande importance</strong> ! Quoique...</div>"
      ],
      "text/plain": [
       "<IPython.core.display.HTML object>"
      ]
     },
     "metadata": {},
     "output_type": "display_data"
    }
   ],
   "source": [
    "%%html\n",
    "\n",
    "Une phrase sans <strong>grande importance</strong> ! Quoique..."
   ]
  },
  {
   "cell_type": "markdown",
   "metadata": {},
   "source": [
    "#### Mot moyennement important\n",
    "\n",
    "Dans l'exemple ci-après, `em` vient de *\"emphase\"* dans le sens de *\"mise en relief\"*."
   ]
  },
  {
   "cell_type": "code",
   "execution_count": 20,
   "metadata": {},
   "outputs": [
    {
     "data": {
      "text/html": [
       "<div style='border:2px solid darkred; padding: 5px; background:lightgray'>\n",
       "Ce n'est pas <em>un pic</em>, c'est <em>un cap</em>... etc. Que d'emphases !</div>"
      ],
      "text/plain": [
       "<IPython.core.display.HTML object>"
      ]
     },
     "metadata": {},
     "output_type": "display_data"
    }
   ],
   "source": [
    "%%html\n",
    "\n",
    "Ce n'est pas <em>un pic</em>, c'est <em>un cap</em>... etc. Que d'emphases !"
   ]
  },
  {
   "cell_type": "markdown",
   "metadata": {},
   "source": [
    "### Images\n",
    "\n",
    "Nous avons l'organisation suivante des documents et des fichiers dans `content` qui est un sous-dossier du dossier `isn-term-S/lessons`.\n",
    "\n",
    "```\n",
    "+ content\n",
    "    + 2018-09-19-memo-html\n",
    "        * html.ipynb                         <---- Page que vous êtes en train de lire !\n",
    "    + 2018-08-07-pb-website-link-picture\n",
    "        + images\n",
    "            * aeronave-eurocopter-ec120-12199153-o.jpg\n",
    "```\n",
    "\n",
    "Ceci permet de comprendre vers où pointe le chemin relatif utilisé ci-dessous dans `<img src=\"...\">`."
   ]
  },
  {
   "cell_type": "code",
   "execution_count": 2,
   "metadata": {},
   "outputs": [
    {
     "data": {
      "text/html": [
       "\n",
       "<img src=\"../2018-08-07-pb-website-link-picture/images/aeronave-eurocopter-ec120-12199153-o.jpg\">"
      ],
      "text/plain": [
       "<IPython.core.display.HTML object>"
      ]
     },
     "metadata": {},
     "output_type": "display_data"
    }
   ],
   "source": [
    "%%html\n",
    "\n",
    "<img src=\"../2018-08-07-pb-website-link-picture/images/aeronave-eurocopter-ec120-12199153-o.jpg\">"
   ]
  },
  {
   "cell_type": "markdown",
   "metadata": {},
   "source": [
    "La valeur de `src` peut aussi utiliser un lien sur le web comme ci-dessous."
   ]
  },
  {
   "cell_type": "code",
   "execution_count": 22,
   "metadata": {},
   "outputs": [
    {
     "data": {
      "text/html": [
       "<div style='border:2px solid darkred; padding: 5px; background:lightgray'>\n",
       "<img src=\"http://s3.amazonaws.com/everystockphoto/fspid30/12/19/91/53/aeronave-eurocopter-ec120-12199153-o.jpg\"></div>"
      ],
      "text/plain": [
       "<IPython.core.display.HTML object>"
      ]
     },
     "metadata": {},
     "output_type": "display_data"
    }
   ],
   "source": [
    "%%html\n",
    "\n",
    "<img src=\"http://s3.amazonaws.com/everystockphoto/fspid30/12/19/91/53/aeronave-eurocopter-ec120-12199153-o.jpg\">"
   ]
  },
  {
   "cell_type": "markdown",
   "metadata": {},
   "source": [
    "### Hyperliens\n",
    "\n",
    "La balise `<a href=\"...\">...</a>` permet d'afficher du texte pointant quelque part. Dans l'exemple suivant, le texte `Un lien quelque part sur la toile` pointe vers la page web d'url `http://www.ac-grenoble.fr/lycee/chambery.monge/`."
   ]
  },
  {
   "cell_type": "code",
   "execution_count": 1,
   "metadata": {},
   "outputs": [
    {
     "data": {
      "text/html": [
       "\n",
       "<a href=\"http://www.ac-grenoble.fr/lycee/chambery.monge/\">Un lien quelque part sur la toile</a>"
      ],
      "text/plain": [
       "<IPython.core.display.HTML object>"
      ]
     },
     "metadata": {},
     "output_type": "display_data"
    }
   ],
   "source": [
    "%%html\n",
    "\n",
    "<a href=\"http://www.ac-grenoble.fr/lycee/chambery.monge/\">Un lien quelque part sur la toile</a>"
   ]
  },
  {
   "cell_type": "markdown",
   "metadata": {},
   "source": [
    "Il est possible de définir ce que l'on appelle des ancres via `<a id=\"...\">...</a>`. La toute première cellule de ce document utilise le code Markdown suivant où `<a id=\"haut\"></a>` définit une ancre nommé `haut` de contenu vide, cette ancre est donc invisible.\n",
    "\n",
    "---------------------------------------------\n",
    "```html\n",
    "HTML5 : quelques concepts de base à connaître <a id=\"haut\"></a>\n",
    "---------------------------------------------\n",
    "\n",
    "Ce qui suit ne dispense pas de revoir les activités faites en classe qui contiennent beaucoup d'informations.\n",
    "```\n",
    "---------------------------------------------\n",
    "\n",
    "On peut alors retourner à cette ancre au sein d'un document via `<a href=\"#haut\">...</a>`. Notez l'utilisation du caractère sharp `#` avant le nom de l'ancre. Testez le lien ci-dessous qui vous amènera au tout début de ce document."
   ]
  },
  {
   "cell_type": "code",
   "execution_count": 26,
   "metadata": {},
   "outputs": [
    {
     "data": {
      "text/html": [
       "<div style='border:2px solid darkred; padding: 5px; background:lightgray'>\n",
       "<a href=\"#haut\">ALLER EN HAUT</a></div>"
      ],
      "text/plain": [
       "<IPython.core.display.HTML object>"
      ]
     },
     "metadata": {},
     "output_type": "display_data"
    }
   ],
   "source": [
    "%%html\n",
    "\n",
    "<a href=\"#haut\">ALLER EN HAUT</a>"
   ]
  },
  {
   "cell_type": "markdown",
   "metadata": {},
   "source": [
    "### Tout n'est pas parfait...\n",
    "\n",
    "#### Forcer les retours à  la ligne\n",
    "\n",
    "Excepté pour la balise `<pre>...</pre>`, à vous de voir [cette page](http://www.w3schools.com/tags/tag_pre.asp) pour plus d'informations, les retours à la ligne dans le code HTML ne sont pas reportés dans la mise en forme. Il peut arriver que l'on souhaite forcer un retour à la ligne. La balise `<br/>` utilisée toute seule demande de faire un retour à la ligne."
   ]
  },
  {
   "cell_type": "code",
   "execution_count": 25,
   "metadata": {},
   "outputs": [
    {
     "data": {
      "text/html": [
       "<div style='border:2px solid darkred; padding: 5px; background:lightgray'>\n",
       "<p>\n",
       "    Paragraphe avec des retours à la ligne forcés :\n",
       "    <br/> bla, bla, bla, bla, bla, bla,\n",
       "    <br/> bla, bla, bla, bla, bla, bla,\n",
       "    <br/>...etc\n",
       "</p></div>"
      ],
      "text/plain": [
       "<IPython.core.display.HTML object>"
      ]
     },
     "metadata": {},
     "output_type": "display_data"
    }
   ],
   "source": [
    "%%html\n",
    "\n",
    "<p>\n",
    "    Paragraphe avec des retours à la ligne forcés :\n",
    "    <br/> bla, bla, bla, bla, bla, bla,\n",
    "    <br/> bla, bla, bla, bla, bla, bla,\n",
    "    <br/>...etc\n",
    "</p>"
   ]
  },
  {
   "cell_type": "markdown",
   "metadata": {},
   "source": [
    "#### Les deux bouées de secours `span` et `div`\n",
    "\n",
    "Sans entrer dans les détails, HTML5 propose les balises `<span>...</span>` et `<div>...</div>` qui permettent de résoudre certains problèmes de mise en forme. Ces balises, très utilisées actuellement, n'indiquent pas un sens particulier pour un groupe de mots, mais elles sont juste là pour indiquer des groupes de mots que l'on pourra facilement mettre en forme via le langage CSS. On sort malheureusement ici de l'objectif du HTML5 de ne s'occuper que du fond... "
   ]
  }
 ],
 "metadata": {
  "kernelspec": {
   "display_name": "Python 3",
   "language": "python",
   "name": "python3"
  },
  "language_info": {
   "codemirror_mode": {
    "name": "ipython",
    "version": 3
   },
   "file_extension": ".py",
   "mimetype": "text/x-python",
   "name": "python",
   "nbconvert_exporter": "python",
   "pygments_lexer": "ipython3",
   "version": "3.7.4"
  },
  "name": "html.ipynb"
 },
 "nbformat": 4,
 "nbformat_minor": 1
}
