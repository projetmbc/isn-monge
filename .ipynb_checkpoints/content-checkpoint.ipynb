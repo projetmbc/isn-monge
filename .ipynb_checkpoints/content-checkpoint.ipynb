{
 "cells": [
  {
   "cell_type": "markdown",
   "metadata": {},
   "source": [
    "I.S.N. 2019-2020 au Lycée Monge de Chambéry\n",
    "==============================\n",
    "\n",
    "> **Version du 05/12/2019 :** voir les sections étoilées pour les derniers changements.\n",
    "\n",
    "--------------------------------------------------------"
   ]
  },
  {
   "cell_type": "markdown",
   "metadata": {},
   "source": [
    "Problématiques\n",
    "-------------\n",
    "\n",
    "### Problématiques 1 à 3 : Généralités sur les sites web\n",
    "\n",
    "  1. [Problématique 1 : Le contenu](content/pb-website/content/website-content.ipynb)\n",
    "  1. [Problématique 2 : Liens et images](content/pb-website/link-picture/website-link-picture.ipynb)\n",
    "  1. [Problématique 3 : La mise en forme](content/pb-website/css/website-css.ipynb)\n",
    "\n",
    "\n",
    "### Problématiques 4 à 6 : Débuter avec Python\n",
    "\n",
    "  1. [Problématique 4 : Manipuler des chaînes de caractères](content/pb-prog/string/string.ipynb)\n",
    "     avec [des solutions possibles](content/pb-prog/string/string_cor.ipynb)\n",
    "\n",
    "  1. [Problématique 5 : Organiser son code - Une proto-bibliothèque d'ASCII art](content/pb-prog/string/ascii-art.ipynb)\n",
    "     avec [des solutions possibles](content/pb-prog/string/ascii-art_cor.ipynb)\n",
    "\n",
    "  1. [Problématique 6 : Listes et fonctions](content/pb-prog/list-function/list-function.ipynb)\n",
    "     avec [des solutions possibles](content/pb-prog/list-function/list-function_cor.ipynb)\n",
    "\n",
    "--------------------------------------------------------"
   ]
  },
  {
   "cell_type": "markdown",
   "metadata": {},
   "source": [
    "Mémos ***\n",
    "-----\n",
    "\n",
    "  \n",
    "### Généralités sur les sites web\n",
    "\n",
    "  1. [Un peu de HTML](content/memo/html/html.ipynb)   \n",
    "  1. [Un peu de CSS](content/memo/css/css.ipynb)\n",
    "\n",
    "  \n",
    "### Python 3 \"rapide\"\n",
    "\n",
    "[Boîte à outils - Premiers pas avec Python 3](content/memo/python-toolbox-beginner/main.ipynb) \n",
    "\n",
    "  \n",
    "### Analyse fonctionnelle\n",
    "\n",
    "[Analyse fonctionnelle (le PDF)](content/memo/functional-analysis/functional-analysis.pdf)\n",
    "  \n",
    "  \n",
    "### Écriture en base .... ***\n",
    "\n",
    "  1. [Écritures décimale, binaire et hexadécimale d'un naturel](content/memo/number-base/integer_and_base.ipynb) \n",
    "  1. [Écritures décimale, binaire et hexadécimale d'un naturel - Des solutions possibles](content/memo/number-base/integer_and_base_cor.ipynb) "
   ]
  },
  {
   "cell_type": "markdown",
   "metadata": {},
   "source": [
    "Informations pratiques\n",
    "---------------------\n",
    "\n",
    "  1. [Le programme officiel](content/intro/educnat_prog_off.ipynb)\n",
    "  1. [Évaluation durant l'année](content/intro/evaluation.ipynb)\n",
    "  1. [Épreuve finale du BAC](content/intro/bac.ipynb)\n",
    "\n",
    "--------------------------------------------------------"
   ]
  },
  {
   "cell_type": "markdown",
   "metadata": {},
   "source": [
    "Outils utilisés\n",
    "--------------\n",
    "\n",
    "  1. [HTML et CSS](content/tools/html_css.ipynb)\n",
    "  1. [WinPython](content/tools/winpython.ipynb)\n",
    "  1. [Python](content/tools/python.ipynb)\n",
    "  1. [Firefox](content/tools/firefox.ipynb)\n",
    "\n",
    "--------------------------------------------------------"
   ]
  },
  {
   "cell_type": "markdown",
   "metadata": {},
   "source": [
    "\n",
    "Ressources utiles et GRATUITES !\n",
    "------------------------------\n",
    "\n",
    "**Attention !** Ciblez bien vos apprentissages en fonction de ce qui vous sera demandé en classe.\n",
    "\n",
    "\n",
    "### Oeuvre \"complète\"\n",
    "\n",
    "Commençons par une belle initiative, à savoir le livre gratuit *[\"Informatique et sciences du numérique\"](https://wiki.inria.fr/sciencinfolycee/Fichier:Informatique_et_Sciences_du_Numérique_-_Spécialité_ISN_en_Terminale_S._version_Python.pdf)*. Attention à ce livre car son contenu est très complet au regard de ce qui peut être fait durant une année scolaire.\n",
    "\n",
    "### HTML5 et CSS3\n",
    "\n",
    "[W3Schools](http://www.w3schools.com) est un site de référence en anglais très efficace dans sa conception.\n",
    "\n",
    "\n",
    "### Python : des aides possibles dans son apprentissage\n",
    "\n",
    "1. Le site [France-IOI](http://www.france-ioi.org) fournit une application web proposant des exercices stimulants qui seront corrigés de façon automatisée par un programme. Même si ce genre d'outil peut souffrir de quelques défauts, France-IOI reste un bon moyen d'apprendre à programmer.\n",
    "\n",
    "1. Le site OpenClassrooms propose un cours gratuit [\"Apprenez à programmer en Python\"](https://openclassrooms.com/courses/apprenez-a-programmer-en-python)\n",
    "\n",
    "1. L'auteur Gérard Swinnen met à disposition gratuitement des versions numériques, dans différents formats, de son livre [\"Apprendre à programmer avec Python 3\"](http://inforef.be/swi/python.htm).\n",
    "\n",
    "1. [Le forum Python du site developpez.com](http://www.developpez.net/forums/f96/autres-langages/python-zope/) pourra vous rendre service. Par contre, évitez les questions du genre : *\"Je dois finir mon projet pour le BAC I.S.N. qui a lieu dans deux jours. Pouvez-vous vite m'aider ?\"*."
   ]
  }
 ],
 "metadata": {
  "kernelspec": {
   "display_name": "Python 3",
   "language": "python",
   "name": "python3"
  },
  "language_info": {
   "codemirror_mode": {
    "name": "ipython",
    "version": 3
   },
   "file_extension": ".py",
   "mimetype": "text/x-python",
   "name": "python",
   "nbconvert_exporter": "python",
   "pygments_lexer": "ipython3",
   "version": "3.7.5"
  },
  "name": "content.ipynb"
 },
 "nbformat": 4,
 "nbformat_minor": 1
}
